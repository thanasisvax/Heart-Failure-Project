{
 "cells": [
  {
   "cell_type": "markdown",
   "metadata": {},
   "source": [
    "# Automated ML\n",
    "\n",
    "Import Dependencies. In the cell below, import all the dependencies that I will need to complete the project."
   ]
  },
  {
   "cell_type": "code",
   "execution_count": 1,
   "metadata": {
    "gather": {
     "logged": 1598423888013
    },
    "jupyter": {
     "outputs_hidden": false,
     "source_hidden": false
    },
    "nteract": {
     "transient": {
      "deleting": false
     }
    }
   },
   "outputs": [],
   "source": [
    "from azureml.core import Workspace, Experiment\n",
    "from azureml.core.compute import ComputeTarget, AmlCompute\n",
    "from azureml.core.compute_target import ComputeTargetException\n",
    "from azureml.widgets import RunDetails\n",
    "from azureml.train.hyperdrive.run import PrimaryMetricGoal\n",
    "import os\n",
    "import joblib\n",
    "from azureml.core.dataset import Dataset\n",
    "from azureml.train.automl import AutoMLConfig\n",
    "from azureml.core.model import Model\n",
    "from azureml.core.webservice import AciWebservice\n",
    "from azureml.core.environment import Environment\n",
    "from azureml.core.model import InferenceConfig\n",
    "import requests\n",
    "import json\n",
    "from azureml.core.conda_dependencies import CondaDependencies\n",
    "import sklearn\n",
    "from azureml.core.model import Model"
   ]
  },
  {
   "cell_type": "markdown",
   "metadata": {},
   "source": [
    "## Dataset\n",
    "\n",
    "### Overview\n",
    "\n",
    "I use the Heart-Failure Dataset from Kaggle and the task is to predict the mortality of the patients based on their clinical records. I create the workspace and experiment in the Azure ML studio. I check if the computer target already exists. If it does not then it creates one. Finally, I display the first rows of the Heart-Failure Dataset."
   ]
  },
  {
   "cell_type": "code",
   "execution_count": 2,
   "metadata": {
    "gather": {
     "logged": 1598423890461
    },
    "jupyter": {
     "outputs_hidden": false,
     "source_hidden": false
    },
    "nteract": {
     "transient": {
      "deleting": false
     }
    }
   },
   "outputs": [
    {
     "name": "stdout",
     "output_type": "stream",
     "text": [
      "Creating a new compute target...\n",
      "Creating\n",
      "Succeeded\n",
      "AmlCompute wait for completion finished\n",
      "\n",
      "Minimum number of nodes requested have been provisioned\n",
      "{'currentNodeCount': 0, 'targetNodeCount': 0, 'nodeStateCounts': {'preparingNodeCount': 0, 'runningNodeCount': 0, 'idleNodeCount': 0, 'unusableNodeCount': 0, 'leavingNodeCount': 0, 'preemptedNodeCount': 0}, 'allocationState': 'Steady', 'allocationStateTransitionTime': '2020-11-17T17:29:48.557000+00:00', 'errors': None, 'creationTime': '2020-11-17T17:29:45.753595+00:00', 'modifiedTime': '2020-11-17T17:30:01.713834+00:00', 'provisioningState': 'Succeeded', 'provisioningStateTransitionTime': None, 'scaleSettings': {'minNodeCount': 0, 'maxNodeCount': 4, 'nodeIdleTimeBeforeScaleDown': 'PT120S'}, 'vmPriority': 'Dedicated', 'vmSize': 'STANDARD_DS3_V2'}\n"
     ]
    }
   ],
   "source": [
    "#Create a workspace and an experiment in Azureml\n",
    "ws = Workspace.from_config()\n",
    "experiment_name = 'Heart-Failure-AutoMlProject'\n",
    "project_folder = './Heart-Failure-project'\n",
    "\n",
    "experiment=Experiment(ws, experiment_name)\n",
    "\n",
    "#Check if the cluster exists if it does not then create one.\n",
    "# choose a name for your cluster\n",
    "cluster_name = \"cpu-cluster\"\n",
    "\n",
    "try:\n",
    "    compute_target = ComputeTarget(workspace=ws, name=cluster_name)\n",
    "    print('Found existing compute target')\n",
    "except ComputeTargetException:\n",
    "    print('Creating a new compute target...')\n",
    "    compute_config = AmlCompute.provisioning_configuration(vm_size='STANDARD_DS3_V2', \n",
    "                                                           max_nodes=4)\n",
    "\n",
    "    # create the cluster\n",
    "    compute_target = ComputeTarget.create(ws, cluster_name, compute_config)\n",
    "\n",
    "    # can poll for a minimum number of nodes and for a specific timeout. \n",
    "    # if no min node count is provided it uses the scale settings for the cluster\n",
    "    compute_target.wait_for_completion(show_output=True, min_node_count=None, timeout_in_minutes=20)\n",
    "\n",
    "# use get_status() to get a detailed status for the current cluster. \n",
    "print(compute_target.get_status().serialize())"
   ]
  },
  {
   "cell_type": "code",
   "execution_count": 3,
   "metadata": {},
   "outputs": [],
   "source": [
    "# Get Heart Failure Dataset and add it in pandas\n",
    "ds = Dataset.get_by_name(ws, name='Heart-Failure')"
   ]
  },
  {
   "cell_type": "code",
   "execution_count": 4,
   "metadata": {},
   "outputs": [
    {
     "data": {
      "text/html": [
       "<div>\n",
       "<style scoped>\n",
       "    .dataframe tbody tr th:only-of-type {\n",
       "        vertical-align: middle;\n",
       "    }\n",
       "\n",
       "    .dataframe tbody tr th {\n",
       "        vertical-align: top;\n",
       "    }\n",
       "\n",
       "    .dataframe thead th {\n",
       "        text-align: right;\n",
       "    }\n",
       "</style>\n",
       "<table border=\"1\" class=\"dataframe\">\n",
       "  <thead>\n",
       "    <tr style=\"text-align: right;\">\n",
       "      <th></th>\n",
       "      <th>age</th>\n",
       "      <th>anaemia</th>\n",
       "      <th>creatinine_phosphokinase</th>\n",
       "      <th>diabetes</th>\n",
       "      <th>ejection_fraction</th>\n",
       "      <th>high_blood_pressure</th>\n",
       "      <th>platelets</th>\n",
       "      <th>serum_creatinine</th>\n",
       "      <th>serum_sodium</th>\n",
       "      <th>sex</th>\n",
       "      <th>smoking</th>\n",
       "      <th>time</th>\n",
       "      <th>DEATH_EVENT</th>\n",
       "    </tr>\n",
       "  </thead>\n",
       "  <tbody>\n",
       "    <tr>\n",
       "      <th>0</th>\n",
       "      <td>75.0</td>\n",
       "      <td>0</td>\n",
       "      <td>582</td>\n",
       "      <td>0</td>\n",
       "      <td>20</td>\n",
       "      <td>1</td>\n",
       "      <td>265000.00</td>\n",
       "      <td>1.9</td>\n",
       "      <td>130</td>\n",
       "      <td>1</td>\n",
       "      <td>0</td>\n",
       "      <td>4</td>\n",
       "      <td>1</td>\n",
       "    </tr>\n",
       "    <tr>\n",
       "      <th>1</th>\n",
       "      <td>55.0</td>\n",
       "      <td>0</td>\n",
       "      <td>7861</td>\n",
       "      <td>0</td>\n",
       "      <td>38</td>\n",
       "      <td>0</td>\n",
       "      <td>263358.03</td>\n",
       "      <td>1.1</td>\n",
       "      <td>136</td>\n",
       "      <td>1</td>\n",
       "      <td>0</td>\n",
       "      <td>6</td>\n",
       "      <td>1</td>\n",
       "    </tr>\n",
       "    <tr>\n",
       "      <th>2</th>\n",
       "      <td>65.0</td>\n",
       "      <td>0</td>\n",
       "      <td>146</td>\n",
       "      <td>0</td>\n",
       "      <td>20</td>\n",
       "      <td>0</td>\n",
       "      <td>162000.00</td>\n",
       "      <td>1.3</td>\n",
       "      <td>129</td>\n",
       "      <td>1</td>\n",
       "      <td>1</td>\n",
       "      <td>7</td>\n",
       "      <td>1</td>\n",
       "    </tr>\n",
       "    <tr>\n",
       "      <th>3</th>\n",
       "      <td>50.0</td>\n",
       "      <td>1</td>\n",
       "      <td>111</td>\n",
       "      <td>0</td>\n",
       "      <td>20</td>\n",
       "      <td>0</td>\n",
       "      <td>210000.00</td>\n",
       "      <td>1.9</td>\n",
       "      <td>137</td>\n",
       "      <td>1</td>\n",
       "      <td>0</td>\n",
       "      <td>7</td>\n",
       "      <td>1</td>\n",
       "    </tr>\n",
       "    <tr>\n",
       "      <th>4</th>\n",
       "      <td>65.0</td>\n",
       "      <td>1</td>\n",
       "      <td>160</td>\n",
       "      <td>1</td>\n",
       "      <td>20</td>\n",
       "      <td>0</td>\n",
       "      <td>327000.00</td>\n",
       "      <td>2.7</td>\n",
       "      <td>116</td>\n",
       "      <td>0</td>\n",
       "      <td>0</td>\n",
       "      <td>8</td>\n",
       "      <td>1</td>\n",
       "    </tr>\n",
       "  </tbody>\n",
       "</table>\n",
       "</div>"
      ],
      "text/plain": [
       "    age  anaemia  creatinine_phosphokinase  diabetes  ejection_fraction  \\\n",
       "0  75.0        0                       582         0                 20   \n",
       "1  55.0        0                      7861         0                 38   \n",
       "2  65.0        0                       146         0                 20   \n",
       "3  50.0        1                       111         0                 20   \n",
       "4  65.0        1                       160         1                 20   \n",
       "\n",
       "   high_blood_pressure  platelets  serum_creatinine  serum_sodium  sex  \\\n",
       "0                    1  265000.00               1.9           130    1   \n",
       "1                    0  263358.03               1.1           136    1   \n",
       "2                    0  162000.00               1.3           129    1   \n",
       "3                    0  210000.00               1.9           137    1   \n",
       "4                    0  327000.00               2.7           116    0   \n",
       "\n",
       "   smoking  time  DEATH_EVENT  \n",
       "0        0     4            1  \n",
       "1        0     6            1  \n",
       "2        1     7            1  \n",
       "3        0     7            1  \n",
       "4        0     8            1  "
      ]
     },
     "execution_count": 4,
     "metadata": {},
     "output_type": "execute_result"
    }
   ],
   "source": [
    "#Review the first 5 rows in the dataset\n",
    "ds.take(5).to_pandas_dataframe()"
   ]
  },
  {
   "cell_type": "code",
   "execution_count": 5,
   "metadata": {},
   "outputs": [],
   "source": [
    "#Split Dataset to Training and Testing Datasets\n",
    "training_data, test_data = ds.random_split(percentage=0.8, seed=223)\n",
    "\n",
    "#Create the Test Data into pandas_dataframe\n",
    "df_test = test_data.to_pandas_dataframe()\n",
    "y_test = df_test['DEATH_EVENT']\n",
    "X_test = df_test.drop(['DEATH_EVENT'], axis=1)"
   ]
  },
  {
   "cell_type": "markdown",
   "metadata": {},
   "source": [
    "## AutoML Configuration\n",
    "It is used an AutoML for the classification problem using the Heart Failure Dataset. The AutoML run will look for the best model in relation to the accuracy. The target feature is the \"DEATH_EVENT\". The experiment timeout is 30 mins and the maximum number of iterations which are executed in parallel are 5. "
   ]
  },
  {
   "cell_type": "code",
   "execution_count": 6,
   "metadata": {
    "gather": {
     "logged": 1598429217746
    },
    "jupyter": {
     "outputs_hidden": false,
     "source_hidden": false
    },
    "nteract": {
     "transient": {
      "deleting": false
     }
    }
   },
   "outputs": [],
   "source": [
    "# AutoML settings\n",
    "automl_settings = {\n",
    "    \"experiment_timeout_minutes\": 30,\n",
    "    \"max_concurrent_iterations\": 5,\n",
    "    \"primary_metric\" : 'accuracy'\n",
    "}\n",
    "\n",
    "# AutoML config\n",
    "automl_config = AutoMLConfig(compute_target=compute_target,\n",
    "                             task = \"classification\",\n",
    "                             training_data=training_data,\n",
    "                             validation_data=test_data,\n",
    "                             label_column_name=\"DEATH_EVENT\",   \n",
    "                             path = project_folder,\n",
    "                             enable_early_stopping= True,\n",
    "                             featurization= 'auto',\n",
    "                             debug_log = \"automl_errors.log\",\n",
    "                             **automl_settings\n",
    "                            )"
   ]
  },
  {
   "cell_type": "code",
   "execution_count": 7,
   "metadata": {
    "gather": {
     "logged": 1598431107951
    },
    "jupyter": {
     "outputs_hidden": false,
     "source_hidden": false
    },
    "nteract": {
     "transient": {
      "deleting": false
     }
    }
   },
   "outputs": [
    {
     "name": "stdout",
     "output_type": "stream",
     "text": [
      "Running on remote.\n"
     ]
    }
   ],
   "source": [
    "# Submit experiment\n",
    "Automl_run = experiment.submit(automl_config)"
   ]
  },
  {
   "cell_type": "markdown",
   "metadata": {},
   "source": [
    "## Run Details\n",
    "\n",
    "`RunDetails` widget is used to show the different experiments."
   ]
  },
  {
   "cell_type": "code",
   "execution_count": 8,
   "metadata": {
    "gather": {
     "logged": 1598431121770
    },
    "jupyter": {
     "outputs_hidden": false,
     "source_hidden": false
    },
    "nteract": {
     "transient": {
      "deleting": false
     }
    }
   },
   "outputs": [
    {
     "data": {
      "application/vnd.jupyter.widget-view+json": {
       "model_id": "4ee4761209624fee9966581cf67f1128",
       "version_major": 2,
       "version_minor": 0
      },
      "text/plain": [
       "_AutoMLWidget(widget_settings={'childWidgetDisplay': 'popup', 'send_telemetry': False, 'log_level': 'INFO', 's…"
      ]
     },
     "metadata": {},
     "output_type": "display_data"
    },
    {
     "data": {
      "application/aml.mini.widget.v1": "{\"status\": \"Completed\", \"workbench_run_details_uri\": \"https://ml.azure.com/experiments/Heart-Failure-AutoMlProject/runs/AutoML_d9602484-520b-4a48-b3f7-50eda90d92aa?wsid=/subscriptions/374bdf1a-c648-4244-a317-f0d1ef4b85c7/resourcegroups/aml-quickstarts-126654/workspaces/quick-starts-ws-126654\", \"run_id\": \"AutoML_d9602484-520b-4a48-b3f7-50eda90d92aa\", \"run_properties\": {\"run_id\": \"AutoML_d9602484-520b-4a48-b3f7-50eda90d92aa\", \"created_utc\": \"2020-11-17T17:30:35.894418Z\", \"properties\": {\"num_iterations\": \"1000\", \"training_type\": \"TrainFull\", \"acquisition_function\": \"EI\", \"primary_metric\": \"accuracy\", \"train_split\": \"0\", \"acquisition_parameter\": \"0\", \"num_cross_validation\": null, \"target\": \"cpu-cluster\", \"AMLSettingsJsonString\": \"{\\\"path\\\":null,\\\"name\\\":\\\"Heart-Failure-AutoMlProject\\\",\\\"subscription_id\\\":\\\"374bdf1a-c648-4244-a317-f0d1ef4b85c7\\\",\\\"resource_group\\\":\\\"aml-quickstarts-126654\\\",\\\"workspace_name\\\":\\\"quick-starts-ws-126654\\\",\\\"region\\\":\\\"southcentralus\\\",\\\"compute_target\\\":\\\"cpu-cluster\\\",\\\"spark_service\\\":null,\\\"azure_service\\\":\\\"remote\\\",\\\"_local_managed_run_id\\\":null,\\\"many_models\\\":false,\\\"pipeline_fetch_max_batch_size\\\":1,\\\"iterations\\\":1000,\\\"primary_metric\\\":\\\"accuracy\\\",\\\"task_type\\\":\\\"classification\\\",\\\"data_script\\\":null,\\\"validation_size\\\":0.0,\\\"n_cross_validations\\\":null,\\\"y_min\\\":null,\\\"y_max\\\":null,\\\"num_classes\\\":null,\\\"featurization\\\":\\\"auto\\\",\\\"_ignore_package_version_incompatibilities\\\":false,\\\"is_timeseries\\\":false,\\\"max_cores_per_iteration\\\":1,\\\"max_concurrent_iterations\\\":5,\\\"iteration_timeout_minutes\\\":null,\\\"mem_in_mb\\\":null,\\\"enforce_time_on_windows\\\":false,\\\"experiment_timeout_minutes\\\":30,\\\"experiment_exit_score\\\":null,\\\"whitelist_models\\\":null,\\\"blacklist_algos\\\":[\\\"TensorFlowLinearClassifier\\\",\\\"TensorFlowDNN\\\"],\\\"supported_models\\\":[\\\"BernoulliNaiveBayes\\\",\\\"LightGBM\\\",\\\"LogisticRegression\\\",\\\"SVM\\\",\\\"DecisionTree\\\",\\\"KNN\\\",\\\"RandomForest\\\",\\\"TensorFlowDNN\\\",\\\"MultinomialNaiveBayes\\\",\\\"LinearSVM\\\",\\\"ExtremeRandomTrees\\\",\\\"XGBoostClassifier\\\",\\\"SGD\\\",\\\"GradientBoosting\\\",\\\"TensorFlowLinearClassifier\\\",\\\"AveragedPerceptronClassifier\\\"],\\\"auto_blacklist\\\":true,\\\"blacklist_samples_reached\\\":false,\\\"exclude_nan_labels\\\":true,\\\"verbosity\\\":20,\\\"_debug_log\\\":\\\"azureml_automl.log\\\",\\\"show_warnings\\\":false,\\\"model_explainability\\\":true,\\\"service_url\\\":null,\\\"sdk_url\\\":null,\\\"sdk_packages\\\":null,\\\"enable_onnx_compatible_models\\\":false,\\\"enable_split_onnx_featurizer_estimator_models\\\":false,\\\"vm_type\\\":\\\"STANDARD_DS3_V2\\\",\\\"telemetry_verbosity\\\":20,\\\"send_telemetry\\\":true,\\\"enable_dnn\\\":false,\\\"scenario\\\":\\\"SDK-1.13.0\\\",\\\"environment_label\\\":null,\\\"force_text_dnn\\\":false,\\\"enable_feature_sweeping\\\":true,\\\"enable_early_stopping\\\":true,\\\"early_stopping_n_iters\\\":10,\\\"metrics\\\":null,\\\"enable_ensembling\\\":true,\\\"enable_stack_ensembling\\\":true,\\\"ensemble_iterations\\\":15,\\\"enable_tf\\\":false,\\\"enable_subsampling\\\":null,\\\"subsample_seed\\\":null,\\\"enable_nimbusml\\\":false,\\\"enable_streaming\\\":false,\\\"force_streaming\\\":false,\\\"track_child_runs\\\":true,\\\"allowed_private_models\\\":[],\\\"label_column_name\\\":\\\"DEATH_EVENT\\\",\\\"weight_column_name\\\":null,\\\"cv_split_column_names\\\":null,\\\"enable_local_managed\\\":false,\\\"cost_mode\\\":1,\\\"lag_length\\\":0,\\\"metric_operation\\\":\\\"maximize\\\",\\\"preprocess\\\":true}\", \"DataPrepJsonString\": \"{\\\\\\\"training_data\\\\\\\": \\\\\\\"{\\\\\\\\\\\\\\\"blocks\\\\\\\\\\\\\\\": [{\\\\\\\\\\\\\\\"id\\\\\\\\\\\\\\\": \\\\\\\\\\\\\\\"3584a9f2-5d4c-4f3f-ae40-91db0071d65e\\\\\\\\\\\\\\\", \\\\\\\\\\\\\\\"type\\\\\\\\\\\\\\\": \\\\\\\\\\\\\\\"Microsoft.DPrep.GetDatastoreFilesBlock\\\\\\\\\\\\\\\", \\\\\\\\\\\\\\\"arguments\\\\\\\\\\\\\\\": {\\\\\\\\\\\\\\\"datastores\\\\\\\\\\\\\\\": [{\\\\\\\\\\\\\\\"datastoreName\\\\\\\\\\\\\\\": \\\\\\\\\\\\\\\"workspaceblobstore\\\\\\\\\\\\\\\", \\\\\\\\\\\\\\\"path\\\\\\\\\\\\\\\": \\\\\\\\\\\\\\\"UI/11-17-2020_052802_UTC/heart_failure_clinical_records_dataset.csv\\\\\\\\\\\\\\\", \\\\\\\\\\\\\\\"resourceGroup\\\\\\\\\\\\\\\": \\\\\\\\\\\\\\\"aml-quickstarts-126654\\\\\\\\\\\\\\\", \\\\\\\\\\\\\\\"subscription\\\\\\\\\\\\\\\": \\\\\\\\\\\\\\\"374bdf1a-c648-4244-a317-f0d1ef4b85c7\\\\\\\\\\\\\\\", \\\\\\\\\\\\\\\"workspaceName\\\\\\\\\\\\\\\": \\\\\\\\\\\\\\\"quick-starts-ws-126654\\\\\\\\\\\\\\\"}]}, \\\\\\\\\\\\\\\"localData\\\\\\\\\\\\\\\": {}, \\\\\\\\\\\\\\\"isEnabled\\\\\\\\\\\\\\\": true, \\\\\\\\\\\\\\\"name\\\\\\\\\\\\\\\": null, \\\\\\\\\\\\\\\"annotation\\\\\\\\\\\\\\\": null}, {\\\\\\\\\\\\\\\"id\\\\\\\\\\\\\\\": \\\\\\\\\\\\\\\"1ba79e57-5866-4c53-84a4-5b3276e143c0\\\\\\\\\\\\\\\", \\\\\\\\\\\\\\\"type\\\\\\\\\\\\\\\": \\\\\\\\\\\\\\\"Microsoft.DPrep.ParseDelimitedBlock\\\\\\\\\\\\\\\", \\\\\\\\\\\\\\\"arguments\\\\\\\\\\\\\\\": {\\\\\\\\\\\\\\\"columnHeadersMode\\\\\\\\\\\\\\\": 1, \\\\\\\\\\\\\\\"fileEncoding\\\\\\\\\\\\\\\": 0, \\\\\\\\\\\\\\\"handleQuotedLineBreaks\\\\\\\\\\\\\\\": false, \\\\\\\\\\\\\\\"preview\\\\\\\\\\\\\\\": false, \\\\\\\\\\\\\\\"separator\\\\\\\\\\\\\\\": \\\\\\\\\\\\\\\",\\\\\\\\\\\\\\\", \\\\\\\\\\\\\\\"skipRows\\\\\\\\\\\\\\\": 0, \\\\\\\\\\\\\\\"skipRowsMode\\\\\\\\\\\\\\\": 0}, \\\\\\\\\\\\\\\"localData\\\\\\\\\\\\\\\": {}, \\\\\\\\\\\\\\\"isEnabled\\\\\\\\\\\\\\\": true, \\\\\\\\\\\\\\\"name\\\\\\\\\\\\\\\": null, \\\\\\\\\\\\\\\"annotation\\\\\\\\\\\\\\\": null}, {\\\\\\\\\\\\\\\"id\\\\\\\\\\\\\\\": \\\\\\\\\\\\\\\"03935366-605e-4d21-aa00-4eeba543942f\\\\\\\\\\\\\\\", \\\\\\\\\\\\\\\"type\\\\\\\\\\\\\\\": \\\\\\\\\\\\\\\"Microsoft.DPrep.DropColumnsBlock\\\\\\\\\\\\\\\", \\\\\\\\\\\\\\\"arguments\\\\\\\\\\\\\\\": {\\\\\\\\\\\\\\\"columns\\\\\\\\\\\\\\\": {\\\\\\\\\\\\\\\"type\\\\\\\\\\\\\\\": 0, \\\\\\\\\\\\\\\"details\\\\\\\\\\\\\\\": {\\\\\\\\\\\\\\\"selectedColumns\\\\\\\\\\\\\\\": [\\\\\\\\\\\\\\\"Path\\\\\\\\\\\\\\\"]}}}, \\\\\\\\\\\\\\\"localData\\\\\\\\\\\\\\\": {}, \\\\\\\\\\\\\\\"isEnabled\\\\\\\\\\\\\\\": true, \\\\\\\\\\\\\\\"name\\\\\\\\\\\\\\\": null, \\\\\\\\\\\\\\\"annotation\\\\\\\\\\\\\\\": null}, {\\\\\\\\\\\\\\\"id\\\\\\\\\\\\\\\": \\\\\\\\\\\\\\\"85527525-5f3d-4fa0-a120-2ce4ab80ed59\\\\\\\\\\\\\\\", \\\\\\\\\\\\\\\"type\\\\\\\\\\\\\\\": \\\\\\\\\\\\\\\"Microsoft.DPrep.SetColumnTypesBlock\\\\\\\\\\\\\\\", \\\\\\\\\\\\\\\"arguments\\\\\\\\\\\\\\\": {\\\\\\\\\\\\\\\"columnConversion\\\\\\\\\\\\\\\": [{\\\\\\\\\\\\\\\"column\\\\\\\\\\\\\\\": {\\\\\\\\\\\\\\\"type\\\\\\\\\\\\\\\": 2, \\\\\\\\\\\\\\\"details\\\\\\\\\\\\\\\": {\\\\\\\\\\\\\\\"selectedColumn\\\\\\\\\\\\\\\": \\\\\\\\\\\\\\\"Path\\\\\\\\\\\\\\\"}}, \\\\\\\\\\\\\\\"typeProperty\\\\\\\\\\\\\\\": 0}, {\\\\\\\\\\\\\\\"column\\\\\\\\\\\\\\\": {\\\\\\\\\\\\\\\"type\\\\\\\\\\\\\\\": 2, \\\\\\\\\\\\\\\"details\\\\\\\\\\\\\\\": {\\\\\\\\\\\\\\\"selectedColumn\\\\\\\\\\\\\\\": \\\\\\\\\\\\\\\"age\\\\\\\\\\\\\\\"}}, \\\\\\\\\\\\\\\"typeProperty\\\\\\\\\\\\\\\": 3}, {\\\\\\\\\\\\\\\"column\\\\\\\\\\\\\\\": {\\\\\\\\\\\\\\\"type\\\\\\\\\\\\\\\": 2, \\\\\\\\\\\\\\\"details\\\\\\\\\\\\\\\": {\\\\\\\\\\\\\\\"selectedColumn\\\\\\\\\\\\\\\": \\\\\\\\\\\\\\\"anaemia\\\\\\\\\\\\\\\"}}, \\\\\\\\\\\\\\\"typeProperty\\\\\\\\\\\\\\\": 2}, {\\\\\\\\\\\\\\\"column\\\\\\\\\\\\\\\": {\\\\\\\\\\\\\\\"type\\\\\\\\\\\\\\\": 2, \\\\\\\\\\\\\\\"details\\\\\\\\\\\\\\\": {\\\\\\\\\\\\\\\"selectedColumn\\\\\\\\\\\\\\\": \\\\\\\\\\\\\\\"creatinine_phosphokinase\\\\\\\\\\\\\\\"}}, \\\\\\\\\\\\\\\"typeProperty\\\\\\\\\\\\\\\": 2}, {\\\\\\\\\\\\\\\"column\\\\\\\\\\\\\\\": {\\\\\\\\\\\\\\\"type\\\\\\\\\\\\\\\": 2, \\\\\\\\\\\\\\\"details\\\\\\\\\\\\\\\": {\\\\\\\\\\\\\\\"selectedColumn\\\\\\\\\\\\\\\": \\\\\\\\\\\\\\\"diabetes\\\\\\\\\\\\\\\"}}, \\\\\\\\\\\\\\\"typeProperty\\\\\\\\\\\\\\\": 2}, {\\\\\\\\\\\\\\\"column\\\\\\\\\\\\\\\": {\\\\\\\\\\\\\\\"type\\\\\\\\\\\\\\\": 2, \\\\\\\\\\\\\\\"details\\\\\\\\\\\\\\\": {\\\\\\\\\\\\\\\"selectedColumn\\\\\\\\\\\\\\\": \\\\\\\\\\\\\\\"ejection_fraction\\\\\\\\\\\\\\\"}}, \\\\\\\\\\\\\\\"typeProperty\\\\\\\\\\\\\\\": 2}, {\\\\\\\\\\\\\\\"column\\\\\\\\\\\\\\\": {\\\\\\\\\\\\\\\"type\\\\\\\\\\\\\\\": 2, \\\\\\\\\\\\\\\"details\\\\\\\\\\\\\\\": {\\\\\\\\\\\\\\\"selectedColumn\\\\\\\\\\\\\\\": \\\\\\\\\\\\\\\"high_blood_pressure\\\\\\\\\\\\\\\"}}, \\\\\\\\\\\\\\\"typeProperty\\\\\\\\\\\\\\\": 2}, {\\\\\\\\\\\\\\\"column\\\\\\\\\\\\\\\": {\\\\\\\\\\\\\\\"type\\\\\\\\\\\\\\\": 2, \\\\\\\\\\\\\\\"details\\\\\\\\\\\\\\\": {\\\\\\\\\\\\\\\"selectedColumn\\\\\\\\\\\\\\\": \\\\\\\\\\\\\\\"platelets\\\\\\\\\\\\\\\"}}, \\\\\\\\\\\\\\\"typeProperty\\\\\\\\\\\\\\\": 3}, {\\\\\\\\\\\\\\\"column\\\\\\\\\\\\\\\": {\\\\\\\\\\\\\\\"type\\\\\\\\\\\\\\\": 2, \\\\\\\\\\\\\\\"details\\\\\\\\\\\\\\\": {\\\\\\\\\\\\\\\"selectedColumn\\\\\\\\\\\\\\\": \\\\\\\\\\\\\\\"serum_creatinine\\\\\\\\\\\\\\\"}}, \\\\\\\\\\\\\\\"typeProperty\\\\\\\\\\\\\\\": 3}, {\\\\\\\\\\\\\\\"column\\\\\\\\\\\\\\\": {\\\\\\\\\\\\\\\"type\\\\\\\\\\\\\\\": 2, \\\\\\\\\\\\\\\"details\\\\\\\\\\\\\\\": {\\\\\\\\\\\\\\\"selectedColumn\\\\\\\\\\\\\\\": \\\\\\\\\\\\\\\"serum_sodium\\\\\\\\\\\\\\\"}}, \\\\\\\\\\\\\\\"typeProperty\\\\\\\\\\\\\\\": 2}, {\\\\\\\\\\\\\\\"column\\\\\\\\\\\\\\\": {\\\\\\\\\\\\\\\"type\\\\\\\\\\\\\\\": 2, \\\\\\\\\\\\\\\"details\\\\\\\\\\\\\\\": {\\\\\\\\\\\\\\\"selectedColumn\\\\\\\\\\\\\\\": \\\\\\\\\\\\\\\"sex\\\\\\\\\\\\\\\"}}, \\\\\\\\\\\\\\\"typeProperty\\\\\\\\\\\\\\\": 2}, {\\\\\\\\\\\\\\\"column\\\\\\\\\\\\\\\": {\\\\\\\\\\\\\\\"type\\\\\\\\\\\\\\\": 2, \\\\\\\\\\\\\\\"details\\\\\\\\\\\\\\\": {\\\\\\\\\\\\\\\"selectedColumn\\\\\\\\\\\\\\\": \\\\\\\\\\\\\\\"smoking\\\\\\\\\\\\\\\"}}, \\\\\\\\\\\\\\\"typeProperty\\\\\\\\\\\\\\\": 2}, {\\\\\\\\\\\\\\\"column\\\\\\\\\\\\\\\": {\\\\\\\\\\\\\\\"type\\\\\\\\\\\\\\\": 2, \\\\\\\\\\\\\\\"details\\\\\\\\\\\\\\\": {\\\\\\\\\\\\\\\"selectedColumn\\\\\\\\\\\\\\\": \\\\\\\\\\\\\\\"time\\\\\\\\\\\\\\\"}}, \\\\\\\\\\\\\\\"typeProperty\\\\\\\\\\\\\\\": 2}, {\\\\\\\\\\\\\\\"column\\\\\\\\\\\\\\\": {\\\\\\\\\\\\\\\"type\\\\\\\\\\\\\\\": 2, \\\\\\\\\\\\\\\"details\\\\\\\\\\\\\\\": {\\\\\\\\\\\\\\\"selectedColumn\\\\\\\\\\\\\\\": \\\\\\\\\\\\\\\"DEATH_EVENT\\\\\\\\\\\\\\\"}}, \\\\\\\\\\\\\\\"typeProperty\\\\\\\\\\\\\\\": 2}]}, \\\\\\\\\\\\\\\"localData\\\\\\\\\\\\\\\": {}, \\\\\\\\\\\\\\\"isEnabled\\\\\\\\\\\\\\\": true, \\\\\\\\\\\\\\\"name\\\\\\\\\\\\\\\": null, \\\\\\\\\\\\\\\"annotation\\\\\\\\\\\\\\\": null}, {\\\\\\\\\\\\\\\"id\\\\\\\\\\\\\\\": \\\\\\\\\\\\\\\"f6660440-5ecd-409c-a49f-032d047a105b\\\\\\\\\\\\\\\", \\\\\\\\\\\\\\\"type\\\\\\\\\\\\\\\": \\\\\\\\\\\\\\\"Microsoft.DPrep.RandomSplitBlock\\\\\\\\\\\\\\\", \\\\\\\\\\\\\\\"arguments\\\\\\\\\\\\\\\": {\\\\\\\\\\\\\\\"probability\\\\\\\\\\\\\\\": 0.8, \\\\\\\\\\\\\\\"seed\\\\\\\\\\\\\\\": 223}, \\\\\\\\\\\\\\\"localData\\\\\\\\\\\\\\\": {}, \\\\\\\\\\\\\\\"isEnabled\\\\\\\\\\\\\\\": true, \\\\\\\\\\\\\\\"name\\\\\\\\\\\\\\\": null, \\\\\\\\\\\\\\\"annotation\\\\\\\\\\\\\\\": null}], \\\\\\\\\\\\\\\"inspectors\\\\\\\\\\\\\\\": [], \\\\\\\\\\\\\\\"meta\\\\\\\\\\\\\\\": {\\\\\\\\\\\\\\\"savedDatasetId\\\\\\\\\\\\\\\": \\\\\\\\\\\\\\\"8935f93d-af63-4475-b467-d1d4b6cb0aef\\\\\\\\\\\\\\\", \\\\\\\\\\\\\\\"datasetType\\\\\\\\\\\\\\\": \\\\\\\\\\\\\\\"tabular\\\\\\\\\\\\\\\", \\\\\\\\\\\\\\\"subscriptionId\\\\\\\\\\\\\\\": \\\\\\\\\\\\\\\"374bdf1a-c648-4244-a317-f0d1ef4b85c7\\\\\\\\\\\\\\\", \\\\\\\\\\\\\\\"workspaceId\\\\\\\\\\\\\\\": \\\\\\\\\\\\\\\"86682c45-56d1-425e-a5af-a083db48a3e3\\\\\\\\\\\\\\\", \\\\\\\\\\\\\\\"workspaceLocation\\\\\\\\\\\\\\\": \\\\\\\\\\\\\\\"southcentralus\\\\\\\\\\\\\\\"}}\\\\\\\", \\\\\\\"validation_data\\\\\\\": \\\\\\\"{\\\\\\\\\\\\\\\"blocks\\\\\\\\\\\\\\\": [{\\\\\\\\\\\\\\\"id\\\\\\\\\\\\\\\": \\\\\\\\\\\\\\\"4f3b7739-1c3f-49d0-942d-47016bd24c2e\\\\\\\\\\\\\\\", \\\\\\\\\\\\\\\"type\\\\\\\\\\\\\\\": \\\\\\\\\\\\\\\"Microsoft.DPrep.ReferenceAndInverseSplitBlock\\\\\\\\\\\\\\\", \\\\\\\\\\\\\\\"arguments\\\\\\\\\\\\\\\": {\\\\\\\\\\\\\\\"sourceFilter\\\\\\\\\\\\\\\": {\\\\\\\\\\\\\\\"referenceType\\\\\\\\\\\\\\\": 2, \\\\\\\\\\\\\\\"referenceContainerPath\\\\\\\\\\\\\\\": null, \\\\\\\\\\\\\\\"referencedStep\\\\\\\\\\\\\\\": {\\\\\\\\\\\\\\\"referencedStepId\\\\\\\\\\\\\\\": \\\\\\\\\\\\\\\"00000000-0000-0000-0000-000000000000\\\\\\\\\\\\\\\", \\\\\\\\\\\\\\\"fallback\\\\\\\\\\\\\\\": 1}, \\\\\\\\\\\\\\\"anonymousSteps\\\\\\\\\\\\\\\": [{\\\\\\\\\\\\\\\"id\\\\\\\\\\\\\\\": \\\\\\\\\\\\\\\"3584a9f2-5d4c-4f3f-ae40-91db0071d65e\\\\\\\\\\\\\\\", \\\\\\\\\\\\\\\"description\\\\\\\\\\\\\\\": {\\\\\\\\\\\\\\\"localDataProperties\\\\\\\\\\\\\\\": [], \\\\\\\\\\\\\\\"blockGroup\\\\\\\\\\\\\\\": 0, \\\\\\\\\\\\\\\"supportedTargets\\\\\\\\\\\\\\\": [4], \\\\\\\\\\\\\\\"supportedFieldTypes\\\\\\\\\\\\\\\": null, \\\\\\\\\\\\\\\"supportedMessages\\\\\\\\\\\\\\\": [], \\\\\\\\\\\\\\\"requiresInitialization\\\\\\\\\\\\\\\": false, \\\\\\\\\\\\\\\"allowDefaultAdd\\\\\\\\\\\\\\\": true, \\\\\\\\\\\\\\\"documentation\\\\\\\\\\\\\\\": null, \\\\\\\\\\\\\\\"type\\\\\\\\\\\\\\\": \\\\\\\\\\\\\\\"Microsoft.DPrep.GetDatastoreFilesBlock\\\\\\\\\\\\\\\", \\\\\\\\\\\\\\\"propertyDescriptions\\\\\\\\\\\\\\\": [{\\\\\\\\\\\\\\\"name\\\\\\\\\\\\\\\": \\\\\\\\\\\\\\\"datastores\\\\\\\\\\\\\\\", \\\\\\\\\\\\\\\"type\\\\\\\\\\\\\\\": 7, \\\\\\\\\\\\\\\"multipleValues\\\\\\\\\\\\\\\": true, \\\\\\\\\\\\\\\"domain\\\\\\\\\\\\\\\": {\\\\\\\\\\\\\\\"type\\\\\\\\\\\\\\\": 0, \\\\\\\\\\\\\\\"details\\\\\\\\\\\\\\\": [{\\\\\\\\\\\\\\\"name\\\\\\\\\\\\\\\": \\\\\\\\\\\\\\\"subscription\\\\\\\\\\\\\\\", \\\\\\\\\\\\\\\"type\\\\\\\\\\\\\\\": 1, \\\\\\\\\\\\\\\"multipleValues\\\\\\\\\\\\\\\": false, \\\\\\\\\\\\\\\"domain\\\\\\\\\\\\\\\": null, \\\\\\\\\\\\\\\"multiValueDetails\\\\\\\\\\\\\\\": null, \\\\\\\\\\\\\\\"isRequired\\\\\\\\\\\\\\\": true, \\\\\\\\\\\\\\\"origin\\\\\\\\\\\\\\\": 1, \\\\\\\\\\\\\\\"defaultValue\\\\\\\\\\\\\\\": null, \\\\\\\\\\\\\\\"initializeFromProperty\\\\\\\\\\\\\\\": null, \\\\\\\\\\\\\\\"telemetryStrategy\\\\\\\\\\\\\\\": 0, \\\\\\\\\\\\\\\"condition\\\\\\\\\\\\\\\": null, \\\\\\\\\\\\\\\"documentation\\\\\\\\\\\\\\\": \\\\\\\\\\\\\\\"The subscription the workspace belongs to.\\\\\\\\\\\\\\\", \\\\\\\\\\\\\\\"serializeWhenDefault\\\\\\\\\\\\\\\": true}, {\\\\\\\\\\\\\\\"name\\\\\\\\\\\\\\\": \\\\\\\\\\\\\\\"resourceGroup\\\\\\\\\\\\\\\", \\\\\\\\\\\\\\\"type\\\\\\\\\\\\\\\": 1, \\\\\\\\\\\\\\\"multipleValues\\\\\\\\\\\\\\\": false, \\\\\\\\\\\\\\\"domain\\\\\\\\\\\\\\\": null, \\\\\\\\\\\\\\\"multiValueDetails\\\\\\\\\\\\\\\": null, \\\\\\\\\\\\\\\"isRequired\\\\\\\\\\\\\\\": true, \\\\\\\\\\\\\\\"origin\\\\\\\\\\\\\\\": 1, \\\\\\\\\\\\\\\"defaultValue\\\\\\\\\\\\\\\": null, \\\\\\\\\\\\\\\"initializeFromProperty\\\\\\\\\\\\\\\": null, \\\\\\\\\\\\\\\"telemetryStrategy\\\\\\\\\\\\\\\": 2, \\\\\\\\\\\\\\\"condition\\\\\\\\\\\\\\\": null, \\\\\\\\\\\\\\\"documentation\\\\\\\\\\\\\\\": \\\\\\\\\\\\\\\"The resource group the workspace belongs to.\\\\\\\\\\\\\\\", \\\\\\\\\\\\\\\"serializeWhenDefault\\\\\\\\\\\\\\\": true}, {\\\\\\\\\\\\\\\"name\\\\\\\\\\\\\\\": \\\\\\\\\\\\\\\"workspaceName\\\\\\\\\\\\\\\", \\\\\\\\\\\\\\\"type\\\\\\\\\\\\\\\": 1, \\\\\\\\\\\\\\\"multipleValues\\\\\\\\\\\\\\\": false, \\\\\\\\\\\\\\\"domain\\\\\\\\\\\\\\\": null, \\\\\\\\\\\\\\\"multiValueDetails\\\\\\\\\\\\\\\": null, \\\\\\\\\\\\\\\"isRequired\\\\\\\\\\\\\\\": true, \\\\\\\\\\\\\\\"origin\\\\\\\\\\\\\\\": 1, \\\\\\\\\\\\\\\"defaultValue\\\\\\\\\\\\\\\": null, \\\\\\\\\\\\\\\"initializeFromProperty\\\\\\\\\\\\\\\": null, \\\\\\\\\\\\\\\"telemetryStrategy\\\\\\\\\\\\\\\": 2, \\\\\\\\\\\\\\\"condition\\\\\\\\\\\\\\\": null, \\\\\\\\\\\\\\\"documentation\\\\\\\\\\\\\\\": \\\\\\\\\\\\\\\"The workspace the datastore belongs to.\\\\\\\\\\\\\\\", \\\\\\\\\\\\\\\"serializeWhenDefault\\\\\\\\\\\\\\\": true}, {\\\\\\\\\\\\\\\"name\\\\\\\\\\\\\\\": \\\\\\\\\\\\\\\"datastoreName\\\\\\\\\\\\\\\", \\\\\\\\\\\\\\\"type\\\\\\\\\\\\\\\": 1, \\\\\\\\\\\\\\\"multipleValues\\\\\\\\\\\\\\\": false, \\\\\\\\\\\\\\\"domain\\\\\\\\\\\\\\\": null, \\\\\\\\\\\\\\\"multiValueDetails\\\\\\\\\\\\\\\": null, \\\\\\\\\\\\\\\"isRequired\\\\\\\\\\\\\\\": true, \\\\\\\\\\\\\\\"origin\\\\\\\\\\\\\\\": 1, \\\\\\\\\\\\\\\"defaultValue\\\\\\\\\\\\\\\": null, \\\\\\\\\\\\\\\"initializeFromProperty\\\\\\\\\\\\\\\": null, \\\\\\\\\\\\\\\"telemetryStrategy\\\\\\\\\\\\\\\": 2, \\\\\\\\\\\\\\\"condition\\\\\\\\\\\\\\\": null, \\\\\\\\\\\\\\\"documentation\\\\\\\\\\\\\\\": \\\\\\\\\\\\\\\"The datastore to read the data from.\\\\\\\\\\\\\\\", \\\\\\\\\\\\\\\"serializeWhenDefault\\\\\\\\\\\\\\\": true}, {\\\\\\\\\\\\\\\"name\\\\\\\\\\\\\\\": \\\\\\\\\\\\\\\"path\\\\\\\\\\\\\\\", \\\\\\\\\\\\\\\"type\\\\\\\\\\\\\\\": 1, \\\\\\\\\\\\\\\"multipleValues\\\\\\\\\\\\\\\": false, \\\\\\\\\\\\\\\"domain\\\\\\\\\\\\\\\": null, \\\\\\\\\\\\\\\"multiValueDetails\\\\\\\\\\\\\\\": null, \\\\\\\\\\\\\\\"isRequired\\\\\\\\\\\\\\\": false, \\\\\\\\\\\\\\\"origin\\\\\\\\\\\\\\\": 1, \\\\\\\\\\\\\\\"defaultValue\\\\\\\\\\\\\\\": \\\\\\\\\\\\\\\"\\\\\\\\\\\\\\\", \\\\\\\\\\\\\\\"initializeFromProperty\\\\\\\\\\\\\\\": null, \\\\\\\\\\\\\\\"telemetryStrategy\\\\\\\\\\\\\\\": 2, \\\\\\\\\\\\\\\"condition\\\\\\\\\\\\\\\": null, \\\\\\\\\\\\\\\"documentation\\\\\\\\\\\\\\\": \\\\\\\\\\\\\\\"The path on the datastore.\\\\\\\\\\\\\\\", \\\\\\\\\\\\\\\"serializeWhenDefault\\\\\\\\\\\\\\\": true}]}, \\\\\\\\\\\\\\\"multiValueDetails\\\\\\\\\\\\\\\": {\\\\\\\\\\\\\\\"isOrdered\\\\\\\\\\\\\\\": false}, \\\\\\\\\\\\\\\"isRequired\\\\\\\\\\\\\\\": true, \\\\\\\\\\\\\\\"origin\\\\\\\\\\\\\\\": 1, \\\\\\\\\\\\\\\"defaultValue\\\\\\\\\\\\\\\": null, \\\\\\\\\\\\\\\"initializeFromProperty\\\\\\\\\\\\\\\": null, \\\\\\\\\\\\\\\"telemetryStrategy\\\\\\\\\\\\\\\": 0, \\\\\\\\\\\\\\\"condition\\\\\\\\\\\\\\\": null, \\\\\\\\\\\\\\\"documentation\\\\\\\\\\\\\\\": \\\\\\\\\\\\\\\"Properties uniquely identifying a datastore.\\\\\\\\\\\\\\\", \\\\\\\\\\\\\\\"serializeWhenDefault\\\\\\\\\\\\\\\": true}], \\\\\\\\\\\\\\\"dataEffectDetails\\\\\\\\\\\\\\\": {\\\\\\\\\\\\\\\"dataEffect\\\\\\\\\\\\\\\": 9}}, \\\\\\\\\\\\\\\"type\\\\\\\\\\\\\\\": \\\\\\\\\\\\\\\"Microsoft.DPrep.GetDatastoreFilesBlock\\\\\\\\\\\\\\\", \\\\\\\\\\\\\\\"dataEffectDetails\\\\\\\\\\\\\\\": {\\\\\\\\\\\\\\\"dataEffect\\\\\\\\\\\\\\\": 9}, \\\\\\\\\\\\\\\"propertyDescriptions\\\\\\\\\\\\\\\": [{\\\\\\\\\\\\\\\"name\\\\\\\\\\\\\\\": \\\\\\\\\\\\\\\"datastores\\\\\\\\\\\\\\\", \\\\\\\\\\\\\\\"type\\\\\\\\\\\\\\\": 7, \\\\\\\\\\\\\\\"multipleValues\\\\\\\\\\\\\\\": true, \\\\\\\\\\\\\\\"domain\\\\\\\\\\\\\\\": {\\\\\\\\\\\\\\\"type\\\\\\\\\\\\\\\": 0, \\\\\\\\\\\\\\\"details\\\\\\\\\\\\\\\": [{\\\\\\\\\\\\\\\"name\\\\\\\\\\\\\\\": \\\\\\\\\\\\\\\"subscription\\\\\\\\\\\\\\\", \\\\\\\\\\\\\\\"type\\\\\\\\\\\\\\\": 1, \\\\\\\\\\\\\\\"multipleValues\\\\\\\\\\\\\\\": false, \\\\\\\\\\\\\\\"domain\\\\\\\\\\\\\\\": null, \\\\\\\\\\\\\\\"multiValueDetails\\\\\\\\\\\\\\\": null, \\\\\\\\\\\\\\\"isRequired\\\\\\\\\\\\\\\": true, \\\\\\\\\\\\\\\"origin\\\\\\\\\\\\\\\": 1, \\\\\\\\\\\\\\\"defaultValue\\\\\\\\\\\\\\\": null, \\\\\\\\\\\\\\\"initializeFromProperty\\\\\\\\\\\\\\\": null, \\\\\\\\\\\\\\\"telemetryStrategy\\\\\\\\\\\\\\\": 0, \\\\\\\\\\\\\\\"condition\\\\\\\\\\\\\\\": null, \\\\\\\\\\\\\\\"documentation\\\\\\\\\\\\\\\": \\\\\\\\\\\\\\\"The subscription the workspace belongs to.\\\\\\\\\\\\\\\", \\\\\\\\\\\\\\\"serializeWhenDefault\\\\\\\\\\\\\\\": true}, {\\\\\\\\\\\\\\\"name\\\\\\\\\\\\\\\": \\\\\\\\\\\\\\\"resourceGroup\\\\\\\\\\\\\\\", \\\\\\\\\\\\\\\"type\\\\\\\\\\\\\\\": 1, \\\\\\\\\\\\\\\"multipleValues\\\\\\\\\\\\\\\": false, \\\\\\\\\\\\\\\"domain\\\\\\\\\\\\\\\": null, \\\\\\\\\\\\\\\"multiValueDetails\\\\\\\\\\\\\\\": null, \\\\\\\\\\\\\\\"isRequired\\\\\\\\\\\\\\\": true, \\\\\\\\\\\\\\\"origin\\\\\\\\\\\\\\\": 1, \\\\\\\\\\\\\\\"defaultValue\\\\\\\\\\\\\\\": null, \\\\\\\\\\\\\\\"initializeFromProperty\\\\\\\\\\\\\\\": null, \\\\\\\\\\\\\\\"telemetryStrategy\\\\\\\\\\\\\\\": 2, \\\\\\\\\\\\\\\"condition\\\\\\\\\\\\\\\": null, \\\\\\\\\\\\\\\"documentation\\\\\\\\\\\\\\\": \\\\\\\\\\\\\\\"The resource group the workspace belongs to.\\\\\\\\\\\\\\\", \\\\\\\\\\\\\\\"serializeWhenDefault\\\\\\\\\\\\\\\": true}, {\\\\\\\\\\\\\\\"name\\\\\\\\\\\\\\\": \\\\\\\\\\\\\\\"workspaceName\\\\\\\\\\\\\\\", \\\\\\\\\\\\\\\"type\\\\\\\\\\\\\\\": 1, \\\\\\\\\\\\\\\"multipleValues\\\\\\\\\\\\\\\": false, \\\\\\\\\\\\\\\"domain\\\\\\\\\\\\\\\": null, \\\\\\\\\\\\\\\"multiValueDetails\\\\\\\\\\\\\\\": null, \\\\\\\\\\\\\\\"isRequired\\\\\\\\\\\\\\\": true, \\\\\\\\\\\\\\\"origin\\\\\\\\\\\\\\\": 1, \\\\\\\\\\\\\\\"defaultValue\\\\\\\\\\\\\\\": null, \\\\\\\\\\\\\\\"initializeFromProperty\\\\\\\\\\\\\\\": null, \\\\\\\\\\\\\\\"telemetryStrategy\\\\\\\\\\\\\\\": 2, \\\\\\\\\\\\\\\"condition\\\\\\\\\\\\\\\": null, \\\\\\\\\\\\\\\"documentation\\\\\\\\\\\\\\\": \\\\\\\\\\\\\\\"The workspace the datastore belongs to.\\\\\\\\\\\\\\\", \\\\\\\\\\\\\\\"serializeWhenDefault\\\\\\\\\\\\\\\": true}, {\\\\\\\\\\\\\\\"name\\\\\\\\\\\\\\\": \\\\\\\\\\\\\\\"datastoreName\\\\\\\\\\\\\\\", \\\\\\\\\\\\\\\"type\\\\\\\\\\\\\\\": 1, \\\\\\\\\\\\\\\"multipleValues\\\\\\\\\\\\\\\": false, \\\\\\\\\\\\\\\"domain\\\\\\\\\\\\\\\": null, \\\\\\\\\\\\\\\"multiValueDetails\\\\\\\\\\\\\\\": null, \\\\\\\\\\\\\\\"isRequired\\\\\\\\\\\\\\\": true, \\\\\\\\\\\\\\\"origin\\\\\\\\\\\\\\\": 1, \\\\\\\\\\\\\\\"defaultValue\\\\\\\\\\\\\\\": null, \\\\\\\\\\\\\\\"initializeFromProperty\\\\\\\\\\\\\\\": null, \\\\\\\\\\\\\\\"telemetryStrategy\\\\\\\\\\\\\\\": 2, \\\\\\\\\\\\\\\"condition\\\\\\\\\\\\\\\": null, \\\\\\\\\\\\\\\"documentation\\\\\\\\\\\\\\\": \\\\\\\\\\\\\\\"The datastore to read the data from.\\\\\\\\\\\\\\\", \\\\\\\\\\\\\\\"serializeWhenDefault\\\\\\\\\\\\\\\": true}, {\\\\\\\\\\\\\\\"name\\\\\\\\\\\\\\\": \\\\\\\\\\\\\\\"path\\\\\\\\\\\\\\\", \\\\\\\\\\\\\\\"type\\\\\\\\\\\\\\\": 1, \\\\\\\\\\\\\\\"multipleValues\\\\\\\\\\\\\\\": false, \\\\\\\\\\\\\\\"domain\\\\\\\\\\\\\\\": null, \\\\\\\\\\\\\\\"multiValueDetails\\\\\\\\\\\\\\\": null, \\\\\\\\\\\\\\\"isRequired\\\\\\\\\\\\\\\": false, \\\\\\\\\\\\\\\"origin\\\\\\\\\\\\\\\": 1, \\\\\\\\\\\\\\\"defaultValue\\\\\\\\\\\\\\\": \\\\\\\\\\\\\\\"\\\\\\\\\\\\\\\", \\\\\\\\\\\\\\\"initializeFromProperty\\\\\\\\\\\\\\\": null, \\\\\\\\\\\\\\\"telemetryStrategy\\\\\\\\\\\\\\\": 2, \\\\\\\\\\\\\\\"condition\\\\\\\\\\\\\\\": null, \\\\\\\\\\\\\\\"documentation\\\\\\\\\\\\\\\": \\\\\\\\\\\\\\\"The path on the datastore.\\\\\\\\\\\\\\\", \\\\\\\\\\\\\\\"serializeWhenDefault\\\\\\\\\\\\\\\": true}]}, \\\\\\\\\\\\\\\"multiValueDetails\\\\\\\\\\\\\\\": {\\\\\\\\\\\\\\\"isOrdered\\\\\\\\\\\\\\\": false}, \\\\\\\\\\\\\\\"isRequired\\\\\\\\\\\\\\\": true, \\\\\\\\\\\\\\\"origin\\\\\\\\\\\\\\\": 1, \\\\\\\\\\\\\\\"defaultValue\\\\\\\\\\\\\\\": null, \\\\\\\\\\\\\\\"initializeFromProperty\\\\\\\\\\\\\\\": null, \\\\\\\\\\\\\\\"telemetryStrategy\\\\\\\\\\\\\\\": 0, \\\\\\\\\\\\\\\"condition\\\\\\\\\\\\\\\": null, \\\\\\\\\\\\\\\"documentation\\\\\\\\\\\\\\\": \\\\\\\\\\\\\\\"Properties uniquely identifying a datastore.\\\\\\\\\\\\\\\", \\\\\\\\\\\\\\\"serializeWhenDefault\\\\\\\\\\\\\\\": true}], \\\\\\\\\\\\\\\"arguments\\\\\\\\\\\\\\\": {\\\\\\\\\\\\\\\"datastores\\\\\\\\\\\\\\\": [{\\\\\\\\\\\\\\\"datastoreName\\\\\\\\\\\\\\\": \\\\\\\\\\\\\\\"workspaceblobstore\\\\\\\\\\\\\\\", \\\\\\\\\\\\\\\"path\\\\\\\\\\\\\\\": \\\\\\\\\\\\\\\"UI/11-17-2020_052802_UTC/heart_failure_clinical_records_dataset.csv\\\\\\\\\\\\\\\", \\\\\\\\\\\\\\\"resourceGroup\\\\\\\\\\\\\\\": \\\\\\\\\\\\\\\"aml-quickstarts-126654\\\\\\\\\\\\\\\", \\\\\\\\\\\\\\\"subscription\\\\\\\\\\\\\\\": \\\\\\\\\\\\\\\"374bdf1a-c648-4244-a317-f0d1ef4b85c7\\\\\\\\\\\\\\\", \\\\\\\\\\\\\\\"workspaceName\\\\\\\\\\\\\\\": \\\\\\\\\\\\\\\"quick-starts-ws-126654\\\\\\\\\\\\\\\"}]}}, {\\\\\\\\\\\\\\\"id\\\\\\\\\\\\\\\": \\\\\\\\\\\\\\\"1ba79e57-5866-4c53-84a4-5b3276e143c0\\\\\\\\\\\\\\\", \\\\\\\\\\\\\\\"description\\\\\\\\\\\\\\\": {\\\\\\\\\\\\\\\"localDataProperties\\\\\\\\\\\\\\\": [], \\\\\\\\\\\\\\\"blockGroup\\\\\\\\\\\\\\\": 0, \\\\\\\\\\\\\\\"supportedTargets\\\\\\\\\\\\\\\": [5], \\\\\\\\\\\\\\\"supportedFieldTypes\\\\\\\\\\\\\\\": null, \\\\\\\\\\\\\\\"supportedMessages\\\\\\\\\\\\\\\": [], \\\\\\\\\\\\\\\"requiresInitialization\\\\\\\\\\\\\\\": false, \\\\\\\\\\\\\\\"allowDefaultAdd\\\\\\\\\\\\\\\": true, \\\\\\\\\\\\\\\"documentation\\\\\\\\\\\\\\\": null, \\\\\\\\\\\\\\\"type\\\\\\\\\\\\\\\": \\\\\\\\\\\\\\\"Microsoft.DPrep.ParseDelimitedBlock\\\\\\\\\\\\\\\", \\\\\\\\\\\\\\\"propertyDescriptions\\\\\\\\\\\\\\\": [{\\\\\\\\\\\\\\\"name\\\\\\\\\\\\\\\": \\\\\\\\\\\\\\\"maxRows\\\\\\\\\\\\\\\", \\\\\\\\\\\\\\\"type\\\\\\\\\\\\\\\": 2, \\\\\\\\\\\\\\\"multipleValues\\\\\\\\\\\\\\\": false, \\\\\\\\\\\\\\\"domain\\\\\\\\\\\\\\\": null, \\\\\\\\\\\\\\\"multiValueDetails\\\\\\\\\\\\\\\": null, \\\\\\\\\\\\\\\"isRequired\\\\\\\\\\\\\\\": false, \\\\\\\\\\\\\\\"origin\\\\\\\\\\\\\\\": 2, \\\\\\\\\\\\\\\"defaultValue\\\\\\\\\\\\\\\": null, \\\\\\\\\\\\\\\"initializeFromProperty\\\\\\\\\\\\\\\": null, \\\\\\\\\\\\\\\"telemetryStrategy\\\\\\\\\\\\\\\": 0, \\\\\\\\\\\\\\\"condition\\\\\\\\\\\\\\\": null, \\\\\\\\\\\\\\\"documentation\\\\\\\\\\\\\\\": null, \\\\\\\\\\\\\\\"serializeWhenDefault\\\\\\\\\\\\\\\": true}, {\\\\\\\\\\\\\\\"name\\\\\\\\\\\\\\\": \\\\\\\\\\\\\\\"preview\\\\\\\\\\\\\\\", \\\\\\\\\\\\\\\"type\\\\\\\\\\\\\\\": 4, \\\\\\\\\\\\\\\"multipleValues\\\\\\\\\\\\\\\": false, \\\\\\\\\\\\\\\"domain\\\\\\\\\\\\\\\": null, \\\\\\\\\\\\\\\"multiValueDetails\\\\\\\\\\\\\\\": null, \\\\\\\\\\\\\\\"isRequired\\\\\\\\\\\\\\\": false, \\\\\\\\\\\\\\\"origin\\\\\\\\\\\\\\\": 2, \\\\\\\\\\\\\\\"defaultValue\\\\\\\\\\\\\\\": false, \\\\\\\\\\\\\\\"initializeFromProperty\\\\\\\\\\\\\\\": null, \\\\\\\\\\\\\\\"telemetryStrategy\\\\\\\\\\\\\\\": 0, \\\\\\\\\\\\\\\"condition\\\\\\\\\\\\\\\": null, \\\\\\\\\\\\\\\"documentation\\\\\\\\\\\\\\\": null, \\\\\\\\\\\\\\\"serializeWhenDefault\\\\\\\\\\\\\\\": true}, {\\\\\\\\\\\\\\\"name\\\\\\\\\\\\\\\": \\\\\\\\\\\\\\\"columnHeadersMode\\\\\\\\\\\\\\\", \\\\\\\\\\\\\\\"type\\\\\\\\\\\\\\\": 6, \\\\\\\\\\\\\\\"multipleValues\\\\\\\\\\\\\\\": false, \\\\\\\\\\\\\\\"domain\\\\\\\\\\\\\\\": {\\\\\\\\\\\\\\\"type\\\\\\\\\\\\\\\": 1, \\\\\\\\\\\\\\\"details\\\\\\\\\\\\\\\": {\\\\\\\\\\\\\\\"enumName\\\\\\\\\\\\\\\": \\\\\\\\\\\\\\\"PromoteHeadersMode\\\\\\\\\\\\\\\", \\\\\\\\\\\\\\\"enumType\\\\\\\\\\\\\\\": \\\\\\\\\\\\\\\"Microsoft.DPrep.Engine.PromoteHeadersMode, Microsoft.DPrep.EngineAPI, Version=0.1.2010.8053, Culture=neutral, PublicKeyToken=null\\\\\\\\\\\\\\\", \\\\\\\\\\\\\\\"enumValues\\\\\\\\\\\\\\\": [0, 1, 1, 2, 2, 3, 3]}}, \\\\\\\\\\\\\\\"multiValueDetails\\\\\\\\\\\\\\\": null, \\\\\\\\\\\\\\\"isRequired\\\\\\\\\\\\\\\": true, \\\\\\\\\\\\\\\"origin\\\\\\\\\\\\\\\": 1, \\\\\\\\\\\\\\\"defaultValue\\\\\\\\\\\\\\\": 1, \\\\\\\\\\\\\\\"initializeFromProperty\\\\\\\\\\\\\\\": null, \\\\\\\\\\\\\\\"telemetryStrategy\\\\\\\\\\\\\\\": 0, \\\\\\\\\\\\\\\"condition\\\\\\\\\\\\\\\": null, \\\\\\\\\\\\\\\"documentation\\\\\\\\\\\\\\\": null, \\\\\\\\\\\\\\\"serializeWhenDefault\\\\\\\\\\\\\\\": true}, {\\\\\\\\\\\\\\\"name\\\\\\\\\\\\\\\": \\\\\\\\\\\\\\\"separator\\\\\\\\\\\\\\\", \\\\\\\\\\\\\\\"type\\\\\\\\\\\\\\\": 0, \\\\\\\\\\\\\\\"multipleValues\\\\\\\\\\\\\\\": false, \\\\\\\\\\\\\\\"domain\\\\\\\\\\\\\\\": {\\\\\\\\\\\\\\\"type\\\\\\\\\\\\\\\": 6, \\\\\\\\\\\\\\\"details\\\\\\\\\\\\\\\": {\\\\\\\\\\\\\\\"values\\\\\\\\\\\\\\\": [{\\\\\\\\\\\\\\\"value\\\\\\\\\\\\\\\": \\\\\\\\\\\\\\\",\\\\\\\\\\\\\\\", \\\\\\\\\\\\\\\"id\\\\\\\\\\\\\\\": 0}, {\\\\\\\\\\\\\\\"value\\\\\\\\\\\\\\\": \\\\\\\\\\\\\\\"\\\\\\\\\\\\\\\\t\\\\\\\\\\\\\\\", \\\\\\\\\\\\\\\"id\\\\\\\\\\\\\\\": 1}, {\\\\\\\\\\\\\\\"value\\\\\\\\\\\\\\\": \\\\\\\\\\\\\\\":\\\\\\\\\\\\\\\", \\\\\\\\\\\\\\\"id\\\\\\\\\\\\\\\": 2}, {\\\\\\\\\\\\\\\"value\\\\\\\\\\\\\\\": \\\\\\\\\\\\\\\";\\\\\\\\\\\\\\\", \\\\\\\\\\\\\\\"id\\\\\\\\\\\\\\\": 3}, {\\\\\\\\\\\\\\\"value\\\\\\\\\\\\\\\": \\\\\\\\\\\\\\\" \\\\\\\\\\\\\\\", \\\\\\\\\\\\\\\"id\\\\\\\\\\\\\\\": 5}, {\\\\\\\\\\\\\\\"value\\\\\\\\\\\\\\\": \\\\\\\\\\\\\\\"=\\\\\\\\\\\\\\\", \\\\\\\\\\\\\\\"id\\\\\\\\\\\\\\\": 4}, {\\\\\\\\\\\\\\\"value\\\\\\\\\\\\\\\": \\\\\\\\\\\\\\\"\\\\\\\\\\\\\\\\u2014\\\\\\\\\\\\\\\", \\\\\\\\\\\\\\\"id\\\\\\\\\\\\\\\": 7}], \\\\\\\\\\\\\\\"allowCustom\\\\\\\\\\\\\\\": true, \\\\\\\\\\\\\\\"customEnumValue\\\\\\\\\\\\\\\": 6}}, \\\\\\\\\\\\\\\"multiValueDetails\\\\\\\\\\\\\\\": null, \\\\\\\\\\\\\\\"isRequired\\\\\\\\\\\\\\\": true, \\\\\\\\\\\\\\\"origin\\\\\\\\\\\\\\\": 1, \\\\\\\\\\\\\\\"defaultValue\\\\\\\\\\\\\\\": \\\\\\\\\\\\\\\",\\\\\\\\\\\\\\\", \\\\\\\\\\\\\\\"initializeFromProperty\\\\\\\\\\\\\\\": null, \\\\\\\\\\\\\\\"telemetryStrategy\\\\\\\\\\\\\\\": 0, \\\\\\\\\\\\\\\"condition\\\\\\\\\\\\\\\": null, \\\\\\\\\\\\\\\"documentation\\\\\\\\\\\\\\\": null, \\\\\\\\\\\\\\\"serializeWhenDefault\\\\\\\\\\\\\\\": true}, {\\\\\\\\\\\\\\\"name\\\\\\\\\\\\\\\": \\\\\\\\\\\\\\\"commentLineCharacter\\\\\\\\\\\\\\\", \\\\\\\\\\\\\\\"type\\\\\\\\\\\\\\\": 0, \\\\\\\\\\\\\\\"multipleValues\\\\\\\\\\\\\\\": false, \\\\\\\\\\\\\\\"domain\\\\\\\\\\\\\\\": null, \\\\\\\\\\\\\\\"multiValueDetails\\\\\\\\\\\\\\\": null, \\\\\\\\\\\\\\\"isRequired\\\\\\\\\\\\\\\": false, \\\\\\\\\\\\\\\"origin\\\\\\\\\\\\\\\": 1, \\\\\\\\\\\\\\\"defaultValue\\\\\\\\\\\\\\\": null, \\\\\\\\\\\\\\\"initializeFromProperty\\\\\\\\\\\\\\\": null, \\\\\\\\\\\\\\\"telemetryStrategy\\\\\\\\\\\\\\\": 0, \\\\\\\\\\\\\\\"condition\\\\\\\\\\\\\\\": null, \\\\\\\\\\\\\\\"documentation\\\\\\\\\\\\\\\": null, \\\\\\\\\\\\\\\"serializeWhenDefault\\\\\\\\\\\\\\\": true}, {\\\\\\\\\\\\\\\"name\\\\\\\\\\\\\\\": \\\\\\\\\\\\\\\"fileEncoding\\\\\\\\\\\\\\\", \\\\\\\\\\\\\\\"type\\\\\\\\\\\\\\\": 6, \\\\\\\\\\\\\\\"multipleValues\\\\\\\\\\\\\\\": false, \\\\\\\\\\\\\\\"domain\\\\\\\\\\\\\\\": {\\\\\\\\\\\\\\\"type\\\\\\\\\\\\\\\": 1, \\\\\\\\\\\\\\\"details\\\\\\\\\\\\\\\": {\\\\\\\\\\\\\\\"enumName\\\\\\\\\\\\\\\": \\\\\\\\\\\\\\\"FileEncoding\\\\\\\\\\\\\\\", \\\\\\\\\\\\\\\"enumType\\\\\\\\\\\\\\\": \\\\\\\\\\\\\\\"Microsoft.DPrep.Engine.FileEncoding, Microsoft.DPrep.EngineAPI, Version=0.1.2010.8053, Culture=neutral, PublicKeyToken=null\\\\\\\\\\\\\\\", \\\\\\\\\\\\\\\"enumValues\\\\\\\\\\\\\\\": [0, 1, 2, 3, 4, 5, 6, 7]}}, \\\\\\\\\\\\\\\"multiValueDetails\\\\\\\\\\\\\\\": null, \\\\\\\\\\\\\\\"isRequired\\\\\\\\\\\\\\\": true, \\\\\\\\\\\\\\\"origin\\\\\\\\\\\\\\\": 1, \\\\\\\\\\\\\\\"defaultValue\\\\\\\\\\\\\\\": 0, \\\\\\\\\\\\\\\"initializeFromProperty\\\\\\\\\\\\\\\": null, \\\\\\\\\\\\\\\"telemetryStrategy\\\\\\\\\\\\\\\": 0, \\\\\\\\\\\\\\\"condition\\\\\\\\\\\\\\\": null, \\\\\\\\\\\\\\\"documentation\\\\\\\\\\\\\\\": null, \\\\\\\\\\\\\\\"serializeWhenDefault\\\\\\\\\\\\\\\": true}, {\\\\\\\\\\\\\\\"name\\\\\\\\\\\\\\\": \\\\\\\\\\\\\\\"skipRowsMode\\\\\\\\\\\\\\\", \\\\\\\\\\\\\\\"type\\\\\\\\\\\\\\\": 6, \\\\\\\\\\\\\\\"multipleValues\\\\\\\\\\\\\\\": false, \\\\\\\\\\\\\\\"domain\\\\\\\\\\\\\\\": {\\\\\\\\\\\\\\\"type\\\\\\\\\\\\\\\": 1, \\\\\\\\\\\\\\\"details\\\\\\\\\\\\\\\": {\\\\\\\\\\\\\\\"enumName\\\\\\\\\\\\\\\": \\\\\\\\\\\\\\\"SkipMode\\\\\\\\\\\\\\\", \\\\\\\\\\\\\\\"enumType\\\\\\\\\\\\\\\": \\\\\\\\\\\\\\\"Microsoft.DPrep.Engine.SkipMode, Microsoft.DPrep.EngineAPI, Version=0.1.2010.8053, Culture=neutral, PublicKeyToken=null\\\\\\\\\\\\\\\", \\\\\\\\\\\\\\\"enumValues\\\\\\\\\\\\\\\": [0, 1, 1, 2, 2]}}, \\\\\\\\\\\\\\\"multiValueDetails\\\\\\\\\\\\\\\": null, \\\\\\\\\\\\\\\"isRequired\\\\\\\\\\\\\\\": true, \\\\\\\\\\\\\\\"origin\\\\\\\\\\\\\\\": 1, \\\\\\\\\\\\\\\"defaultValue\\\\\\\\\\\\\\\": 0, \\\\\\\\\\\\\\\"initializeFromProperty\\\\\\\\\\\\\\\": null, \\\\\\\\\\\\\\\"telemetryStrategy\\\\\\\\\\\\\\\": 0, \\\\\\\\\\\\\\\"condition\\\\\\\\\\\\\\\": null, \\\\\\\\\\\\\\\"documentation\\\\\\\\\\\\\\\": null, \\\\\\\\\\\\\\\"serializeWhenDefault\\\\\\\\\\\\\\\": true}, {\\\\\\\\\\\\\\\"name\\\\\\\\\\\\\\\": \\\\\\\\\\\\\\\"skipRows\\\\\\\\\\\\\\\", \\\\\\\\\\\\\\\"type\\\\\\\\\\\\\\\": 2, \\\\\\\\\\\\\\\"multipleValues\\\\\\\\\\\\\\\": false, \\\\\\\\\\\\\\\"domain\\\\\\\\\\\\\\\": {\\\\\\\\\\\\\\\"type\\\\\\\\\\\\\\\": 4, \\\\\\\\\\\\\\\"details\\\\\\\\\\\\\\\": {\\\\\\\\\\\\\\\"min\\\\\\\\\\\\\\\": 0.0, \\\\\\\\\\\\\\\"max\\\\\\\\\\\\\\\": 1.7976931348623157e+308}}, \\\\\\\\\\\\\\\"multiValueDetails\\\\\\\\\\\\\\\": null, \\\\\\\\\\\\\\\"isRequired\\\\\\\\\\\\\\\": false, \\\\\\\\\\\\\\\"origin\\\\\\\\\\\\\\\": 1, \\\\\\\\\\\\\\\"defaultValue\\\\\\\\\\\\\\\": null, \\\\\\\\\\\\\\\"initializeFromProperty\\\\\\\\\\\\\\\": null, \\\\\\\\\\\\\\\"telemetryStrategy\\\\\\\\\\\\\\\": 0, \\\\\\\\\\\\\\\"condition\\\\\\\\\\\\\\\": {\\\\\\\\\\\\\\\"condition\\\\\\\\\\\\\\\": {\\\\\\\\\\\\\\\"property\\\\\\\\\\\\\\\": {\\\\\\\\\\\\\\\"propertyPath\\\\\\\\\\\\\\\": [\\\\\\\\\\\\\\\"skipRowsMode\\\\\\\\\\\\\\\"]}, \\\\\\\\\\\\\\\"comparison\\\\\\\\\\\\\\\": 1, \\\\\\\\\\\\\\\"value\\\\\\\\\\\\\\\": 0}, \\\\\\\\\\\\\\\"aggregate\\\\\\\\\\\\\\\": null}, \\\\\\\\\\\\\\\"documentation\\\\\\\\\\\\\\\": null, \\\\\\\\\\\\\\\"serializeWhenDefault\\\\\\\\\\\\\\\": true}, {\\\\\\\\\\\\\\\"name\\\\\\\\\\\\\\\": \\\\\\\\\\\\\\\"handleQuotedLineBreaks\\\\\\\\\\\\\\\", \\\\\\\\\\\\\\\"type\\\\\\\\\\\\\\\": 4, \\\\\\\\\\\\\\\"multipleValues\\\\\\\\\\\\\\\": false, \\\\\\\\\\\\\\\"domain\\\\\\\\\\\\\\\": null, \\\\\\\\\\\\\\\"multiValueDetails\\\\\\\\\\\\\\\": null, \\\\\\\\\\\\\\\"isRequired\\\\\\\\\\\\\\\": true, \\\\\\\\\\\\\\\"origin\\\\\\\\\\\\\\\": 1, \\\\\\\\\\\\\\\"defaultValue\\\\\\\\\\\\\\\": false, \\\\\\\\\\\\\\\"initializeFromProperty\\\\\\\\\\\\\\\": null, \\\\\\\\\\\\\\\"telemetryStrategy\\\\\\\\\\\\\\\": 0, \\\\\\\\\\\\\\\"condition\\\\\\\\\\\\\\\": null, \\\\\\\\\\\\\\\"documentation\\\\\\\\\\\\\\\": null, \\\\\\\\\\\\\\\"serializeWhenDefault\\\\\\\\\\\\\\\": true}, {\\\\\\\\\\\\\\\"name\\\\\\\\\\\\\\\": \\\\\\\\\\\\\\\"partitionSize\\\\\\\\\\\\\\\", \\\\\\\\\\\\\\\"type\\\\\\\\\\\\\\\": 2, \\\\\\\\\\\\\\\"multipleValues\\\\\\\\\\\\\\\": false, \\\\\\\\\\\\\\\"domain\\\\\\\\\\\\\\\": null, \\\\\\\\\\\\\\\"multiValueDetails\\\\\\\\\\\\\\\": null, \\\\\\\\\\\\\\\"isRequired\\\\\\\\\\\\\\\": false, \\\\\\\\\\\\\\\"origin\\\\\\\\\\\\\\\": 1, \\\\\\\\\\\\\\\"defaultValue\\\\\\\\\\\\\\\": null, \\\\\\\\\\\\\\\"initializeFromProperty\\\\\\\\\\\\\\\": null, \\\\\\\\\\\\\\\"telemetryStrategy\\\\\\\\\\\\\\\": 0, \\\\\\\\\\\\\\\"condition\\\\\\\\\\\\\\\": null, \\\\\\\\\\\\\\\"documentation\\\\\\\\\\\\\\\": null, \\\\\\\\\\\\\\\"serializeWhenDefault\\\\\\\\\\\\\\\": true}, {\\\\\\\\\\\\\\\"name\\\\\\\\\\\\\\\": \\\\\\\\\\\\\\\"emptyAsString\\\\\\\\\\\\\\\", \\\\\\\\\\\\\\\"type\\\\\\\\\\\\\\\": 4, \\\\\\\\\\\\\\\"multipleValues\\\\\\\\\\\\\\\": false, \\\\\\\\\\\\\\\"domain\\\\\\\\\\\\\\\": null, \\\\\\\\\\\\\\\"multiValueDetails\\\\\\\\\\\\\\\": null, \\\\\\\\\\\\\\\"isRequired\\\\\\\\\\\\\\\": false, \\\\\\\\\\\\\\\"origin\\\\\\\\\\\\\\\": 1, \\\\\\\\\\\\\\\"defaultValue\\\\\\\\\\\\\\\": false, \\\\\\\\\\\\\\\"initializeFromProperty\\\\\\\\\\\\\\\": null, \\\\\\\\\\\\\\\"telemetryStrategy\\\\\\\\\\\\\\\": 0, \\\\\\\\\\\\\\\"condition\\\\\\\\\\\\\\\": null, \\\\\\\\\\\\\\\"documentation\\\\\\\\\\\\\\\": null, \\\\\\\\\\\\\\\"serializeWhenDefault\\\\\\\\\\\\\\\": false}], \\\\\\\\\\\\\\\"dataEffectDetails\\\\\\\\\\\\\\\": {\\\\\\\\\\\\\\\"dataEffect\\\\\\\\\\\\\\\": 1}}, \\\\\\\\\\\\\\\"type\\\\\\\\\\\\\\\": \\\\\\\\\\\\\\\"Microsoft.DPrep.ParseDelimitedBlock\\\\\\\\\\\\\\\", \\\\\\\\\\\\\\\"dataEffectDetails\\\\\\\\\\\\\\\": {\\\\\\\\\\\\\\\"dataEffect\\\\\\\\\\\\\\\": 1}, \\\\\\\\\\\\\\\"propertyDescriptions\\\\\\\\\\\\\\\": [{\\\\\\\\\\\\\\\"name\\\\\\\\\\\\\\\": \\\\\\\\\\\\\\\"maxRows\\\\\\\\\\\\\\\", \\\\\\\\\\\\\\\"type\\\\\\\\\\\\\\\": 2, \\\\\\\\\\\\\\\"multipleValues\\\\\\\\\\\\\\\": false, \\\\\\\\\\\\\\\"domain\\\\\\\\\\\\\\\": null, \\\\\\\\\\\\\\\"multiValueDetails\\\\\\\\\\\\\\\": null, \\\\\\\\\\\\\\\"isRequired\\\\\\\\\\\\\\\": false, \\\\\\\\\\\\\\\"origin\\\\\\\\\\\\\\\": 2, \\\\\\\\\\\\\\\"defaultValue\\\\\\\\\\\\\\\": null, \\\\\\\\\\\\\\\"initializeFromProperty\\\\\\\\\\\\\\\": null, \\\\\\\\\\\\\\\"telemetryStrategy\\\\\\\\\\\\\\\": 0, \\\\\\\\\\\\\\\"condition\\\\\\\\\\\\\\\": null, \\\\\\\\\\\\\\\"documentation\\\\\\\\\\\\\\\": null, \\\\\\\\\\\\\\\"serializeWhenDefault\\\\\\\\\\\\\\\": true}, {\\\\\\\\\\\\\\\"name\\\\\\\\\\\\\\\": \\\\\\\\\\\\\\\"preview\\\\\\\\\\\\\\\", \\\\\\\\\\\\\\\"type\\\\\\\\\\\\\\\": 4, \\\\\\\\\\\\\\\"multipleValues\\\\\\\\\\\\\\\": false, \\\\\\\\\\\\\\\"domain\\\\\\\\\\\\\\\": null, \\\\\\\\\\\\\\\"multiValueDetails\\\\\\\\\\\\\\\": null, \\\\\\\\\\\\\\\"isRequired\\\\\\\\\\\\\\\": false, \\\\\\\\\\\\\\\"origin\\\\\\\\\\\\\\\": 2, \\\\\\\\\\\\\\\"defaultValue\\\\\\\\\\\\\\\": false, \\\\\\\\\\\\\\\"initializeFromProperty\\\\\\\\\\\\\\\": null, \\\\\\\\\\\\\\\"telemetryStrategy\\\\\\\\\\\\\\\": 0, \\\\\\\\\\\\\\\"condition\\\\\\\\\\\\\\\": null, \\\\\\\\\\\\\\\"documentation\\\\\\\\\\\\\\\": null, \\\\\\\\\\\\\\\"serializeWhenDefault\\\\\\\\\\\\\\\": true}, {\\\\\\\\\\\\\\\"name\\\\\\\\\\\\\\\": \\\\\\\\\\\\\\\"columnHeadersMode\\\\\\\\\\\\\\\", \\\\\\\\\\\\\\\"type\\\\\\\\\\\\\\\": 6, \\\\\\\\\\\\\\\"multipleValues\\\\\\\\\\\\\\\": false, \\\\\\\\\\\\\\\"domain\\\\\\\\\\\\\\\": {\\\\\\\\\\\\\\\"type\\\\\\\\\\\\\\\": 1, \\\\\\\\\\\\\\\"details\\\\\\\\\\\\\\\": {\\\\\\\\\\\\\\\"enumName\\\\\\\\\\\\\\\": \\\\\\\\\\\\\\\"PromoteHeadersMode\\\\\\\\\\\\\\\", \\\\\\\\\\\\\\\"enumType\\\\\\\\\\\\\\\": \\\\\\\\\\\\\\\"Microsoft.DPrep.Engine.PromoteHeadersMode, Microsoft.DPrep.EngineAPI, Version=0.1.2010.8053, Culture=neutral, PublicKeyToken=null\\\\\\\\\\\\\\\", \\\\\\\\\\\\\\\"enumValues\\\\\\\\\\\\\\\": [0, 1, 1, 2, 2, 3, 3]}}, \\\\\\\\\\\\\\\"multiValueDetails\\\\\\\\\\\\\\\": null, \\\\\\\\\\\\\\\"isRequired\\\\\\\\\\\\\\\": true, \\\\\\\\\\\\\\\"origin\\\\\\\\\\\\\\\": 1, \\\\\\\\\\\\\\\"defaultValue\\\\\\\\\\\\\\\": 1, \\\\\\\\\\\\\\\"initializeFromProperty\\\\\\\\\\\\\\\": null, \\\\\\\\\\\\\\\"telemetryStrategy\\\\\\\\\\\\\\\": 0, \\\\\\\\\\\\\\\"condition\\\\\\\\\\\\\\\": null, \\\\\\\\\\\\\\\"documentation\\\\\\\\\\\\\\\": null, \\\\\\\\\\\\\\\"serializeWhenDefault\\\\\\\\\\\\\\\": true}, {\\\\\\\\\\\\\\\"name\\\\\\\\\\\\\\\": \\\\\\\\\\\\\\\"separator\\\\\\\\\\\\\\\", \\\\\\\\\\\\\\\"type\\\\\\\\\\\\\\\": 0, \\\\\\\\\\\\\\\"multipleValues\\\\\\\\\\\\\\\": false, \\\\\\\\\\\\\\\"domain\\\\\\\\\\\\\\\": {\\\\\\\\\\\\\\\"type\\\\\\\\\\\\\\\": 6, \\\\\\\\\\\\\\\"details\\\\\\\\\\\\\\\": {\\\\\\\\\\\\\\\"values\\\\\\\\\\\\\\\": [{\\\\\\\\\\\\\\\"value\\\\\\\\\\\\\\\": \\\\\\\\\\\\\\\",\\\\\\\\\\\\\\\", \\\\\\\\\\\\\\\"id\\\\\\\\\\\\\\\": 0}, {\\\\\\\\\\\\\\\"value\\\\\\\\\\\\\\\": \\\\\\\\\\\\\\\"\\\\\\\\\\\\\\\\t\\\\\\\\\\\\\\\", \\\\\\\\\\\\\\\"id\\\\\\\\\\\\\\\": 1}, {\\\\\\\\\\\\\\\"value\\\\\\\\\\\\\\\": \\\\\\\\\\\\\\\":\\\\\\\\\\\\\\\", \\\\\\\\\\\\\\\"id\\\\\\\\\\\\\\\": 2}, {\\\\\\\\\\\\\\\"value\\\\\\\\\\\\\\\": \\\\\\\\\\\\\\\";\\\\\\\\\\\\\\\", \\\\\\\\\\\\\\\"id\\\\\\\\\\\\\\\": 3}, {\\\\\\\\\\\\\\\"value\\\\\\\\\\\\\\\": \\\\\\\\\\\\\\\" \\\\\\\\\\\\\\\", \\\\\\\\\\\\\\\"id\\\\\\\\\\\\\\\": 5}, {\\\\\\\\\\\\\\\"value\\\\\\\\\\\\\\\": \\\\\\\\\\\\\\\"=\\\\\\\\\\\\\\\", \\\\\\\\\\\\\\\"id\\\\\\\\\\\\\\\": 4}, {\\\\\\\\\\\\\\\"value\\\\\\\\\\\\\\\": \\\\\\\\\\\\\\\"\\\\\\\\\\\\\\\\u2014\\\\\\\\\\\\\\\", \\\\\\\\\\\\\\\"id\\\\\\\\\\\\\\\": 7}], \\\\\\\\\\\\\\\"allowCustom\\\\\\\\\\\\\\\": true, \\\\\\\\\\\\\\\"customEnumValue\\\\\\\\\\\\\\\": 6}}, \\\\\\\\\\\\\\\"multiValueDetails\\\\\\\\\\\\\\\": null, \\\\\\\\\\\\\\\"isRequired\\\\\\\\\\\\\\\": true, \\\\\\\\\\\\\\\"origin\\\\\\\\\\\\\\\": 1, \\\\\\\\\\\\\\\"defaultValue\\\\\\\\\\\\\\\": \\\\\\\\\\\\\\\",\\\\\\\\\\\\\\\", \\\\\\\\\\\\\\\"initializeFromProperty\\\\\\\\\\\\\\\": null, \\\\\\\\\\\\\\\"telemetryStrategy\\\\\\\\\\\\\\\": 0, \\\\\\\\\\\\\\\"condition\\\\\\\\\\\\\\\": null, \\\\\\\\\\\\\\\"documentation\\\\\\\\\\\\\\\": null, \\\\\\\\\\\\\\\"serializeWhenDefault\\\\\\\\\\\\\\\": true}, {\\\\\\\\\\\\\\\"name\\\\\\\\\\\\\\\": \\\\\\\\\\\\\\\"commentLineCharacter\\\\\\\\\\\\\\\", \\\\\\\\\\\\\\\"type\\\\\\\\\\\\\\\": 0, \\\\\\\\\\\\\\\"multipleValues\\\\\\\\\\\\\\\": false, \\\\\\\\\\\\\\\"domain\\\\\\\\\\\\\\\": null, \\\\\\\\\\\\\\\"multiValueDetails\\\\\\\\\\\\\\\": null, \\\\\\\\\\\\\\\"isRequired\\\\\\\\\\\\\\\": false, \\\\\\\\\\\\\\\"origin\\\\\\\\\\\\\\\": 1, \\\\\\\\\\\\\\\"defaultValue\\\\\\\\\\\\\\\": null, \\\\\\\\\\\\\\\"initializeFromProperty\\\\\\\\\\\\\\\": null, \\\\\\\\\\\\\\\"telemetryStrategy\\\\\\\\\\\\\\\": 0, \\\\\\\\\\\\\\\"condition\\\\\\\\\\\\\\\": null, \\\\\\\\\\\\\\\"documentation\\\\\\\\\\\\\\\": null, \\\\\\\\\\\\\\\"serializeWhenDefault\\\\\\\\\\\\\\\": true}, {\\\\\\\\\\\\\\\"name\\\\\\\\\\\\\\\": \\\\\\\\\\\\\\\"fileEncoding\\\\\\\\\\\\\\\", \\\\\\\\\\\\\\\"type\\\\\\\\\\\\\\\": 6, \\\\\\\\\\\\\\\"multipleValues\\\\\\\\\\\\\\\": false, \\\\\\\\\\\\\\\"domain\\\\\\\\\\\\\\\": {\\\\\\\\\\\\\\\"type\\\\\\\\\\\\\\\": 1, \\\\\\\\\\\\\\\"details\\\\\\\\\\\\\\\": {\\\\\\\\\\\\\\\"enumName\\\\\\\\\\\\\\\": \\\\\\\\\\\\\\\"FileEncoding\\\\\\\\\\\\\\\", \\\\\\\\\\\\\\\"enumType\\\\\\\\\\\\\\\": \\\\\\\\\\\\\\\"Microsoft.DPrep.Engine.FileEncoding, Microsoft.DPrep.EngineAPI, Version=0.1.2010.8053, Culture=neutral, PublicKeyToken=null\\\\\\\\\\\\\\\", \\\\\\\\\\\\\\\"enumValues\\\\\\\\\\\\\\\": [0, 1, 2, 3, 4, 5, 6, 7]}}, \\\\\\\\\\\\\\\"multiValueDetails\\\\\\\\\\\\\\\": null, \\\\\\\\\\\\\\\"isRequired\\\\\\\\\\\\\\\": true, \\\\\\\\\\\\\\\"origin\\\\\\\\\\\\\\\": 1, \\\\\\\\\\\\\\\"defaultValue\\\\\\\\\\\\\\\": 0, \\\\\\\\\\\\\\\"initializeFromProperty\\\\\\\\\\\\\\\": null, \\\\\\\\\\\\\\\"telemetryStrategy\\\\\\\\\\\\\\\": 0, \\\\\\\\\\\\\\\"condition\\\\\\\\\\\\\\\": null, \\\\\\\\\\\\\\\"documentation\\\\\\\\\\\\\\\": null, \\\\\\\\\\\\\\\"serializeWhenDefault\\\\\\\\\\\\\\\": true}, {\\\\\\\\\\\\\\\"name\\\\\\\\\\\\\\\": \\\\\\\\\\\\\\\"skipRowsMode\\\\\\\\\\\\\\\", \\\\\\\\\\\\\\\"type\\\\\\\\\\\\\\\": 6, \\\\\\\\\\\\\\\"multipleValues\\\\\\\\\\\\\\\": false, \\\\\\\\\\\\\\\"domain\\\\\\\\\\\\\\\": {\\\\\\\\\\\\\\\"type\\\\\\\\\\\\\\\": 1, \\\\\\\\\\\\\\\"details\\\\\\\\\\\\\\\": {\\\\\\\\\\\\\\\"enumName\\\\\\\\\\\\\\\": \\\\\\\\\\\\\\\"SkipMode\\\\\\\\\\\\\\\", \\\\\\\\\\\\\\\"enumType\\\\\\\\\\\\\\\": \\\\\\\\\\\\\\\"Microsoft.DPrep.Engine.SkipMode, Microsoft.DPrep.EngineAPI, Version=0.1.2010.8053, Culture=neutral, PublicKeyToken=null\\\\\\\\\\\\\\\", \\\\\\\\\\\\\\\"enumValues\\\\\\\\\\\\\\\": [0, 1, 1, 2, 2]}}, \\\\\\\\\\\\\\\"multiValueDetails\\\\\\\\\\\\\\\": null, \\\\\\\\\\\\\\\"isRequired\\\\\\\\\\\\\\\": true, \\\\\\\\\\\\\\\"origin\\\\\\\\\\\\\\\": 1, \\\\\\\\\\\\\\\"defaultValue\\\\\\\\\\\\\\\": 0, \\\\\\\\\\\\\\\"initializeFromProperty\\\\\\\\\\\\\\\": null, \\\\\\\\\\\\\\\"telemetryStrategy\\\\\\\\\\\\\\\": 0, \\\\\\\\\\\\\\\"condition\\\\\\\\\\\\\\\": null, \\\\\\\\\\\\\\\"documentation\\\\\\\\\\\\\\\": null, \\\\\\\\\\\\\\\"serializeWhenDefault\\\\\\\\\\\\\\\": true}, {\\\\\\\\\\\\\\\"name\\\\\\\\\\\\\\\": \\\\\\\\\\\\\\\"skipRows\\\\\\\\\\\\\\\", \\\\\\\\\\\\\\\"type\\\\\\\\\\\\\\\": 2, \\\\\\\\\\\\\\\"multipleValues\\\\\\\\\\\\\\\": false, \\\\\\\\\\\\\\\"domain\\\\\\\\\\\\\\\": {\\\\\\\\\\\\\\\"type\\\\\\\\\\\\\\\": 4, \\\\\\\\\\\\\\\"details\\\\\\\\\\\\\\\": {\\\\\\\\\\\\\\\"min\\\\\\\\\\\\\\\": 0.0, \\\\\\\\\\\\\\\"max\\\\\\\\\\\\\\\": 1.7976931348623157e+308}}, \\\\\\\\\\\\\\\"multiValueDetails\\\\\\\\\\\\\\\": null, \\\\\\\\\\\\\\\"isRequired\\\\\\\\\\\\\\\": false, \\\\\\\\\\\\\\\"origin\\\\\\\\\\\\\\\": 1, \\\\\\\\\\\\\\\"defaultValue\\\\\\\\\\\\\\\": null, \\\\\\\\\\\\\\\"initializeFromProperty\\\\\\\\\\\\\\\": null, \\\\\\\\\\\\\\\"telemetryStrategy\\\\\\\\\\\\\\\": 0, \\\\\\\\\\\\\\\"condition\\\\\\\\\\\\\\\": {\\\\\\\\\\\\\\\"condition\\\\\\\\\\\\\\\": {\\\\\\\\\\\\\\\"property\\\\\\\\\\\\\\\": {\\\\\\\\\\\\\\\"propertyPath\\\\\\\\\\\\\\\": [\\\\\\\\\\\\\\\"skipRowsMode\\\\\\\\\\\\\\\"]}, \\\\\\\\\\\\\\\"comparison\\\\\\\\\\\\\\\": 1, \\\\\\\\\\\\\\\"value\\\\\\\\\\\\\\\": 0}, \\\\\\\\\\\\\\\"aggregate\\\\\\\\\\\\\\\": null}, \\\\\\\\\\\\\\\"documentation\\\\\\\\\\\\\\\": null, \\\\\\\\\\\\\\\"serializeWhenDefault\\\\\\\\\\\\\\\": true}, {\\\\\\\\\\\\\\\"name\\\\\\\\\\\\\\\": \\\\\\\\\\\\\\\"handleQuotedLineBreaks\\\\\\\\\\\\\\\", \\\\\\\\\\\\\\\"type\\\\\\\\\\\\\\\": 4, \\\\\\\\\\\\\\\"multipleValues\\\\\\\\\\\\\\\": false, \\\\\\\\\\\\\\\"domain\\\\\\\\\\\\\\\": null, \\\\\\\\\\\\\\\"multiValueDetails\\\\\\\\\\\\\\\": null, \\\\\\\\\\\\\\\"isRequired\\\\\\\\\\\\\\\": true, \\\\\\\\\\\\\\\"origin\\\\\\\\\\\\\\\": 1, \\\\\\\\\\\\\\\"defaultValue\\\\\\\\\\\\\\\": false, \\\\\\\\\\\\\\\"initializeFromProperty\\\\\\\\\\\\\\\": null, \\\\\\\\\\\\\\\"telemetryStrategy\\\\\\\\\\\\\\\": 0, \\\\\\\\\\\\\\\"condition\\\\\\\\\\\\\\\": null, \\\\\\\\\\\\\\\"documentation\\\\\\\\\\\\\\\": null, \\\\\\\\\\\\\\\"serializeWhenDefault\\\\\\\\\\\\\\\": true}, {\\\\\\\\\\\\\\\"name\\\\\\\\\\\\\\\": \\\\\\\\\\\\\\\"partitionSize\\\\\\\\\\\\\\\", \\\\\\\\\\\\\\\"type\\\\\\\\\\\\\\\": 2, \\\\\\\\\\\\\\\"multipleValues\\\\\\\\\\\\\\\": false, \\\\\\\\\\\\\\\"domain\\\\\\\\\\\\\\\": null, \\\\\\\\\\\\\\\"multiValueDetails\\\\\\\\\\\\\\\": null, \\\\\\\\\\\\\\\"isRequired\\\\\\\\\\\\\\\": false, \\\\\\\\\\\\\\\"origin\\\\\\\\\\\\\\\": 1, \\\\\\\\\\\\\\\"defaultValue\\\\\\\\\\\\\\\": null, \\\\\\\\\\\\\\\"initializeFromProperty\\\\\\\\\\\\\\\": null, \\\\\\\\\\\\\\\"telemetryStrategy\\\\\\\\\\\\\\\": 0, \\\\\\\\\\\\\\\"condition\\\\\\\\\\\\\\\": null, \\\\\\\\\\\\\\\"documentation\\\\\\\\\\\\\\\": null, \\\\\\\\\\\\\\\"serializeWhenDefault\\\\\\\\\\\\\\\": true}, {\\\\\\\\\\\\\\\"name\\\\\\\\\\\\\\\": \\\\\\\\\\\\\\\"emptyAsString\\\\\\\\\\\\\\\", \\\\\\\\\\\\\\\"type\\\\\\\\\\\\\\\": 4, \\\\\\\\\\\\\\\"multipleValues\\\\\\\\\\\\\\\": false, \\\\\\\\\\\\\\\"domain\\\\\\\\\\\\\\\": null, \\\\\\\\\\\\\\\"multiValueDetails\\\\\\\\\\\\\\\": null, \\\\\\\\\\\\\\\"isRequired\\\\\\\\\\\\\\\": false, \\\\\\\\\\\\\\\"origin\\\\\\\\\\\\\\\": 1, \\\\\\\\\\\\\\\"defaultValue\\\\\\\\\\\\\\\": false, \\\\\\\\\\\\\\\"initializeFromProperty\\\\\\\\\\\\\\\": null, \\\\\\\\\\\\\\\"telemetryStrategy\\\\\\\\\\\\\\\": 0, \\\\\\\\\\\\\\\"condition\\\\\\\\\\\\\\\": null, \\\\\\\\\\\\\\\"documentation\\\\\\\\\\\\\\\": null, \\\\\\\\\\\\\\\"serializeWhenDefault\\\\\\\\\\\\\\\": false}], \\\\\\\\\\\\\\\"arguments\\\\\\\\\\\\\\\": {\\\\\\\\\\\\\\\"columnHeadersMode\\\\\\\\\\\\\\\": 1, \\\\\\\\\\\\\\\"fileEncoding\\\\\\\\\\\\\\\": 0, \\\\\\\\\\\\\\\"handleQuotedLineBreaks\\\\\\\\\\\\\\\": false, \\\\\\\\\\\\\\\"preview\\\\\\\\\\\\\\\": false, \\\\\\\\\\\\\\\"separator\\\\\\\\\\\\\\\": \\\\\\\\\\\\\\\",\\\\\\\\\\\\\\\", \\\\\\\\\\\\\\\"skipRows\\\\\\\\\\\\\\\": 0, \\\\\\\\\\\\\\\"skipRowsMode\\\\\\\\\\\\\\\": 0}}, {\\\\\\\\\\\\\\\"id\\\\\\\\\\\\\\\": \\\\\\\\\\\\\\\"03935366-605e-4d21-aa00-4eeba543942f\\\\\\\\\\\\\\\", \\\\\\\\\\\\\\\"description\\\\\\\\\\\\\\\": {\\\\\\\\\\\\\\\"localDataProperties\\\\\\\\\\\\\\\": [], \\\\\\\\\\\\\\\"blockGroup\\\\\\\\\\\\\\\": 6, \\\\\\\\\\\\\\\"supportedTargets\\\\\\\\\\\\\\\": [2, 3], \\\\\\\\\\\\\\\"supportedFieldTypes\\\\\\\\\\\\\\\": null, \\\\\\\\\\\\\\\"supportedMessages\\\\\\\\\\\\\\\": [], \\\\\\\\\\\\\\\"requiresInitialization\\\\\\\\\\\\\\\": false, \\\\\\\\\\\\\\\"allowDefaultAdd\\\\\\\\\\\\\\\": true, \\\\\\\\\\\\\\\"documentation\\\\\\\\\\\\\\\": \\\\\\\\\\\\\\\"Drops the specified columns.\\\\\\\\\\\\\\\", \\\\\\\\\\\\\\\"type\\\\\\\\\\\\\\\": \\\\\\\\\\\\\\\"Microsoft.DPrep.DropColumnsBlock\\\\\\\\\\\\\\\", \\\\\\\\\\\\\\\"propertyDescriptions\\\\\\\\\\\\\\\": [{\\\\\\\\\\\\\\\"name\\\\\\\\\\\\\\\": \\\\\\\\\\\\\\\"columns\\\\\\\\\\\\\\\", \\\\\\\\\\\\\\\"type\\\\\\\\\\\\\\\": 5, \\\\\\\\\\\\\\\"multipleValues\\\\\\\\\\\\\\\": false, \\\\\\\\\\\\\\\"domain\\\\\\\\\\\\\\\": {\\\\\\\\\\\\\\\"type\\\\\\\\\\\\\\\": 12, \\\\\\\\\\\\\\\"details\\\\\\\\\\\\\\\": {\\\\\\\\\\\\\\\"selectorDomainType\\\\\\\\\\\\\\\": 1, \\\\\\\\\\\\\\\"fieldTypes\\\\\\\\\\\\\\\": []}}, \\\\\\\\\\\\\\\"multiValueDetails\\\\\\\\\\\\\\\": null, \\\\\\\\\\\\\\\"isRequired\\\\\\\\\\\\\\\": true, \\\\\\\\\\\\\\\"origin\\\\\\\\\\\\\\\": 0, \\\\\\\\\\\\\\\"defaultValue\\\\\\\\\\\\\\\": null, \\\\\\\\\\\\\\\"initializeFromProperty\\\\\\\\\\\\\\\": null, \\\\\\\\\\\\\\\"telemetryStrategy\\\\\\\\\\\\\\\": 1, \\\\\\\\\\\\\\\"condition\\\\\\\\\\\\\\\": null, \\\\\\\\\\\\\\\"documentation\\\\\\\\\\\\\\\": \\\\\\\\\\\\\\\"The source columns.\\\\\\\\\\\\\\\", \\\\\\\\\\\\\\\"serializeWhenDefault\\\\\\\\\\\\\\\": true}], \\\\\\\\\\\\\\\"dataEffectDetails\\\\\\\\\\\\\\\": {\\\\\\\\\\\\\\\"columnsRemovedProperties\\\\\\\\\\\\\\\": [{\\\\\\\\\\\\\\\"propertyPath\\\\\\\\\\\\\\\": [\\\\\\\\\\\\\\\"columns\\\\\\\\\\\\\\\"]}], \\\\\\\\\\\\\\\"dataEffect\\\\\\\\\\\\\\\": 4}}, \\\\\\\\\\\\\\\"type\\\\\\\\\\\\\\\": \\\\\\\\\\\\\\\"Microsoft.DPrep.DropColumnsBlock\\\\\\\\\\\\\\\", \\\\\\\\\\\\\\\"dataEffectDetails\\\\\\\\\\\\\\\": {\\\\\\\\\\\\\\\"columnsRemovedProperties\\\\\\\\\\\\\\\": [{\\\\\\\\\\\\\\\"propertyPath\\\\\\\\\\\\\\\": [\\\\\\\\\\\\\\\"columns\\\\\\\\\\\\\\\"]}], \\\\\\\\\\\\\\\"dataEffect\\\\\\\\\\\\\\\": 4}, \\\\\\\\\\\\\\\"propertyDescriptions\\\\\\\\\\\\\\\": [{\\\\\\\\\\\\\\\"name\\\\\\\\\\\\\\\": \\\\\\\\\\\\\\\"columns\\\\\\\\\\\\\\\", \\\\\\\\\\\\\\\"type\\\\\\\\\\\\\\\": 5, \\\\\\\\\\\\\\\"multipleValues\\\\\\\\\\\\\\\": false, \\\\\\\\\\\\\\\"domain\\\\\\\\\\\\\\\": {\\\\\\\\\\\\\\\"type\\\\\\\\\\\\\\\": 12, \\\\\\\\\\\\\\\"details\\\\\\\\\\\\\\\": {\\\\\\\\\\\\\\\"selectorDomainType\\\\\\\\\\\\\\\": 1, \\\\\\\\\\\\\\\"fieldTypes\\\\\\\\\\\\\\\": []}}, \\\\\\\\\\\\\\\"multiValueDetails\\\\\\\\\\\\\\\": null, \\\\\\\\\\\\\\\"isRequired\\\\\\\\\\\\\\\": true, \\\\\\\\\\\\\\\"origin\\\\\\\\\\\\\\\": 0, \\\\\\\\\\\\\\\"defaultValue\\\\\\\\\\\\\\\": null, \\\\\\\\\\\\\\\"initializeFromProperty\\\\\\\\\\\\\\\": null, \\\\\\\\\\\\\\\"telemetryStrategy\\\\\\\\\\\\\\\": 1, \\\\\\\\\\\\\\\"condition\\\\\\\\\\\\\\\": null, \\\\\\\\\\\\\\\"documentation\\\\\\\\\\\\\\\": \\\\\\\\\\\\\\\"The source columns.\\\\\\\\\\\\\\\", \\\\\\\\\\\\\\\"serializeWhenDefault\\\\\\\\\\\\\\\": true}], \\\\\\\\\\\\\\\"arguments\\\\\\\\\\\\\\\": {\\\\\\\\\\\\\\\"columns\\\\\\\\\\\\\\\": {\\\\\\\\\\\\\\\"type\\\\\\\\\\\\\\\": 0, \\\\\\\\\\\\\\\"details\\\\\\\\\\\\\\\": {\\\\\\\\\\\\\\\"selectedColumns\\\\\\\\\\\\\\\": [\\\\\\\\\\\\\\\"Path\\\\\\\\\\\\\\\"]}}}}, {\\\\\\\\\\\\\\\"id\\\\\\\\\\\\\\\": \\\\\\\\\\\\\\\"85527525-5f3d-4fa0-a120-2ce4ab80ed59\\\\\\\\\\\\\\\", \\\\\\\\\\\\\\\"description\\\\\\\\\\\\\\\": {\\\\\\\\\\\\\\\"localDataProperties\\\\\\\\\\\\\\\": [], \\\\\\\\\\\\\\\"blockGroup\\\\\\\\\\\\\\\": 7, \\\\\\\\\\\\\\\"supportedTargets\\\\\\\\\\\\\\\": [5], \\\\\\\\\\\\\\\"supportedFieldTypes\\\\\\\\\\\\\\\": null, \\\\\\\\\\\\\\\"supportedMessages\\\\\\\\\\\\\\\": [], \\\\\\\\\\\\\\\"requiresInitialization\\\\\\\\\\\\\\\": false, \\\\\\\\\\\\\\\"allowDefaultAdd\\\\\\\\\\\\\\\": true, \\\\\\\\\\\\\\\"documentation\\\\\\\\\\\\\\\": null, \\\\\\\\\\\\\\\"type\\\\\\\\\\\\\\\": \\\\\\\\\\\\\\\"Microsoft.DPrep.SetColumnTypesBlock\\\\\\\\\\\\\\\", \\\\\\\\\\\\\\\"propertyDescriptions\\\\\\\\\\\\\\\": [{\\\\\\\\\\\\\\\"name\\\\\\\\\\\\\\\": \\\\\\\\\\\\\\\"columnConversion\\\\\\\\\\\\\\\", \\\\\\\\\\\\\\\"type\\\\\\\\\\\\\\\": 7, \\\\\\\\\\\\\\\"multipleValues\\\\\\\\\\\\\\\": true, \\\\\\\\\\\\\\\"domain\\\\\\\\\\\\\\\": {\\\\\\\\\\\\\\\"type\\\\\\\\\\\\\\\": 0, \\\\\\\\\\\\\\\"details\\\\\\\\\\\\\\\": [{\\\\\\\\\\\\\\\"name\\\\\\\\\\\\\\\": \\\\\\\\\\\\\\\"column\\\\\\\\\\\\\\\", \\\\\\\\\\\\\\\"type\\\\\\\\\\\\\\\": 5, \\\\\\\\\\\\\\\"multipleValues\\\\\\\\\\\\\\\": false, \\\\\\\\\\\\\\\"domain\\\\\\\\\\\\\\\": {\\\\\\\\\\\\\\\"type\\\\\\\\\\\\\\\": 12, \\\\\\\\\\\\\\\"details\\\\\\\\\\\\\\\": {\\\\\\\\\\\\\\\"selectorDomainType\\\\\\\\\\\\\\\": 0, \\\\\\\\\\\\\\\"fieldTypes\\\\\\\\\\\\\\\": []}}, \\\\\\\\\\\\\\\"multiValueDetails\\\\\\\\\\\\\\\": null, \\\\\\\\\\\\\\\"isRequired\\\\\\\\\\\\\\\": true, \\\\\\\\\\\\\\\"origin\\\\\\\\\\\\\\\": 0, \\\\\\\\\\\\\\\"defaultValue\\\\\\\\\\\\\\\": null, \\\\\\\\\\\\\\\"initializeFromProperty\\\\\\\\\\\\\\\": null, \\\\\\\\\\\\\\\"telemetryStrategy\\\\\\\\\\\\\\\": 1, \\\\\\\\\\\\\\\"condition\\\\\\\\\\\\\\\": null, \\\\\\\\\\\\\\\"documentation\\\\\\\\\\\\\\\": \\\\\\\\\\\\\\\"The source column.\\\\\\\\\\\\\\\", \\\\\\\\\\\\\\\"serializeWhenDefault\\\\\\\\\\\\\\\": true}, {\\\\\\\\\\\\\\\"name\\\\\\\\\\\\\\\": \\\\\\\\\\\\\\\"typeProperty\\\\\\\\\\\\\\\", \\\\\\\\\\\\\\\"type\\\\\\\\\\\\\\\": 6, \\\\\\\\\\\\\\\"multipleValues\\\\\\\\\\\\\\\": false, \\\\\\\\\\\\\\\"domain\\\\\\\\\\\\\\\": {\\\\\\\\\\\\\\\"type\\\\\\\\\\\\\\\": 1, \\\\\\\\\\\\\\\"details\\\\\\\\\\\\\\\": {\\\\\\\\\\\\\\\"enumName\\\\\\\\\\\\\\\": \\\\\\\\\\\\\\\"FieldType\\\\\\\\\\\\\\\", \\\\\\\\\\\\\\\"enumType\\\\\\\\\\\\\\\": \\\\\\\\\\\\\\\"Microsoft.DPrep.Engine.FieldType, Microsoft.DPrep.EngineAPI, Version=0.1.2010.8053, Culture=neutral, PublicKeyToken=null\\\\\\\\\\\\\\\", \\\\\\\\\\\\\\\"enumValues\\\\\\\\\\\\\\\": [0, 1, 3, 4, 10]}}, \\\\\\\\\\\\\\\"multiValueDetails\\\\\\\\\\\\\\\": null, \\\\\\\\\\\\\\\"isRequired\\\\\\\\\\\\\\\": true, \\\\\\\\\\\\\\\"origin\\\\\\\\\\\\\\\": 0, \\\\\\\\\\\\\\\"defaultValue\\\\\\\\\\\\\\\": 0, \\\\\\\\\\\\\\\"initializeFromProperty\\\\\\\\\\\\\\\": null, \\\\\\\\\\\\\\\"telemetryStrategy\\\\\\\\\\\\\\\": 0, \\\\\\\\\\\\\\\"condition\\\\\\\\\\\\\\\": null, \\\\\\\\\\\\\\\"documentation\\\\\\\\\\\\\\\": null, \\\\\\\\\\\\\\\"serializeWhenDefault\\\\\\\\\\\\\\\": true}, {\\\\\\\\\\\\\\\"name\\\\\\\\\\\\\\\": \\\\\\\\\\\\\\\"typeArguments\\\\\\\\\\\\\\\", \\\\\\\\\\\\\\\"type\\\\\\\\\\\\\\\": 7, \\\\\\\\\\\\\\\"multipleValues\\\\\\\\\\\\\\\": false, \\\\\\\\\\\\\\\"domain\\\\\\\\\\\\\\\": {\\\\\\\\\\\\\\\"type\\\\\\\\\\\\\\\": 0, \\\\\\\\\\\\\\\"details\\\\\\\\\\\\\\\": [{\\\\\\\\\\\\\\\"name\\\\\\\\\\\\\\\": \\\\\\\\\\\\\\\"dateTimeFormats\\\\\\\\\\\\\\\", \\\\\\\\\\\\\\\"type\\\\\\\\\\\\\\\": 1, \\\\\\\\\\\\\\\"multipleValues\\\\\\\\\\\\\\\": true, \\\\\\\\\\\\\\\"domain\\\\\\\\\\\\\\\": null, \\\\\\\\\\\\\\\"multiValueDetails\\\\\\\\\\\\\\\": {\\\\\\\\\\\\\\\"isOrdered\\\\\\\\\\\\\\\": false}, \\\\\\\\\\\\\\\"isRequired\\\\\\\\\\\\\\\": false, \\\\\\\\\\\\\\\"origin\\\\\\\\\\\\\\\": 1, \\\\\\\\\\\\\\\"defaultValue\\\\\\\\\\\\\\\": null, \\\\\\\\\\\\\\\"initializeFromProperty\\\\\\\\\\\\\\\": null, \\\\\\\\\\\\\\\"telemetryStrategy\\\\\\\\\\\\\\\": 0, \\\\\\\\\\\\\\\"condition\\\\\\\\\\\\\\\": null, \\\\\\\\\\\\\\\"documentation\\\\\\\\\\\\\\\": null, \\\\\\\\\\\\\\\"serializeWhenDefault\\\\\\\\\\\\\\\": true}, {\\\\\\\\\\\\\\\"name\\\\\\\\\\\\\\\": \\\\\\\\\\\\\\\"decimalMark\\\\\\\\\\\\\\\", \\\\\\\\\\\\\\\"type\\\\\\\\\\\\\\\": 6, \\\\\\\\\\\\\\\"multipleValues\\\\\\\\\\\\\\\": false, \\\\\\\\\\\\\\\"domain\\\\\\\\\\\\\\\": {\\\\\\\\\\\\\\\"type\\\\\\\\\\\\\\\": 1, \\\\\\\\\\\\\\\"details\\\\\\\\\\\\\\\": {\\\\\\\\\\\\\\\"enumName\\\\\\\\\\\\\\\": \\\\\\\\\\\\\\\"DecimalMark\\\\\\\\\\\\\\\", \\\\\\\\\\\\\\\"enumType\\\\\\\\\\\\\\\": \\\\\\\\\\\\\\\"Microsoft.DPrep.Engine.PropertiesSystem.SharedSystemProperties+DecimalMark, Microsoft.DPrep.Engine, Version=0.1.2010.8053, Culture=neutral, PublicKeyToken=null\\\\\\\\\\\\\\\", \\\\\\\\\\\\\\\"enumValues\\\\\\\\\\\\\\\": [0, 1]}}, \\\\\\\\\\\\\\\"multiValueDetails\\\\\\\\\\\\\\\": null, \\\\\\\\\\\\\\\"isRequired\\\\\\\\\\\\\\\": false, \\\\\\\\\\\\\\\"origin\\\\\\\\\\\\\\\": 1, \\\\\\\\\\\\\\\"defaultValue\\\\\\\\\\\\\\\": null, \\\\\\\\\\\\\\\"initializeFromProperty\\\\\\\\\\\\\\\": null, \\\\\\\\\\\\\\\"telemetryStrategy\\\\\\\\\\\\\\\": 0, \\\\\\\\\\\\\\\"condition\\\\\\\\\\\\\\\": null, \\\\\\\\\\\\\\\"documentation\\\\\\\\\\\\\\\": \\\\\\\\\\\\\\\"The symbol to use as the decimal mark.\\\\\\\\\\\\\\\", \\\\\\\\\\\\\\\"serializeWhenDefault\\\\\\\\\\\\\\\": false}]}, \\\\\\\\\\\\\\\"multiValueDetails\\\\\\\\\\\\\\\": null, \\\\\\\\\\\\\\\"isRequired\\\\\\\\\\\\\\\": false, \\\\\\\\\\\\\\\"origin\\\\\\\\\\\\\\\": 0, \\\\\\\\\\\\\\\"defaultValue\\\\\\\\\\\\\\\": null, \\\\\\\\\\\\\\\"initializeFromProperty\\\\\\\\\\\\\\\": null, \\\\\\\\\\\\\\\"telemetryStrategy\\\\\\\\\\\\\\\": 0, \\\\\\\\\\\\\\\"condition\\\\\\\\\\\\\\\": null, \\\\\\\\\\\\\\\"documentation\\\\\\\\\\\\\\\": null, \\\\\\\\\\\\\\\"serializeWhenDefault\\\\\\\\\\\\\\\": true}]}, \\\\\\\\\\\\\\\"multiValueDetails\\\\\\\\\\\\\\\": {\\\\\\\\\\\\\\\"isOrdered\\\\\\\\\\\\\\\": false}, \\\\\\\\\\\\\\\"isRequired\\\\\\\\\\\\\\\": false, \\\\\\\\\\\\\\\"origin\\\\\\\\\\\\\\\": 0, \\\\\\\\\\\\\\\"defaultValue\\\\\\\\\\\\\\\": null, \\\\\\\\\\\\\\\"initializeFromProperty\\\\\\\\\\\\\\\": null, \\\\\\\\\\\\\\\"telemetryStrategy\\\\\\\\\\\\\\\": 0, \\\\\\\\\\\\\\\"condition\\\\\\\\\\\\\\\": null, \\\\\\\\\\\\\\\"documentation\\\\\\\\\\\\\\\": null, \\\\\\\\\\\\\\\"serializeWhenDefault\\\\\\\\\\\\\\\": true}], \\\\\\\\\\\\\\\"dataEffectDetails\\\\\\\\\\\\\\\": {\\\\\\\\\\\\\\\"dataEffect\\\\\\\\\\\\\\\": 1}}, \\\\\\\\\\\\\\\"type\\\\\\\\\\\\\\\": \\\\\\\\\\\\\\\"Microsoft.DPrep.SetColumnTypesBlock\\\\\\\\\\\\\\\", \\\\\\\\\\\\\\\"dataEffectDetails\\\\\\\\\\\\\\\": {\\\\\\\\\\\\\\\"dataEffect\\\\\\\\\\\\\\\": 1}, \\\\\\\\\\\\\\\"propertyDescriptions\\\\\\\\\\\\\\\": [{\\\\\\\\\\\\\\\"name\\\\\\\\\\\\\\\": \\\\\\\\\\\\\\\"columnConversion\\\\\\\\\\\\\\\", \\\\\\\\\\\\\\\"type\\\\\\\\\\\\\\\": 7, \\\\\\\\\\\\\\\"multipleValues\\\\\\\\\\\\\\\": true, \\\\\\\\\\\\\\\"domain\\\\\\\\\\\\\\\": {\\\\\\\\\\\\\\\"type\\\\\\\\\\\\\\\": 0, \\\\\\\\\\\\\\\"details\\\\\\\\\\\\\\\": [{\\\\\\\\\\\\\\\"name\\\\\\\\\\\\\\\": \\\\\\\\\\\\\\\"column\\\\\\\\\\\\\\\", \\\\\\\\\\\\\\\"type\\\\\\\\\\\\\\\": 5, \\\\\\\\\\\\\\\"multipleValues\\\\\\\\\\\\\\\": false, \\\\\\\\\\\\\\\"domain\\\\\\\\\\\\\\\": {\\\\\\\\\\\\\\\"type\\\\\\\\\\\\\\\": 12, \\\\\\\\\\\\\\\"details\\\\\\\\\\\\\\\": {\\\\\\\\\\\\\\\"selectorDomainType\\\\\\\\\\\\\\\": 0, \\\\\\\\\\\\\\\"fieldTypes\\\\\\\\\\\\\\\": []}}, \\\\\\\\\\\\\\\"multiValueDetails\\\\\\\\\\\\\\\": null, \\\\\\\\\\\\\\\"isRequired\\\\\\\\\\\\\\\": true, \\\\\\\\\\\\\\\"origin\\\\\\\\\\\\\\\": 0, \\\\\\\\\\\\\\\"defaultValue\\\\\\\\\\\\\\\": null, \\\\\\\\\\\\\\\"initializeFromProperty\\\\\\\\\\\\\\\": null, \\\\\\\\\\\\\\\"telemetryStrategy\\\\\\\\\\\\\\\": 1, \\\\\\\\\\\\\\\"condition\\\\\\\\\\\\\\\": null, \\\\\\\\\\\\\\\"documentation\\\\\\\\\\\\\\\": \\\\\\\\\\\\\\\"The source column.\\\\\\\\\\\\\\\", \\\\\\\\\\\\\\\"serializeWhenDefault\\\\\\\\\\\\\\\": true}, {\\\\\\\\\\\\\\\"name\\\\\\\\\\\\\\\": \\\\\\\\\\\\\\\"typeProperty\\\\\\\\\\\\\\\", \\\\\\\\\\\\\\\"type\\\\\\\\\\\\\\\": 6, \\\\\\\\\\\\\\\"multipleValues\\\\\\\\\\\\\\\": false, \\\\\\\\\\\\\\\"domain\\\\\\\\\\\\\\\": {\\\\\\\\\\\\\\\"type\\\\\\\\\\\\\\\": 1, \\\\\\\\\\\\\\\"details\\\\\\\\\\\\\\\": {\\\\\\\\\\\\\\\"enumName\\\\\\\\\\\\\\\": \\\\\\\\\\\\\\\"FieldType\\\\\\\\\\\\\\\", \\\\\\\\\\\\\\\"enumType\\\\\\\\\\\\\\\": \\\\\\\\\\\\\\\"Microsoft.DPrep.Engine.FieldType, Microsoft.DPrep.EngineAPI, Version=0.1.2010.8053, Culture=neutral, PublicKeyToken=null\\\\\\\\\\\\\\\", \\\\\\\\\\\\\\\"enumValues\\\\\\\\\\\\\\\": [0, 1, 3, 4, 10]}}, \\\\\\\\\\\\\\\"multiValueDetails\\\\\\\\\\\\\\\": null, \\\\\\\\\\\\\\\"isRequired\\\\\\\\\\\\\\\": true, \\\\\\\\\\\\\\\"origin\\\\\\\\\\\\\\\": 0, \\\\\\\\\\\\\\\"defaultValue\\\\\\\\\\\\\\\": 0, \\\\\\\\\\\\\\\"initializeFromProperty\\\\\\\\\\\\\\\": null, \\\\\\\\\\\\\\\"telemetryStrategy\\\\\\\\\\\\\\\": 0, \\\\\\\\\\\\\\\"condition\\\\\\\\\\\\\\\": null, \\\\\\\\\\\\\\\"documentation\\\\\\\\\\\\\\\": null, \\\\\\\\\\\\\\\"serializeWhenDefault\\\\\\\\\\\\\\\": true}, {\\\\\\\\\\\\\\\"name\\\\\\\\\\\\\\\": \\\\\\\\\\\\\\\"typeArguments\\\\\\\\\\\\\\\", \\\\\\\\\\\\\\\"type\\\\\\\\\\\\\\\": 7, \\\\\\\\\\\\\\\"multipleValues\\\\\\\\\\\\\\\": false, \\\\\\\\\\\\\\\"domain\\\\\\\\\\\\\\\": {\\\\\\\\\\\\\\\"type\\\\\\\\\\\\\\\": 0, \\\\\\\\\\\\\\\"details\\\\\\\\\\\\\\\": [{\\\\\\\\\\\\\\\"name\\\\\\\\\\\\\\\": \\\\\\\\\\\\\\\"dateTimeFormats\\\\\\\\\\\\\\\", \\\\\\\\\\\\\\\"type\\\\\\\\\\\\\\\": 1, \\\\\\\\\\\\\\\"multipleValues\\\\\\\\\\\\\\\": true, \\\\\\\\\\\\\\\"domain\\\\\\\\\\\\\\\": null, \\\\\\\\\\\\\\\"multiValueDetails\\\\\\\\\\\\\\\": {\\\\\\\\\\\\\\\"isOrdered\\\\\\\\\\\\\\\": false}, \\\\\\\\\\\\\\\"isRequired\\\\\\\\\\\\\\\": false, \\\\\\\\\\\\\\\"origin\\\\\\\\\\\\\\\": 1, \\\\\\\\\\\\\\\"defaultValue\\\\\\\\\\\\\\\": null, \\\\\\\\\\\\\\\"initializeFromProperty\\\\\\\\\\\\\\\": null, \\\\\\\\\\\\\\\"telemetryStrategy\\\\\\\\\\\\\\\": 0, \\\\\\\\\\\\\\\"condition\\\\\\\\\\\\\\\": null, \\\\\\\\\\\\\\\"documentation\\\\\\\\\\\\\\\": null, \\\\\\\\\\\\\\\"serializeWhenDefault\\\\\\\\\\\\\\\": true}, {\\\\\\\\\\\\\\\"name\\\\\\\\\\\\\\\": \\\\\\\\\\\\\\\"decimalMark\\\\\\\\\\\\\\\", \\\\\\\\\\\\\\\"type\\\\\\\\\\\\\\\": 6, \\\\\\\\\\\\\\\"multipleValues\\\\\\\\\\\\\\\": false, \\\\\\\\\\\\\\\"domain\\\\\\\\\\\\\\\": {\\\\\\\\\\\\\\\"type\\\\\\\\\\\\\\\": 1, \\\\\\\\\\\\\\\"details\\\\\\\\\\\\\\\": {\\\\\\\\\\\\\\\"enumName\\\\\\\\\\\\\\\": \\\\\\\\\\\\\\\"DecimalMark\\\\\\\\\\\\\\\", \\\\\\\\\\\\\\\"enumType\\\\\\\\\\\\\\\": \\\\\\\\\\\\\\\"Microsoft.DPrep.Engine.PropertiesSystem.SharedSystemProperties+DecimalMark, Microsoft.DPrep.Engine, Version=0.1.2010.8053, Culture=neutral, PublicKeyToken=null\\\\\\\\\\\\\\\", \\\\\\\\\\\\\\\"enumValues\\\\\\\\\\\\\\\": [0, 1]}}, \\\\\\\\\\\\\\\"multiValueDetails\\\\\\\\\\\\\\\": null, \\\\\\\\\\\\\\\"isRequired\\\\\\\\\\\\\\\": false, \\\\\\\\\\\\\\\"origin\\\\\\\\\\\\\\\": 1, \\\\\\\\\\\\\\\"defaultValue\\\\\\\\\\\\\\\": null, \\\\\\\\\\\\\\\"initializeFromProperty\\\\\\\\\\\\\\\": null, \\\\\\\\\\\\\\\"telemetryStrategy\\\\\\\\\\\\\\\": 0, \\\\\\\\\\\\\\\"condition\\\\\\\\\\\\\\\": null, \\\\\\\\\\\\\\\"documentation\\\\\\\\\\\\\\\": \\\\\\\\\\\\\\\"The symbol to use as the decimal mark.\\\\\\\\\\\\\\\", \\\\\\\\\\\\\\\"serializeWhenDefault\\\\\\\\\\\\\\\": false}]}, \\\\\\\\\\\\\\\"multiValueDetails\\\\\\\\\\\\\\\": null, \\\\\\\\\\\\\\\"isRequired\\\\\\\\\\\\\\\": false, \\\\\\\\\\\\\\\"origin\\\\\\\\\\\\\\\": 0, \\\\\\\\\\\\\\\"defaultValue\\\\\\\\\\\\\\\": null, \\\\\\\\\\\\\\\"initializeFromProperty\\\\\\\\\\\\\\\": null, \\\\\\\\\\\\\\\"telemetryStrategy\\\\\\\\\\\\\\\": 0, \\\\\\\\\\\\\\\"condition\\\\\\\\\\\\\\\": null, \\\\\\\\\\\\\\\"documentation\\\\\\\\\\\\\\\": null, \\\\\\\\\\\\\\\"serializeWhenDefault\\\\\\\\\\\\\\\": true}]}, \\\\\\\\\\\\\\\"multiValueDetails\\\\\\\\\\\\\\\": {\\\\\\\\\\\\\\\"isOrdered\\\\\\\\\\\\\\\": false}, \\\\\\\\\\\\\\\"isRequired\\\\\\\\\\\\\\\": false, \\\\\\\\\\\\\\\"origin\\\\\\\\\\\\\\\": 0, \\\\\\\\\\\\\\\"defaultValue\\\\\\\\\\\\\\\": null, \\\\\\\\\\\\\\\"initializeFromProperty\\\\\\\\\\\\\\\": null, \\\\\\\\\\\\\\\"telemetryStrategy\\\\\\\\\\\\\\\": 0, \\\\\\\\\\\\\\\"condition\\\\\\\\\\\\\\\": null, \\\\\\\\\\\\\\\"documentation\\\\\\\\\\\\\\\": null, \\\\\\\\\\\\\\\"serializeWhenDefault\\\\\\\\\\\\\\\": true}], \\\\\\\\\\\\\\\"arguments\\\\\\\\\\\\\\\": {\\\\\\\\\\\\\\\"columnConversion\\\\\\\\\\\\\\\": [{\\\\\\\\\\\\\\\"column\\\\\\\\\\\\\\\": {\\\\\\\\\\\\\\\"type\\\\\\\\\\\\\\\": 2, \\\\\\\\\\\\\\\"details\\\\\\\\\\\\\\\": {\\\\\\\\\\\\\\\"selectedColumn\\\\\\\\\\\\\\\": \\\\\\\\\\\\\\\"Path\\\\\\\\\\\\\\\"}}, \\\\\\\\\\\\\\\"typeProperty\\\\\\\\\\\\\\\": 0}, {\\\\\\\\\\\\\\\"column\\\\\\\\\\\\\\\": {\\\\\\\\\\\\\\\"type\\\\\\\\\\\\\\\": 2, \\\\\\\\\\\\\\\"details\\\\\\\\\\\\\\\": {\\\\\\\\\\\\\\\"selectedColumn\\\\\\\\\\\\\\\": \\\\\\\\\\\\\\\"age\\\\\\\\\\\\\\\"}}, \\\\\\\\\\\\\\\"typeProperty\\\\\\\\\\\\\\\": 3}, {\\\\\\\\\\\\\\\"column\\\\\\\\\\\\\\\": {\\\\\\\\\\\\\\\"type\\\\\\\\\\\\\\\": 2, \\\\\\\\\\\\\\\"details\\\\\\\\\\\\\\\": {\\\\\\\\\\\\\\\"selectedColumn\\\\\\\\\\\\\\\": \\\\\\\\\\\\\\\"anaemia\\\\\\\\\\\\\\\"}}, \\\\\\\\\\\\\\\"typeProperty\\\\\\\\\\\\\\\": 2}, {\\\\\\\\\\\\\\\"column\\\\\\\\\\\\\\\": {\\\\\\\\\\\\\\\"type\\\\\\\\\\\\\\\": 2, \\\\\\\\\\\\\\\"details\\\\\\\\\\\\\\\": {\\\\\\\\\\\\\\\"selectedColumn\\\\\\\\\\\\\\\": \\\\\\\\\\\\\\\"creatinine_phosphokinase\\\\\\\\\\\\\\\"}}, \\\\\\\\\\\\\\\"typeProperty\\\\\\\\\\\\\\\": 2}, {\\\\\\\\\\\\\\\"column\\\\\\\\\\\\\\\": {\\\\\\\\\\\\\\\"type\\\\\\\\\\\\\\\": 2, \\\\\\\\\\\\\\\"details\\\\\\\\\\\\\\\": {\\\\\\\\\\\\\\\"selectedColumn\\\\\\\\\\\\\\\": \\\\\\\\\\\\\\\"diabetes\\\\\\\\\\\\\\\"}}, \\\\\\\\\\\\\\\"typeProperty\\\\\\\\\\\\\\\": 2}, {\\\\\\\\\\\\\\\"column\\\\\\\\\\\\\\\": {\\\\\\\\\\\\\\\"type\\\\\\\\\\\\\\\": 2, \\\\\\\\\\\\\\\"details\\\\\\\\\\\\\\\": {\\\\\\\\\\\\\\\"selectedColumn\\\\\\\\\\\\\\\": \\\\\\\\\\\\\\\"ejection_fraction\\\\\\\\\\\\\\\"}}, \\\\\\\\\\\\\\\"typeProperty\\\\\\\\\\\\\\\": 2}, {\\\\\\\\\\\\\\\"column\\\\\\\\\\\\\\\": {\\\\\\\\\\\\\\\"type\\\\\\\\\\\\\\\": 2, \\\\\\\\\\\\\\\"details\\\\\\\\\\\\\\\": {\\\\\\\\\\\\\\\"selectedColumn\\\\\\\\\\\\\\\": \\\\\\\\\\\\\\\"high_blood_pressure\\\\\\\\\\\\\\\"}}, \\\\\\\\\\\\\\\"typeProperty\\\\\\\\\\\\\\\": 2}, {\\\\\\\\\\\\\\\"column\\\\\\\\\\\\\\\": {\\\\\\\\\\\\\\\"type\\\\\\\\\\\\\\\": 2, \\\\\\\\\\\\\\\"details\\\\\\\\\\\\\\\": {\\\\\\\\\\\\\\\"selectedColumn\\\\\\\\\\\\\\\": \\\\\\\\\\\\\\\"platelets\\\\\\\\\\\\\\\"}}, \\\\\\\\\\\\\\\"typeProperty\\\\\\\\\\\\\\\": 3}, {\\\\\\\\\\\\\\\"column\\\\\\\\\\\\\\\": {\\\\\\\\\\\\\\\"type\\\\\\\\\\\\\\\": 2, \\\\\\\\\\\\\\\"details\\\\\\\\\\\\\\\": {\\\\\\\\\\\\\\\"selectedColumn\\\\\\\\\\\\\\\": \\\\\\\\\\\\\\\"serum_creatinine\\\\\\\\\\\\\\\"}}, \\\\\\\\\\\\\\\"typeProperty\\\\\\\\\\\\\\\": 3}, {\\\\\\\\\\\\\\\"column\\\\\\\\\\\\\\\": {\\\\\\\\\\\\\\\"type\\\\\\\\\\\\\\\": 2, \\\\\\\\\\\\\\\"details\\\\\\\\\\\\\\\": {\\\\\\\\\\\\\\\"selectedColumn\\\\\\\\\\\\\\\": \\\\\\\\\\\\\\\"serum_sodium\\\\\\\\\\\\\\\"}}, \\\\\\\\\\\\\\\"typeProperty\\\\\\\\\\\\\\\": 2}, {\\\\\\\\\\\\\\\"column\\\\\\\\\\\\\\\": {\\\\\\\\\\\\\\\"type\\\\\\\\\\\\\\\": 2, \\\\\\\\\\\\\\\"details\\\\\\\\\\\\\\\": {\\\\\\\\\\\\\\\"selectedColumn\\\\\\\\\\\\\\\": \\\\\\\\\\\\\\\"sex\\\\\\\\\\\\\\\"}}, \\\\\\\\\\\\\\\"typeProperty\\\\\\\\\\\\\\\": 2}, {\\\\\\\\\\\\\\\"column\\\\\\\\\\\\\\\": {\\\\\\\\\\\\\\\"type\\\\\\\\\\\\\\\": 2, \\\\\\\\\\\\\\\"details\\\\\\\\\\\\\\\": {\\\\\\\\\\\\\\\"selectedColumn\\\\\\\\\\\\\\\": \\\\\\\\\\\\\\\"smoking\\\\\\\\\\\\\\\"}}, \\\\\\\\\\\\\\\"typeProperty\\\\\\\\\\\\\\\": 2}, {\\\\\\\\\\\\\\\"column\\\\\\\\\\\\\\\": {\\\\\\\\\\\\\\\"type\\\\\\\\\\\\\\\": 2, \\\\\\\\\\\\\\\"details\\\\\\\\\\\\\\\": {\\\\\\\\\\\\\\\"selectedColumn\\\\\\\\\\\\\\\": \\\\\\\\\\\\\\\"time\\\\\\\\\\\\\\\"}}, \\\\\\\\\\\\\\\"typeProperty\\\\\\\\\\\\\\\": 2}, {\\\\\\\\\\\\\\\"column\\\\\\\\\\\\\\\": {\\\\\\\\\\\\\\\"type\\\\\\\\\\\\\\\": 2, \\\\\\\\\\\\\\\"details\\\\\\\\\\\\\\\": {\\\\\\\\\\\\\\\"selectedColumn\\\\\\\\\\\\\\\": \\\\\\\\\\\\\\\"DEATH_EVENT\\\\\\\\\\\\\\\"}}, \\\\\\\\\\\\\\\"typeProperty\\\\\\\\\\\\\\\": 2}]}}, {\\\\\\\\\\\\\\\"id\\\\\\\\\\\\\\\": \\\\\\\\\\\\\\\"f6660440-5ecd-409c-a49f-032d047a105b\\\\\\\\\\\\\\\", \\\\\\\\\\\\\\\"description\\\\\\\\\\\\\\\": {\\\\\\\\\\\\\\\"type\\\\\\\\\\\\\\\": \\\\\\\\\\\\\\\"Microsoft.DPrep.RandomSplitStepDescription\\\\\\\\\\\\\\\", \\\\\\\\\\\\\\\"propertyDescriptions\\\\\\\\\\\\\\\": [{\\\\\\\\\\\\\\\"name\\\\\\\\\\\\\\\": \\\\\\\\\\\\\\\"probability\\\\\\\\\\\\\\\", \\\\\\\\\\\\\\\"type\\\\\\\\\\\\\\\": 3, \\\\\\\\\\\\\\\"multipleValues\\\\\\\\\\\\\\\": false, \\\\\\\\\\\\\\\"domain\\\\\\\\\\\\\\\": {\\\\\\\\\\\\\\\"type\\\\\\\\\\\\\\\": 4, \\\\\\\\\\\\\\\"details\\\\\\\\\\\\\\\": {\\\\\\\\\\\\\\\"min\\\\\\\\\\\\\\\": 0.0, \\\\\\\\\\\\\\\"max\\\\\\\\\\\\\\\": 1.0}}, \\\\\\\\\\\\\\\"multiValueDetails\\\\\\\\\\\\\\\": null, \\\\\\\\\\\\\\\"isRequired\\\\\\\\\\\\\\\": true, \\\\\\\\\\\\\\\"origin\\\\\\\\\\\\\\\": 1, \\\\\\\\\\\\\\\"defaultValue\\\\\\\\\\\\\\\": 0.1, \\\\\\\\\\\\\\\"initializeFromProperty\\\\\\\\\\\\\\\": null, \\\\\\\\\\\\\\\"telemetryStrategy\\\\\\\\\\\\\\\": 0, \\\\\\\\\\\\\\\"condition\\\\\\\\\\\\\\\": null, \\\\\\\\\\\\\\\"documentation\\\\\\\\\\\\\\\": \\\\\\\\\\\\\\\"The probability of a record being included in the sample.\\\\\\\\\\\\\\\", \\\\\\\\\\\\\\\"serializeWhenDefault\\\\\\\\\\\\\\\": true}, {\\\\\\\\\\\\\\\"name\\\\\\\\\\\\\\\": \\\\\\\\\\\\\\\"probabilityLowerBound\\\\\\\\\\\\\\\", \\\\\\\\\\\\\\\"type\\\\\\\\\\\\\\\": 3, \\\\\\\\\\\\\\\"multipleValues\\\\\\\\\\\\\\\": false, \\\\\\\\\\\\\\\"domain\\\\\\\\\\\\\\\": null, \\\\\\\\\\\\\\\"multiValueDetails\\\\\\\\\\\\\\\": null, \\\\\\\\\\\\\\\"isRequired\\\\\\\\\\\\\\\": false, \\\\\\\\\\\\\\\"origin\\\\\\\\\\\\\\\": 1, \\\\\\\\\\\\\\\"defaultValue\\\\\\\\\\\\\\\": 0.0, \\\\\\\\\\\\\\\"initializeFromProperty\\\\\\\\\\\\\\\": null, \\\\\\\\\\\\\\\"telemetryStrategy\\\\\\\\\\\\\\\": 0, \\\\\\\\\\\\\\\"condition\\\\\\\\\\\\\\\": null, \\\\\\\\\\\\\\\"documentation\\\\\\\\\\\\\\\": \\\\\\\\\\\\\\\"A lower bound for the accepted range of probabilities when taking a random sample. If probability is set to 0.6, specifying a lower bound of 0.2 would result in only 40% of the records being taken by the sample instead of 60%. This can be useful in order to create multiple exclusive random splits from a single Dataflow.\\\\\\\\\\\\\\\", \\\\\\\\\\\\\\\"serializeWhenDefault\\\\\\\\\\\\\\\": true}, {\\\\\\\\\\\\\\\"name\\\\\\\\\\\\\\\": \\\\\\\\\\\\\\\"seed\\\\\\\\\\\\\\\", \\\\\\\\\\\\\\\"type\\\\\\\\\\\\\\\": 2, \\\\\\\\\\\\\\\"multipleValues\\\\\\\\\\\\\\\": false, \\\\\\\\\\\\\\\"domain\\\\\\\\\\\\\\\": {\\\\\\\\\\\\\\\"type\\\\\\\\\\\\\\\": 4, \\\\\\\\\\\\\\\"details\\\\\\\\\\\\\\\": {\\\\\\\\\\\\\\\"min\\\\\\\\\\\\\\\": 0.0, \\\\\\\\\\\\\\\"max\\\\\\\\\\\\\\\": 4294967295.0}}, \\\\\\\\\\\\\\\"multiValueDetails\\\\\\\\\\\\\\\": null, \\\\\\\\\\\\\\\"isRequired\\\\\\\\\\\\\\\": true, \\\\\\\\\\\\\\\"origin\\\\\\\\\\\\\\\": 1, \\\\\\\\\\\\\\\"defaultValue\\\\\\\\\\\\\\\": null, \\\\\\\\\\\\\\\"initializeFromProperty\\\\\\\\\\\\\\\": null, \\\\\\\\\\\\\\\"telemetryStrategy\\\\\\\\\\\\\\\": 0, \\\\\\\\\\\\\\\"condition\\\\\\\\\\\\\\\": null, \\\\\\\\\\\\\\\"documentation\\\\\\\\\\\\\\\": \\\\\\\\\\\\\\\"The seed to use for the random generator.\\\\\\\\\\\\\\\", \\\\\\\\\\\\\\\"serializeWhenDefault\\\\\\\\\\\\\\\": true}, {\\\\\\\\\\\\\\\"name\\\\\\\\\\\\\\\": \\\\\\\\\\\\\\\"invert\\\\\\\\\\\\\\\", \\\\\\\\\\\\\\\"type\\\\\\\\\\\\\\\": 4, \\\\\\\\\\\\\\\"multipleValues\\\\\\\\\\\\\\\": false, \\\\\\\\\\\\\\\"domain\\\\\\\\\\\\\\\": null, \\\\\\\\\\\\\\\"multiValueDetails\\\\\\\\\\\\\\\": null, \\\\\\\\\\\\\\\"isRequired\\\\\\\\\\\\\\\": false, \\\\\\\\\\\\\\\"origin\\\\\\\\\\\\\\\": 1, \\\\\\\\\\\\\\\"defaultValue\\\\\\\\\\\\\\\": false, \\\\\\\\\\\\\\\"initializeFromProperty\\\\\\\\\\\\\\\": null, \\\\\\\\\\\\\\\"telemetryStrategy\\\\\\\\\\\\\\\": 0, \\\\\\\\\\\\\\\"condition\\\\\\\\\\\\\\\": null, \\\\\\\\\\\\\\\"documentation\\\\\\\\\\\\\\\": null, \\\\\\\\\\\\\\\"serializeWhenDefault\\\\\\\\\\\\\\\": true}], \\\\\\\\\\\\\\\"dataEffectDetails\\\\\\\\\\\\\\\": {\\\\\\\\\\\\\\\"dataEffect\\\\\\\\\\\\\\\": 6}}, \\\\\\\\\\\\\\\"type\\\\\\\\\\\\\\\": \\\\\\\\\\\\\\\"Microsoft.DPrep.RandomSplitStepDescription\\\\\\\\\\\\\\\", \\\\\\\\\\\\\\\"dataEffectDetails\\\\\\\\\\\\\\\": {\\\\\\\\\\\\\\\"dataEffect\\\\\\\\\\\\\\\": 6}, \\\\\\\\\\\\\\\"propertyDescriptions\\\\\\\\\\\\\\\": [{\\\\\\\\\\\\\\\"name\\\\\\\\\\\\\\\": \\\\\\\\\\\\\\\"probability\\\\\\\\\\\\\\\", \\\\\\\\\\\\\\\"type\\\\\\\\\\\\\\\": 3, \\\\\\\\\\\\\\\"multipleValues\\\\\\\\\\\\\\\": false, \\\\\\\\\\\\\\\"domain\\\\\\\\\\\\\\\": {\\\\\\\\\\\\\\\"type\\\\\\\\\\\\\\\": 4, \\\\\\\\\\\\\\\"details\\\\\\\\\\\\\\\": {\\\\\\\\\\\\\\\"min\\\\\\\\\\\\\\\": 0.0, \\\\\\\\\\\\\\\"max\\\\\\\\\\\\\\\": 1.0}}, \\\\\\\\\\\\\\\"multiValueDetails\\\\\\\\\\\\\\\": null, \\\\\\\\\\\\\\\"isRequired\\\\\\\\\\\\\\\": true, \\\\\\\\\\\\\\\"origin\\\\\\\\\\\\\\\": 1, \\\\\\\\\\\\\\\"defaultValue\\\\\\\\\\\\\\\": 0.1, \\\\\\\\\\\\\\\"initializeFromProperty\\\\\\\\\\\\\\\": null, \\\\\\\\\\\\\\\"telemetryStrategy\\\\\\\\\\\\\\\": 0, \\\\\\\\\\\\\\\"condition\\\\\\\\\\\\\\\": null, \\\\\\\\\\\\\\\"documentation\\\\\\\\\\\\\\\": \\\\\\\\\\\\\\\"The probability of a record being included in the sample.\\\\\\\\\\\\\\\", \\\\\\\\\\\\\\\"serializeWhenDefault\\\\\\\\\\\\\\\": true}, {\\\\\\\\\\\\\\\"name\\\\\\\\\\\\\\\": \\\\\\\\\\\\\\\"probabilityLowerBound\\\\\\\\\\\\\\\", \\\\\\\\\\\\\\\"type\\\\\\\\\\\\\\\": 3, \\\\\\\\\\\\\\\"multipleValues\\\\\\\\\\\\\\\": false, \\\\\\\\\\\\\\\"domain\\\\\\\\\\\\\\\": null, \\\\\\\\\\\\\\\"multiValueDetails\\\\\\\\\\\\\\\": null, \\\\\\\\\\\\\\\"isRequired\\\\\\\\\\\\\\\": false, \\\\\\\\\\\\\\\"origin\\\\\\\\\\\\\\\": 1, \\\\\\\\\\\\\\\"defaultValue\\\\\\\\\\\\\\\": 0.0, \\\\\\\\\\\\\\\"initializeFromProperty\\\\\\\\\\\\\\\": null, \\\\\\\\\\\\\\\"telemetryStrategy\\\\\\\\\\\\\\\": 0, \\\\\\\\\\\\\\\"condition\\\\\\\\\\\\\\\": null, \\\\\\\\\\\\\\\"documentation\\\\\\\\\\\\\\\": \\\\\\\\\\\\\\\"A lower bound for the accepted range of probabilities when taking a random sample. If probability is set to 0.6, specifying a lower bound of 0.2 would result in only 40% of the records being taken by the sample instead of 60%. This can be useful in order to create multiple exclusive random splits from a single Dataflow.\\\\\\\\\\\\\\\", \\\\\\\\\\\\\\\"serializeWhenDefault\\\\\\\\\\\\\\\": true}, {\\\\\\\\\\\\\\\"name\\\\\\\\\\\\\\\": \\\\\\\\\\\\\\\"seed\\\\\\\\\\\\\\\", \\\\\\\\\\\\\\\"type\\\\\\\\\\\\\\\": 2, \\\\\\\\\\\\\\\"multipleValues\\\\\\\\\\\\\\\": false, \\\\\\\\\\\\\\\"domain\\\\\\\\\\\\\\\": {\\\\\\\\\\\\\\\"type\\\\\\\\\\\\\\\": 4, \\\\\\\\\\\\\\\"details\\\\\\\\\\\\\\\": {\\\\\\\\\\\\\\\"min\\\\\\\\\\\\\\\": 0.0, \\\\\\\\\\\\\\\"max\\\\\\\\\\\\\\\": 4294967295.0}}, \\\\\\\\\\\\\\\"multiValueDetails\\\\\\\\\\\\\\\": null, \\\\\\\\\\\\\\\"isRequired\\\\\\\\\\\\\\\": true, \\\\\\\\\\\\\\\"origin\\\\\\\\\\\\\\\": 1, \\\\\\\\\\\\\\\"defaultValue\\\\\\\\\\\\\\\": null, \\\\\\\\\\\\\\\"initializeFromProperty\\\\\\\\\\\\\\\": null, \\\\\\\\\\\\\\\"telemetryStrategy\\\\\\\\\\\\\\\": 0, \\\\\\\\\\\\\\\"condition\\\\\\\\\\\\\\\": null, \\\\\\\\\\\\\\\"documentation\\\\\\\\\\\\\\\": \\\\\\\\\\\\\\\"The seed to use for the random generator.\\\\\\\\\\\\\\\", \\\\\\\\\\\\\\\"serializeWhenDefault\\\\\\\\\\\\\\\": true}, {\\\\\\\\\\\\\\\"name\\\\\\\\\\\\\\\": \\\\\\\\\\\\\\\"invert\\\\\\\\\\\\\\\", \\\\\\\\\\\\\\\"type\\\\\\\\\\\\\\\": 4, \\\\\\\\\\\\\\\"multipleValues\\\\\\\\\\\\\\\": false, \\\\\\\\\\\\\\\"domain\\\\\\\\\\\\\\\": null, \\\\\\\\\\\\\\\"multiValueDetails\\\\\\\\\\\\\\\": null, \\\\\\\\\\\\\\\"isRequired\\\\\\\\\\\\\\\": false, \\\\\\\\\\\\\\\"origin\\\\\\\\\\\\\\\": 1, \\\\\\\\\\\\\\\"defaultValue\\\\\\\\\\\\\\\": false, \\\\\\\\\\\\\\\"initializeFromProperty\\\\\\\\\\\\\\\": null, \\\\\\\\\\\\\\\"telemetryStrategy\\\\\\\\\\\\\\\": 0, \\\\\\\\\\\\\\\"condition\\\\\\\\\\\\\\\": null, \\\\\\\\\\\\\\\"documentation\\\\\\\\\\\\\\\": null, \\\\\\\\\\\\\\\"serializeWhenDefault\\\\\\\\\\\\\\\": true}], \\\\\\\\\\\\\\\"arguments\\\\\\\\\\\\\\\": {\\\\\\\\\\\\\\\"invert\\\\\\\\\\\\\\\": false, \\\\\\\\\\\\\\\"probability\\\\\\\\\\\\\\\": 0.8, \\\\\\\\\\\\\\\"probabilityLowerBound\\\\\\\\\\\\\\\": 0.0, \\\\\\\\\\\\\\\"seed\\\\\\\\\\\\\\\": 223}}]}}, \\\\\\\\\\\\\\\"localData\\\\\\\\\\\\\\\": {}, \\\\\\\\\\\\\\\"isEnabled\\\\\\\\\\\\\\\": true, \\\\\\\\\\\\\\\"name\\\\\\\\\\\\\\\": null, \\\\\\\\\\\\\\\"annotation\\\\\\\\\\\\\\\": null}], \\\\\\\\\\\\\\\"inspectors\\\\\\\\\\\\\\\": [], \\\\\\\\\\\\\\\"meta\\\\\\\\\\\\\\\": {\\\\\\\\\\\\\\\"savedDatasetId\\\\\\\\\\\\\\\": \\\\\\\\\\\\\\\"04531cf3-21b7-4e1c-b184-ae6c9a738cc3\\\\\\\\\\\\\\\", \\\\\\\\\\\\\\\"datasetType\\\\\\\\\\\\\\\": \\\\\\\\\\\\\\\"tabular\\\\\\\\\\\\\\\", \\\\\\\\\\\\\\\"subscriptionId\\\\\\\\\\\\\\\": \\\\\\\\\\\\\\\"374bdf1a-c648-4244-a317-f0d1ef4b85c7\\\\\\\\\\\\\\\", \\\\\\\\\\\\\\\"workspaceId\\\\\\\\\\\\\\\": \\\\\\\\\\\\\\\"86682c45-56d1-425e-a5af-a083db48a3e3\\\\\\\\\\\\\\\", \\\\\\\\\\\\\\\"workspaceLocation\\\\\\\\\\\\\\\": \\\\\\\\\\\\\\\"southcentralus\\\\\\\\\\\\\\\"}}\\\\\\\", \\\\\\\"activities\\\\\\\": 0}\", \"EnableSubsampling\": null, \"runTemplate\": \"AutoML\", \"azureml.runsource\": \"automl\", \"display_task_type\": \"classification\", \"dependencies_versions\": \"{\\\"azureml-widgets\\\": \\\"1.18.0\\\", \\\"azureml-train\\\": \\\"1.18.0\\\", \\\"azureml-train-restclients-hyperdrive\\\": \\\"1.18.0\\\", \\\"azureml-train-core\\\": \\\"1.18.0\\\", \\\"azureml-train-automl\\\": \\\"1.18.0\\\", \\\"azureml-train-automl-runtime\\\": \\\"1.18.0\\\", \\\"azureml-train-automl-client\\\": \\\"1.18.0\\\", \\\"azureml-tensorboard\\\": \\\"1.18.0\\\", \\\"azureml-telemetry\\\": \\\"1.18.0\\\", \\\"azureml-sdk\\\": \\\"1.18.0\\\", \\\"azureml-samples\\\": \\\"0+unknown\\\", \\\"azureml-pipeline\\\": \\\"1.18.0\\\", \\\"azureml-pipeline-steps\\\": \\\"1.18.0\\\", \\\"azureml-pipeline-core\\\": \\\"1.18.0\\\", \\\"azureml-opendatasets\\\": \\\"1.18.0\\\", \\\"azureml-model-management-sdk\\\": \\\"1.0.1b6.post1\\\", \\\"azureml-mlflow\\\": \\\"1.18.0\\\", \\\"azureml-interpret\\\": \\\"1.18.0\\\", \\\"azureml-explain-model\\\": \\\"1.18.0\\\", \\\"azureml-defaults\\\": \\\"1.18.0\\\", \\\"azureml-dataset-runtime\\\": \\\"1.18.0\\\", \\\"azureml-dataprep\\\": \\\"2.4.2\\\", \\\"azureml-dataprep-rslex\\\": \\\"1.2.2\\\", \\\"azureml-dataprep-native\\\": \\\"24.0.0\\\", \\\"azureml-datadrift\\\": \\\"1.18.0\\\", \\\"azureml-core\\\": \\\"1.18.0\\\", \\\"azureml-contrib-services\\\": \\\"1.18.0\\\", \\\"azureml-contrib-server\\\": \\\"1.18.0\\\", \\\"azureml-contrib-reinforcementlearning\\\": \\\"1.18.0\\\", \\\"azureml-contrib-pipeline-steps\\\": \\\"1.18.0\\\", \\\"azureml-contrib-notebook\\\": \\\"1.18.0\\\", \\\"azureml-contrib-interpret\\\": \\\"1.18.0\\\", \\\"azureml-contrib-gbdt\\\": \\\"1.18.0\\\", \\\"azureml-contrib-fairness\\\": \\\"1.18.0\\\", \\\"azureml-contrib-dataset\\\": \\\"1.18.0\\\", \\\"azureml-cli-common\\\": \\\"1.18.0\\\", \\\"azureml-automl-runtime\\\": \\\"1.18.0\\\", \\\"azureml-automl-core\\\": \\\"1.18.0\\\", \\\"azureml-accel-models\\\": \\\"1.18.0\\\"}\", \"_aml_system_scenario_identification\": \"Remote.Parent\", \"ClientType\": \"SDK\", \"environment_cpu_name\": \"AzureML-AutoML\", \"environment_cpu_version\": \"44\", \"environment_gpu_name\": \"AzureML-AutoML-GPU\", \"environment_gpu_version\": \"32\", \"root_attribution\": \"automl\", \"attribution\": \"AutoML\", \"Orchestrator\": \"AutoML\", \"CancelUri\": \"https://southcentralus.experiments.azureml.net/jasmine/v1.0/subscriptions/374bdf1a-c648-4244-a317-f0d1ef4b85c7/resourceGroups/aml-quickstarts-126654/providers/Microsoft.MachineLearningServices/workspaces/quick-starts-ws-126654/experimentids/b1e1beb4-a653-477b-8c55-74166841369e/cancel/AutoML_d9602484-520b-4a48-b3f7-50eda90d92aa\", \"ClientSdkVersion\": \"1.17.0\", \"snapshotId\": \"00000000-0000-0000-0000-000000000000\", \"SetupRunId\": \"AutoML_d9602484-520b-4a48-b3f7-50eda90d92aa_setup\", \"SetupRunContainerId\": \"dcid.AutoML_d9602484-520b-4a48-b3f7-50eda90d92aa_setup\", \"FeaturizationRunJsonPath\": \"featurizer_container.json\", \"FeaturizationRunId\": \"AutoML_d9602484-520b-4a48-b3f7-50eda90d92aa_featurize\", \"ProblemInfoJsonString\": \"{\\\"dataset_num_categorical\\\": 0, \\\"is_sparse\\\": false, \\\"subsampling\\\": false, \\\"dataset_classes\\\": 2, \\\"dataset_features\\\": 12, \\\"dataset_samples\\\": 243, \\\"single_frequency_class_detected\\\": false}\", \"ModelExplainRunId\": \"AutoML_d9602484-520b-4a48-b3f7-50eda90d92aa_ModelExplain\"}, \"tags\": {\"model_explain_run\": \"best_run\", \"_aml_system_azureml.automlComponent\": \"AutoML\", \"pipeline_id\": \"<f873311e8cfb2bcdbeb6c20367cf912f4ee6733e>;<c7af0367625be6ac5c2fecbfc72ed444cb7a2111>;<b19eeb61727e9c4fbb5aa45fb6e9fe3fab5b1f04>;<5dfac790c5c209f98a1da2dc1c7fb76f0397324f>;<62c0e30b2e9113b3ecd95bcf5b31423c72074070>;<713f188a27b176644f73e8664c667c674a2d3d62>;<cf1dc9b7ea4a50d759bce352343ec6737501695a>;<47dd667bb7c34b68c9fffa6fd580565b1f85400f>;<9e3f4780268658ad403e896559a8d3406152018c>;<59e4a1b86a57dfaeac5f3a051de6155ffc74f55b>;<e81d621ed176e5fac9def492d4ac54f304146b7c>;<a2983da01504b121cc4056d933a1191b51be87bc>;<52ac74da744a165756acc49238b34b81115532fd>;<a91f8b94ae9bf0dfc66e93d29d1ef41b7e2687f2>;<80d7fafc6227885ab86e843212a0c5ea47a69004>;<8de8c085d2a4b23d3f4cc392a2f2660d23d38c14>;<4d4be808b8b6dd0f67e8354c79eddd3d712440a5>;<19bb9b610818186383462e6b1f9b568bc04b93e9>;<9fd7f177a78effac65f3f97ae40ca91e296c3f10>;<d8d1a28b70a271fc16185d8e06b7faeee4bdd817>;<f86e0c37319548491774cfe027df9161ae6eecd2>;<9845a0ba1345a7474c237d10111bcf5bccbb1f0e>;<ce2643edf3d450b10c86c7d034a9bc952dc282d3>;<bc9206626b500d75953081471497ef8df99a5b5f>;<51ae05309834b29f71340af1008fc94fbd8213f4>;<b4a0428cf617d278b7c36eb08f59ce18de99dc45>;<be1ef63576c9bf239084ecda182b48071c3c26e3>;<adf88c245fccd90cff054b0559cb3f18c133bb49>;<e3212a7716ff2c5c66a7d794a69a0a43af3b7761>;<2edc0f94fd7a4efdc82ecc13646b83e028a0fd0c>;<f8c2944a6f1d1c4ed906fd0b27cc6d8d1d4718b0>;<ec6c4e6fbe5d419057167e6f712509eabb74c5a7>;<6b2feb16626e4727890aab7f7761939c6244853b>;<1c9ef4eb5ab9cb1684f24b29e5a2a7f85ada231a>;<a3bf0d0dcfe3a338cf74dbb4c162334c9deff1b3>;<f84ad8cd03b53db3d36d25e0d99c656b8dbbd645>;<2afb028e4a64dd129d6bdf96ee13c6963d5961f5>;<d9ed25894afad288dc23d70eeeb3660aa4565eca>;<cf12e126d4ddfbf3a5ebb1da95f8dbcc103aa005>;<fd460b336cdda30f5809f22a5ff4c14c7034618f>;<52b8400f43a9f4d5965976ebe45ce4142325dddf>;<c07307fcf1fccabf331e4a14beca6887261b7feb>;<98dc551fad95e994cbc10f1dcc14d1bbb2f1c328>;<9bccd35f09816ff1ac9914b19b6e44a26922122c>;<48b5276dd7b20ae81cdbd521a6f984fc30d2d449>;<1431b781f18d21af6531707cacc506465cbde4fc>;<24177c647d283c4b6f539b2b40ec5f1fd1c6bedd>;<3eee192a15761d77f09f54a26d01a292fcc507b0>;<ac62b37b4cbb7ecb81a16242a81c5ac668b788d7>;<af21f8876b2608a5938229b77a0c909b0ffd154f>;<3b92b5f15349f572d0425f3f73e851a0c61ec2bd>;<4226e2c733c236f12add6231979540e57ddbecd7>;<0d8799111fb7f75aa355068e4b34dd6d79ca6fbb>;<__AutoML_Stack_Ensemble__>;<__AutoML_Ensemble__>;\", \"score\": \"<0.8571428571428571>;<0.875>;<0.8571428571428571>;<0.875>;<0.75>;<0.8035714285714286>;<0.8035714285714286>;<0.75>;<0.8571428571428571>;<0.8035714285714286>;<0.8571428571428571>;<0.7857142857142857>;<0.8571428571428571>;<0.8214285714285714>;<0.8214285714285714>;<0.8035714285714286>;<0.7857142857142857>;<0.7321428571428571>;<0.8571428571428571>;<0.6607142857142857>;<0.8035714285714286>;<0.8571428571428571>;<0.875>;<0.8214285714285714>;<0.8392857142857143>;<0.6607142857142857>;<0.875>;<0.8571428571428571>;<0.8571428571428571>;<0.875>;<0.8035714285714286>;<0.875>;<0.8035714285714286>;<NaN>;<0.8928571428571429>;<NaN>;<0.8392857142857143>;<0.8392857142857143>;<0.8214285714285714>;<0.8214285714285714>;<0.6607142857142857>;<0.7321428571428571>;<0.8035714285714286>;<0.8214285714285714>;<0.8214285714285714>;<0.8392857142857143>;<0.8571428571428571>;<0.7678571428571429>;<NaN>;<0.875>;<NaN>;<NaN>;<0.8214285714285714>;<0.875>;<0.9107142857142857>;\", \"predicted_cost\": \"<0.5>;<0>;<0.5>;<0>;<0.01212239991078182>;<0.003403>;<0.5>;<0.003403>;<0.00976118731572196>;<0.006180757949915303>;<0.004857372311587502>;<0.0033050267147569598>;<0.021007047717594856>;<0.005565633872171049>;<0.015183212399484896>;<0.015279058146452862>;<0.015375651956448745>;<0.004580694342939316>;<0.020494820174622338>;<0.020196894220031528>;<0.01760477216268238>;<0.019142903533174452>;<0.023608332835038243>;<0.0031716087738547787>;<0.020740233523874003>;<0.012742886797871736>;<0.020029590603306023>;<0.027252810901574293>;<0.022817399317388368>;<0.08855326667912124>;<0.025197032430253667>;<0.05606268560531699>;<0.03334218537294994>;<0.16076058915597918>;<0.05720432783418579>;<0.08102254213248827>;<0.026690609736292187>;<0.05505186231674367>;<0.023298660293558062>;<0.02398718041230608>;<0.030768862565349973>;<0.02274150870212298>;<0.04025770727870675>;<0.03224257778947515>;<0.05684246202087483>;<0.05001761499656064>;<0.029259055338710642>;<0.024087007939109853>;<0.13100504323955697>;<0.06013025241266534>;<0.008592372063725717>;<0.09898347829185436>;<0.0751893469887871>;<0>;<0>;\", \"fit_time\": \"<0.003403>;<0.040742999999999994>;<0.01837>;<0.039717999999999996>;<0.049905>;<0.014647>;<0.012789>;<0.003247>;<0.033353>;<0.024644000000000003>;<0.003424>;<0.003214>;<0.050372>;<0.023074>;<0.01506>;<0.01835>;<0.039753000000000004>;<0.0037689999999999998>;<0.028081>;<0.039235>;<0.014665>;<0.043750000000000004>;<0.015837>;<0.003899>;<0.014616>;<0.025252>;<0.083877>;<0.938631>;<0.104612>;<0.667311>;<0.078413>;<0.049044>;<0.027393999999999998>;<NaN>;<0.031599999999999996>;<NaN>;<0.022252>;<0.024191>;<0.119353>;<0.073643>;<0.048605999999999996>;<0.021748>;<0.025924000000000003>;<0.10266700000000001>;<0.028282>;<0.027156>;<0.0073160000000000005>;<0.007045>;<NaN>;<0.056893>;<NaN>;<NaN>;<0.040830000000000005>;<16>;<13>;\", \"training_percent\": \"<100>;<100>;<100>;<100>;<100>;<100>;<100>;<100>;<100>;<100>;<100>;<100>;<100>;<100>;<100>;<100>;<100>;<100>;<100>;<100>;<100>;<100>;<100>;<100>;<100>;<100>;<100>;<100>;<100>;<100>;<100>;<100>;<100>;<100>;<100>;<100>;<100>;<100>;<100>;<100>;<100>;<100>;<100>;<100>;<100>;<100>;<100>;<100>;<100>;<100>;<100>;<100>;<100>;<100>;<100>;\", \"iteration\": \"<3>;<1>;<4>;<0>;<7>;<6>;<2>;<5>;<8>;<10>;<9>;<11>;<12>;<13>;<17>;<14>;<15>;<18>;<19>;<16>;<20>;<21>;<22>;<24>;<23>;<25>;<26>;<29>;<28>;<31>;<27>;<30>;<32>;<36>;<35>;<37>;<33>;<34>;<39>;<40>;<38>;<41>;<42>;<44>;<45>;<43>;<47>;<46>;<52>;<48>;<49>;<51>;<50>;<54>;<53>;\", \"run_preprocessor\": \"<StandardScalerWrapper>;<MaxAbsScaler>;<MinMaxScaler>;<MaxAbsScaler>;<RobustScaler>;<StandardScalerWrapper>;<MinMaxScaler>;<StandardScalerWrapper>;<StandardScalerWrapper>;<StandardScalerWrapper>;<StandardScalerWrapper>;<MinMaxScaler>;<RobustScaler>;<MinMaxScaler>;<StandardScalerWrapper>;<MinMaxScaler>;<MinMaxScaler>;<StandardScalerWrapper>;<RobustScaler>;<MinMaxScaler>;<StandardScalerWrapper>;<MinMaxScaler>;<MaxAbsScaler>;<MaxAbsScaler>;<MaxAbsScaler>;<SparseNormalizer>;<MinMaxScaler>;<MinMaxScaler>;<RobustScaler>;<MinMaxScaler>;<RobustScaler>;<SparseNormalizer>;<SparseNormalizer>;<>;<StandardScalerWrapper>;<>;<StandardScalerWrapper>;<StandardScalerWrapper>;<SparseNormalizer>;<StandardScalerWrapper>;<MinMaxScaler>;<StandardScalerWrapper>;<MinMaxScaler>;<SparseNormalizer>;<StandardScalerWrapper>;<SparseNormalizer>;<MinMaxScaler>;<MinMaxScaler>;<>;<MaxAbsScaler>;<>;<>;<StandardScalerWrapper>;<>;<>;\", \"run_algorithm\": \"<SGD>;<XGBoostClassifier>;<RandomForest>;<LightGBM>;<ExtremeRandomTrees>;<RandomForest>;<RandomForest>;<SGD>;<ExtremeRandomTrees>;<SGD>;<SGD>;<SGD>;<ExtremeRandomTrees>;<SGD>;<RandomForest>;<ExtremeRandomTrees>;<ExtremeRandomTrees>;<SGD>;<ExtremeRandomTrees>;<ExtremeRandomTrees>;<RandomForest>;<ExtremeRandomTrees>;<RandomForest>;<SGD>;<ExtremeRandomTrees>;<XGBoostClassifier>;<RandomForest>;<RandomForest>;<ExtremeRandomTrees>;<RandomForest>;<ExtremeRandomTrees>;<XGBoostClassifier>;<XGBoostClassifier>;<>;<LightGBM>;<>;<XGBoostClassifier>;<XGBoostClassifier>;<XGBoostClassifier>;<XGBoostClassifier>;<LightGBM>;<XGBoostClassifier>;<LightGBM>;<XGBoostClassifier>;<LightGBM>;<XGBoostClassifier>;<LogisticRegression>;<LogisticRegression>;<>;<LightGBM>;<>;<>;<XGBoostClassifier>;<StackEnsemble>;<VotingEnsemble>;\", \"dynamic_whitelisting_iterations\": \"<25>;<30>;<34>;<38>;<45>;<48>;\", \"automl_best_child_run_id\": \"AutoML_d9602484-520b-4a48-b3f7-50eda90d92aa_53\", \"model_explain_best_run_child_id\": \"AutoML_d9602484-520b-4a48-b3f7-50eda90d92aa_53\"}, \"end_time_utc\": \"2020-11-17T17:54:18.626001Z\", \"status\": \"Completed\", \"log_files\": {}, \"log_groups\": [], \"run_duration\": \"0:23:42\"}, \"child_runs\": [{\"run_id\": \"AutoML_d9602484-520b-4a48-b3f7-50eda90d92aa_0\", \"run_number\": 5, \"metric\": null, \"status\": \"Completed\", \"run_type\": \"azureml.scriptrun\", \"training_percent\": \"100\", \"start_time\": \"2020-11-17T17:41:25.994533Z\", \"end_time\": \"2020-11-17T17:42:00.411062Z\", \"created_time\": \"2020-11-17T17:38:44.391464Z\", \"created_time_dt\": \"2020-11-17T17:38:44.391464Z\", \"duration\": \"0:03:16\", \"iteration\": \"0\", \"goal\": \"accuracy_max\", \"run_name\": \"MaxAbsScaler, LightGBM\", \"run_properties\": \"copy=True\", \"primary_metric\": 0.875, \"best_metric\": 0.875}, {\"run_id\": \"AutoML_d9602484-520b-4a48-b3f7-50eda90d92aa_4\", \"run_number\": 6, \"metric\": null, \"status\": \"Completed\", \"run_type\": \"azureml.scriptrun\", \"training_percent\": \"100\", \"start_time\": \"2020-11-17T17:40:36.16964Z\", \"end_time\": \"2020-11-17T17:41:08.031341Z\", \"created_time\": \"2020-11-17T17:38:44.515032Z\", \"created_time_dt\": \"2020-11-17T17:38:44.515032Z\", \"duration\": \"0:02:23\", \"iteration\": \"4\", \"goal\": \"accuracy_max\", \"run_name\": \"MinMaxScaler, RandomForest\", \"run_properties\": \"copy=True, feature_range=(0, 1\", \"primary_metric\": 0.85714286, \"best_metric\": 0.875}, {\"run_id\": \"AutoML_d9602484-520b-4a48-b3f7-50eda90d92aa_1\", \"run_number\": 7, \"metric\": null, \"status\": \"Completed\", \"run_type\": \"azureml.scriptrun\", \"training_percent\": \"100\", \"start_time\": \"2020-11-17T17:39:43.460552Z\", \"end_time\": \"2020-11-17T17:40:17.030616Z\", \"created_time\": \"2020-11-17T17:38:44.515043Z\", \"created_time_dt\": \"2020-11-17T17:38:44.515043Z\", \"duration\": \"0:01:32\", \"iteration\": \"1\", \"goal\": \"accuracy_max\", \"run_name\": \"MaxAbsScaler, XGBoostClassifier\", \"run_properties\": \"copy=True\", \"primary_metric\": 0.875, \"best_metric\": 0.875}, {\"run_id\": \"AutoML_d9602484-520b-4a48-b3f7-50eda90d92aa_3\", \"run_number\": 8, \"metric\": null, \"status\": \"Completed\", \"run_type\": \"azureml.scriptrun\", \"training_percent\": \"100\", \"start_time\": \"2020-11-17T17:38:55.5575Z\", \"end_time\": \"2020-11-17T17:39:27.861576Z\", \"created_time\": \"2020-11-17T17:38:44.52549Z\", \"created_time_dt\": \"2020-11-17T17:38:44.52549Z\", \"duration\": \"0:00:43\", \"iteration\": \"3\", \"goal\": \"accuracy_max\", \"run_name\": \"StandardScalerWrapper, SGD\", \"run_properties\": \"<azureml.automl.runtime.shared.model_wrappers.StandardScalerWrapper object at 0x7f8af85108d0\", \"primary_metric\": 0.85714286, \"best_metric\": 0.875}, {\"run_id\": \"AutoML_d9602484-520b-4a48-b3f7-50eda90d92aa_2\", \"run_number\": 9, \"metric\": null, \"status\": \"Completed\", \"run_type\": \"azureml.scriptrun\", \"training_percent\": \"100\", \"start_time\": \"2020-11-17T17:42:00.477195Z\", \"end_time\": \"2020-11-17T17:43:47.337014Z\", \"created_time\": \"2020-11-17T17:38:44.650601Z\", \"created_time_dt\": \"2020-11-17T17:38:44.650601Z\", \"duration\": \"0:05:02\", \"iteration\": \"2\", \"goal\": \"accuracy_max\", \"run_name\": \"MinMaxScaler, RandomForest\", \"run_properties\": \"copy=True, feature_range=(0, 1\", \"primary_metric\": 0.80357143, \"best_metric\": 0.875}, {\"run_id\": \"AutoML_d9602484-520b-4a48-b3f7-50eda90d92aa_5\", \"run_number\": 10, \"metric\": null, \"status\": \"Completed\", \"run_type\": \"azureml.scriptrun\", \"training_percent\": \"100\", \"start_time\": \"2020-11-17T17:41:58.893081Z\", \"end_time\": \"2020-11-17T17:43:39.498042Z\", \"created_time\": \"2020-11-17T17:39:33.734887Z\", \"created_time_dt\": \"2020-11-17T17:39:33.734887Z\", \"duration\": \"0:04:05\", \"iteration\": \"5\", \"goal\": \"accuracy_max\", \"run_name\": \"StandardScalerWrapper, SGD\", \"run_properties\": \"<azureml.automl.runtime.shared.model_wrappers.StandardScalerWrapper object at 0x7f31b5fd86d8\", \"primary_metric\": 0.75, \"best_metric\": 0.875}, {\"run_id\": \"AutoML_d9602484-520b-4a48-b3f7-50eda90d92aa_6\", \"run_number\": 11, \"metric\": null, \"status\": \"Completed\", \"run_type\": \"azureml.scriptrun\", \"training_percent\": \"100\", \"start_time\": \"2020-11-17T17:41:57.860635Z\", \"end_time\": \"2020-11-17T17:43:43.388565Z\", \"created_time\": \"2020-11-17T17:40:22.425726Z\", \"created_time_dt\": \"2020-11-17T17:40:22.425726Z\", \"duration\": \"0:03:20\", \"iteration\": \"6\", \"goal\": \"accuracy_max\", \"run_name\": \"StandardScalerWrapper, RandomForest\", \"run_properties\": \"<azureml.automl.runtime.shared.model_wrappers.StandardScalerWrapper object at 0x7ffb88785cc0\", \"primary_metric\": 0.80357143, \"best_metric\": 0.875}, {\"run_id\": \"AutoML_d9602484-520b-4a48-b3f7-50eda90d92aa_7\", \"run_number\": 12, \"metric\": null, \"status\": \"Completed\", \"run_type\": \"azureml.scriptrun\", \"training_percent\": \"100\", \"start_time\": \"2020-11-17T17:42:17.531749Z\", \"end_time\": \"2020-11-17T17:42:53.501362Z\", \"created_time\": \"2020-11-17T17:41:12.223286Z\", \"created_time_dt\": \"2020-11-17T17:41:12.223286Z\", \"duration\": \"0:01:41\", \"iteration\": \"7\", \"goal\": \"accuracy_max\", \"run_name\": \"RobustScaler, ExtremeRandomTrees\", \"run_properties\": \"copy=True, quantile_range=[10, 90], with_centering=False,\\n             with_scaling=False\", \"primary_metric\": 0.75, \"best_metric\": 0.875}, {\"run_id\": \"AutoML_d9602484-520b-4a48-b3f7-50eda90d92aa_8\", \"run_number\": 13, \"metric\": null, \"status\": \"Completed\", \"run_type\": \"azureml.scriptrun\", \"training_percent\": \"100\", \"start_time\": \"2020-11-17T17:43:26.336247Z\", \"end_time\": \"2020-11-17T17:43:55.079891Z\", \"created_time\": \"2020-11-17T17:42:04.62063Z\", \"created_time_dt\": \"2020-11-17T17:42:04.62063Z\", \"duration\": \"0:01:50\", \"iteration\": \"8\", \"goal\": \"accuracy_max\", \"run_name\": \"StandardScalerWrapper, ExtremeRandomTrees\", \"run_properties\": \"<azureml.automl.runtime.shared.model_wrappers.StandardScalerWrapper object at 0x7fe36a156710\", \"primary_metric\": 0.85714286, \"best_metric\": 0.875}, {\"run_id\": \"AutoML_d9602484-520b-4a48-b3f7-50eda90d92aa_9\", \"run_number\": 14, \"metric\": null, \"status\": \"Completed\", \"run_type\": \"azureml.scriptrun\", \"training_percent\": \"100\", \"start_time\": \"2020-11-17T17:43:56.913226Z\", \"end_time\": \"2020-11-17T17:44:29.586658Z\", \"created_time\": \"2020-11-17T17:43:05.423796Z\", \"created_time_dt\": \"2020-11-17T17:43:05.423796Z\", \"duration\": \"0:01:24\", \"iteration\": \"9\", \"goal\": \"accuracy_max\", \"run_name\": \"StandardScalerWrapper, SGD\", \"run_properties\": \"<azureml.automl.runtime.shared.model_wrappers.StandardScalerWrapper object at 0x7f75ccba84a8\", \"primary_metric\": 0.85714286, \"best_metric\": 0.875}, {\"run_id\": \"AutoML_d9602484-520b-4a48-b3f7-50eda90d92aa_11\", \"run_number\": 15, \"metric\": null, \"status\": \"Completed\", \"run_type\": \"azureml.scriptrun\", \"training_percent\": \"100\", \"start_time\": \"2020-11-17T17:44:11.44931Z\", \"end_time\": \"2020-11-17T17:44:40.510894Z\", \"created_time\": \"2020-11-17T17:43:51.278924Z\", \"created_time_dt\": \"2020-11-17T17:43:51.278924Z\", \"duration\": \"0:00:49\", \"iteration\": \"11\", \"goal\": \"accuracy_max\", \"run_name\": \"MinMaxScaler, SGD\", \"run_properties\": \"copy=True, feature_range=(0, 1\", \"primary_metric\": 0.78571429, \"best_metric\": 0.875}, {\"run_id\": \"AutoML_d9602484-520b-4a48-b3f7-50eda90d92aa_10\", \"run_number\": 16, \"metric\": null, \"status\": \"Completed\", \"run_type\": \"azureml.scriptrun\", \"training_percent\": \"100\", \"start_time\": \"2020-11-17T17:44:02.873394Z\", \"end_time\": \"2020-11-17T17:44:31.876727Z\", \"created_time\": \"2020-11-17T17:43:51.414547Z\", \"created_time_dt\": \"2020-11-17T17:43:51.414547Z\", \"duration\": \"0:00:40\", \"iteration\": \"10\", \"goal\": \"accuracy_max\", \"run_name\": \"StandardScalerWrapper, SGD\", \"run_properties\": \"<azureml.automl.runtime.shared.model_wrappers.StandardScalerWrapper object at 0x7fa4d671ff98\", \"primary_metric\": 0.80357143, \"best_metric\": 0.875}, {\"run_id\": \"AutoML_d9602484-520b-4a48-b3f7-50eda90d92aa_12\", \"run_number\": 17, \"metric\": null, \"status\": \"Completed\", \"run_type\": \"azureml.scriptrun\", \"training_percent\": \"100\", \"start_time\": \"2020-11-17T17:44:08.855496Z\", \"end_time\": \"2020-11-17T17:44:40.026022Z\", \"created_time\": \"2020-11-17T17:43:51.276709Z\", \"created_time_dt\": \"2020-11-17T17:43:51.276709Z\", \"duration\": \"0:00:48\", \"iteration\": \"12\", \"goal\": \"accuracy_max\", \"run_name\": \"RobustScaler, ExtremeRandomTrees\", \"run_properties\": \"copy=True, quantile_range=[10, 90], with_centering=False,\\n             with_scaling=False\", \"primary_metric\": 0.85714286, \"best_metric\": 0.875}, {\"run_id\": \"AutoML_d9602484-520b-4a48-b3f7-50eda90d92aa_13\", \"run_number\": 18, \"metric\": null, \"status\": \"Completed\", \"run_type\": \"azureml.scriptrun\", \"training_percent\": \"100\", \"start_time\": \"2020-11-17T17:44:50.289654Z\", \"end_time\": \"2020-11-17T17:45:20.286799Z\", \"created_time\": \"2020-11-17T17:44:08.332165Z\", \"created_time_dt\": \"2020-11-17T17:44:08.332165Z\", \"duration\": \"0:01:11\", \"iteration\": \"13\", \"goal\": \"accuracy_max\", \"run_name\": \"MinMaxScaler, SGD\", \"run_properties\": \"copy=True, feature_range=(0, 1\", \"primary_metric\": 0.82142857, \"best_metric\": 0.875}, {\"run_id\": \"AutoML_d9602484-520b-4a48-b3f7-50eda90d92aa_15\", \"run_number\": 19, \"metric\": null, \"status\": \"Completed\", \"run_type\": \"azureml.scriptrun\", \"training_percent\": \"100\", \"start_time\": \"2020-11-17T17:44:51.41595Z\", \"end_time\": \"2020-11-17T17:45:21.194524Z\", \"created_time\": \"2020-11-17T17:44:36.095264Z\", \"created_time_dt\": \"2020-11-17T17:44:36.095264Z\", \"duration\": \"0:00:45\", \"iteration\": \"15\", \"goal\": \"accuracy_max\", \"run_name\": \"MinMaxScaler, ExtremeRandomTrees\", \"run_properties\": \"copy=True, feature_range=(0, 1\", \"primary_metric\": 0.78571429, \"best_metric\": 0.875}, {\"run_id\": \"AutoML_d9602484-520b-4a48-b3f7-50eda90d92aa_14\", \"run_number\": 20, \"metric\": null, \"status\": \"Completed\", \"run_type\": \"azureml.scriptrun\", \"training_percent\": \"100\", \"start_time\": \"2020-11-17T17:44:54.985775Z\", \"end_time\": \"2020-11-17T17:45:33.306175Z\", \"created_time\": \"2020-11-17T17:44:36.27737Z\", \"created_time_dt\": \"2020-11-17T17:44:36.27737Z\", \"duration\": \"0:00:57\", \"iteration\": \"14\", \"goal\": \"accuracy_max\", \"run_name\": \"MinMaxScaler, ExtremeRandomTrees\", \"run_properties\": \"copy=True, feature_range=(0, 1\", \"primary_metric\": 0.80357143, \"best_metric\": 0.875}, {\"run_id\": \"AutoML_d9602484-520b-4a48-b3f7-50eda90d92aa_16\", \"run_number\": 21, \"metric\": null, \"status\": \"Completed\", \"run_type\": \"azureml.scriptrun\", \"training_percent\": \"100\", \"start_time\": \"2020-11-17T17:45:41.739053Z\", \"end_time\": \"2020-11-17T17:46:24.255368Z\", \"created_time\": \"2020-11-17T17:44:54.404036Z\", \"created_time_dt\": \"2020-11-17T17:44:54.404036Z\", \"duration\": \"0:01:29\", \"iteration\": \"16\", \"goal\": \"accuracy_max\", \"run_name\": \"MinMaxScaler, ExtremeRandomTrees\", \"run_properties\": \"copy=True, feature_range=(0, 1\", \"primary_metric\": 0.66071429, \"best_metric\": 0.875}, {\"run_id\": \"AutoML_d9602484-520b-4a48-b3f7-50eda90d92aa_17\", \"run_number\": 22, \"metric\": null, \"status\": \"Completed\", \"run_type\": \"azureml.scriptrun\", \"training_percent\": \"100\", \"start_time\": \"2020-11-17T17:45:06.594504Z\", \"end_time\": \"2020-11-17T17:45:31.399505Z\", \"created_time\": \"2020-11-17T17:44:54.621499Z\", \"created_time_dt\": \"2020-11-17T17:44:54.621499Z\", \"duration\": \"0:00:36\", \"iteration\": \"17\", \"goal\": \"accuracy_max\", \"run_name\": \"StandardScalerWrapper, RandomForest\", \"run_properties\": \"<azureml.automl.runtime.shared.model_wrappers.StandardScalerWrapper object at 0x7f8ce1a4f400\", \"primary_metric\": 0.82142857, \"best_metric\": 0.875}, {\"run_id\": \"AutoML_d9602484-520b-4a48-b3f7-50eda90d92aa_18\", \"run_number\": 23, \"metric\": null, \"status\": \"Completed\", \"run_type\": \"azureml.scriptrun\", \"training_percent\": \"100\", \"start_time\": \"2020-11-17T17:45:41.971622Z\", \"end_time\": \"2020-11-17T17:46:19.422816Z\", \"created_time\": \"2020-11-17T17:45:24.177922Z\", \"created_time_dt\": \"2020-11-17T17:45:24.177922Z\", \"duration\": \"0:00:55\", \"iteration\": \"18\", \"goal\": \"accuracy_max\", \"run_name\": \"StandardScalerWrapper, SGD\", \"run_properties\": \"<azureml.automl.runtime.shared.model_wrappers.StandardScalerWrapper object at 0x7fc445062400\", \"primary_metric\": 0.73214286, \"best_metric\": 0.875}, {\"run_id\": \"AutoML_d9602484-520b-4a48-b3f7-50eda90d92aa_19\", \"run_number\": 24, \"metric\": null, \"status\": \"Completed\", \"run_type\": \"azureml.scriptrun\", \"training_percent\": \"100\", \"start_time\": \"2020-11-17T17:45:53.458397Z\", \"end_time\": \"2020-11-17T17:46:26.315315Z\", \"created_time\": \"2020-11-17T17:45:41.440573Z\", \"created_time_dt\": \"2020-11-17T17:45:41.440573Z\", \"duration\": \"0:00:44\", \"iteration\": \"19\", \"goal\": \"accuracy_max\", \"run_name\": \"RobustScaler, ExtremeRandomTrees\", \"run_properties\": \"copy=True, quantile_range=[25, 75], with_centering=True,\\n             with_scaling=False\", \"primary_metric\": 0.85714286, \"best_metric\": 0.875}, {\"run_id\": \"AutoML_d9602484-520b-4a48-b3f7-50eda90d92aa_21\", \"run_number\": 25, \"metric\": null, \"status\": \"Completed\", \"run_type\": \"azureml.scriptrun\", \"training_percent\": \"100\", \"start_time\": \"2020-11-17T17:46:38.333928Z\", \"end_time\": \"2020-11-17T17:47:11.177989Z\", \"created_time\": \"2020-11-17T17:45:41.539386Z\", \"created_time_dt\": \"2020-11-17T17:45:41.539386Z\", \"duration\": \"0:01:29\", \"iteration\": \"21\", \"goal\": \"accuracy_max\", \"run_name\": \"MinMaxScaler, ExtremeRandomTrees\", \"run_properties\": \"copy=True, feature_range=(0, 1\", \"primary_metric\": 0.85714286, \"best_metric\": 0.875}, {\"run_id\": \"AutoML_d9602484-520b-4a48-b3f7-50eda90d92aa_20\", \"run_number\": 26, \"metric\": null, \"status\": \"Completed\", \"run_type\": \"azureml.scriptrun\", \"training_percent\": \"100\", \"start_time\": \"2020-11-17T17:45:54.379836Z\", \"end_time\": \"2020-11-17T17:46:29.795398Z\", \"created_time\": \"2020-11-17T17:45:41.566058Z\", \"created_time_dt\": \"2020-11-17T17:45:41.566058Z\", \"duration\": \"0:00:48\", \"iteration\": \"20\", \"goal\": \"accuracy_max\", \"run_name\": \"StandardScalerWrapper, RandomForest\", \"run_properties\": \"<azureml.automl.runtime.shared.model_wrappers.StandardScalerWrapper object at 0x7f3fa3a70f98\", \"primary_metric\": 0.80357143, \"best_metric\": 0.875}, {\"run_id\": \"AutoML_d9602484-520b-4a48-b3f7-50eda90d92aa_22\", \"run_number\": 27, \"metric\": null, \"status\": \"Completed\", \"run_type\": \"azureml.scriptrun\", \"training_percent\": \"100\", \"start_time\": \"2020-11-17T17:46:48.561419Z\", \"end_time\": \"2020-11-17T17:47:25.681312Z\", \"created_time\": \"2020-11-17T17:46:32.04448Z\", \"created_time_dt\": \"2020-11-17T17:46:32.04448Z\", \"duration\": \"0:00:53\", \"iteration\": \"22\", \"goal\": \"accuracy_max\", \"run_name\": \"MaxAbsScaler, RandomForest\", \"run_properties\": \"copy=True\", \"primary_metric\": 0.875, \"best_metric\": 0.875}, {\"run_id\": \"AutoML_d9602484-520b-4a48-b3f7-50eda90d92aa_24\", \"run_number\": 28, \"metric\": null, \"status\": \"Completed\", \"run_type\": \"azureml.scriptrun\", \"training_percent\": \"100\", \"start_time\": \"2020-11-17T17:46:44.683208Z\", \"end_time\": \"2020-11-17T17:47:17.248496Z\", \"created_time\": \"2020-11-17T17:46:32.164681Z\", \"created_time_dt\": \"2020-11-17T17:46:32.164681Z\", \"duration\": \"0:00:45\", \"iteration\": \"24\", \"goal\": \"accuracy_max\", \"run_name\": \"MaxAbsScaler, SGD\", \"run_properties\": \"copy=True\", \"primary_metric\": 0.82142857, \"best_metric\": 0.875}, {\"run_id\": \"AutoML_d9602484-520b-4a48-b3f7-50eda90d92aa_23\", \"run_number\": 29, \"metric\": null, \"status\": \"Completed\", \"run_type\": \"azureml.scriptrun\", \"training_percent\": \"100\", \"start_time\": \"2020-11-17T17:46:44.921553Z\", \"end_time\": \"2020-11-17T17:47:18.98905Z\", \"created_time\": \"2020-11-17T17:46:32.206845Z\", \"created_time_dt\": \"2020-11-17T17:46:32.206845Z\", \"duration\": \"0:00:46\", \"iteration\": \"23\", \"goal\": \"accuracy_max\", \"run_name\": \"MaxAbsScaler, ExtremeRandomTrees\", \"run_properties\": \"copy=True\", \"primary_metric\": 0.83928571, \"best_metric\": 0.875}, {\"run_id\": \"AutoML_d9602484-520b-4a48-b3f7-50eda90d92aa_25\", \"run_number\": 30, \"metric\": null, \"status\": \"Completed\", \"run_type\": \"azureml.scriptrun\", \"training_percent\": \"100\", \"start_time\": \"2020-11-17T17:47:25.415607Z\", \"end_time\": \"2020-11-17T17:48:01.480505Z\", \"created_time\": \"2020-11-17T17:46:48.022595Z\", \"created_time_dt\": \"2020-11-17T17:46:48.022595Z\", \"duration\": \"0:01:13\", \"iteration\": \"25\", \"goal\": \"accuracy_max\", \"run_name\": \"SparseNormalizer, XGBoostClassifier\", \"run_properties\": \"<azureml.automl.runtime.shared.model_wrappers.SparseNormalizer object at 0x7f93f9c80828\", \"primary_metric\": 0.66071429, \"best_metric\": 0.875}, {\"run_id\": \"AutoML_d9602484-520b-4a48-b3f7-50eda90d92aa_26\", \"run_number\": 31, \"metric\": null, \"status\": \"Completed\", \"run_type\": \"azureml.scriptrun\", \"training_percent\": \"100\", \"start_time\": \"2020-11-17T17:47:37.591588Z\", \"end_time\": \"2020-11-17T17:48:09.759196Z\", \"created_time\": \"2020-11-17T17:47:14.777005Z\", \"created_time_dt\": \"2020-11-17T17:47:14.777005Z\", \"duration\": \"0:00:54\", \"iteration\": \"26\", \"goal\": \"accuracy_max\", \"run_name\": \"MinMaxScaler, RandomForest\", \"run_properties\": \"copy=True, feature_range=(0, 1\", \"primary_metric\": 0.875, \"best_metric\": 0.875}, {\"run_id\": \"AutoML_d9602484-520b-4a48-b3f7-50eda90d92aa_27\", \"run_number\": 32, \"metric\": null, \"status\": \"Completed\", \"run_type\": \"azureml.scriptrun\", \"training_percent\": \"100\", \"start_time\": \"2020-11-17T17:48:16.802203Z\", \"end_time\": \"2020-11-17T17:48:50.722925Z\", \"created_time\": \"2020-11-17T17:47:31.522156Z\", \"created_time_dt\": \"2020-11-17T17:47:31.522156Z\", \"duration\": \"0:01:19\", \"iteration\": \"27\", \"goal\": \"accuracy_max\", \"run_name\": \"RobustScaler, ExtremeRandomTrees\", \"run_properties\": \"copy=True, quantile_range=[25, 75], with_centering=False,\\n             with_scaling=False\", \"primary_metric\": 0.80357143, \"best_metric\": 0.875}, {\"run_id\": \"AutoML_d9602484-520b-4a48-b3f7-50eda90d92aa_28\", \"run_number\": 33, \"metric\": null, \"status\": \"Completed\", \"run_type\": \"azureml.scriptrun\", \"training_percent\": \"100\", \"start_time\": \"2020-11-17T17:47:43.747018Z\", \"end_time\": \"2020-11-17T17:48:18.849187Z\", \"created_time\": \"2020-11-17T17:47:31.680633Z\", \"created_time_dt\": \"2020-11-17T17:47:31.680633Z\", \"duration\": \"0:00:47\", \"iteration\": \"28\", \"goal\": \"accuracy_max\", \"run_name\": \"RobustScaler, ExtremeRandomTrees\", \"run_properties\": \"copy=True, quantile_range=[25, 75], with_centering=True,\\n             with_scaling=False\", \"primary_metric\": 0.85714286, \"best_metric\": 0.875}, {\"run_id\": \"AutoML_d9602484-520b-4a48-b3f7-50eda90d92aa_29\", \"run_number\": 34, \"metric\": null, \"status\": \"Completed\", \"run_type\": \"azureml.scriptrun\", \"training_percent\": \"100\", \"start_time\": \"2020-11-17T17:47:43.71255Z\", \"end_time\": \"2020-11-17T17:48:06.878037Z\", \"created_time\": \"2020-11-17T17:47:31.702523Z\", \"created_time_dt\": \"2020-11-17T17:47:31.702523Z\", \"duration\": \"0:00:35\", \"iteration\": \"29\", \"goal\": \"accuracy_max\", \"run_name\": \"MinMaxScaler, RandomForest\", \"run_properties\": \"copy=True, feature_range=(0, 1\", \"primary_metric\": 0.85714286, \"best_metric\": 0.875}, {\"run_id\": \"AutoML_d9602484-520b-4a48-b3f7-50eda90d92aa_30\", \"run_number\": 35, \"metric\": null, \"status\": \"Completed\", \"run_type\": \"azureml.scriptrun\", \"training_percent\": \"100\", \"start_time\": \"2020-11-17T17:48:35.794539Z\", \"end_time\": \"2020-11-17T17:49:07.661995Z\", \"created_time\": \"2020-11-17T17:48:15.423295Z\", \"created_time_dt\": \"2020-11-17T17:48:15.423295Z\", \"duration\": \"0:00:52\", \"iteration\": \"30\", \"goal\": \"accuracy_max\", \"run_name\": \"SparseNormalizer, XGBoostClassifier\", \"run_properties\": \"<azureml.automl.runtime.shared.model_wrappers.SparseNormalizer object at 0x7ffae59751d0\", \"primary_metric\": 0.875, \"best_metric\": 0.875}, {\"run_id\": \"AutoML_d9602484-520b-4a48-b3f7-50eda90d92aa_32\", \"run_number\": 36, \"metric\": null, \"status\": \"Completed\", \"run_type\": \"azureml.scriptrun\", \"training_percent\": \"100\", \"start_time\": \"2020-11-17T17:48:28.077575Z\", \"end_time\": \"2020-11-17T17:49:02.78104Z\", \"created_time\": \"2020-11-17T17:48:15.499958Z\", \"created_time_dt\": \"2020-11-17T17:48:15.499958Z\", \"duration\": \"0:00:47\", \"iteration\": \"32\", \"goal\": \"accuracy_max\", \"run_name\": \"SparseNormalizer, XGBoostClassifier\", \"run_properties\": \"<azureml.automl.runtime.shared.model_wrappers.SparseNormalizer object at 0x7fbe7f2338d0\", \"primary_metric\": 0.80357143, \"best_metric\": 0.875}, {\"run_id\": \"AutoML_d9602484-520b-4a48-b3f7-50eda90d92aa_31\", \"run_number\": 37, \"metric\": null, \"status\": \"Completed\", \"run_type\": \"azureml.scriptrun\", \"training_percent\": \"100\", \"start_time\": \"2020-11-17T17:48:27.217176Z\", \"end_time\": \"2020-11-17T17:48:52.508357Z\", \"created_time\": \"2020-11-17T17:48:15.585243Z\", \"created_time_dt\": \"2020-11-17T17:48:15.585243Z\", \"duration\": \"0:00:36\", \"iteration\": \"31\", \"goal\": \"accuracy_max\", \"run_name\": \"MinMaxScaler, RandomForest\", \"run_properties\": \"copy=True, feature_range=(0, 1\", \"primary_metric\": 0.875, \"best_metric\": 0.875}, {\"run_id\": \"AutoML_d9602484-520b-4a48-b3f7-50eda90d92aa_33\", \"run_number\": 38, \"metric\": null, \"status\": \"Completed\", \"run_type\": \"azureml.scriptrun\", \"training_percent\": \"100\", \"start_time\": \"2020-11-17T17:49:10.087407Z\", \"end_time\": \"2020-11-17T17:49:42.245696Z\", \"created_time\": \"2020-11-17T17:48:31.007099Z\", \"created_time_dt\": \"2020-11-17T17:48:31.007099Z\", \"duration\": \"0:01:11\", \"iteration\": \"33\", \"goal\": \"accuracy_max\", \"run_name\": \"StandardScalerWrapper, XGBoostClassifier\", \"run_properties\": \"<azureml.automl.runtime.shared.model_wrappers.StandardScalerWrapper object at 0x7fb95ba20f60\", \"primary_metric\": 0.83928571, \"best_metric\": 0.875}, {\"run_id\": \"AutoML_d9602484-520b-4a48-b3f7-50eda90d92aa_34\", \"run_number\": 39, \"metric\": null, \"status\": \"Canceled\", \"run_type\": \"azureml.scriptrun\", \"training_percent\": \"100\", \"start_time\": \"2020-11-17T17:49:20.708108Z\", \"end_time\": \"2020-11-17T17:49:52.785993Z\", \"created_time\": \"2020-11-17T17:48:56.083968Z\", \"created_time_dt\": \"2020-11-17T17:48:56.083968Z\", \"duration\": \"0:00:56\", \"iteration\": \"34\", \"goal\": \"accuracy_max\", \"run_name\": \"StandardScalerWrapper, XGBoostClassifier\", \"run_properties\": \"<azureml.automl.runtime.shared.model_wrappers.StandardScalerWrapper object at 0x7f86b6e92320\", \"primary_metric\": 0.83928571, \"best_metric\": 0.875}, {\"run_id\": \"AutoML_d9602484-520b-4a48-b3f7-50eda90d92aa_35\", \"run_number\": 40, \"metric\": null, \"status\": \"Completed\", \"run_type\": \"azureml.scriptrun\", \"training_percent\": \"100\", \"start_time\": \"2020-11-17T17:49:10.965526Z\", \"end_time\": \"2020-11-17T17:49:48.283193Z\", \"created_time\": \"2020-11-17T17:48:56.12961Z\", \"created_time_dt\": \"2020-11-17T17:48:56.12961Z\", \"duration\": \"0:00:52\", \"iteration\": \"35\", \"goal\": \"accuracy_max\", \"run_name\": \"StandardScalerWrapper, LightGBM\", \"run_properties\": \"<azureml.automl.runtime.shared.model_wrappers.StandardScalerWrapper object at 0x7fbac52ddef0\", \"primary_metric\": 0.89285714, \"best_metric\": 0.89285714}, {\"run_id\": \"AutoML_d9602484-520b-4a48-b3f7-50eda90d92aa_36\", \"run_number\": 41, \"metric\": null, \"status\": \"Canceled\", \"run_type\": \"azureml.scriptrun\", \"training_percent\": \"100\", \"start_time\": \"2020-11-17T17:49:28.153788Z\", \"end_time\": \"2020-11-17T17:49:52.806151Z\", \"created_time\": \"2020-11-17T17:49:11.092829Z\", \"created_time_dt\": \"2020-11-17T17:49:11.092829Z\", \"duration\": \"0:00:41\", \"iteration\": \"36\", \"goal\": null, \"run_name\": \"Canceled\", \"run_properties\": null}, {\"run_id\": \"AutoML_d9602484-520b-4a48-b3f7-50eda90d92aa_37\", \"run_number\": 42, \"metric\": null, \"status\": \"Canceled\", \"run_type\": \"azureml.scriptrun\", \"training_percent\": \"100\", \"start_time\": \"2020-11-17T17:49:11.100395Z\", \"end_time\": \"2020-11-17T17:49:54.424747Z\", \"created_time\": \"2020-11-17T17:49:11.100395Z\", \"created_time_dt\": \"2020-11-17T17:49:11.100395Z\", \"duration\": \"0:00:43\", \"iteration\": \"37\", \"goal\": null, \"run_name\": \"Canceled\", \"run_properties\": null}, {\"run_id\": \"AutoML_d9602484-520b-4a48-b3f7-50eda90d92aa_38\", \"run_number\": 43, \"metric\": null, \"status\": \"Completed\", \"run_type\": \"azureml.scriptrun\", \"training_percent\": \"100\", \"start_time\": \"2020-11-17T17:50:17.903479Z\", \"end_time\": \"2020-11-17T17:50:49.469931Z\", \"created_time\": \"2020-11-17T17:50:01.688626Z\", \"created_time_dt\": \"2020-11-17T17:50:01.688626Z\", \"duration\": \"0:00:47\", \"iteration\": \"38\", \"goal\": \"accuracy_max\", \"run_name\": \"MinMaxScaler, LightGBM\", \"run_properties\": \"copy=True, feature_range=(0, 1\", \"primary_metric\": 0.66071429, \"best_metric\": 0.89285714}, {\"run_id\": \"AutoML_d9602484-520b-4a48-b3f7-50eda90d92aa_42\", \"run_number\": 44, \"metric\": null, \"status\": \"Completed\", \"run_type\": \"azureml.scriptrun\", \"training_percent\": \"100\", \"start_time\": \"2020-11-17T17:50:57.068579Z\", \"end_time\": \"2020-11-17T17:51:31.331899Z\", \"created_time\": \"2020-11-17T17:50:01.805342Z\", \"created_time_dt\": \"2020-11-17T17:50:01.805342Z\", \"duration\": \"0:01:29\", \"iteration\": \"42\", \"goal\": \"accuracy_max\", \"run_name\": \"MinMaxScaler, LightGBM\", \"run_properties\": \"copy=True, feature_range=(0, 1\", \"primary_metric\": 0.80357143, \"best_metric\": 0.89285714}, {\"run_id\": \"AutoML_d9602484-520b-4a48-b3f7-50eda90d92aa_39\", \"run_number\": 45, \"metric\": null, \"status\": \"Completed\", \"run_type\": \"azureml.scriptrun\", \"training_percent\": \"100\", \"start_time\": \"2020-11-17T17:50:12.757514Z\", \"end_time\": \"2020-11-17T17:50:40.678775Z\", \"created_time\": \"2020-11-17T17:50:01.805705Z\", \"created_time_dt\": \"2020-11-17T17:50:01.805705Z\", \"duration\": \"0:00:38\", \"iteration\": \"39\", \"goal\": \"accuracy_max\", \"run_name\": \"SparseNormalizer, XGBoostClassifier\", \"run_properties\": \"<azureml.automl.runtime.shared.model_wrappers.SparseNormalizer object at 0x7f9d0b19e358\", \"primary_metric\": 0.82142857, \"best_metric\": 0.89285714}, {\"run_id\": \"AutoML_d9602484-520b-4a48-b3f7-50eda90d92aa_41\", \"run_number\": 46, \"metric\": null, \"status\": \"Completed\", \"run_type\": \"azureml.scriptrun\", \"training_percent\": \"100\", \"start_time\": \"2020-11-17T17:50:12.97961Z\", \"end_time\": \"2020-11-17T17:50:44.536729Z\", \"created_time\": \"2020-11-17T17:50:01.827106Z\", \"created_time_dt\": \"2020-11-17T17:50:01.827106Z\", \"duration\": \"0:00:42\", \"iteration\": \"41\", \"goal\": \"accuracy_max\", \"run_name\": \"StandardScalerWrapper, XGBoostClassifier\", \"run_properties\": \"<azureml.automl.runtime.shared.model_wrappers.StandardScalerWrapper object at 0x7f00731cdb38\", \"primary_metric\": 0.73214286, \"best_metric\": 0.89285714}, {\"run_id\": \"AutoML_d9602484-520b-4a48-b3f7-50eda90d92aa_40\", \"run_number\": 47, \"metric\": null, \"status\": \"Completed\", \"run_type\": \"azureml.scriptrun\", \"training_percent\": \"100\", \"start_time\": \"2020-11-17T17:50:15.157116Z\", \"end_time\": \"2020-11-17T17:50:40.224722Z\", \"created_time\": \"2020-11-17T17:50:02.124234Z\", \"created_time_dt\": \"2020-11-17T17:50:02.124234Z\", \"duration\": \"0:00:38\", \"iteration\": \"40\", \"goal\": \"accuracy_max\", \"run_name\": \"StandardScalerWrapper, XGBoostClassifier\", \"run_properties\": \"<azureml.automl.runtime.shared.model_wrappers.StandardScalerWrapper object at 0x7fcbb472bcc0\", \"primary_metric\": 0.82142857, \"best_metric\": 0.89285714}, {\"run_id\": \"AutoML_d9602484-520b-4a48-b3f7-50eda90d92aa_43\", \"run_number\": 48, \"metric\": null, \"status\": \"Completed\", \"run_type\": \"azureml.scriptrun\", \"training_percent\": \"100\", \"start_time\": \"2020-11-17T17:50:58.020102Z\", \"end_time\": \"2020-11-17T17:51:35.06545Z\", \"created_time\": \"2020-11-17T17:50:43.544748Z\", \"created_time_dt\": \"2020-11-17T17:50:43.544748Z\", \"duration\": \"0:00:51\", \"iteration\": \"43\", \"goal\": \"accuracy_max\", \"run_name\": \"SparseNormalizer, XGBoostClassifier\", \"run_properties\": \"<azureml.automl.runtime.shared.model_wrappers.SparseNormalizer object at 0x7ff6b4bba9e8\", \"primary_metric\": 0.83928571, \"best_metric\": 0.89285714}, {\"run_id\": \"AutoML_d9602484-520b-4a48-b3f7-50eda90d92aa_44\", \"run_number\": 49, \"metric\": null, \"status\": \"Completed\", \"run_type\": \"azureml.scriptrun\", \"training_percent\": \"100\", \"start_time\": \"2020-11-17T17:51:05.240058Z\", \"end_time\": \"2020-11-17T17:51:36.645789Z\", \"created_time\": \"2020-11-17T17:50:43.604985Z\", \"created_time_dt\": \"2020-11-17T17:50:43.604985Z\", \"duration\": \"0:00:53\", \"iteration\": \"44\", \"goal\": \"accuracy_max\", \"run_name\": \"SparseNormalizer, XGBoostClassifier\", \"run_properties\": \"<azureml.automl.runtime.shared.model_wrappers.SparseNormalizer object at 0x7f52047335f8\", \"primary_metric\": 0.82142857, \"best_metric\": 0.89285714}, {\"run_id\": \"AutoML_d9602484-520b-4a48-b3f7-50eda90d92aa_45\", \"run_number\": 50, \"metric\": null, \"status\": \"Completed\", \"run_type\": \"azureml.scriptrun\", \"training_percent\": \"100\", \"start_time\": \"2020-11-17T17:51:11.40271Z\", \"end_time\": \"2020-11-17T17:51:42.420134Z\", \"created_time\": \"2020-11-17T17:50:59.022552Z\", \"created_time_dt\": \"2020-11-17T17:50:59.022552Z\", \"duration\": \"0:00:43\", \"iteration\": \"45\", \"goal\": \"accuracy_max\", \"run_name\": \"StandardScalerWrapper, LightGBM\", \"run_properties\": \"<azureml.automl.runtime.shared.model_wrappers.StandardScalerWrapper object at 0x7f005c6b68d0\", \"primary_metric\": 0.82142857, \"best_metric\": 0.89285714}, {\"run_id\": \"AutoML_d9602484-520b-4a48-b3f7-50eda90d92aa_46\", \"run_number\": 51, \"metric\": null, \"status\": \"Completed\", \"run_type\": \"azureml.scriptrun\", \"training_percent\": \"100\", \"start_time\": \"2020-11-17T17:51:49.116795Z\", \"end_time\": \"2020-11-17T17:52:23.08849Z\", \"created_time\": \"2020-11-17T17:50:59.062637Z\", \"created_time_dt\": \"2020-11-17T17:50:59.062637Z\", \"duration\": \"0:01:24\", \"iteration\": \"46\", \"goal\": \"accuracy_max\", \"run_name\": \"MinMaxScaler, LogisticRegression\", \"run_properties\": \"copy=True, feature_range=(0, 1\", \"primary_metric\": 0.76785714, \"best_metric\": 0.89285714}, {\"run_id\": \"AutoML_d9602484-520b-4a48-b3f7-50eda90d92aa_47\", \"run_number\": 52, \"metric\": null, \"status\": \"Completed\", \"run_type\": \"azureml.scriptrun\", \"training_percent\": \"100\", \"start_time\": \"2020-11-17T17:51:53.860194Z\", \"end_time\": \"2020-11-17T17:52:31.184458Z\", \"created_time\": \"2020-11-17T17:51:38.586439Z\", \"created_time_dt\": \"2020-11-17T17:51:38.586439Z\", \"duration\": \"0:00:52\", \"iteration\": \"47\", \"goal\": \"accuracy_max\", \"run_name\": \"MinMaxScaler, LogisticRegression\", \"run_properties\": \"copy=True, feature_range=(0, 1\", \"primary_metric\": 0.85714286, \"best_metric\": 0.89285714}, {\"run_id\": \"AutoML_d9602484-520b-4a48-b3f7-50eda90d92aa_48\", \"run_number\": 53, \"metric\": null, \"status\": \"Completed\", \"run_type\": \"azureml.scriptrun\", \"training_percent\": \"100\", \"start_time\": \"2020-11-17T17:52:08.104996Z\", \"end_time\": \"2020-11-17T17:52:36.980402Z\", \"created_time\": \"2020-11-17T17:51:55.983403Z\", \"created_time_dt\": \"2020-11-17T17:51:55.983403Z\", \"duration\": \"0:00:40\", \"iteration\": \"48\", \"goal\": \"accuracy_max\", \"run_name\": \"MaxAbsScaler, LightGBM\", \"run_properties\": \"copy=True\", \"primary_metric\": 0.875, \"best_metric\": 0.89285714}, {\"run_id\": \"AutoML_d9602484-520b-4a48-b3f7-50eda90d92aa_49\", \"run_number\": 54, \"metric\": null, \"status\": \"Canceled\", \"run_type\": \"azureml.scriptrun\", \"training_percent\": \"100\", \"start_time\": \"2020-11-17T17:52:41.557287Z\", \"end_time\": \"2020-11-17T17:52:58.138927Z\", \"created_time\": \"2020-11-17T17:51:56.160233Z\", \"created_time_dt\": \"2020-11-17T17:51:56.160233Z\", \"duration\": \"0:01:01\", \"iteration\": \"49\", \"goal\": null, \"run_name\": \"Canceled\", \"run_properties\": null}, {\"run_id\": \"AutoML_d9602484-520b-4a48-b3f7-50eda90d92aa_50\", \"run_number\": 55, \"metric\": null, \"status\": \"Completed\", \"run_type\": \"azureml.scriptrun\", \"training_percent\": \"100\", \"start_time\": \"2020-11-17T17:52:08.762618Z\", \"end_time\": \"2020-11-17T17:52:39.612666Z\", \"created_time\": \"2020-11-17T17:51:56.246504Z\", \"created_time_dt\": \"2020-11-17T17:51:56.246504Z\", \"duration\": \"0:00:43\", \"iteration\": \"50\", \"goal\": \"accuracy_max\", \"run_name\": \"StandardScalerWrapper, XGBoostClassifier\", \"run_properties\": \"<azureml.automl.runtime.shared.model_wrappers.StandardScalerWrapper object at 0x7f5c28094710\", \"primary_metric\": 0.82142857, \"best_metric\": 0.89285714}, {\"run_id\": \"AutoML_d9602484-520b-4a48-b3f7-50eda90d92aa_51\", \"run_number\": 56, \"metric\": null, \"status\": \"Canceled\", \"run_type\": \"azureml.scriptrun\", \"training_percent\": \"100\", \"start_time\": \"2020-11-17T17:52:49.44336Z\", \"end_time\": \"2020-11-17T17:52:59.336776Z\", \"created_time\": \"2020-11-17T17:52:36.064119Z\", \"created_time_dt\": \"2020-11-17T17:52:36.064119Z\", \"duration\": \"0:00:23\", \"iteration\": \"51\", \"goal\": null, \"run_name\": \"Canceled\", \"run_properties\": null}, {\"run_id\": \"AutoML_d9602484-520b-4a48-b3f7-50eda90d92aa_52\", \"run_number\": 57, \"metric\": null, \"status\": \"Canceled\", \"run_type\": \"azureml.scriptrun\", \"training_percent\": \"100\", \"start_time\": \"2020-11-17T17:52:36.232296Z\", \"end_time\": \"2020-11-17T17:52:58.762486Z\", \"created_time\": \"2020-11-17T17:52:36.232296Z\", \"created_time_dt\": \"2020-11-17T17:52:36.232296Z\", \"duration\": \"0:00:22\", \"iteration\": \"52\", \"goal\": null, \"run_name\": \"Canceled\", \"run_properties\": null}, {\"run_id\": \"AutoML_d9602484-520b-4a48-b3f7-50eda90d92aa_53\", \"run_number\": 58, \"metric\": null, \"status\": \"Completed\", \"run_type\": \"azureml.scriptrun\", \"training_percent\": \"100\", \"start_time\": \"2020-11-17T17:53:14.199134Z\", \"end_time\": \"2020-11-17T17:53:59.971029Z\", \"created_time\": \"2020-11-17T17:53:03.279436Z\", \"created_time_dt\": \"2020-11-17T17:53:03.279436Z\", \"duration\": \"0:00:56\", \"iteration\": \"53\", \"goal\": \"accuracy_max\", \"run_name\": \"VotingEnsemble\", \"run_properties\": \"classification_labels=None,\\n                              estimators=[('35',\\n                                           Pipeline(memory=None,\\n                                                    steps=[('standardscalerwrapper',\\n                                                            <azureml.automl.runtime.shared.model_wrappers.StandardScalerWrapper object at 0x7fc01c6b90b8>\", \"primary_metric\": 0.91071429, \"best_metric\": 0.91071429}, {\"run_id\": \"AutoML_d9602484-520b-4a48-b3f7-50eda90d92aa_54\", \"run_number\": 59, \"metric\": null, \"status\": \"Completed\", \"run_type\": \"azureml.scriptrun\", \"training_percent\": \"100\", \"start_time\": \"2020-11-17T17:53:18.180375Z\", \"end_time\": \"2020-11-17T17:54:06.399859Z\", \"created_time\": \"2020-11-17T17:53:03.479531Z\", \"created_time_dt\": \"2020-11-17T17:53:03.479531Z\", \"duration\": \"0:01:02\", \"iteration\": \"54\", \"goal\": \"accuracy_max\", \"run_name\": \"StackEnsemble\", \"run_properties\": \"base_learners=[('35',\\n                                        Pipeline(memory=None,\\n                                                 steps=[('standardscalerwrapper',\\n                                                         <azureml.automl.runtime.shared.model_wrappers.StandardScalerWrapper object at 0x7fd58447ae48>\", \"primary_metric\": 0.875, \"best_metric\": 0.91071429}], \"children_metrics\": {\"categories\": [0], \"series\": {\"log_loss\": [{\"categories\": [\"0\", \"1\", \"2\", \"3\", \"4\", \"5\", \"6\", \"7\", \"8\", \"9\", \"10\", \"11\", \"12\", \"13\", \"14\", \"15\", \"16\", \"17\", \"18\", \"19\", \"20\", \"21\", \"22\", \"23\", \"24\", \"25\", \"26\", \"27\", \"28\", \"29\", \"30\", \"31\", \"32\", \"33\", \"34\", \"35\", \"38\", \"39\", \"40\", \"41\", \"42\", \"43\", \"44\", \"45\", \"46\", \"47\", \"48\", \"50\", \"53\", \"54\"], \"mode\": \"markers\", \"name\": \"log_loss\", \"stepped\": false, \"type\": \"scatter\", \"data\": [0.37490095340164115, 0.32912313687961864, 0.4027374670931531, 0.38114523418276214, 0.3872006616680124, 0.5242500310859359, 0.38361762791196463, 0.47874672753445063, 0.5030450746116175, 0.391052606820748, 0.44177562730255915, 0.5602280275459144, 0.5724179507284004, 0.4806770216611, 0.4049831080925044, 0.4944531867482543, 0.553812339665594, 0.3899593919677748, 0.6001852816669759, 0.4699589300859047, 0.5220565968255767, 0.5465711738798416, 0.379717299039166, 0.42573517897463115, 0.3994322988162992, 0.6413976504000063, 0.356192287015766, 0.4021622468514275, 0.3898031952295672, 0.3540505505177251, 0.4285663322342453, 0.3469389318893508, 0.4399725660585415, 0.40594136640887957, 0.42038664973312656, 0.30712568765525095, 0.627784344267279, 0.5145790138966294, 0.5009171521808493, 0.5117306547790818, 0.44735601015694726, 0.41316955102354885, 0.48593352496404635, 0.36781291971075064, 0.4346268938227646, 0.3783683904374418, 0.406664573645907, 0.3276041235745124, 0.3420884172299194, 0.4188938711030194]}, {\"categories\": [\"0\", \"1\", \"2\", \"3\", \"4\", \"5\", \"6\", \"7\", \"8\", \"9\", \"10\", \"11\", \"12\", \"13\", \"14\", \"15\", \"16\", \"17\", \"18\", \"19\", \"20\", \"21\", \"22\", \"23\", \"24\", \"25\", \"26\", \"27\", \"28\", \"29\", \"30\", \"31\", \"32\", \"33\", \"34\", \"35\", \"38\", \"39\", \"40\", \"41\", \"42\", \"43\", \"44\", \"45\", \"46\", \"47\", \"48\", \"50\", \"53\", \"54\"], \"mode\": \"lines\", \"name\": \"log_loss_min\", \"stepped\": true, \"type\": \"scatter\", \"data\": [0.37490095340164115, 0.32912313687961864, 0.32912313687961864, 0.32912313687961864, 0.32912313687961864, 0.32912313687961864, 0.32912313687961864, 0.32912313687961864, 0.32912313687961864, 0.32912313687961864, 0.32912313687961864, 0.32912313687961864, 0.32912313687961864, 0.32912313687961864, 0.32912313687961864, 0.32912313687961864, 0.32912313687961864, 0.32912313687961864, 0.32912313687961864, 0.32912313687961864, 0.32912313687961864, 0.32912313687961864, 0.32912313687961864, 0.32912313687961864, 0.32912313687961864, 0.32912313687961864, 0.32912313687961864, 0.32912313687961864, 0.32912313687961864, 0.32912313687961864, 0.32912313687961864, 0.32912313687961864, 0.32912313687961864, 0.32912313687961864, 0.32912313687961864, 0.30712568765525095, 0.30712568765525095, 0.30712568765525095, 0.30712568765525095, 0.30712568765525095, 0.30712568765525095, 0.30712568765525095, 0.30712568765525095, 0.30712568765525095, 0.30712568765525095, 0.30712568765525095, 0.30712568765525095, 0.30712568765525095, 0.30712568765525095, 0.30712568765525095]}], \"f1_score_macro\": [{\"categories\": [\"0\", \"1\", \"2\", \"3\", \"4\", \"5\", \"6\", \"7\", \"8\", \"9\", \"10\", \"11\", \"12\", \"13\", \"14\", \"15\", \"16\", \"17\", \"18\", \"19\", \"20\", \"21\", \"22\", \"23\", \"24\", \"25\", \"26\", \"27\", \"28\", \"29\", \"30\", \"31\", \"32\", \"33\", \"34\", \"35\", \"38\", \"39\", \"40\", \"41\", \"42\", \"43\", \"44\", \"45\", \"46\", \"47\", \"48\", \"50\", \"53\", \"54\"], \"mode\": \"markers\", \"name\": \"f1_score_macro\", \"stepped\": false, \"type\": \"scatter\", \"data\": [0.8587387387387388, 0.8587387387387388, 0.7836318932209343, 0.8362573099415205, 0.8362573099415205, 0.7379679144385027, 0.7714285714285714, 0.6666666666666667, 0.8406827880512091, 0.8362573099415205, 0.7440797673452431, 0.7754010695187166, 0.8406827880512091, 0.7723577235772358, 0.754679410593389, 0.7268292682926829, 0.4802149487054226, 0.8055555555555556, 0.7250409165302782, 0.8406827880512091, 0.7780180180180181, 0.8444444444444446, 0.8545454545454545, 0.812987012987013, 0.78125, 0.39784946236559143, 0.8545454545454545, 0.754679410593389, 0.8310708898944195, 0.8406827880512091, 0.8545454545454545, 0.8587387387387388, 0.7637130801687764, 0.806674338319908, 0.806674338319908, 0.8805120910384068, 0.39784946236559143, 0.78125, 0.78125, 0.651017864561695, 0.754679410593389, 0.806674338319908, 0.7888386123680242, 0.78125, 0.7546343107516009, 0.8362573099415205, 0.8545454545454545, 0.8008534850640114, 0.899099099099099, 0.8545454545454545]}, {\"categories\": [\"0\", \"1\", \"2\", \"3\", \"4\", \"5\", \"6\", \"7\", \"8\", \"9\", \"10\", \"11\", \"12\", \"13\", \"14\", \"15\", \"16\", \"17\", \"18\", \"19\", \"20\", \"21\", \"22\", \"23\", \"24\", \"25\", \"26\", \"27\", \"28\", \"29\", \"30\", \"31\", \"32\", \"33\", \"34\", \"35\", \"38\", \"39\", \"40\", \"41\", \"42\", \"43\", \"44\", \"45\", \"46\", \"47\", \"48\", \"50\", \"53\", \"54\"], \"mode\": \"lines\", \"name\": \"f1_score_macro_max\", \"stepped\": true, \"type\": \"scatter\", \"data\": [0.8587387387387388, 0.8587387387387388, 0.8587387387387388, 0.8587387387387388, 0.8587387387387388, 0.8587387387387388, 0.8587387387387388, 0.8587387387387388, 0.8587387387387388, 0.8587387387387388, 0.8587387387387388, 0.8587387387387388, 0.8587387387387388, 0.8587387387387388, 0.8587387387387388, 0.8587387387387388, 0.8587387387387388, 0.8587387387387388, 0.8587387387387388, 0.8587387387387388, 0.8587387387387388, 0.8587387387387388, 0.8587387387387388, 0.8587387387387388, 0.8587387387387388, 0.8587387387387388, 0.8587387387387388, 0.8587387387387388, 0.8587387387387388, 0.8587387387387388, 0.8587387387387388, 0.8587387387387388, 0.8587387387387388, 0.8587387387387388, 0.8587387387387388, 0.8805120910384068, 0.8805120910384068, 0.8805120910384068, 0.8805120910384068, 0.8805120910384068, 0.8805120910384068, 0.8805120910384068, 0.8805120910384068, 0.8805120910384068, 0.8805120910384068, 0.8805120910384068, 0.8805120910384068, 0.8805120910384068, 0.899099099099099, 0.899099099099099]}], \"AUC_micro\": [{\"categories\": [\"0\", \"1\", \"2\", \"3\", \"4\", \"5\", \"6\", \"7\", \"8\", \"9\", \"10\", \"11\", \"12\", \"13\", \"14\", \"15\", \"16\", \"17\", \"18\", \"19\", \"20\", \"21\", \"22\", \"23\", \"24\", \"25\", \"26\", \"27\", \"28\", \"29\", \"30\", \"31\", \"32\", \"33\", \"34\", \"35\", \"38\", \"39\", \"40\", \"41\", \"42\", \"43\", \"44\", \"45\", \"46\", \"47\", \"48\", \"50\", \"53\", \"54\"], \"mode\": \"markers\", \"name\": \"AUC_micro\", \"stepped\": false, \"type\": \"scatter\", \"data\": [0.9295280612244897, 0.9346301020408163, 0.9001913265306123, 0.9132653061224489, 0.920280612244898, 0.8526785714285714, 0.9164540816326531, 0.8788265306122449, 0.9170918367346939, 0.9119897959183674, 0.8887117346938774, 0.8667091836734694, 0.8941326530612244, 0.8864795918367347, 0.9180484693877551, 0.857780612244898, 0.8083545918367347, 0.9132653061224489, 0.8262117346938774, 0.9043367346938775, 0.862563775510204, 0.8883928571428572, 0.9199617346938775, 0.9167729591836735, 0.920280612244898, 0.6607142857142857, 0.9352678571428571, 0.9129464285714286, 0.9362244897959183, 0.9247448979591837, 0.8899872448979592, 0.9352678571428572, 0.8919005102040817, 0.9196428571428571, 0.9215561224489796, 0.9438775510204082, 0.7257653061224489, 0.8845663265306122, 0.8954081632653061, 0.8816964285714286, 0.8925382653061223, 0.8938137755102041, 0.871811224489796, 0.934311224489796, 0.8804209183673469, 0.9113520408163265, 0.9218749999999999, 0.9298469387755102, 0.9327168367346939, 0.9263392857142857]}, {\"categories\": [\"0\", \"1\", \"2\", \"3\", \"4\", \"5\", \"6\", \"7\", \"8\", \"9\", \"10\", \"11\", \"12\", \"13\", \"14\", \"15\", \"16\", \"17\", \"18\", \"19\", \"20\", \"21\", \"22\", \"23\", \"24\", \"25\", \"26\", \"27\", \"28\", \"29\", \"30\", \"31\", \"32\", \"33\", \"34\", \"35\", \"38\", \"39\", \"40\", \"41\", \"42\", \"43\", \"44\", \"45\", \"46\", \"47\", \"48\", \"50\", \"53\", \"54\"], \"mode\": \"lines\", \"name\": \"AUC_micro_max\", \"stepped\": true, \"type\": \"scatter\", \"data\": [0.9295280612244897, 0.9346301020408163, 0.9346301020408163, 0.9346301020408163, 0.9346301020408163, 0.9346301020408163, 0.9346301020408163, 0.9346301020408163, 0.9346301020408163, 0.9346301020408163, 0.9346301020408163, 0.9346301020408163, 0.9346301020408163, 0.9346301020408163, 0.9346301020408163, 0.9346301020408163, 0.9346301020408163, 0.9346301020408163, 0.9346301020408163, 0.9346301020408163, 0.9346301020408163, 0.9346301020408163, 0.9346301020408163, 0.9346301020408163, 0.9346301020408163, 0.9346301020408163, 0.9352678571428571, 0.9352678571428571, 0.9362244897959183, 0.9362244897959183, 0.9362244897959183, 0.9362244897959183, 0.9362244897959183, 0.9362244897959183, 0.9362244897959183, 0.9438775510204082, 0.9438775510204082, 0.9438775510204082, 0.9438775510204082, 0.9438775510204082, 0.9438775510204082, 0.9438775510204082, 0.9438775510204082, 0.9438775510204082, 0.9438775510204082, 0.9438775510204082, 0.9438775510204082, 0.9438775510204082, 0.9438775510204082, 0.9438775510204082]}], \"recall_score_micro\": [{\"categories\": [\"0\", \"1\", \"2\", \"3\", \"4\", \"5\", \"6\", \"7\", \"8\", \"9\", \"10\", \"11\", \"12\", \"13\", \"14\", \"15\", \"16\", \"17\", \"18\", \"19\", \"20\", \"21\", \"22\", \"23\", \"24\", \"25\", \"26\", \"27\", \"28\", \"29\", \"30\", \"31\", \"32\", \"33\", \"34\", \"35\", \"38\", \"39\", \"40\", \"41\", \"42\", \"43\", \"44\", \"45\", \"46\", \"47\", \"48\", \"50\", \"53\", \"54\"], \"mode\": \"markers\", \"name\": \"recall_score_micro\", \"stepped\": false, \"type\": \"scatter\", \"data\": [0.875, 0.875, 0.8035714285714286, 0.8571428571428571, 0.8571428571428571, 0.75, 0.8035714285714286, 0.75, 0.8571428571428571, 0.8571428571428571, 0.8035714285714286, 0.7857142857142857, 0.8571428571428571, 0.8214285714285714, 0.8035714285714286, 0.7857142857142857, 0.6607142857142857, 0.8214285714285714, 0.7321428571428571, 0.8571428571428571, 0.8035714285714286, 0.8571428571428571, 0.875, 0.8392857142857143, 0.8214285714285714, 0.6607142857142857, 0.875, 0.8035714285714286, 0.8571428571428571, 0.8571428571428571, 0.875, 0.875, 0.8035714285714286, 0.8392857142857143, 0.8392857142857143, 0.8928571428571429, 0.6607142857142857, 0.8214285714285714, 0.8214285714285714, 0.7321428571428571, 0.8035714285714286, 0.8392857142857143, 0.8214285714285714, 0.8214285714285714, 0.7678571428571429, 0.8571428571428571, 0.875, 0.8214285714285714, 0.9107142857142857, 0.875]}, {\"categories\": [\"0\", \"1\", \"2\", \"3\", \"4\", \"5\", \"6\", \"7\", \"8\", \"9\", \"10\", \"11\", \"12\", \"13\", \"14\", \"15\", \"16\", \"17\", \"18\", \"19\", \"20\", \"21\", \"22\", \"23\", \"24\", \"25\", \"26\", \"27\", \"28\", \"29\", \"30\", \"31\", \"32\", \"33\", \"34\", \"35\", \"38\", \"39\", \"40\", \"41\", \"42\", \"43\", \"44\", \"45\", \"46\", \"47\", \"48\", \"50\", \"53\", \"54\"], \"mode\": \"lines\", \"name\": \"recall_score_micro_max\", \"stepped\": true, \"type\": \"scatter\", \"data\": [0.875, 0.875, 0.875, 0.875, 0.875, 0.875, 0.875, 0.875, 0.875, 0.875, 0.875, 0.875, 0.875, 0.875, 0.875, 0.875, 0.875, 0.875, 0.875, 0.875, 0.875, 0.875, 0.875, 0.875, 0.875, 0.875, 0.875, 0.875, 0.875, 0.875, 0.875, 0.875, 0.875, 0.875, 0.875, 0.8928571428571429, 0.8928571428571429, 0.8928571428571429, 0.8928571428571429, 0.8928571428571429, 0.8928571428571429, 0.8928571428571429, 0.8928571428571429, 0.8928571428571429, 0.8928571428571429, 0.8928571428571429, 0.8928571428571429, 0.8928571428571429, 0.9107142857142857, 0.9107142857142857]}], \"average_precision_score_macro\": [{\"categories\": [\"0\", \"1\", \"2\", \"3\", \"4\", \"5\", \"6\", \"7\", \"8\", \"9\", \"10\", \"11\", \"12\", \"13\", \"14\", \"15\", \"16\", \"17\", \"18\", \"19\", \"20\", \"21\", \"22\", \"23\", \"24\", \"25\", \"26\", \"27\", \"28\", \"29\", \"30\", \"31\", \"32\", \"33\", \"34\", \"35\", \"38\", \"39\", \"40\", \"41\", \"42\", \"43\", \"44\", \"45\", \"46\", \"47\", \"48\", \"50\", \"53\", \"54\"], \"mode\": \"markers\", \"name\": \"average_precision_score_macro\", \"stepped\": false, \"type\": \"scatter\", \"data\": [0.8824264307283258, 0.8909665094605163, 0.8514066588479294, 0.8957936101369653, 0.8751366802483413, 0.8876903082856423, 0.8768877330175632, 0.8932909615946084, 0.9101588473163995, 0.8930821954736439, 0.8893045882536087, 0.849040635262261, 0.8648978167230799, 0.8741025722771016, 0.9014632807596359, 0.8263734531369393, 0.7627322354382476, 0.8991870347593961, 0.874523747005971, 0.8784285721853935, 0.8301863271855692, 0.8491254846063583, 0.8694022844246169, 0.8783258597224621, 0.9113050772836478, 0.5, 0.9185387575787644, 0.8912001586734762, 0.9226684690736787, 0.8624008662326945, 0.8439825546725545, 0.8766937391229801, 0.8732881450831398, 0.9087260482359218, 0.9078886727274135, 0.9269615686922904, 0.6412217588374227, 0.8728256133858389, 0.8899610461692974, 0.8841488375501975, 0.8807176239891124, 0.8689018017407376, 0.80240361124372, 0.9246008707066457, 0.8974218678608759, 0.8957874658023275, 0.901517044944142, 0.8790543058450622, 0.8939399032736121, 0.890668195657677]}, {\"categories\": [\"0\", \"1\", \"2\", \"3\", \"4\", \"5\", \"6\", \"7\", \"8\", \"9\", \"10\", \"11\", \"12\", \"13\", \"14\", \"15\", \"16\", \"17\", \"18\", \"19\", \"20\", \"21\", \"22\", \"23\", \"24\", \"25\", \"26\", \"27\", \"28\", \"29\", \"30\", \"31\", \"32\", \"33\", \"34\", \"35\", \"38\", \"39\", \"40\", \"41\", \"42\", \"43\", \"44\", \"45\", \"46\", \"47\", \"48\", \"50\", \"53\", \"54\"], \"mode\": \"lines\", \"name\": \"average_precision_score_macro_max\", \"stepped\": true, \"type\": \"scatter\", \"data\": [0.8824264307283258, 0.8909665094605163, 0.8909665094605163, 0.8957936101369653, 0.8957936101369653, 0.8957936101369653, 0.8957936101369653, 0.8957936101369653, 0.9101588473163995, 0.9101588473163995, 0.9101588473163995, 0.9101588473163995, 0.9101588473163995, 0.9101588473163995, 0.9101588473163995, 0.9101588473163995, 0.9101588473163995, 0.9101588473163995, 0.9101588473163995, 0.9101588473163995, 0.9101588473163995, 0.9101588473163995, 0.9101588473163995, 0.9101588473163995, 0.9113050772836478, 0.9113050772836478, 0.9185387575787644, 0.9185387575787644, 0.9226684690736787, 0.9226684690736787, 0.9226684690736787, 0.9226684690736787, 0.9226684690736787, 0.9226684690736787, 0.9226684690736787, 0.9269615686922904, 0.9269615686922904, 0.9269615686922904, 0.9269615686922904, 0.9269615686922904, 0.9269615686922904, 0.9269615686922904, 0.9269615686922904, 0.9269615686922904, 0.9269615686922904, 0.9269615686922904, 0.9269615686922904, 0.9269615686922904, 0.9269615686922904, 0.9269615686922904]}], \"norm_macro_recall\": [{\"categories\": [\"0\", \"1\", \"2\", \"3\", \"4\", \"5\", \"6\", \"7\", \"8\", \"9\", \"10\", \"11\", \"12\", \"13\", \"14\", \"15\", \"16\", \"17\", \"18\", \"19\", \"20\", \"21\", \"22\", \"23\", \"24\", \"25\", \"26\", \"27\", \"28\", \"29\", \"30\", \"31\", \"32\", \"33\", \"34\", \"35\", \"38\", \"39\", \"40\", \"41\", \"42\", \"43\", \"44\", \"45\", \"46\", \"47\", \"48\", \"50\", \"53\", \"54\"], \"mode\": \"markers\", \"name\": \"norm_macro_recall\", \"stepped\": false, \"type\": \"scatter\", \"data\": [0.7083926031294454, 0.7083926031294454, 0.5746799431009957, 0.6557610241820768, 0.6557610241820768, 0.5192034139402559, 0.5234708392603129, 0.3143669985775248, 0.6813655761024182, 0.6557610241820768, 0.44665718349928873, 0.5988620199146515, 0.6813655761024182, 0.4992887624466573, 0.4722617354196301, 0.41963015647226176, 0.05120910384068278, 0.6273115220483643, 0.5177809388335703, 0.6813655761024182, 0.5490753911806543, 0.7069701280227596, 0.6827880512091038, 0.6031294452347085, 0.5248933143669987, 0.0, 0.6827880512091038, 0.4722617354196301, 0.6301564722617354, 0.6813655761024182, 0.6827880512091038, 0.7083926031294454, 0.4978662873399715, 0.5775248933143668, 0.5775248933143668, 0.7610241820768135, 0.0, 0.5248933143669987, 0.5248933143669987, 0.28733997155049784, 0.4722617354196301, 0.5775248933143668, 0.5504978662873401, 0.5248933143669987, 0.5462304409672831, 0.6557610241820768, 0.6827880512091038, 0.6017069701280229, 0.7880512091038407, 0.6827880512091038]}, {\"categories\": [\"0\", \"1\", \"2\", \"3\", \"4\", \"5\", \"6\", \"7\", \"8\", \"9\", \"10\", \"11\", \"12\", \"13\", \"14\", \"15\", \"16\", \"17\", \"18\", \"19\", \"20\", \"21\", \"22\", \"23\", \"24\", \"25\", \"26\", \"27\", \"28\", \"29\", \"30\", \"31\", \"32\", \"33\", \"34\", \"35\", \"38\", \"39\", \"40\", \"41\", \"42\", \"43\", \"44\", \"45\", \"46\", \"47\", \"48\", \"50\", \"53\", \"54\"], \"mode\": \"lines\", \"name\": \"norm_macro_recall_max\", \"stepped\": true, \"type\": \"scatter\", \"data\": [0.7083926031294454, 0.7083926031294454, 0.7083926031294454, 0.7083926031294454, 0.7083926031294454, 0.7083926031294454, 0.7083926031294454, 0.7083926031294454, 0.7083926031294454, 0.7083926031294454, 0.7083926031294454, 0.7083926031294454, 0.7083926031294454, 0.7083926031294454, 0.7083926031294454, 0.7083926031294454, 0.7083926031294454, 0.7083926031294454, 0.7083926031294454, 0.7083926031294454, 0.7083926031294454, 0.7083926031294454, 0.7083926031294454, 0.7083926031294454, 0.7083926031294454, 0.7083926031294454, 0.7083926031294454, 0.7083926031294454, 0.7083926031294454, 0.7083926031294454, 0.7083926031294454, 0.7083926031294454, 0.7083926031294454, 0.7083926031294454, 0.7083926031294454, 0.7610241820768135, 0.7610241820768135, 0.7610241820768135, 0.7610241820768135, 0.7610241820768135, 0.7610241820768135, 0.7610241820768135, 0.7610241820768135, 0.7610241820768135, 0.7610241820768135, 0.7610241820768135, 0.7610241820768135, 0.7610241820768135, 0.7880512091038407, 0.7880512091038407]}], \"average_precision_score_micro\": [{\"categories\": [\"0\", \"1\", \"2\", \"3\", \"4\", \"5\", \"6\", \"7\", \"8\", \"9\", \"10\", \"11\", \"12\", \"13\", \"14\", \"15\", \"16\", \"17\", \"18\", \"19\", \"20\", \"21\", \"22\", \"23\", \"24\", \"25\", \"26\", \"27\", \"28\", \"29\", \"30\", \"31\", \"32\", \"33\", \"34\", \"35\", \"38\", \"39\", \"40\", \"41\", \"42\", \"43\", \"44\", \"45\", \"46\", \"47\", \"48\", \"50\", \"53\", \"54\"], \"mode\": \"markers\", \"name\": \"average_precision_score_micro\", \"stepped\": false, \"type\": \"scatter\", \"data\": [0.9195011463750136, 0.9076834111317205, 0.9033885099358109, 0.917247877318125, 0.922113288020534, 0.8565175499894021, 0.9182767366810064, 0.8862589741529154, 0.9208673505260642, 0.9157265677436481, 0.8943299039458159, 0.8644325443247015, 0.8764756179313297, 0.8872675588795657, 0.9241285159300833, 0.859040944671713, 0.794802652182554, 0.9036771220029471, 0.8239172543312854, 0.9029143218889252, 0.8520617469878279, 0.8798235981427424, 0.9115028105847337, 0.9219873119621896, 0.9202482478572123, 0.606186224489796, 0.93899606662059, 0.9166421219131935, 0.9412649241614561, 0.9263587211766896, 0.8809032251095245, 0.9375448515139739, 0.8935512601759358, 0.9254670256071718, 0.9224952231560382, 0.9479304684643693, 0.7345934951536713, 0.8858386966923975, 0.9041639135814354, 0.8919719335137829, 0.9025074421901643, 0.8955677776179689, 0.8544706436871937, 0.9397968853652223, 0.8857968264634559, 0.9154100061791797, 0.926491435705328, 0.9204813264756927, 0.9362761293876679, 0.929835795130325]}, {\"categories\": [\"0\", \"1\", \"2\", \"3\", \"4\", \"5\", \"6\", \"7\", \"8\", \"9\", \"10\", \"11\", \"12\", \"13\", \"14\", \"15\", \"16\", \"17\", \"18\", \"19\", \"20\", \"21\", \"22\", \"23\", \"24\", \"25\", \"26\", \"27\", \"28\", \"29\", \"30\", \"31\", \"32\", \"33\", \"34\", \"35\", \"38\", \"39\", \"40\", \"41\", \"42\", \"43\", \"44\", \"45\", \"46\", \"47\", \"48\", \"50\", \"53\", \"54\"], \"mode\": \"lines\", \"name\": \"average_precision_score_micro_max\", \"stepped\": true, \"type\": \"scatter\", \"data\": [0.9195011463750136, 0.9195011463750136, 0.9195011463750136, 0.9195011463750136, 0.922113288020534, 0.922113288020534, 0.922113288020534, 0.922113288020534, 0.922113288020534, 0.922113288020534, 0.922113288020534, 0.922113288020534, 0.922113288020534, 0.922113288020534, 0.9241285159300833, 0.9241285159300833, 0.9241285159300833, 0.9241285159300833, 0.9241285159300833, 0.9241285159300833, 0.9241285159300833, 0.9241285159300833, 0.9241285159300833, 0.9241285159300833, 0.9241285159300833, 0.9241285159300833, 0.93899606662059, 0.93899606662059, 0.9412649241614561, 0.9412649241614561, 0.9412649241614561, 0.9412649241614561, 0.9412649241614561, 0.9412649241614561, 0.9412649241614561, 0.9479304684643693, 0.9479304684643693, 0.9479304684643693, 0.9479304684643693, 0.9479304684643693, 0.9479304684643693, 0.9479304684643693, 0.9479304684643693, 0.9479304684643693, 0.9479304684643693, 0.9479304684643693, 0.9479304684643693, 0.9479304684643693, 0.9479304684643693, 0.9479304684643693]}], \"balanced_accuracy\": [{\"categories\": [\"0\", \"1\", \"2\", \"3\", \"4\", \"5\", \"6\", \"7\", \"8\", \"9\", \"10\", \"11\", \"12\", \"13\", \"14\", \"15\", \"16\", \"17\", \"18\", \"19\", \"20\", \"21\", \"22\", \"23\", \"24\", \"25\", \"26\", \"27\", \"28\", \"29\", \"30\", \"31\", \"32\", \"33\", \"34\", \"35\", \"38\", \"39\", \"40\", \"41\", \"42\", \"43\", \"44\", \"45\", \"46\", \"47\", \"48\", \"50\", \"53\", \"54\"], \"mode\": \"markers\", \"name\": \"balanced_accuracy\", \"stepped\": false, \"type\": \"scatter\", \"data\": [0.8541963015647227, 0.8541963015647227, 0.7873399715504978, 0.8278805120910384, 0.8278805120910384, 0.759601706970128, 0.7617354196301565, 0.6571834992887624, 0.8406827880512091, 0.8278805120910384, 0.7233285917496444, 0.7994310099573257, 0.8406827880512091, 0.7496443812233287, 0.7361308677098151, 0.7098150782361309, 0.5256045519203414, 0.8136557610241821, 0.7588904694167852, 0.8406827880512091, 0.7745376955903271, 0.8534850640113798, 0.8413940256045519, 0.8015647226173542, 0.7624466571834994, 0.5, 0.8413940256045519, 0.7361308677098151, 0.8150782361308677, 0.8406827880512091, 0.8413940256045519, 0.8541963015647227, 0.7489331436699858, 0.7887624466571834, 0.7887624466571834, 0.8805120910384068, 0.5, 0.7624466571834994, 0.7624466571834994, 0.6436699857752489, 0.7361308677098151, 0.7887624466571834, 0.77524893314367, 0.7624466571834994, 0.7731152204836416, 0.8278805120910384, 0.8413940256045519, 0.8008534850640114, 0.8940256045519204, 0.8413940256045519]}, {\"categories\": [\"0\", \"1\", \"2\", \"3\", \"4\", \"5\", \"6\", \"7\", \"8\", \"9\", \"10\", \"11\", \"12\", \"13\", \"14\", \"15\", \"16\", \"17\", \"18\", \"19\", \"20\", \"21\", \"22\", \"23\", \"24\", \"25\", \"26\", \"27\", \"28\", \"29\", \"30\", \"31\", \"32\", \"33\", \"34\", \"35\", \"38\", \"39\", \"40\", \"41\", \"42\", \"43\", \"44\", \"45\", \"46\", \"47\", \"48\", \"50\", \"53\", \"54\"], \"mode\": \"lines\", \"name\": \"balanced_accuracy_max\", \"stepped\": true, \"type\": \"scatter\", \"data\": [0.8541963015647227, 0.8541963015647227, 0.8541963015647227, 0.8541963015647227, 0.8541963015647227, 0.8541963015647227, 0.8541963015647227, 0.8541963015647227, 0.8541963015647227, 0.8541963015647227, 0.8541963015647227, 0.8541963015647227, 0.8541963015647227, 0.8541963015647227, 0.8541963015647227, 0.8541963015647227, 0.8541963015647227, 0.8541963015647227, 0.8541963015647227, 0.8541963015647227, 0.8541963015647227, 0.8541963015647227, 0.8541963015647227, 0.8541963015647227, 0.8541963015647227, 0.8541963015647227, 0.8541963015647227, 0.8541963015647227, 0.8541963015647227, 0.8541963015647227, 0.8541963015647227, 0.8541963015647227, 0.8541963015647227, 0.8541963015647227, 0.8541963015647227, 0.8805120910384068, 0.8805120910384068, 0.8805120910384068, 0.8805120910384068, 0.8805120910384068, 0.8805120910384068, 0.8805120910384068, 0.8805120910384068, 0.8805120910384068, 0.8805120910384068, 0.8805120910384068, 0.8805120910384068, 0.8805120910384068, 0.8940256045519204, 0.8940256045519204]}], \"matthews_correlation\": [{\"categories\": [\"0\", \"1\", \"2\", \"3\", \"4\", \"5\", \"6\", \"7\", \"8\", \"9\", \"10\", \"11\", \"12\", \"13\", \"14\", \"15\", \"16\", \"17\", \"18\", \"19\", \"20\", \"21\", \"22\", \"23\", \"24\", \"25\", \"26\", \"27\", \"28\", \"29\", \"30\", \"31\", \"32\", \"33\", \"34\", \"35\", \"38\", \"39\", \"40\", \"41\", \"42\", \"43\", \"44\", \"45\", \"46\", \"47\", \"48\", \"50\", \"53\", \"54\"], \"mode\": \"markers\", \"name\": \"matthews_correlation\", \"stepped\": false, \"type\": \"scatter\", \"data\": [0.7181639971760345, 0.7181639971760345, 0.5678550003360627, 0.6752529632113417, 0.6752529632113417, 0.494497785099829, 0.5486307798280006, 0.40526997301782086, 0.6813655761024182, 0.6752529632113417, 0.5521703337124544, 0.5703659384302138, 0.6813655761024182, 0.5950135481332968, 0.5449334407495944, 0.5000826116789816, 0.09414411360394244, 0.6135038005008758, 0.4903042861630642, 0.6813655761024182, 0.5566492026304203, 0.6914090450089236, 0.7156053649930442, 0.6321180724105223, 0.5886305519230932, 0.0, 0.7156053649930442, 0.5449334407495944, 0.673734063976669, 0.6813655761024182, 0.7156053649930442, 0.7181639971760345, 0.5443794453866777, 0.6314801566485462, 0.6314801566485462, 0.7610241820768137, 0.0, 0.5886305519230932, 0.5886305519230932, 0.35521785799336236, 0.5449334407495944, 0.6314801566485462, 0.5885667782369546, 0.5886305519230932, 0.5226042675712106, 0.6752529632113417, 0.7156053649930442, 0.6017069701280228, 0.7989213944488416, 0.7156053649930442]}, {\"categories\": [\"0\", \"1\", \"2\", \"3\", \"4\", \"5\", \"6\", \"7\", \"8\", \"9\", \"10\", \"11\", \"12\", \"13\", \"14\", \"15\", \"16\", \"17\", \"18\", \"19\", \"20\", \"21\", \"22\", \"23\", \"24\", \"25\", \"26\", \"27\", \"28\", \"29\", \"30\", \"31\", \"32\", \"33\", \"34\", \"35\", \"38\", \"39\", \"40\", \"41\", \"42\", \"43\", \"44\", \"45\", \"46\", \"47\", \"48\", \"50\", \"53\", \"54\"], \"mode\": \"lines\", \"name\": \"matthews_correlation_max\", \"stepped\": true, \"type\": \"scatter\", \"data\": [0.7181639971760345, 0.7181639971760345, 0.7181639971760345, 0.7181639971760345, 0.7181639971760345, 0.7181639971760345, 0.7181639971760345, 0.7181639971760345, 0.7181639971760345, 0.7181639971760345, 0.7181639971760345, 0.7181639971760345, 0.7181639971760345, 0.7181639971760345, 0.7181639971760345, 0.7181639971760345, 0.7181639971760345, 0.7181639971760345, 0.7181639971760345, 0.7181639971760345, 0.7181639971760345, 0.7181639971760345, 0.7181639971760345, 0.7181639971760345, 0.7181639971760345, 0.7181639971760345, 0.7181639971760345, 0.7181639971760345, 0.7181639971760345, 0.7181639971760345, 0.7181639971760345, 0.7181639971760345, 0.7181639971760345, 0.7181639971760345, 0.7181639971760345, 0.7610241820768137, 0.7610241820768137, 0.7610241820768137, 0.7610241820768137, 0.7610241820768137, 0.7610241820768137, 0.7610241820768137, 0.7610241820768137, 0.7610241820768137, 0.7610241820768137, 0.7610241820768137, 0.7610241820768137, 0.7610241820768137, 0.7989213944488416, 0.7989213944488416]}], \"recall_score_weighted\": [{\"categories\": [\"0\", \"1\", \"2\", \"3\", \"4\", \"5\", \"6\", \"7\", \"8\", \"9\", \"10\", \"11\", \"12\", \"13\", \"14\", \"15\", \"16\", \"17\", \"18\", \"19\", \"20\", \"21\", \"22\", \"23\", \"24\", \"25\", \"26\", \"27\", \"28\", \"29\", \"30\", \"31\", \"32\", \"33\", \"34\", \"35\", \"38\", \"39\", \"40\", \"41\", \"42\", \"43\", \"44\", \"45\", \"46\", \"47\", \"48\", \"50\", \"53\", \"54\"], \"mode\": \"markers\", \"name\": \"recall_score_weighted\", \"stepped\": false, \"type\": \"scatter\", \"data\": [0.875, 0.875, 0.8035714285714286, 0.8571428571428571, 0.8571428571428571, 0.75, 0.8035714285714286, 0.75, 0.8571428571428571, 0.8571428571428571, 0.8035714285714286, 0.7857142857142857, 0.8571428571428571, 0.8214285714285714, 0.8035714285714286, 0.7857142857142857, 0.6607142857142857, 0.8214285714285714, 0.7321428571428571, 0.8571428571428571, 0.8035714285714286, 0.8571428571428571, 0.875, 0.8392857142857143, 0.8214285714285714, 0.6607142857142857, 0.875, 0.8035714285714286, 0.8571428571428571, 0.8571428571428571, 0.875, 0.875, 0.8035714285714286, 0.8392857142857143, 0.8392857142857143, 0.8928571428571429, 0.6607142857142857, 0.8214285714285714, 0.8214285714285714, 0.7321428571428571, 0.8035714285714286, 0.8392857142857143, 0.8214285714285714, 0.8214285714285714, 0.7678571428571429, 0.8571428571428571, 0.875, 0.8214285714285714, 0.9107142857142857, 0.875]}, {\"categories\": [\"0\", \"1\", \"2\", \"3\", \"4\", \"5\", \"6\", \"7\", \"8\", \"9\", \"10\", \"11\", \"12\", \"13\", \"14\", \"15\", \"16\", \"17\", \"18\", \"19\", \"20\", \"21\", \"22\", \"23\", \"24\", \"25\", \"26\", \"27\", \"28\", \"29\", \"30\", \"31\", \"32\", \"33\", \"34\", \"35\", \"38\", \"39\", \"40\", \"41\", \"42\", \"43\", \"44\", \"45\", \"46\", \"47\", \"48\", \"50\", \"53\", \"54\"], \"mode\": \"lines\", \"name\": \"recall_score_weighted_max\", \"stepped\": true, \"type\": \"scatter\", \"data\": [0.875, 0.875, 0.875, 0.875, 0.875, 0.875, 0.875, 0.875, 0.875, 0.875, 0.875, 0.875, 0.875, 0.875, 0.875, 0.875, 0.875, 0.875, 0.875, 0.875, 0.875, 0.875, 0.875, 0.875, 0.875, 0.875, 0.875, 0.875, 0.875, 0.875, 0.875, 0.875, 0.875, 0.875, 0.875, 0.8928571428571429, 0.8928571428571429, 0.8928571428571429, 0.8928571428571429, 0.8928571428571429, 0.8928571428571429, 0.8928571428571429, 0.8928571428571429, 0.8928571428571429, 0.8928571428571429, 0.8928571428571429, 0.8928571428571429, 0.8928571428571429, 0.9107142857142857, 0.9107142857142857]}], \"recall_score_macro\": [{\"categories\": [\"0\", \"1\", \"2\", \"3\", \"4\", \"5\", \"6\", \"7\", \"8\", \"9\", \"10\", \"11\", \"12\", \"13\", \"14\", \"15\", \"16\", \"17\", \"18\", \"19\", \"20\", \"21\", \"22\", \"23\", \"24\", \"25\", \"26\", \"27\", \"28\", \"29\", \"30\", \"31\", \"32\", \"33\", \"34\", \"35\", \"38\", \"39\", \"40\", \"41\", \"42\", \"43\", \"44\", \"45\", \"46\", \"47\", \"48\", \"50\", \"53\", \"54\"], \"mode\": \"markers\", \"name\": \"recall_score_macro\", \"stepped\": false, \"type\": \"scatter\", \"data\": [0.8541963015647227, 0.8541963015647227, 0.7873399715504978, 0.8278805120910384, 0.8278805120910384, 0.759601706970128, 0.7617354196301565, 0.6571834992887624, 0.8406827880512091, 0.8278805120910384, 0.7233285917496444, 0.7994310099573257, 0.8406827880512091, 0.7496443812233287, 0.7361308677098151, 0.7098150782361309, 0.5256045519203414, 0.8136557610241821, 0.7588904694167852, 0.8406827880512091, 0.7745376955903271, 0.8534850640113798, 0.8413940256045519, 0.8015647226173542, 0.7624466571834994, 0.5, 0.8413940256045519, 0.7361308677098151, 0.8150782361308677, 0.8406827880512091, 0.8413940256045519, 0.8541963015647227, 0.7489331436699858, 0.7887624466571834, 0.7887624466571834, 0.8805120910384068, 0.5, 0.7624466571834994, 0.7624466571834994, 0.6436699857752489, 0.7361308677098151, 0.7887624466571834, 0.77524893314367, 0.7624466571834994, 0.7731152204836416, 0.8278805120910384, 0.8413940256045519, 0.8008534850640114, 0.8940256045519204, 0.8413940256045519]}, {\"categories\": [\"0\", \"1\", \"2\", \"3\", \"4\", \"5\", \"6\", \"7\", \"8\", \"9\", \"10\", \"11\", \"12\", \"13\", \"14\", \"15\", \"16\", \"17\", \"18\", \"19\", \"20\", \"21\", \"22\", \"23\", \"24\", \"25\", \"26\", \"27\", \"28\", \"29\", \"30\", \"31\", \"32\", \"33\", \"34\", \"35\", \"38\", \"39\", \"40\", \"41\", \"42\", \"43\", \"44\", \"45\", \"46\", \"47\", \"48\", \"50\", \"53\", \"54\"], \"mode\": \"lines\", \"name\": \"recall_score_macro_max\", \"stepped\": true, \"type\": \"scatter\", \"data\": [0.8541963015647227, 0.8541963015647227, 0.8541963015647227, 0.8541963015647227, 0.8541963015647227, 0.8541963015647227, 0.8541963015647227, 0.8541963015647227, 0.8541963015647227, 0.8541963015647227, 0.8541963015647227, 0.8541963015647227, 0.8541963015647227, 0.8541963015647227, 0.8541963015647227, 0.8541963015647227, 0.8541963015647227, 0.8541963015647227, 0.8541963015647227, 0.8541963015647227, 0.8541963015647227, 0.8541963015647227, 0.8541963015647227, 0.8541963015647227, 0.8541963015647227, 0.8541963015647227, 0.8541963015647227, 0.8541963015647227, 0.8541963015647227, 0.8541963015647227, 0.8541963015647227, 0.8541963015647227, 0.8541963015647227, 0.8541963015647227, 0.8541963015647227, 0.8805120910384068, 0.8805120910384068, 0.8805120910384068, 0.8805120910384068, 0.8805120910384068, 0.8805120910384068, 0.8805120910384068, 0.8805120910384068, 0.8805120910384068, 0.8805120910384068, 0.8805120910384068, 0.8805120910384068, 0.8805120910384068, 0.8940256045519204, 0.8940256045519204]}], \"f1_score_micro\": [{\"categories\": [\"0\", \"1\", \"2\", \"3\", \"4\", \"5\", \"6\", \"7\", \"8\", \"9\", \"10\", \"11\", \"12\", \"13\", \"14\", \"15\", \"16\", \"17\", \"18\", \"19\", \"20\", \"21\", \"22\", \"23\", \"24\", \"25\", \"26\", \"27\", \"28\", \"29\", \"30\", \"31\", \"32\", \"33\", \"34\", \"35\", \"38\", \"39\", \"40\", \"41\", \"42\", \"43\", \"44\", \"45\", \"46\", \"47\", \"48\", \"50\", \"53\", \"54\"], \"mode\": \"markers\", \"name\": \"f1_score_micro\", \"stepped\": false, \"type\": \"scatter\", \"data\": [0.875, 0.875, 0.8035714285714286, 0.8571428571428571, 0.8571428571428571, 0.75, 0.8035714285714286, 0.75, 0.8571428571428571, 0.8571428571428571, 0.8035714285714286, 0.7857142857142857, 0.8571428571428571, 0.8214285714285714, 0.8035714285714286, 0.7857142857142857, 0.6607142857142857, 0.8214285714285714, 0.7321428571428571, 0.8571428571428571, 0.8035714285714286, 0.8571428571428571, 0.875, 0.8392857142857143, 0.8214285714285714, 0.6607142857142857, 0.875, 0.8035714285714286, 0.8571428571428571, 0.8571428571428571, 0.875, 0.875, 0.8035714285714286, 0.8392857142857143, 0.8392857142857143, 0.8928571428571429, 0.6607142857142857, 0.8214285714285714, 0.8214285714285714, 0.7321428571428571, 0.8035714285714286, 0.8392857142857143, 0.8214285714285714, 0.8214285714285714, 0.7678571428571429, 0.8571428571428571, 0.875, 0.8214285714285714, 0.9107142857142857, 0.875]}, {\"categories\": [\"0\", \"1\", \"2\", \"3\", \"4\", \"5\", \"6\", \"7\", \"8\", \"9\", \"10\", \"11\", \"12\", \"13\", \"14\", \"15\", \"16\", \"17\", \"18\", \"19\", \"20\", \"21\", \"22\", \"23\", \"24\", \"25\", \"26\", \"27\", \"28\", \"29\", \"30\", \"31\", \"32\", \"33\", \"34\", \"35\", \"38\", \"39\", \"40\", \"41\", \"42\", \"43\", \"44\", \"45\", \"46\", \"47\", \"48\", \"50\", \"53\", \"54\"], \"mode\": \"lines\", \"name\": \"f1_score_micro_max\", \"stepped\": true, \"type\": \"scatter\", \"data\": [0.875, 0.875, 0.875, 0.875, 0.875, 0.875, 0.875, 0.875, 0.875, 0.875, 0.875, 0.875, 0.875, 0.875, 0.875, 0.875, 0.875, 0.875, 0.875, 0.875, 0.875, 0.875, 0.875, 0.875, 0.875, 0.875, 0.875, 0.875, 0.875, 0.875, 0.875, 0.875, 0.875, 0.875, 0.875, 0.8928571428571429, 0.8928571428571429, 0.8928571428571429, 0.8928571428571429, 0.8928571428571429, 0.8928571428571429, 0.8928571428571429, 0.8928571428571429, 0.8928571428571429, 0.8928571428571429, 0.8928571428571429, 0.8928571428571429, 0.8928571428571429, 0.9107142857142857, 0.9107142857142857]}], \"f1_score_weighted\": [{\"categories\": [\"0\", \"1\", \"2\", \"3\", \"4\", \"5\", \"6\", \"7\", \"8\", \"9\", \"10\", \"11\", \"12\", \"13\", \"14\", \"15\", \"16\", \"17\", \"18\", \"19\", \"20\", \"21\", \"22\", \"23\", \"24\", \"25\", \"26\", \"27\", \"28\", \"29\", \"30\", \"31\", \"32\", \"33\", \"34\", \"35\", \"38\", \"39\", \"40\", \"41\", \"42\", \"43\", \"44\", \"45\", \"46\", \"47\", \"48\", \"50\", \"53\", \"54\"], \"mode\": \"markers\", \"name\": \"f1_score_weighted\", \"stepped\": false, \"type\": \"scatter\", \"data\": [0.8741441441441441, 0.8741441441441441, 0.8047443424155754, 0.8550543024227235, 0.8550543024227235, 0.7560160427807486, 0.7989795918367346, 0.7202380952380952, 0.8571428571428571, 0.8550543024227235, 0.7837408748293668, 0.7908708938120703, 0.8571428571428571, 0.8063298490127757, 0.7898816635375775, 0.767595818815331, 0.5786691325284388, 0.8234126984126985, 0.7392447977554361, 0.8571428571428571, 0.8022265122265122, 0.8587301587301589, 0.8720779220779219, 0.8355287569573283, 0.8113839285714286, 0.5257296466973888, 0.8720779220779219, 0.7898816635375775, 0.852402499461323, 0.8571428571428571, 0.8720779220779219, 0.8741441441441441, 0.7949065702230259, 0.8321962847279304, 0.8321962847279304, 0.8928571428571429, 0.5257296466973888, 0.8113839285714286, 0.8113839285714286, 0.7051011929491364, 0.7898816635375775, 0.8321962847279304, 0.8155031243266537, 0.8113839285714286, 0.7729428475131205, 0.8550543024227235, 0.8720779220779219, 0.8214285714285714, 0.9101029601029601, 0.8720779220779219]}, {\"categories\": [\"0\", \"1\", \"2\", \"3\", \"4\", \"5\", \"6\", \"7\", \"8\", \"9\", \"10\", \"11\", \"12\", \"13\", \"14\", \"15\", \"16\", \"17\", \"18\", \"19\", \"20\", \"21\", \"22\", \"23\", \"24\", \"25\", \"26\", \"27\", \"28\", \"29\", \"30\", \"31\", \"32\", \"33\", \"34\", \"35\", \"38\", \"39\", \"40\", \"41\", \"42\", \"43\", \"44\", \"45\", \"46\", \"47\", \"48\", \"50\", \"53\", \"54\"], \"mode\": \"lines\", \"name\": \"f1_score_weighted_max\", \"stepped\": true, \"type\": \"scatter\", \"data\": [0.8741441441441441, 0.8741441441441441, 0.8741441441441441, 0.8741441441441441, 0.8741441441441441, 0.8741441441441441, 0.8741441441441441, 0.8741441441441441, 0.8741441441441441, 0.8741441441441441, 0.8741441441441441, 0.8741441441441441, 0.8741441441441441, 0.8741441441441441, 0.8741441441441441, 0.8741441441441441, 0.8741441441441441, 0.8741441441441441, 0.8741441441441441, 0.8741441441441441, 0.8741441441441441, 0.8741441441441441, 0.8741441441441441, 0.8741441441441441, 0.8741441441441441, 0.8741441441441441, 0.8741441441441441, 0.8741441441441441, 0.8741441441441441, 0.8741441441441441, 0.8741441441441441, 0.8741441441441441, 0.8741441441441441, 0.8741441441441441, 0.8741441441441441, 0.8928571428571429, 0.8928571428571429, 0.8928571428571429, 0.8928571428571429, 0.8928571428571429, 0.8928571428571429, 0.8928571428571429, 0.8928571428571429, 0.8928571428571429, 0.8928571428571429, 0.8928571428571429, 0.8928571428571429, 0.8928571428571429, 0.9101029601029601, 0.9101029601029601]}], \"precision_score_micro\": [{\"categories\": [\"0\", \"1\", \"2\", \"3\", \"4\", \"5\", \"6\", \"7\", \"8\", \"9\", \"10\", \"11\", \"12\", \"13\", \"14\", \"15\", \"16\", \"17\", \"18\", \"19\", \"20\", \"21\", \"22\", \"23\", \"24\", \"25\", \"26\", \"27\", \"28\", \"29\", \"30\", \"31\", \"32\", \"33\", \"34\", \"35\", \"38\", \"39\", \"40\", \"41\", \"42\", \"43\", \"44\", \"45\", \"46\", \"47\", \"48\", \"50\", \"53\", \"54\"], \"mode\": \"markers\", \"name\": \"precision_score_micro\", \"stepped\": false, \"type\": \"scatter\", \"data\": [0.875, 0.875, 0.8035714285714286, 0.8571428571428571, 0.8571428571428571, 0.75, 0.8035714285714286, 0.75, 0.8571428571428571, 0.8571428571428571, 0.8035714285714286, 0.7857142857142857, 0.8571428571428571, 0.8214285714285714, 0.8035714285714286, 0.7857142857142857, 0.6607142857142857, 0.8214285714285714, 0.7321428571428571, 0.8571428571428571, 0.8035714285714286, 0.8571428571428571, 0.875, 0.8392857142857143, 0.8214285714285714, 0.6607142857142857, 0.875, 0.8035714285714286, 0.8571428571428571, 0.8571428571428571, 0.875, 0.875, 0.8035714285714286, 0.8392857142857143, 0.8392857142857143, 0.8928571428571429, 0.6607142857142857, 0.8214285714285714, 0.8214285714285714, 0.7321428571428571, 0.8035714285714286, 0.8392857142857143, 0.8214285714285714, 0.8214285714285714, 0.7678571428571429, 0.8571428571428571, 0.875, 0.8214285714285714, 0.9107142857142857, 0.875]}, {\"categories\": [\"0\", \"1\", \"2\", \"3\", \"4\", \"5\", \"6\", \"7\", \"8\", \"9\", \"10\", \"11\", \"12\", \"13\", \"14\", \"15\", \"16\", \"17\", \"18\", \"19\", \"20\", \"21\", \"22\", \"23\", \"24\", \"25\", \"26\", \"27\", \"28\", \"29\", \"30\", \"31\", \"32\", \"33\", \"34\", \"35\", \"38\", \"39\", \"40\", \"41\", \"42\", \"43\", \"44\", \"45\", \"46\", \"47\", \"48\", \"50\", \"53\", \"54\"], \"mode\": \"lines\", \"name\": \"precision_score_micro_max\", \"stepped\": true, \"type\": \"scatter\", \"data\": [0.875, 0.875, 0.875, 0.875, 0.875, 0.875, 0.875, 0.875, 0.875, 0.875, 0.875, 0.875, 0.875, 0.875, 0.875, 0.875, 0.875, 0.875, 0.875, 0.875, 0.875, 0.875, 0.875, 0.875, 0.875, 0.875, 0.875, 0.875, 0.875, 0.875, 0.875, 0.875, 0.875, 0.875, 0.875, 0.8928571428571429, 0.8928571428571429, 0.8928571428571429, 0.8928571428571429, 0.8928571428571429, 0.8928571428571429, 0.8928571428571429, 0.8928571428571429, 0.8928571428571429, 0.8928571428571429, 0.8928571428571429, 0.8928571428571429, 0.8928571428571429, 0.9107142857142857, 0.9107142857142857]}], \"weighted_accuracy\": [{\"categories\": [\"0\", \"1\", \"2\", \"3\", \"4\", \"5\", \"6\", \"7\", \"8\", \"9\", \"10\", \"11\", \"12\", \"13\", \"14\", \"15\", \"16\", \"17\", \"18\", \"19\", \"20\", \"21\", \"22\", \"23\", \"24\", \"25\", \"26\", \"27\", \"28\", \"29\", \"30\", \"31\", \"32\", \"33\", \"34\", \"35\", \"38\", \"39\", \"40\", \"41\", \"42\", \"43\", \"44\", \"45\", \"46\", \"47\", \"48\", \"50\", \"53\", \"54\"], \"mode\": \"markers\", \"name\": \"weighted_accuracy\", \"stepped\": false, \"type\": \"scatter\", \"data\": [0.891907514450867, 0.8919075144508671, 0.8167630057803469, 0.8809248554913295, 0.8809248554913295, 0.7421965317919075, 0.8375722543352603, 0.8254335260115607, 0.8705202312138728, 0.8809248554913295, 0.86878612716763, 0.7745664739884393, 0.8705202312138728, 0.8797687861271677, 0.8583815028901733, 0.8473988439306359, 0.770520231213873, 0.8277456647398844, 0.7104046242774567, 0.8705202312138728, 0.8271676300578034, 0.8601156069364162, 0.9023121387283238, 0.869942196531792, 0.869364161849711, 0.7913294797687862, 0.9023121387283237, 0.8583815028901733, 0.8913294797687862, 0.8705202312138728, 0.9023121387283237, 0.8919075144508671, 0.8479768786127168, 0.8803468208092486, 0.8803468208092486, 0.9028901734104046, 0.7913294797687862, 0.869364161849711, 0.869364161849711, 0.8040462427745665, 0.8583815028901735, 0.8803468208092486, 0.8589595375722544, 0.869364161849711, 0.7635838150289017, 0.8809248554913295, 0.9023121387283237, 0.838150289017341, 0.9242774566473989, 0.9023121387283237]}, {\"categories\": [\"0\", \"1\", \"2\", \"3\", \"4\", \"5\", \"6\", \"7\", \"8\", \"9\", \"10\", \"11\", \"12\", \"13\", \"14\", \"15\", \"16\", \"17\", \"18\", \"19\", \"20\", \"21\", \"22\", \"23\", \"24\", \"25\", \"26\", \"27\", \"28\", \"29\", \"30\", \"31\", \"32\", \"33\", \"34\", \"35\", \"38\", \"39\", \"40\", \"41\", \"42\", \"43\", \"44\", \"45\", \"46\", \"47\", \"48\", \"50\", \"53\", \"54\"], \"mode\": \"lines\", \"name\": \"weighted_accuracy_max\", \"stepped\": true, \"type\": \"scatter\", \"data\": [0.891907514450867, 0.8919075144508671, 0.8919075144508671, 0.8919075144508671, 0.8919075144508671, 0.8919075144508671, 0.8919075144508671, 0.8919075144508671, 0.8919075144508671, 0.8919075144508671, 0.8919075144508671, 0.8919075144508671, 0.8919075144508671, 0.8919075144508671, 0.8919075144508671, 0.8919075144508671, 0.8919075144508671, 0.8919075144508671, 0.8919075144508671, 0.8919075144508671, 0.8919075144508671, 0.8919075144508671, 0.9023121387283238, 0.9023121387283238, 0.9023121387283238, 0.9023121387283238, 0.9023121387283238, 0.9023121387283238, 0.9023121387283238, 0.9023121387283238, 0.9023121387283238, 0.9023121387283238, 0.9023121387283238, 0.9023121387283238, 0.9023121387283238, 0.9028901734104046, 0.9028901734104046, 0.9028901734104046, 0.9028901734104046, 0.9028901734104046, 0.9028901734104046, 0.9028901734104046, 0.9028901734104046, 0.9028901734104046, 0.9028901734104046, 0.9028901734104046, 0.9028901734104046, 0.9028901734104046, 0.9242774566473989, 0.9242774566473989]}], \"average_precision_score_weighted\": [{\"categories\": [\"0\", \"1\", \"2\", \"3\", \"4\", \"5\", \"6\", \"7\", \"8\", \"9\", \"10\", \"11\", \"12\", \"13\", \"14\", \"15\", \"16\", \"17\", \"18\", \"19\", \"20\", \"21\", \"22\", \"23\", \"24\", \"25\", \"26\", \"27\", \"28\", \"29\", \"30\", \"31\", \"32\", \"33\", \"34\", \"35\", \"38\", \"39\", \"40\", \"41\", \"42\", \"43\", \"44\", \"45\", \"46\", \"47\", \"48\", \"50\", \"53\", \"54\"], \"mode\": \"markers\", \"name\": \"average_precision_score_weighted\", \"stepped\": false, \"type\": \"scatter\", \"data\": [0.9116658641087486, 0.9177640134431239, 0.8826228620546234, 0.9103342512414763, 0.9024632901500949, 0.903403382801093, 0.9048266667753256, 0.9112960996653925, 0.9257690197357569, 0.9086366906272304, 0.9074564213790033, 0.872529174740601, 0.8900367482551116, 0.8933971541107548, 0.9239822829564303, 0.8558428162598551, 0.7940115742745207, 0.9213702610065401, 0.89241940970014, 0.9021278564310447, 0.8625054350827815, 0.8789950457038785, 0.9006410471284304, 0.9067338178620018, 0.9229327667644612, 0.5516581632653061, 0.933889071403698, 0.9152408355027349, 0.9393780460944132, 0.8956208469117818, 0.8717119805696658, 0.9067999980253493, 0.8927340444326878, 0.9279118506957406, 0.9259598719006722, 0.9413677446813009, 0.6934504014147638, 0.8909873784161798, 0.9114447390891272, 0.9058859071459946, 0.9081814257519741, 0.8877299009080436, 0.8308106510455823, 0.9404695577183521, 0.9121814360545925, 0.9101967060608278, 0.9229706583966315, 0.907944454228349, 0.918175796044811, 0.9151003458826672]}, {\"categories\": [\"0\", \"1\", \"2\", \"3\", \"4\", \"5\", \"6\", \"7\", \"8\", \"9\", \"10\", \"11\", \"12\", \"13\", \"14\", \"15\", \"16\", \"17\", \"18\", \"19\", \"20\", \"21\", \"22\", \"23\", \"24\", \"25\", \"26\", \"27\", \"28\", \"29\", \"30\", \"31\", \"32\", \"33\", \"34\", \"35\", \"38\", \"39\", \"40\", \"41\", \"42\", \"43\", \"44\", \"45\", \"46\", \"47\", \"48\", \"50\", \"53\", \"54\"], \"mode\": \"lines\", \"name\": \"average_precision_score_weighted_max\", \"stepped\": true, \"type\": \"scatter\", \"data\": [0.9116658641087486, 0.9177640134431239, 0.9177640134431239, 0.9177640134431239, 0.9177640134431239, 0.9177640134431239, 0.9177640134431239, 0.9177640134431239, 0.9257690197357569, 0.9257690197357569, 0.9257690197357569, 0.9257690197357569, 0.9257690197357569, 0.9257690197357569, 0.9257690197357569, 0.9257690197357569, 0.9257690197357569, 0.9257690197357569, 0.9257690197357569, 0.9257690197357569, 0.9257690197357569, 0.9257690197357569, 0.9257690197357569, 0.9257690197357569, 0.9257690197357569, 0.9257690197357569, 0.933889071403698, 0.933889071403698, 0.9393780460944132, 0.9393780460944132, 0.9393780460944132, 0.9393780460944132, 0.9393780460944132, 0.9393780460944132, 0.9393780460944132, 0.9413677446813009, 0.9413677446813009, 0.9413677446813009, 0.9413677446813009, 0.9413677446813009, 0.9413677446813009, 0.9413677446813009, 0.9413677446813009, 0.9413677446813009, 0.9413677446813009, 0.9413677446813009, 0.9413677446813009, 0.9413677446813009, 0.9413677446813009, 0.9413677446813009]}], \"AUC_weighted\": [{\"categories\": [\"0\", \"1\", \"2\", \"3\", \"4\", \"5\", \"6\", \"7\", \"8\", \"9\", \"10\", \"11\", \"12\", \"13\", \"14\", \"15\", \"16\", \"17\", \"18\", \"19\", \"20\", \"21\", \"22\", \"23\", \"24\", \"25\", \"26\", \"27\", \"28\", \"29\", \"30\", \"31\", \"32\", \"33\", \"34\", \"35\", \"38\", \"39\", \"40\", \"41\", \"42\", \"43\", \"44\", \"45\", \"46\", \"47\", \"48\", \"50\", \"53\", \"54\"], \"mode\": \"markers\", \"name\": \"AUC_weighted\", \"stepped\": false, \"type\": \"scatter\", \"data\": [0.9345661450924609, 0.9388335704125177, 0.8933143669985775, 0.8933143669985775, 0.9174964438122333, 0.887624466571835, 0.9170265190002033, 0.9018492176386914, 0.918918918918919, 0.8933143669985776, 0.8975817923186344, 0.8677098150782362, 0.8947368421052632, 0.8862019914651494, 0.9317211948790896, 0.8591749644381224, 0.8122332859174964, 0.9246088193456615, 0.8762446657183501, 0.9018492176386912, 0.8634423897581792, 0.883357041251778, 0.9217638691322901, 0.9217638691322902, 0.9103840682788051, 0.5, 0.9302987197724041, 0.9246088193456613, 0.9416785206258892, 0.918918918918919, 0.883357041251778, 0.9288762446657185, 0.8805120910384068, 0.9295874822190611, 0.9310099573257469, 0.9388335704125178, 0.6450924608819346, 0.8733997155049787, 0.9046941678520627, 0.896159317211949, 0.9189189189189191, 0.8762446657183498, 0.8421052631578947, 0.9402560455192034, 0.8961593172119487, 0.8933143669985775, 0.9288762446657185, 0.9274537695590327, 0.9288762446657183, 0.9246088193456613]}, {\"categories\": [\"0\", \"1\", \"2\", \"3\", \"4\", \"5\", \"6\", \"7\", \"8\", \"9\", \"10\", \"11\", \"12\", \"13\", \"14\", \"15\", \"16\", \"17\", \"18\", \"19\", \"20\", \"21\", \"22\", \"23\", \"24\", \"25\", \"26\", \"27\", \"28\", \"29\", \"30\", \"31\", \"32\", \"33\", \"34\", \"35\", \"38\", \"39\", \"40\", \"41\", \"42\", \"43\", \"44\", \"45\", \"46\", \"47\", \"48\", \"50\", \"53\", \"54\"], \"mode\": \"lines\", \"name\": \"AUC_weighted_max\", \"stepped\": true, \"type\": \"scatter\", \"data\": [0.9345661450924609, 0.9388335704125177, 0.9388335704125177, 0.9388335704125177, 0.9388335704125177, 0.9388335704125177, 0.9388335704125177, 0.9388335704125177, 0.9388335704125177, 0.9388335704125177, 0.9388335704125177, 0.9388335704125177, 0.9388335704125177, 0.9388335704125177, 0.9388335704125177, 0.9388335704125177, 0.9388335704125177, 0.9388335704125177, 0.9388335704125177, 0.9388335704125177, 0.9388335704125177, 0.9388335704125177, 0.9388335704125177, 0.9388335704125177, 0.9388335704125177, 0.9388335704125177, 0.9388335704125177, 0.9388335704125177, 0.9416785206258892, 0.9416785206258892, 0.9416785206258892, 0.9416785206258892, 0.9416785206258892, 0.9416785206258892, 0.9416785206258892, 0.9416785206258892, 0.9416785206258892, 0.9416785206258892, 0.9416785206258892, 0.9416785206258892, 0.9416785206258892, 0.9416785206258892, 0.9416785206258892, 0.9416785206258892, 0.9416785206258892, 0.9416785206258892, 0.9416785206258892, 0.9416785206258892, 0.9416785206258892, 0.9416785206258892]}], \"accuracy\": [{\"categories\": [\"0\", \"1\", \"2\", \"3\", \"4\", \"5\", \"6\", \"7\", \"8\", \"9\", \"10\", \"11\", \"12\", \"13\", \"14\", \"15\", \"16\", \"17\", \"18\", \"19\", \"20\", \"21\", \"22\", \"23\", \"24\", \"25\", \"26\", \"27\", \"28\", \"29\", \"30\", \"31\", \"32\", \"33\", \"34\", \"35\", \"38\", \"39\", \"40\", \"41\", \"42\", \"43\", \"44\", \"45\", \"46\", \"47\", \"48\", \"50\", \"53\", \"54\"], \"mode\": \"markers\", \"name\": \"accuracy\", \"stepped\": false, \"type\": \"scatter\", \"data\": [0.875, 0.875, 0.8035714285714286, 0.8571428571428571, 0.8571428571428571, 0.75, 0.8035714285714286, 0.75, 0.8571428571428571, 0.8571428571428571, 0.8035714285714286, 0.7857142857142857, 0.8571428571428571, 0.8214285714285714, 0.8035714285714286, 0.7857142857142857, 0.6607142857142857, 0.8214285714285714, 0.7321428571428571, 0.8571428571428571, 0.8035714285714286, 0.8571428571428571, 0.875, 0.8392857142857143, 0.8214285714285714, 0.6607142857142857, 0.875, 0.8035714285714286, 0.8571428571428571, 0.8571428571428571, 0.875, 0.875, 0.8035714285714286, 0.8392857142857143, 0.8392857142857143, 0.8928571428571429, 0.6607142857142857, 0.8214285714285714, 0.8214285714285714, 0.7321428571428571, 0.8035714285714286, 0.8392857142857143, 0.8214285714285714, 0.8214285714285714, 0.7678571428571429, 0.8571428571428571, 0.875, 0.8214285714285714, 0.9107142857142857, 0.875]}, {\"categories\": [\"0\", \"1\", \"2\", \"3\", \"4\", \"5\", \"6\", \"7\", \"8\", \"9\", \"10\", \"11\", \"12\", \"13\", \"14\", \"15\", \"16\", \"17\", \"18\", \"19\", \"20\", \"21\", \"22\", \"23\", \"24\", \"25\", \"26\", \"27\", \"28\", \"29\", \"30\", \"31\", \"32\", \"33\", \"34\", \"35\", \"38\", \"39\", \"40\", \"41\", \"42\", \"43\", \"44\", \"45\", \"46\", \"47\", \"48\", \"50\", \"53\", \"54\"], \"mode\": \"lines\", \"name\": \"accuracy_max\", \"stepped\": true, \"type\": \"scatter\", \"data\": [0.875, 0.875, 0.875, 0.875, 0.875, 0.875, 0.875, 0.875, 0.875, 0.875, 0.875, 0.875, 0.875, 0.875, 0.875, 0.875, 0.875, 0.875, 0.875, 0.875, 0.875, 0.875, 0.875, 0.875, 0.875, 0.875, 0.875, 0.875, 0.875, 0.875, 0.875, 0.875, 0.875, 0.875, 0.875, 0.8928571428571429, 0.8928571428571429, 0.8928571428571429, 0.8928571428571429, 0.8928571428571429, 0.8928571428571429, 0.8928571428571429, 0.8928571428571429, 0.8928571428571429, 0.8928571428571429, 0.8928571428571429, 0.8928571428571429, 0.8928571428571429, 0.9107142857142857, 0.9107142857142857]}], \"precision_score_weighted\": [{\"categories\": [\"0\", \"1\", \"2\", \"3\", \"4\", \"5\", \"6\", \"7\", \"8\", \"9\", \"10\", \"11\", \"12\", \"13\", \"14\", \"15\", \"16\", \"17\", \"18\", \"19\", \"20\", \"21\", \"22\", \"23\", \"24\", \"25\", \"26\", \"27\", \"28\", \"29\", \"30\", \"31\", \"32\", \"33\", \"34\", \"35\", \"38\", \"39\", \"40\", \"41\", \"42\", \"43\", \"44\", \"45\", \"46\", \"47\", \"48\", \"50\", \"53\", \"54\"], \"mode\": \"markers\", \"name\": \"precision_score_weighted\", \"stepped\": false, \"type\": \"scatter\", \"data\": [0.8739035087719299, 0.8739035087719299, 0.8064484126984127, 0.8554190907132083, 0.8554190907132083, 0.7790322580645161, 0.7995535714285714, 0.7559101654846335, 0.8571428571428571, 0.8554190907132083, 0.8224378881987578, 0.8139170506912442, 0.8571428571428571, 0.8370129870129871, 0.8083062770562771, 0.7914862914862916, 0.6143543956043958, 0.8275510204081632, 0.7838010204081632, 0.8571428571428571, 0.8014306599832915, 0.8625850340136054, 0.875, 0.8372767857142858, 0.8248786097623306, 0.4365433673469387, 0.875, 0.8083062770562771, 0.8580720092915215, 0.8571428571428571, 0.875, 0.8739035087719299, 0.8014455782312925, 0.8414115646258503, 0.8414115646258503, 0.8928571428571429, 0.4365433673469387, 0.8248786097623306, 0.8248786097623306, 0.7258540372670808, 0.8083062770562771, 0.8414115646258503, 0.8193379790940767, 0.8248786097623306, 0.7901785714285714, 0.8554190907132083, 0.875, 0.8214285714285714, 0.910139933166249, 0.875]}, {\"categories\": [\"0\", \"1\", \"2\", \"3\", \"4\", \"5\", \"6\", \"7\", \"8\", \"9\", \"10\", \"11\", \"12\", \"13\", \"14\", \"15\", \"16\", \"17\", \"18\", \"19\", \"20\", \"21\", \"22\", \"23\", \"24\", \"25\", \"26\", \"27\", \"28\", \"29\", \"30\", \"31\", \"32\", \"33\", \"34\", \"35\", \"38\", \"39\", \"40\", \"41\", \"42\", \"43\", \"44\", \"45\", \"46\", \"47\", \"48\", \"50\", \"53\", \"54\"], \"mode\": \"lines\", \"name\": \"precision_score_weighted_max\", \"stepped\": true, \"type\": \"scatter\", \"data\": [0.8739035087719299, 0.8739035087719299, 0.8739035087719299, 0.8739035087719299, 0.8739035087719299, 0.8739035087719299, 0.8739035087719299, 0.8739035087719299, 0.8739035087719299, 0.8739035087719299, 0.8739035087719299, 0.8739035087719299, 0.8739035087719299, 0.8739035087719299, 0.8739035087719299, 0.8739035087719299, 0.8739035087719299, 0.8739035087719299, 0.8739035087719299, 0.8739035087719299, 0.8739035087719299, 0.8739035087719299, 0.875, 0.875, 0.875, 0.875, 0.875, 0.875, 0.875, 0.875, 0.875, 0.875, 0.875, 0.875, 0.875, 0.8928571428571429, 0.8928571428571429, 0.8928571428571429, 0.8928571428571429, 0.8928571428571429, 0.8928571428571429, 0.8928571428571429, 0.8928571428571429, 0.8928571428571429, 0.8928571428571429, 0.8928571428571429, 0.8928571428571429, 0.8928571428571429, 0.910139933166249, 0.910139933166249]}], \"precision_score_macro\": [{\"categories\": [\"0\", \"1\", \"2\", \"3\", \"4\", \"5\", \"6\", \"7\", \"8\", \"9\", \"10\", \"11\", \"12\", \"13\", \"14\", \"15\", \"16\", \"17\", \"18\", \"19\", \"20\", \"21\", \"22\", \"23\", \"24\", \"25\", \"26\", \"27\", \"28\", \"29\", \"30\", \"31\", \"32\", \"33\", \"34\", \"35\", \"38\", \"39\", \"40\", \"41\", \"42\", \"43\", \"44\", \"45\", \"46\", \"47\", \"48\", \"50\", \"53\", \"54\"], \"mode\": \"markers\", \"name\": \"precision_score_macro\", \"stepped\": false, \"type\": \"scatter\", \"data\": [0.8640350877192983, 0.8640350877192983, 0.7805555555555556, 0.8476621417797888, 0.8476621417797888, 0.7354838709677419, 0.7875, 0.7612293144208038, 0.8406827880512091, 0.8476621417797888, 0.841304347826087, 0.7716129032258064, 0.8406827880512091, 0.8545454545454545, 0.8143939393939394, 0.797979797979798, 0.5865384615384616, 0.8, 0.7321428571428572, 0.8406827880512091, 0.7821637426900585, 0.838095238095238, 0.875, 0.83125, 0.8300536672629696, 0.33035714285714285, 0.875, 0.8143939393939394, 0.8601626016260162, 0.8406827880512091, 0.875, 0.8640350877192983, 0.7976190476190477, 0.8452380952380952, 0.8452380952380952, 0.8805120910384068, 0.33035714285714285, 0.8300536672629696, 0.8300536672629696, 0.7195652173913043, 0.8143939393939394, 0.8452380952380952, 0.8146341463414635, 0.8300536672629696, 0.75, 0.8476621417797888, 0.875, 0.8008534850640114, 0.9049707602339181, 0.875]}, {\"categories\": [\"0\", \"1\", \"2\", \"3\", \"4\", \"5\", \"6\", \"7\", \"8\", \"9\", \"10\", \"11\", \"12\", \"13\", \"14\", \"15\", \"16\", \"17\", \"18\", \"19\", \"20\", \"21\", \"22\", \"23\", \"24\", \"25\", \"26\", \"27\", \"28\", \"29\", \"30\", \"31\", \"32\", \"33\", \"34\", \"35\", \"38\", \"39\", \"40\", \"41\", \"42\", \"43\", \"44\", \"45\", \"46\", \"47\", \"48\", \"50\", \"53\", \"54\"], \"mode\": \"lines\", \"name\": \"precision_score_macro_max\", \"stepped\": true, \"type\": \"scatter\", \"data\": [0.8640350877192983, 0.8640350877192983, 0.8640350877192983, 0.8640350877192983, 0.8640350877192983, 0.8640350877192983, 0.8640350877192983, 0.8640350877192983, 0.8640350877192983, 0.8640350877192983, 0.8640350877192983, 0.8640350877192983, 0.8640350877192983, 0.8640350877192983, 0.8640350877192983, 0.8640350877192983, 0.8640350877192983, 0.8640350877192983, 0.8640350877192983, 0.8640350877192983, 0.8640350877192983, 0.8640350877192983, 0.875, 0.875, 0.875, 0.875, 0.875, 0.875, 0.875, 0.875, 0.875, 0.875, 0.875, 0.875, 0.875, 0.8805120910384068, 0.8805120910384068, 0.8805120910384068, 0.8805120910384068, 0.8805120910384068, 0.8805120910384068, 0.8805120910384068, 0.8805120910384068, 0.8805120910384068, 0.8805120910384068, 0.8805120910384068, 0.8805120910384068, 0.8805120910384068, 0.9049707602339181, 0.9049707602339181]}], \"AUC_macro\": [{\"categories\": [\"0\", \"1\", \"2\", \"3\", \"4\", \"5\", \"6\", \"7\", \"8\", \"9\", \"10\", \"11\", \"12\", \"13\", \"14\", \"15\", \"16\", \"17\", \"18\", \"19\", \"20\", \"21\", \"22\", \"23\", \"24\", \"25\", \"26\", \"27\", \"28\", \"29\", \"30\", \"31\", \"32\", \"33\", \"34\", \"35\", \"38\", \"39\", \"40\", \"41\", \"42\", \"43\", \"44\", \"45\", \"46\", \"47\", \"48\", \"50\", \"53\", \"54\"], \"mode\": \"markers\", \"name\": \"AUC_macro\", \"stepped\": false, \"type\": \"scatter\", \"data\": [0.9345661450924609, 0.9388335704125177, 0.8933143669985775, 0.8933143669985775, 0.9174964438122333, 0.8876244665718349, 0.9171408250355618, 0.9018492176386914, 0.9189189189189189, 0.8933143669985776, 0.8975817923186344, 0.8677098150782361, 0.894736842105263, 0.8862019914651493, 0.9317211948790896, 0.8591749644381224, 0.8122332859174963, 0.9246088193456614, 0.87624466571835, 0.9018492176386913, 0.8634423897581792, 0.8833570412517782, 0.9217638691322901, 0.9217638691322902, 0.9103840682788051, 0.5, 0.930298719772404, 0.9246088193456614, 0.9416785206258891, 0.9189189189189189, 0.883357041251778, 0.9288762446657184, 0.8805120910384068, 0.9295874822190612, 0.9310099573257468, 0.9388335704125178, 0.6450924608819346, 0.8733997155049787, 0.9046941678520626, 0.8961593172119489, 0.918918918918919, 0.8762446657183499, 0.8421052631578947, 0.9402560455192035, 0.8961593172119489, 0.8933143669985775, 0.9288762446657184, 0.9274537695590328, 0.9288762446657183, 0.9246088193456614]}, {\"categories\": [\"0\", \"1\", \"2\", \"3\", \"4\", \"5\", \"6\", \"7\", \"8\", \"9\", \"10\", \"11\", \"12\", \"13\", \"14\", \"15\", \"16\", \"17\", \"18\", \"19\", \"20\", \"21\", \"22\", \"23\", \"24\", \"25\", \"26\", \"27\", \"28\", \"29\", \"30\", \"31\", \"32\", \"33\", \"34\", \"35\", \"38\", \"39\", \"40\", \"41\", \"42\", \"43\", \"44\", \"45\", \"46\", \"47\", \"48\", \"50\", \"53\", \"54\"], \"mode\": \"lines\", \"name\": \"AUC_macro_max\", \"stepped\": true, \"type\": \"scatter\", \"data\": [0.9345661450924609, 0.9388335704125177, 0.9388335704125177, 0.9388335704125177, 0.9388335704125177, 0.9388335704125177, 0.9388335704125177, 0.9388335704125177, 0.9388335704125177, 0.9388335704125177, 0.9388335704125177, 0.9388335704125177, 0.9388335704125177, 0.9388335704125177, 0.9388335704125177, 0.9388335704125177, 0.9388335704125177, 0.9388335704125177, 0.9388335704125177, 0.9388335704125177, 0.9388335704125177, 0.9388335704125177, 0.9388335704125177, 0.9388335704125177, 0.9388335704125177, 0.9388335704125177, 0.9388335704125177, 0.9388335704125177, 0.9416785206258891, 0.9416785206258891, 0.9416785206258891, 0.9416785206258891, 0.9416785206258891, 0.9416785206258891, 0.9416785206258891, 0.9416785206258891, 0.9416785206258891, 0.9416785206258891, 0.9416785206258891, 0.9416785206258891, 0.9416785206258891, 0.9416785206258891, 0.9416785206258891, 0.9416785206258891, 0.9416785206258891, 0.9416785206258891, 0.9416785206258891, 0.9416785206258891, 0.9416785206258891, 0.9416785206258891]}]}, \"metricName\": null, \"primaryMetricName\": \"accuracy\", \"showLegend\": false}, \"run_metrics\": [{\"name\": \"experiment_status\", \"run_id\": \"AutoML_d9602484-520b-4a48-b3f7-50eda90d92aa\", \"categories\": [0, 1, 2, 3, 4, 5, 6, 7, 8, 9, 10, 11, 12], \"series\": [{\"data\": [\"DatasetEvaluation\", \"FeaturesGeneration\", \"DatasetFeaturization\", \"DatasetFeaturizationCompleted\", \"ModelSelection\", \"BestRunExplainModel\", \"ModelExplanationDataSetSetup\", \"PickSurrogateModel\", \"EngineeredFeatureExplanations\", \"EngineeredFeatureExplanations\", \"RawFeaturesExplanations\", \"RawFeaturesExplanations\", \"BestRunExplainModel\"]}]}, {\"name\": \"experiment_status_description\", \"run_id\": \"AutoML_d9602484-520b-4a48-b3f7-50eda90d92aa\", \"categories\": [0, 1, 2, 3, 4, 5, 6, 7, 8, 9, 10, 11, 12], \"series\": [{\"data\": [\"Gathering dataset statistics.\", \"Generating features for the dataset.\", \"Beginning to fit featurizers and featurize the dataset.\", \"Completed fit featurizers and featurizing the dataset.\", \"Beginning model selection.\", \"Best run model explanations started\", \"Model explanations data setup completed\", \"Choosing LightGBM as the surrogate model for explanations\", \"Computation of engineered features started\", \"Computation of engineered features completed\", \"Computation of raw features started\", \"Computation of raw features completed\", \"Best run model explanations completed\"]}]}, {\"name\": \"AUC_weighted\", \"run_id\": \"AutoML_d9602484-520b-4a48-b3f7-50eda90d92aa\", \"categories\": [0], \"series\": [{\"data\": [0.9288762446657183]}]}, {\"name\": \"balanced_accuracy\", \"run_id\": \"AutoML_d9602484-520b-4a48-b3f7-50eda90d92aa\", \"categories\": [0], \"series\": [{\"data\": [0.8940256045519204]}]}, {\"name\": \"precision_score_macro\", \"run_id\": \"AutoML_d9602484-520b-4a48-b3f7-50eda90d92aa\", \"categories\": [0], \"series\": [{\"data\": [0.9049707602339181]}]}, {\"name\": \"weighted_accuracy\", \"run_id\": \"AutoML_d9602484-520b-4a48-b3f7-50eda90d92aa\", \"categories\": [0], \"series\": [{\"data\": [0.9242774566473989]}]}, {\"name\": \"recall_score_macro\", \"run_id\": \"AutoML_d9602484-520b-4a48-b3f7-50eda90d92aa\", \"categories\": [0], \"series\": [{\"data\": [0.8940256045519204]}]}, {\"name\": \"matthews_correlation\", \"run_id\": \"AutoML_d9602484-520b-4a48-b3f7-50eda90d92aa\", \"categories\": [0], \"series\": [{\"data\": [0.7989213944488416]}]}, {\"name\": \"accuracy\", \"run_id\": \"AutoML_d9602484-520b-4a48-b3f7-50eda90d92aa\", \"categories\": [0], \"series\": [{\"data\": [0.9107142857142857]}]}, {\"name\": \"norm_macro_recall\", \"run_id\": \"AutoML_d9602484-520b-4a48-b3f7-50eda90d92aa\", \"categories\": [0], \"series\": [{\"data\": [0.7880512091038407]}]}, {\"name\": \"f1_score_micro\", \"run_id\": \"AutoML_d9602484-520b-4a48-b3f7-50eda90d92aa\", \"categories\": [0], \"series\": [{\"data\": [0.9107142857142857]}]}, {\"name\": \"AUC_macro\", \"run_id\": \"AutoML_d9602484-520b-4a48-b3f7-50eda90d92aa\", \"categories\": [0], \"series\": [{\"data\": [0.9288762446657183]}]}, {\"name\": \"average_precision_score_micro\", \"run_id\": \"AutoML_d9602484-520b-4a48-b3f7-50eda90d92aa\", \"categories\": [0], \"series\": [{\"data\": [0.9362761293876679]}]}, {\"name\": \"precision_score_weighted\", \"run_id\": \"AutoML_d9602484-520b-4a48-b3f7-50eda90d92aa\", \"categories\": [0], \"series\": [{\"data\": [0.910139933166249]}]}, {\"name\": \"f1_score_weighted\", \"run_id\": \"AutoML_d9602484-520b-4a48-b3f7-50eda90d92aa\", \"categories\": [0], \"series\": [{\"data\": [0.9101029601029601]}]}, {\"name\": \"log_loss\", \"run_id\": \"AutoML_d9602484-520b-4a48-b3f7-50eda90d92aa\", \"categories\": [0], \"series\": [{\"data\": [0.3420884172299194]}]}, {\"name\": \"recall_score_micro\", \"run_id\": \"AutoML_d9602484-520b-4a48-b3f7-50eda90d92aa\", \"categories\": [0], \"series\": [{\"data\": [0.9107142857142857]}]}, {\"name\": \"f1_score_macro\", \"run_id\": \"AutoML_d9602484-520b-4a48-b3f7-50eda90d92aa\", \"categories\": [0], \"series\": [{\"data\": [0.899099099099099]}]}, {\"name\": \"average_precision_score_weighted\", \"run_id\": \"AutoML_d9602484-520b-4a48-b3f7-50eda90d92aa\", \"categories\": [0], \"series\": [{\"data\": [0.918175796044811]}]}, {\"name\": \"average_precision_score_macro\", \"run_id\": \"AutoML_d9602484-520b-4a48-b3f7-50eda90d92aa\", \"categories\": [0], \"series\": [{\"data\": [0.8939399032736121]}]}, {\"name\": \"recall_score_weighted\", \"run_id\": \"AutoML_d9602484-520b-4a48-b3f7-50eda90d92aa\", \"categories\": [0], \"series\": [{\"data\": [0.9107142857142857]}]}, {\"name\": \"precision_score_micro\", \"run_id\": \"AutoML_d9602484-520b-4a48-b3f7-50eda90d92aa\", \"categories\": [0], \"series\": [{\"data\": [0.9107142857142857]}]}, {\"name\": \"AUC_micro\", \"run_id\": \"AutoML_d9602484-520b-4a48-b3f7-50eda90d92aa\", \"categories\": [0], \"series\": [{\"data\": [0.9327168367346939]}]}], \"run_logs\": \"\\nRun is completed.\", \"graph\": {}, \"widget_settings\": {\"childWidgetDisplay\": \"popup\", \"send_telemetry\": false, \"log_level\": \"INFO\", \"sdk_version\": \"1.18.0\"}, \"loading\": false}"
     },
     "metadata": {},
     "output_type": "display_data"
    }
   ],
   "source": [
    "RunDetails(Automl_run).show()"
   ]
  },
  {
   "cell_type": "markdown",
   "metadata": {},
   "source": [
    "## Best Model\n",
    "\n",
    "Getb the best model from the automl experiments and display all the properties of the model.\n",
    "\n"
   ]
  },
  {
   "cell_type": "code",
   "execution_count": 9,
   "metadata": {
    "gather": {
     "logged": 1598431425670
    },
    "jupyter": {
     "outputs_hidden": false,
     "source_hidden": false
    },
    "nteract": {
     "transient": {
      "deleting": false
     }
    }
   },
   "outputs": [
    {
     "name": "stdout",
     "output_type": "stream",
     "text": [
      "Run(Experiment: Heart-Failure-AutoMlProject,\n",
      "Id: AutoML_d9602484-520b-4a48-b3f7-50eda90d92aa_53,\n",
      "Type: azureml.scriptrun,\n",
      "Status: Completed)\n",
      "Pipeline(memory=None,\n",
      "         steps=[('datatransformer',\n",
      "                 DataTransformer(enable_dnn=None, enable_feature_sweeping=None,\n",
      "                                 feature_sweeping_config=None,\n",
      "                                 feature_sweeping_timeout=None,\n",
      "                                 featurization_config=None, force_text_dnn=None,\n",
      "                                 is_cross_validation=None,\n",
      "                                 is_onnx_compatible=None, logger=None,\n",
      "                                 observer=None, task=None, working_dir=None)),\n",
      "                ('prefittedsoftvotingclassifier',...\n",
      "                                                                                                    min_impurity_split=None,\n",
      "                                                                                                    min_samples_leaf=0.01,\n",
      "                                                                                                    min_samples_split=0.056842105263157895,\n",
      "                                                                                                    min_weight_fraction_leaf=0.0,\n",
      "                                                                                                    n_estimators=50,\n",
      "                                                                                                    n_jobs=1,\n",
      "                                                                                                    oob_score=True,\n",
      "                                                                                                    random_state=None,\n",
      "                                                                                                    verbose=0,\n",
      "                                                                                                    warm_start=False))],\n",
      "                                                                     verbose=False))],\n",
      "                                               flatten_transform=None,\n",
      "                                               weights=[0.3333333333333333,\n",
      "                                                        0.16666666666666666,\n",
      "                                                        0.16666666666666666,\n",
      "                                                        0.16666666666666666,\n",
      "                                                        0.16666666666666666]))],\n",
      "         verbose=False)\n"
     ]
    }
   ],
   "source": [
    "best_run, fitted_model = Automl_run.get_output()\n",
    "print(best_run)\n",
    "print(fitted_model)"
   ]
  },
  {
   "cell_type": "code",
   "execution_count": 10,
   "metadata": {
    "gather": {
     "logged": 1598431426111
    },
    "jupyter": {
     "outputs_hidden": false,
     "source_hidden": false
    },
    "nteract": {
     "transient": {
      "deleting": false
     }
    }
   },
   "outputs": [
    {
     "name": "stdout",
     "output_type": "stream",
     "text": [
      "AutoMLd9602484553\n"
     ]
    }
   ],
   "source": [
    "model_name = best_run.properties['model_name']\n",
    "# register model in workspace\n",
    "description = 'Automated Machine Learning Model'\n",
    "tags = None\n",
    "auto_ml=Automl_run.register_model(model_name=model_name, description=description, tags=tags)\n",
    "print(Automl_run.model_id) # Use this id to deploy the model as a web service in Azure"
   ]
  },
  {
   "cell_type": "code",
   "execution_count": 32,
   "metadata": {},
   "outputs": [
    {
     "name": "stdout",
     "output_type": "stream",
     "text": [
      "[1 1 1]\n"
     ]
    }
   ],
   "source": [
    "#Test the Model\n",
    "y_pred=fitted_model.predict(X_test[0:3])\n",
    "print(y_pred)"
   ]
  },
  {
   "cell_type": "markdown",
   "metadata": {},
   "source": [
    "## Model Deployment\n",
    "\n",
    "\n",
    "Remember you have to deploy only one of the two models you trained. Perform the steps in the rest of this notebook only if you wish to deploy this model.\n",
    "\n",
    "TODO: In the cell below, register the model, create an inference config and deploy the model as a web service."
   ]
  },
  {
   "cell_type": "code",
   "execution_count": 12,
   "metadata": {
    "gather": {
     "logged": 1598431435189
    },
    "jupyter": {
     "outputs_hidden": false,
     "source_hidden": false
    },
    "nteract": {
     "transient": {
      "deleting": false
     }
    }
   },
   "outputs": [],
   "source": [
    "#Set up the Environment \n",
    "#env = Environment(workspace=ws, name=\"myenv\")  \n",
    "\n",
    "#Install the correct packages\n",
    "#env.python.conda_dependencies.add_pip_package(\"scikit-learn\")  \n",
    "#Conda Packages\n",
    "#env.python.conda_dependencies.add_conda_package(\"python==3.7\")\n",
    "#env.python.conda_dependencies.add_conda_package(\"scikit-learn==0.22.1\")\n",
    "\n",
    "# Pip Packages\n",
    "#env.python.conda_dependencies.add_pip_package('ference-schema[numpy-support]')\n",
    "#env.python.conda_dependencies.add_pip_package(\"numpy\")\n",
    "#env.python.conda_dependencies.add_pip_package(\"azureml-train-automl-runtime==1.15.0\")\n",
    "#env.python.conda_dependencies.add_pip_package(\"azureml-explain-model==1.15.0\")\n",
    "#env.python.conda_dependencies.add_pip_package(\"inference-schema\")\n",
    "#env.python.conda_dependencies.add_pip_package(\"azureml-defaults==1.15.0\")\n",
    "#env.python.conda_dependencies.add_conda_package(\"py-xgboost\")\n",
    "#env.python.conda_dependencies.add_pip_package(\"joblib\")"
   ]
  },
  {
   "cell_type": "code",
   "execution_count": 12,
   "metadata": {},
   "outputs": [],
   "source": [
    "script_file_name='inference/scope.py'\n",
    "best_run.download_file('outputs/scoring_file_v_1_0_0.py', 'inference/scope.py')"
   ]
  },
  {
   "cell_type": "code",
   "execution_count": 14,
   "metadata": {},
   "outputs": [],
   "source": [
    "#Set up the inference_config\n",
    "#inference_config = InferenceConfig(entry_script='score.py', environment=env)\n",
    "inference_config = InferenceConfig(entry_script=script_file_name, environment=best_run.get_environment())"
   ]
  },
  {
   "cell_type": "code",
   "execution_count": 15,
   "metadata": {},
   "outputs": [
    {
     "name": "stdout",
     "output_type": "stream",
     "text": [
      "Downloading model AutoMLd9602484553:1 to /tmp/azureml_b9ggito2/AutoMLd9602484553/1\n",
      "Generating Docker build context.\n",
      "Package creation Succeeded\n",
      "Logging into Docker registry viennaglobal.azurecr.io\n",
      "Logging into Docker registry viennaglobal.azurecr.io\n",
      "Building Docker image from Dockerfile...\n",
      "Step 1/5 : FROM viennaglobal.azurecr.io/azureml/azureml_3948892c3f204a4877f0b9993b8e7795\n",
      " ---> e958b21f6008\n",
      "Step 2/5 : COPY azureml-app /var/azureml-app\n",
      " ---> 5941ff07961f\n",
      "Step 3/5 : RUN mkdir -p '/var/azureml-app' && echo eyJhY2NvdW50Q29udGV4dCI6eyJzdWJzY3JpcHRpb25JZCI6IjM3NGJkZjFhLWM2NDgtNDI0NC1hMzE3LWYwZDFlZjRiODVjNyIsInJlc291cmNlR3JvdXBOYW1lIjoiYW1sLXF1aWNrc3RhcnRzLTEyNjY1NCIsImFjY291bnROYW1lIjoicXVpY2stc3RhcnRzLXdzLTEyNjY1NCIsIndvcmtzcGFjZUlkIjoiODY2ODJjNDUtNTZkMS00MjVlLWE1YWYtYTA4M2RiNDhhM2UzIn0sIm1vZGVscyI6e30sIm1vZGVsc0luZm8iOnt9fQ== | base64 --decode > /var/azureml-app/model_config_map.json\n",
      " ---> Running in 2538678d2dc2\n",
      " ---> b71e8aed0448\n",
      "Step 4/5 : RUN mv '/var/azureml-app/tmp79bh11dz.py' /var/azureml-app/main.py\n",
      " ---> Running in 0e2bf989b319\n",
      " ---> 18cb0820cc64\n",
      "Step 5/5 : CMD [\"runsvdir\",\"/var/runit\"]\n",
      " ---> Running in a90a86f8e3e0\n",
      " ---> 73024d3fe556\n",
      "Successfully built 73024d3fe556\n",
      "Successfully tagged test:latest\n",
      "Starting Docker container...\n",
      "Docker container running.\n",
      "Checking container health...\n",
      "Local webservice is running at http://localhost:9000\n"
     ]
    }
   ],
   "source": [
    "#Local Deployment\n",
    "from azureml.core.webservice import LocalWebservice\n",
    "local_config = LocalWebservice.deploy_configuration(port=9000)\n",
    "local_service = Model.deploy(ws, \"test\", [auto_ml], inference_config, local_config)\n",
    "local_service.wait_for_deployment(show_output=True)\n"
   ]
  },
  {
   "cell_type": "code",
   "execution_count": 30,
   "metadata": {},
   "outputs": [
    {
     "name": "stdout",
     "output_type": "stream",
     "text": [
      "Tips: You can try get_logs(): https://aka.ms/debugimage#dockerlog or local deployment: https://aka.ms/debugimage#debug-locally to debug if deployment takes longer than 10 minutes.\n",
      "Running..............................................\n",
      "Succeeded\n",
      "ACI service creation operation finished, operation \"Succeeded\"\n"
     ]
    }
   ],
   "source": [
    "#Set up the deployment_config as webservice\n",
    "aci_config = AciWebservice.deploy_configuration(cpu_cores=1, memory_gb=1, enable_app_insights=True)\n",
    "\n",
    "#Deploy the model\n",
    "service = Model.deploy(\n",
    "    workspace = ws,\n",
    "    name = \"mywebservice\",\n",
    "    models = [auto_ml],\n",
    "    inference_config = inference_config,\n",
    "    deployment_config = aci_config, overwrite=True)\n",
    "\n",
    "#wait until deployment is complete\n",
    "service.wait_for_deployment(show_output = True)"
   ]
  },
  {
   "cell_type": "code",
   "execution_count": 33,
   "metadata": {},
   "outputs": [
    {
     "name": "stdout",
     "output_type": "stream",
     "text": [
      "2020-11-17T18:19:58,638334381+00:00 - iot-server/run \n",
      "2020-11-17T18:19:58,639524283+00:00 - rsyslog/run \n",
      "2020-11-17T18:19:58,639840783+00:00 - gunicorn/run \n",
      "2020-11-17T18:19:58,640089384+00:00 - nginx/run \n",
      "/usr/sbin/nginx: /azureml-envs/azureml_0e3a8a6dba181476a2523c12c58dfc97/lib/libcrypto.so.1.0.0: no version information available (required by /usr/sbin/nginx)\n",
      "/usr/sbin/nginx: /azureml-envs/azureml_0e3a8a6dba181476a2523c12c58dfc97/lib/libcrypto.so.1.0.0: no version information available (required by /usr/sbin/nginx)\n",
      "/usr/sbin/nginx: /azureml-envs/azureml_0e3a8a6dba181476a2523c12c58dfc97/lib/libssl.so.1.0.0: no version information available (required by /usr/sbin/nginx)\n",
      "/usr/sbin/nginx: /azureml-envs/azureml_0e3a8a6dba181476a2523c12c58dfc97/lib/libssl.so.1.0.0: no version information available (required by /usr/sbin/nginx)\n",
      "/usr/sbin/nginx: /azureml-envs/azureml_0e3a8a6dba181476a2523c12c58dfc97/lib/libssl.so.1.0.0: no version information available (required by /usr/sbin/nginx)\n",
      "rsyslogd: /azureml-envs/azureml_0e3a8a6dba181476a2523c12c58dfc97/lib/libuuid.so.1: no version information available (required by rsyslogd)\n",
      "EdgeHubConnectionString and IOTEDGE_IOTHUBHOSTNAME are not set. Exiting...\n",
      "2020-11-17T18:19:58,730896740+00:00 - iot-server/finish 1 0\n",
      "2020-11-17T18:19:58,731969042+00:00 - Exit code 1 is normal. Not restarting iot-server.\n",
      "Starting gunicorn 19.9.0\n",
      "Listening at: http://127.0.0.1:31311 (14)\n",
      "Using worker: sync\n",
      "worker timeout is set to 300\n",
      "Booting worker with pid: 43\n",
      "SPARK_HOME not set. Skipping PySpark Initialization.\n",
      "Generating new fontManager, this may take some time...\n",
      "Initializing logger\n",
      "2020-11-17 18:20:00,177 | root | INFO | Starting up app insights client\n",
      "Starting up app insights client\n",
      "2020-11-17 18:20:00,177 | root | INFO | Starting up request id generator\n",
      "Starting up request id generator\n",
      "2020-11-17 18:20:00,177 | root | INFO | Starting up app insight hooks\n",
      "Starting up app insight hooks\n",
      "2020-11-17 18:20:00,177 | root | INFO | Invoking user's init function\n",
      "Invoking user's init function\n",
      "2020-11-17 18:20:02,401 | root | INFO | Users's init has completed successfully\n",
      "Users's init has completed successfully\n",
      "/azureml-envs/azureml_0e3a8a6dba181476a2523c12c58dfc97/lib/python3.6/site-packages/sklearn/externals/joblib/__init__.py:15: FutureWarning: sklearn.externals.joblib is deprecated in 0.21 and will be removed in 0.23. Please import this functionality directly from joblib, which can be installed with: pip install joblib. If this warning is raised when loading pickled models, you may need to re-serialize those models with scikit-learn 0.21+.\n",
      "  warnings.warn(msg, category=FutureWarning)\n",
      "2020-11-17 18:20:02,409 | root | INFO | Skipping middleware: dbg_model_info as it's not enabled.\n",
      "Skipping middleware: dbg_model_info as it's not enabled.\n",
      "2020-11-17 18:20:02,409 | root | INFO | Skipping middleware: dbg_resource_usage as it's not enabled.\n",
      "Skipping middleware: dbg_resource_usage as it's not enabled.\n",
      "2020-11-17 18:20:02,410 | root | INFO | Scoring timeout is found from os.environ: 60000 ms\n",
      "Scoring timeout is found from os.environ: 60000 ms\n",
      "2020-11-17 18:20:15,410 | root | INFO | 200\n",
      "200\n",
      "127.0.0.1 - - [17/Nov/2020:18:20:15 +0000] \"GET /swagger.json HTTP/1.0\" 200 2865 \"-\" \"Go-http-client/1.1\"\n",
      "2020-11-17 18:20:17,792 | root | INFO | 200\n",
      "200\n",
      "127.0.0.1 - - [17/Nov/2020:18:20:17 +0000] \"GET /swagger.json HTTP/1.0\" 200 2865 \"-\" \"Go-http-client/1.1\"\n",
      "\n"
     ]
    }
   ],
   "source": [
    "print(service.get_logs())"
   ]
  },
  {
   "cell_type": "code",
   "execution_count": 34,
   "metadata": {},
   "outputs": [
    {
     "name": "stdout",
     "output_type": "stream",
     "text": [
      "Healthy\n",
      "http://8b41c71b-6c41-4820-8996-340837fd2aed.southcentralus.azurecontainer.io/score\n"
     ]
    }
   ],
   "source": [
    "#Print the state\n",
    "print(service.state)\n",
    "\n",
    "#Print the scoring uri of the service\n",
    "print(service.scoring_uri)\n",
    "\n",
    "#Print the primary authentication key for the service\n",
    "#primary, secondary = service.get_keys()\n",
    "#print(primary)"
   ]
  },
  {
   "cell_type": "code",
   "execution_count": 27,
   "metadata": {},
   "outputs": [
    {
     "data": {
      "text/html": [
       "<div>\n",
       "<style scoped>\n",
       "    .dataframe tbody tr th:only-of-type {\n",
       "        vertical-align: middle;\n",
       "    }\n",
       "\n",
       "    .dataframe tbody tr th {\n",
       "        vertical-align: top;\n",
       "    }\n",
       "\n",
       "    .dataframe thead th {\n",
       "        text-align: right;\n",
       "    }\n",
       "</style>\n",
       "<table border=\"1\" class=\"dataframe\">\n",
       "  <thead>\n",
       "    <tr style=\"text-align: right;\">\n",
       "      <th></th>\n",
       "      <th>age</th>\n",
       "      <th>anaemia</th>\n",
       "      <th>creatinine_phosphokinase</th>\n",
       "      <th>diabetes</th>\n",
       "      <th>ejection_fraction</th>\n",
       "      <th>high_blood_pressure</th>\n",
       "      <th>platelets</th>\n",
       "      <th>serum_creatinine</th>\n",
       "      <th>serum_sodium</th>\n",
       "      <th>sex</th>\n",
       "      <th>smoking</th>\n",
       "      <th>time</th>\n",
       "    </tr>\n",
       "  </thead>\n",
       "  <tbody>\n",
       "    <tr>\n",
       "      <th>0</th>\n",
       "      <td>75</td>\n",
       "      <td>0</td>\n",
       "      <td>582</td>\n",
       "      <td>0</td>\n",
       "      <td>20</td>\n",
       "      <td>1</td>\n",
       "      <td>265000.00</td>\n",
       "      <td>1.90</td>\n",
       "      <td>130</td>\n",
       "      <td>1</td>\n",
       "      <td>0</td>\n",
       "      <td>4</td>\n",
       "    </tr>\n",
       "    <tr>\n",
       "      <th>1</th>\n",
       "      <td>55</td>\n",
       "      <td>0</td>\n",
       "      <td>7861</td>\n",
       "      <td>0</td>\n",
       "      <td>38</td>\n",
       "      <td>0</td>\n",
       "      <td>263358.03</td>\n",
       "      <td>1.10</td>\n",
       "      <td>136</td>\n",
       "      <td>1</td>\n",
       "      <td>0</td>\n",
       "      <td>6</td>\n",
       "    </tr>\n",
       "    <tr>\n",
       "      <th>2</th>\n",
       "      <td>65</td>\n",
       "      <td>0</td>\n",
       "      <td>146</td>\n",
       "      <td>0</td>\n",
       "      <td>20</td>\n",
       "      <td>0</td>\n",
       "      <td>162000.00</td>\n",
       "      <td>1.30</td>\n",
       "      <td>129</td>\n",
       "      <td>1</td>\n",
       "      <td>1</td>\n",
       "      <td>7</td>\n",
       "    </tr>\n",
       "    <tr>\n",
       "      <th>3</th>\n",
       "      <td>50</td>\n",
       "      <td>1</td>\n",
       "      <td>111</td>\n",
       "      <td>0</td>\n",
       "      <td>20</td>\n",
       "      <td>0</td>\n",
       "      <td>210000.00</td>\n",
       "      <td>1.90</td>\n",
       "      <td>137</td>\n",
       "      <td>1</td>\n",
       "      <td>0</td>\n",
       "      <td>7</td>\n",
       "    </tr>\n",
       "    <tr>\n",
       "      <th>4</th>\n",
       "      <td>65</td>\n",
       "      <td>1</td>\n",
       "      <td>160</td>\n",
       "      <td>1</td>\n",
       "      <td>20</td>\n",
       "      <td>0</td>\n",
       "      <td>327000.00</td>\n",
       "      <td>2.70</td>\n",
       "      <td>116</td>\n",
       "      <td>0</td>\n",
       "      <td>0</td>\n",
       "      <td>8</td>\n",
       "    </tr>\n",
       "  </tbody>\n",
       "</table>\n",
       "</div>"
      ],
      "text/plain": [
       "   age  anaemia  creatinine_phosphokinase  diabetes  ejection_fraction  \\\n",
       "0   75        0                       582         0                 20   \n",
       "1   55        0                      7861         0                 38   \n",
       "2   65        0                       146         0                 20   \n",
       "3   50        1                       111         0                 20   \n",
       "4   65        1                       160         1                 20   \n",
       "\n",
       "   high_blood_pressure  platelets  serum_creatinine  serum_sodium  sex  \\\n",
       "0                    1  265000.00              1.90           130    1   \n",
       "1                    0  263358.03              1.10           136    1   \n",
       "2                    0  162000.00              1.30           129    1   \n",
       "3                    0  210000.00              1.90           137    1   \n",
       "4                    0  327000.00              2.70           116    0   \n",
       "\n",
       "   smoking  time  \n",
       "0        0     4  \n",
       "1        0     6  \n",
       "2        1     7  \n",
       "3        0     7  \n",
       "4        0     8  "
      ]
     },
     "execution_count": 27,
     "metadata": {},
     "output_type": "execute_result"
    }
   ],
   "source": [
    "import pandas as pd\n",
    "test_df=pd.read_csv('./test-data.csv')\n",
    "test_df"
   ]
  },
  {
   "cell_type": "code",
   "execution_count": 28,
   "metadata": {},
   "outputs": [
    {
     "name": "stdout",
     "output_type": "stream",
     "text": [
      "{\"result\": [1, 1, 1]}\n"
     ]
    }
   ],
   "source": [
    "import json\n",
    "data= ({'data':test_df[0:3].to_dict(orient='records')})\n",
    "test_sample=json.dumps(data)\n",
    "output= service.run(test_sample)\n",
    "print(output)"
   ]
  },
  {
   "cell_type": "code",
   "execution_count": 29,
   "metadata": {},
   "outputs": [],
   "source": [
    "service.delete()"
   ]
  },
  {
   "cell_type": "code",
   "execution_count": null,
   "metadata": {},
   "outputs": [],
   "source": []
  },
  {
   "cell_type": "code",
   "execution_count": null,
   "metadata": {},
   "outputs": [],
   "source": []
  },
  {
   "cell_type": "code",
   "execution_count": 137,
   "metadata": {},
   "outputs": [],
   "source": []
  },
  {
   "cell_type": "code",
   "execution_count": null,
   "metadata": {},
   "outputs": [],
   "source": []
  },
  {
   "cell_type": "code",
   "execution_count": null,
   "metadata": {},
   "outputs": [],
   "source": [
    "\n"
   ]
  },
  {
   "cell_type": "code",
   "execution_count": null,
   "metadata": {},
   "outputs": [],
   "source": []
  },
  {
   "cell_type": "code",
   "execution_count": null,
   "metadata": {},
   "outputs": [],
   "source": []
  },
  {
   "cell_type": "code",
   "execution_count": null,
   "metadata": {},
   "outputs": [],
   "source": []
  },
  {
   "cell_type": "markdown",
   "metadata": {
    "collapsed": true,
    "gather": {
     "logged": 1598431657736
    },
    "jupyter": {
     "outputs_hidden": false,
     "source_hidden": false
    },
    "nteract": {
     "transient": {
      "deleting": false
     }
    }
   },
   "source": []
  },
  {
   "cell_type": "code",
   "execution_count": null,
   "metadata": {
    "gather": {
     "logged": 1598432707604
    },
    "jupyter": {
     "outputs_hidden": false,
     "source_hidden": false
    },
    "nteract": {
     "transient": {
      "deleting": false
     }
    }
   },
   "outputs": [],
   "source": []
  },
  {
   "cell_type": "code",
   "execution_count": null,
   "metadata": {},
   "outputs": [],
   "source": []
  },
  {
   "cell_type": "markdown",
   "metadata": {
    "collapsed": true,
    "gather": {
     "logged": 1598432765711
    },
    "jupyter": {
     "outputs_hidden": false,
     "source_hidden": false
    },
    "nteract": {
     "transient": {
      "deleting": false
     }
    }
   },
   "source": []
  },
  {
   "cell_type": "code",
   "execution_count": null,
   "metadata": {
    "jupyter": {
     "outputs_hidden": false,
     "source_hidden": false
    },
    "nteract": {
     "transient": {
      "deleting": false
     }
    }
   },
   "outputs": [],
   "source": []
  },
  {
   "cell_type": "code",
   "execution_count": null,
   "metadata": {},
   "outputs": [],
   "source": []
  }
 ],
 "metadata": {
  "kernel_info": {
   "name": "python3-azureml"
  },
  "kernelspec": {
   "display_name": "Python 3",
   "language": "python",
   "name": "python3"
  },
  "language_info": {
   "codemirror_mode": {
    "name": "ipython",
    "version": 3
   },
   "file_extension": ".py",
   "mimetype": "text/x-python",
   "name": "python",
   "nbconvert_exporter": "python",
   "pygments_lexer": "ipython3",
   "version": "3.6.9"
  },
  "nteract": {
   "version": "nteract-front-end@1.0.0"
  }
 },
 "nbformat": 4,
 "nbformat_minor": 2
}
