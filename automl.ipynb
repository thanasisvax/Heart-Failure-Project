{
 "cells": [
  {
   "cell_type": "markdown",
   "metadata": {},
   "source": [
    "# Automated ML\n",
    "\n",
    "Import Dependencies. In the cell below, import all the dependencies that I will need to complete the project."
   ]
  },
  {
   "cell_type": "code",
   "execution_count": 1,
   "metadata": {
    "gather": {
     "logged": 1598423888013
    },
    "jupyter": {
     "outputs_hidden": false,
     "source_hidden": false
    },
    "nteract": {
     "transient": {
      "deleting": false
     }
    }
   },
   "outputs": [],
   "source": [
    "from azureml.core import Workspace, Experiment\n",
    "from azureml.core.compute import ComputeTarget, AmlCompute\n",
    "from azureml.core.compute_target import ComputeTargetException\n",
    "from azureml.widgets import RunDetails\n",
    "from azureml.train.hyperdrive.run import PrimaryMetricGoal\n",
    "import os\n",
    "import joblib\n",
    "from azureml.core.dataset import Dataset\n",
    "from azureml.train.automl import AutoMLConfig\n",
    "from azureml.core.model import Model\n",
    "from azureml.core.webservice import AciWebservice\n",
    "from azureml.core.environment import Environment\n",
    "from azureml.core.model import InferenceConfig\n",
    "import requests\n",
    "import json\n",
    "from azureml.core.conda_dependencies import CondaDependencies\n",
    "import sklearn\n",
    "from azureml.core.model import Model"
   ]
  },
  {
   "cell_type": "markdown",
   "metadata": {},
   "source": [
    "## Dataset\n",
    "\n",
    "### Overview\n",
    "\n",
    "I use the Heart-Failure Dataset from Kaggle and the task is to predict the mortality of the patients based on their clinical records. I create the workspace and experiment in the Azure ML studio. I check if the computer target already exists. If it does not then it creates one. Finally, I display the first rows of the Heart-Failure Dataset."
   ]
  },
  {
   "cell_type": "code",
   "execution_count": 3,
   "metadata": {
    "gather": {
     "logged": 1598423890461
    },
    "jupyter": {
     "outputs_hidden": false,
     "source_hidden": false
    },
    "nteract": {
     "transient": {
      "deleting": false
     }
    }
   },
   "outputs": [
    {
     "name": "stdout",
     "output_type": "stream",
     "text": [
      "Found existing compute target\n",
      "{'currentNodeCount': 0, 'targetNodeCount': 0, 'nodeStateCounts': {'preparingNodeCount': 0, 'runningNodeCount': 0, 'idleNodeCount': 0, 'unusableNodeCount': 0, 'leavingNodeCount': 0, 'preemptedNodeCount': 0}, 'allocationState': 'Steady', 'allocationStateTransitionTime': '2020-11-14T13:10:20.139000+00:00', 'errors': None, 'creationTime': '2020-11-14T13:10:15.968229+00:00', 'modifiedTime': '2020-11-14T13:10:32.461273+00:00', 'provisioningState': 'Succeeded', 'provisioningStateTransitionTime': None, 'scaleSettings': {'minNodeCount': 0, 'maxNodeCount': 4, 'nodeIdleTimeBeforeScaleDown': 'PT120S'}, 'vmPriority': 'Dedicated', 'vmSize': 'STANDARD_DS13_V2'}\n"
     ]
    }
   ],
   "source": [
    "#Create a workspace and an experiment in Azureml\n",
    "ws = Workspace.from_config()\n",
    "experiment_name = 'Heart-Failure-AutoMlProject'\n",
    "project_folder = './Heart-Failure-project'\n",
    "\n",
    "experiment=Experiment(ws, experiment_name)\n",
    "\n",
    "#Check if the cluster exists if it does not then create one.\n",
    "# choose a name for your cluster\n",
    "cluster_name = \"cpu-cluster\"\n",
    "\n",
    "try:\n",
    "    compute_target = ComputeTarget(workspace=ws, name=cluster_name)\n",
    "    print('Found existing compute target')\n",
    "except ComputeTargetException:\n",
    "    print('Creating a new compute target...')\n",
    "    compute_config = AmlCompute.provisioning_configuration(vm_size='STANDARD_DS3_V2', \n",
    "                                                           max_nodes=4)\n",
    "\n",
    "    # create the cluster\n",
    "    compute_target = ComputeTarget.create(ws, cluster_name, compute_config)\n",
    "\n",
    "    # can poll for a minimum number of nodes and for a specific timeout. \n",
    "    # if no min node count is provided it uses the scale settings for the cluster\n",
    "    compute_target.wait_for_completion(show_output=True, min_node_count=None, timeout_in_minutes=20)\n",
    "\n",
    "# use get_status() to get a detailed status for the current cluster. \n",
    "print(compute_target.get_status().serialize())"
   ]
  },
  {
   "cell_type": "code",
   "execution_count": 4,
   "metadata": {},
   "outputs": [],
   "source": [
    "# Get Heart Failure Dataset and add it in pandas\n",
    "ds = Dataset.get_by_name(ws, name='Heart-Failure')"
   ]
  },
  {
   "cell_type": "code",
   "execution_count": 6,
   "metadata": {},
   "outputs": [
    {
     "data": {
      "text/html": [
       "<div>\n",
       "<style scoped>\n",
       "    .dataframe tbody tr th:only-of-type {\n",
       "        vertical-align: middle;\n",
       "    }\n",
       "\n",
       "    .dataframe tbody tr th {\n",
       "        vertical-align: top;\n",
       "    }\n",
       "\n",
       "    .dataframe thead th {\n",
       "        text-align: right;\n",
       "    }\n",
       "</style>\n",
       "<table border=\"1\" class=\"dataframe\">\n",
       "  <thead>\n",
       "    <tr style=\"text-align: right;\">\n",
       "      <th></th>\n",
       "      <th>age</th>\n",
       "      <th>anaemia</th>\n",
       "      <th>creatinine_phosphokinase</th>\n",
       "      <th>diabetes</th>\n",
       "      <th>ejection_fraction</th>\n",
       "      <th>high_blood_pressure</th>\n",
       "      <th>platelets</th>\n",
       "      <th>serum_creatinine</th>\n",
       "      <th>serum_sodium</th>\n",
       "      <th>sex</th>\n",
       "      <th>smoking</th>\n",
       "      <th>time</th>\n",
       "      <th>DEATH_EVENT</th>\n",
       "    </tr>\n",
       "  </thead>\n",
       "  <tbody>\n",
       "    <tr>\n",
       "      <th>0</th>\n",
       "      <td>75.0</td>\n",
       "      <td>0</td>\n",
       "      <td>582</td>\n",
       "      <td>0</td>\n",
       "      <td>20</td>\n",
       "      <td>1</td>\n",
       "      <td>265000.00</td>\n",
       "      <td>1.9</td>\n",
       "      <td>130</td>\n",
       "      <td>1</td>\n",
       "      <td>0</td>\n",
       "      <td>4</td>\n",
       "      <td>1</td>\n",
       "    </tr>\n",
       "    <tr>\n",
       "      <th>1</th>\n",
       "      <td>55.0</td>\n",
       "      <td>0</td>\n",
       "      <td>7861</td>\n",
       "      <td>0</td>\n",
       "      <td>38</td>\n",
       "      <td>0</td>\n",
       "      <td>263358.03</td>\n",
       "      <td>1.1</td>\n",
       "      <td>136</td>\n",
       "      <td>1</td>\n",
       "      <td>0</td>\n",
       "      <td>6</td>\n",
       "      <td>1</td>\n",
       "    </tr>\n",
       "    <tr>\n",
       "      <th>2</th>\n",
       "      <td>65.0</td>\n",
       "      <td>0</td>\n",
       "      <td>146</td>\n",
       "      <td>0</td>\n",
       "      <td>20</td>\n",
       "      <td>0</td>\n",
       "      <td>162000.00</td>\n",
       "      <td>1.3</td>\n",
       "      <td>129</td>\n",
       "      <td>1</td>\n",
       "      <td>1</td>\n",
       "      <td>7</td>\n",
       "      <td>1</td>\n",
       "    </tr>\n",
       "    <tr>\n",
       "      <th>3</th>\n",
       "      <td>50.0</td>\n",
       "      <td>1</td>\n",
       "      <td>111</td>\n",
       "      <td>0</td>\n",
       "      <td>20</td>\n",
       "      <td>0</td>\n",
       "      <td>210000.00</td>\n",
       "      <td>1.9</td>\n",
       "      <td>137</td>\n",
       "      <td>1</td>\n",
       "      <td>0</td>\n",
       "      <td>7</td>\n",
       "      <td>1</td>\n",
       "    </tr>\n",
       "    <tr>\n",
       "      <th>4</th>\n",
       "      <td>65.0</td>\n",
       "      <td>1</td>\n",
       "      <td>160</td>\n",
       "      <td>1</td>\n",
       "      <td>20</td>\n",
       "      <td>0</td>\n",
       "      <td>327000.00</td>\n",
       "      <td>2.7</td>\n",
       "      <td>116</td>\n",
       "      <td>0</td>\n",
       "      <td>0</td>\n",
       "      <td>8</td>\n",
       "      <td>1</td>\n",
       "    </tr>\n",
       "  </tbody>\n",
       "</table>\n",
       "</div>"
      ],
      "text/plain": [
       "    age  anaemia  creatinine_phosphokinase  diabetes  ejection_fraction  \\\n",
       "0  75.0        0                       582         0                 20   \n",
       "1  55.0        0                      7861         0                 38   \n",
       "2  65.0        0                       146         0                 20   \n",
       "3  50.0        1                       111         0                 20   \n",
       "4  65.0        1                       160         1                 20   \n",
       "\n",
       "   high_blood_pressure  platelets  serum_creatinine  serum_sodium  sex  \\\n",
       "0                    1  265000.00               1.9           130    1   \n",
       "1                    0  263358.03               1.1           136    1   \n",
       "2                    0  162000.00               1.3           129    1   \n",
       "3                    0  210000.00               1.9           137    1   \n",
       "4                    0  327000.00               2.7           116    0   \n",
       "\n",
       "   smoking  time  DEATH_EVENT  \n",
       "0        0     4            1  \n",
       "1        0     6            1  \n",
       "2        1     7            1  \n",
       "3        0     7            1  \n",
       "4        0     8            1  "
      ]
     },
     "execution_count": 6,
     "metadata": {},
     "output_type": "execute_result"
    }
   ],
   "source": [
    "#Review the first 5 rows in the dataset\n",
    "ds.take(5).to_pandas_dataframe()"
   ]
  },
  {
   "cell_type": "markdown",
   "metadata": {},
   "source": [
    "## AutoML Configuration\n",
    "It is used an AutoML for the classification problem using the Heart Failure Dataset. The AutoML run will look for the best model in relation to the accuracy. The target feature is the \"DEATH_EVENT\". The experiment timeout is 30 mins and the maximum number of iterations which are executed in parallel are 5. "
   ]
  },
  {
   "cell_type": "code",
   "execution_count": 7,
   "metadata": {
    "gather": {
     "logged": 1598429217746
    },
    "jupyter": {
     "outputs_hidden": false,
     "source_hidden": false
    },
    "nteract": {
     "transient": {
      "deleting": false
     }
    }
   },
   "outputs": [],
   "source": [
    "# AutoML settings\n",
    "automl_settings = {\n",
    "    \"experiment_timeout_minutes\": 30,\n",
    "    \"max_concurrent_iterations\": 5,\n",
    "    \"primary_metric\" : 'accuracy'\n",
    "}\n",
    "\n",
    "# AutoML config\n",
    "automl_config = AutoMLConfig(compute_target=compute_target,\n",
    "                             task = \"classification\",\n",
    "                             training_data=ds,\n",
    "                             label_column_name=\"DEATH_EVENT\",   \n",
    "                             path = project_folder,\n",
    "                             enable_early_stopping= True,\n",
    "                             featurization= 'auto',\n",
    "                             debug_log = \"automl_errors.log\",\n",
    "                             **automl_settings\n",
    "                            )"
   ]
  },
  {
   "cell_type": "code",
   "execution_count": 8,
   "metadata": {
    "gather": {
     "logged": 1598431107951
    },
    "jupyter": {
     "outputs_hidden": false,
     "source_hidden": false
    },
    "nteract": {
     "transient": {
      "deleting": false
     }
    }
   },
   "outputs": [
    {
     "name": "stdout",
     "output_type": "stream",
     "text": [
      "Running on remote.\n"
     ]
    }
   ],
   "source": [
    "# Submit experiment\n",
    "Automl_run = experiment.submit(automl_config)"
   ]
  },
  {
   "cell_type": "markdown",
   "metadata": {},
   "source": [
    "## Run Details\n",
    "\n",
    "`RunDetails` widget is used to show the different experiments."
   ]
  },
  {
   "cell_type": "code",
   "execution_count": 9,
   "metadata": {
    "gather": {
     "logged": 1598431121770
    },
    "jupyter": {
     "outputs_hidden": false,
     "source_hidden": false
    },
    "nteract": {
     "transient": {
      "deleting": false
     }
    }
   },
   "outputs": [
    {
     "data": {
      "application/vnd.jupyter.widget-view+json": {
       "model_id": "02bc760b3d5d458b8783219384ef791c",
       "version_major": 2,
       "version_minor": 0
      },
      "text/plain": [
       "_AutoMLWidget(widget_settings={'childWidgetDisplay': 'popup', 'send_telemetry': False, 'log_level': 'INFO', 's…"
      ]
     },
     "metadata": {},
     "output_type": "display_data"
    },
    {
     "data": {
      "application/aml.mini.widget.v1": "{\"status\": \"Completed\", \"workbench_run_details_uri\": \"https://ml.azure.com/experiments/Heart-Failure-AutoMlProject/runs/AutoML_145744c5-84cf-4edf-9ef7-aee6ffbfe704?wsid=/subscriptions/888519c8-2387-461a-aff3-b31b86e2438e/resourcegroups/aml-quickstarts-126122/workspaces/quick-starts-ws-126122\", \"run_id\": \"AutoML_145744c5-84cf-4edf-9ef7-aee6ffbfe704\", \"run_properties\": {\"run_id\": \"AutoML_145744c5-84cf-4edf-9ef7-aee6ffbfe704\", \"created_utc\": \"2020-11-14T13:11:29.716609Z\", \"properties\": {\"num_iterations\": \"1000\", \"training_type\": \"TrainFull\", \"acquisition_function\": \"EI\", \"primary_metric\": \"accuracy\", \"train_split\": \"0\", \"acquisition_parameter\": \"0\", \"num_cross_validation\": null, \"target\": \"cpu-cluster\", \"AMLSettingsJsonString\": \"{\\\"path\\\":null,\\\"name\\\":\\\"Heart-Failure-AutoMlProject\\\",\\\"subscription_id\\\":\\\"888519c8-2387-461a-aff3-b31b86e2438e\\\",\\\"resource_group\\\":\\\"aml-quickstarts-126122\\\",\\\"workspace_name\\\":\\\"quick-starts-ws-126122\\\",\\\"region\\\":\\\"southcentralus\\\",\\\"compute_target\\\":\\\"cpu-cluster\\\",\\\"spark_service\\\":null,\\\"azure_service\\\":\\\"remote\\\",\\\"_local_managed_run_id\\\":null,\\\"many_models\\\":false,\\\"pipeline_fetch_max_batch_size\\\":1,\\\"iterations\\\":1000,\\\"primary_metric\\\":\\\"accuracy\\\",\\\"task_type\\\":\\\"classification\\\",\\\"data_script\\\":null,\\\"validation_size\\\":0.0,\\\"n_cross_validations\\\":null,\\\"y_min\\\":null,\\\"y_max\\\":null,\\\"num_classes\\\":null,\\\"featurization\\\":\\\"auto\\\",\\\"_ignore_package_version_incompatibilities\\\":false,\\\"is_timeseries\\\":false,\\\"max_cores_per_iteration\\\":1,\\\"max_concurrent_iterations\\\":5,\\\"iteration_timeout_minutes\\\":null,\\\"mem_in_mb\\\":null,\\\"enforce_time_on_windows\\\":false,\\\"experiment_timeout_minutes\\\":30,\\\"experiment_exit_score\\\":null,\\\"whitelist_models\\\":null,\\\"blacklist_algos\\\":[\\\"TensorFlowLinearClassifier\\\",\\\"TensorFlowDNN\\\"],\\\"supported_models\\\":[\\\"GradientBoosting\\\",\\\"XGBoostClassifier\\\",\\\"AveragedPerceptronClassifier\\\",\\\"SGD\\\",\\\"MultinomialNaiveBayes\\\",\\\"RandomForest\\\",\\\"SVM\\\",\\\"LinearSVM\\\",\\\"TensorFlowDNN\\\",\\\"KNN\\\",\\\"DecisionTree\\\",\\\"BernoulliNaiveBayes\\\",\\\"ExtremeRandomTrees\\\",\\\"LogisticRegression\\\",\\\"LightGBM\\\",\\\"TensorFlowLinearClassifier\\\"],\\\"auto_blacklist\\\":true,\\\"blacklist_samples_reached\\\":false,\\\"exclude_nan_labels\\\":true,\\\"verbosity\\\":20,\\\"_debug_log\\\":\\\"azureml_automl.log\\\",\\\"show_warnings\\\":false,\\\"model_explainability\\\":true,\\\"service_url\\\":null,\\\"sdk_url\\\":null,\\\"sdk_packages\\\":null,\\\"enable_onnx_compatible_models\\\":false,\\\"enable_split_onnx_featurizer_estimator_models\\\":false,\\\"vm_type\\\":\\\"STANDARD_DS13_V2\\\",\\\"telemetry_verbosity\\\":20,\\\"send_telemetry\\\":true,\\\"enable_dnn\\\":false,\\\"scenario\\\":\\\"SDK-1.13.0\\\",\\\"environment_label\\\":null,\\\"force_text_dnn\\\":false,\\\"enable_feature_sweeping\\\":true,\\\"enable_early_stopping\\\":true,\\\"early_stopping_n_iters\\\":10,\\\"metrics\\\":null,\\\"enable_ensembling\\\":true,\\\"enable_stack_ensembling\\\":true,\\\"ensemble_iterations\\\":15,\\\"enable_tf\\\":false,\\\"enable_subsampling\\\":null,\\\"subsample_seed\\\":null,\\\"enable_nimbusml\\\":false,\\\"enable_streaming\\\":false,\\\"force_streaming\\\":false,\\\"track_child_runs\\\":true,\\\"allowed_private_models\\\":[],\\\"label_column_name\\\":\\\"DEATH_EVENT\\\",\\\"weight_column_name\\\":null,\\\"cv_split_column_names\\\":null,\\\"enable_local_managed\\\":false,\\\"cost_mode\\\":1,\\\"lag_length\\\":0,\\\"metric_operation\\\":\\\"maximize\\\",\\\"preprocess\\\":true}\", \"DataPrepJsonString\": \"{\\\\\\\"training_data\\\\\\\": \\\\\\\"{\\\\\\\\\\\\\\\"blocks\\\\\\\\\\\\\\\": [{\\\\\\\\\\\\\\\"id\\\\\\\\\\\\\\\": \\\\\\\\\\\\\\\"ce74c32c-1d77-4ad1-a228-4b58a622aebb\\\\\\\\\\\\\\\", \\\\\\\\\\\\\\\"type\\\\\\\\\\\\\\\": \\\\\\\\\\\\\\\"Microsoft.DPrep.GetDatastoreFilesBlock\\\\\\\\\\\\\\\", \\\\\\\\\\\\\\\"arguments\\\\\\\\\\\\\\\": {\\\\\\\\\\\\\\\"datastores\\\\\\\\\\\\\\\": [{\\\\\\\\\\\\\\\"datastoreName\\\\\\\\\\\\\\\": \\\\\\\\\\\\\\\"workspaceblobstore\\\\\\\\\\\\\\\", \\\\\\\\\\\\\\\"path\\\\\\\\\\\\\\\": \\\\\\\\\\\\\\\"UI/11-14-2020_010823_UTC/heart_failure_clinical_records_dataset.csv\\\\\\\\\\\\\\\", \\\\\\\\\\\\\\\"resourceGroup\\\\\\\\\\\\\\\": \\\\\\\\\\\\\\\"aml-quickstarts-126122\\\\\\\\\\\\\\\", \\\\\\\\\\\\\\\"subscription\\\\\\\\\\\\\\\": \\\\\\\\\\\\\\\"888519c8-2387-461a-aff3-b31b86e2438e\\\\\\\\\\\\\\\", \\\\\\\\\\\\\\\"workspaceName\\\\\\\\\\\\\\\": \\\\\\\\\\\\\\\"quick-starts-ws-126122\\\\\\\\\\\\\\\"}]}, \\\\\\\\\\\\\\\"localData\\\\\\\\\\\\\\\": {}, \\\\\\\\\\\\\\\"isEnabled\\\\\\\\\\\\\\\": true, \\\\\\\\\\\\\\\"name\\\\\\\\\\\\\\\": null, \\\\\\\\\\\\\\\"annotation\\\\\\\\\\\\\\\": null}, {\\\\\\\\\\\\\\\"id\\\\\\\\\\\\\\\": \\\\\\\\\\\\\\\"3c3ba87c-8b2b-40cb-9081-639a7631949b\\\\\\\\\\\\\\\", \\\\\\\\\\\\\\\"type\\\\\\\\\\\\\\\": \\\\\\\\\\\\\\\"Microsoft.DPrep.ParseDelimitedBlock\\\\\\\\\\\\\\\", \\\\\\\\\\\\\\\"arguments\\\\\\\\\\\\\\\": {\\\\\\\\\\\\\\\"columnHeadersMode\\\\\\\\\\\\\\\": 1, \\\\\\\\\\\\\\\"fileEncoding\\\\\\\\\\\\\\\": 0, \\\\\\\\\\\\\\\"handleQuotedLineBreaks\\\\\\\\\\\\\\\": false, \\\\\\\\\\\\\\\"preview\\\\\\\\\\\\\\\": false, \\\\\\\\\\\\\\\"separator\\\\\\\\\\\\\\\": \\\\\\\\\\\\\\\",\\\\\\\\\\\\\\\", \\\\\\\\\\\\\\\"skipRows\\\\\\\\\\\\\\\": 0, \\\\\\\\\\\\\\\"skipRowsMode\\\\\\\\\\\\\\\": 0}, \\\\\\\\\\\\\\\"localData\\\\\\\\\\\\\\\": {}, \\\\\\\\\\\\\\\"isEnabled\\\\\\\\\\\\\\\": true, \\\\\\\\\\\\\\\"name\\\\\\\\\\\\\\\": null, \\\\\\\\\\\\\\\"annotation\\\\\\\\\\\\\\\": null}, {\\\\\\\\\\\\\\\"id\\\\\\\\\\\\\\\": \\\\\\\\\\\\\\\"8edd2723-fa99-4afb-809b-22a35a70ed42\\\\\\\\\\\\\\\", \\\\\\\\\\\\\\\"type\\\\\\\\\\\\\\\": \\\\\\\\\\\\\\\"Microsoft.DPrep.DropColumnsBlock\\\\\\\\\\\\\\\", \\\\\\\\\\\\\\\"arguments\\\\\\\\\\\\\\\": {\\\\\\\\\\\\\\\"columns\\\\\\\\\\\\\\\": {\\\\\\\\\\\\\\\"type\\\\\\\\\\\\\\\": 0, \\\\\\\\\\\\\\\"details\\\\\\\\\\\\\\\": {\\\\\\\\\\\\\\\"selectedColumns\\\\\\\\\\\\\\\": [\\\\\\\\\\\\\\\"Path\\\\\\\\\\\\\\\"]}}}, \\\\\\\\\\\\\\\"localData\\\\\\\\\\\\\\\": {}, \\\\\\\\\\\\\\\"isEnabled\\\\\\\\\\\\\\\": true, \\\\\\\\\\\\\\\"name\\\\\\\\\\\\\\\": null, \\\\\\\\\\\\\\\"annotation\\\\\\\\\\\\\\\": null}, {\\\\\\\\\\\\\\\"id\\\\\\\\\\\\\\\": \\\\\\\\\\\\\\\"d6b686e5-37ba-4f95-a91a-472a41eb21e8\\\\\\\\\\\\\\\", \\\\\\\\\\\\\\\"type\\\\\\\\\\\\\\\": \\\\\\\\\\\\\\\"Microsoft.DPrep.SetColumnTypesBlock\\\\\\\\\\\\\\\", \\\\\\\\\\\\\\\"arguments\\\\\\\\\\\\\\\": {\\\\\\\\\\\\\\\"columnConversion\\\\\\\\\\\\\\\": [{\\\\\\\\\\\\\\\"column\\\\\\\\\\\\\\\": {\\\\\\\\\\\\\\\"type\\\\\\\\\\\\\\\": 2, \\\\\\\\\\\\\\\"details\\\\\\\\\\\\\\\": {\\\\\\\\\\\\\\\"selectedColumn\\\\\\\\\\\\\\\": \\\\\\\\\\\\\\\"Path\\\\\\\\\\\\\\\"}}, \\\\\\\\\\\\\\\"typeProperty\\\\\\\\\\\\\\\": 0}, {\\\\\\\\\\\\\\\"column\\\\\\\\\\\\\\\": {\\\\\\\\\\\\\\\"type\\\\\\\\\\\\\\\": 2, \\\\\\\\\\\\\\\"details\\\\\\\\\\\\\\\": {\\\\\\\\\\\\\\\"selectedColumn\\\\\\\\\\\\\\\": \\\\\\\\\\\\\\\"age\\\\\\\\\\\\\\\"}}, \\\\\\\\\\\\\\\"typeProperty\\\\\\\\\\\\\\\": 3}, {\\\\\\\\\\\\\\\"column\\\\\\\\\\\\\\\": {\\\\\\\\\\\\\\\"type\\\\\\\\\\\\\\\": 2, \\\\\\\\\\\\\\\"details\\\\\\\\\\\\\\\": {\\\\\\\\\\\\\\\"selectedColumn\\\\\\\\\\\\\\\": \\\\\\\\\\\\\\\"anaemia\\\\\\\\\\\\\\\"}}, \\\\\\\\\\\\\\\"typeProperty\\\\\\\\\\\\\\\": 2}, {\\\\\\\\\\\\\\\"column\\\\\\\\\\\\\\\": {\\\\\\\\\\\\\\\"type\\\\\\\\\\\\\\\": 2, \\\\\\\\\\\\\\\"details\\\\\\\\\\\\\\\": {\\\\\\\\\\\\\\\"selectedColumn\\\\\\\\\\\\\\\": \\\\\\\\\\\\\\\"creatinine_phosphokinase\\\\\\\\\\\\\\\"}}, \\\\\\\\\\\\\\\"typeProperty\\\\\\\\\\\\\\\": 2}, {\\\\\\\\\\\\\\\"column\\\\\\\\\\\\\\\": {\\\\\\\\\\\\\\\"type\\\\\\\\\\\\\\\": 2, \\\\\\\\\\\\\\\"details\\\\\\\\\\\\\\\": {\\\\\\\\\\\\\\\"selectedColumn\\\\\\\\\\\\\\\": \\\\\\\\\\\\\\\"diabetes\\\\\\\\\\\\\\\"}}, \\\\\\\\\\\\\\\"typeProperty\\\\\\\\\\\\\\\": 2}, {\\\\\\\\\\\\\\\"column\\\\\\\\\\\\\\\": {\\\\\\\\\\\\\\\"type\\\\\\\\\\\\\\\": 2, \\\\\\\\\\\\\\\"details\\\\\\\\\\\\\\\": {\\\\\\\\\\\\\\\"selectedColumn\\\\\\\\\\\\\\\": \\\\\\\\\\\\\\\"ejection_fraction\\\\\\\\\\\\\\\"}}, \\\\\\\\\\\\\\\"typeProperty\\\\\\\\\\\\\\\": 2}, {\\\\\\\\\\\\\\\"column\\\\\\\\\\\\\\\": {\\\\\\\\\\\\\\\"type\\\\\\\\\\\\\\\": 2, \\\\\\\\\\\\\\\"details\\\\\\\\\\\\\\\": {\\\\\\\\\\\\\\\"selectedColumn\\\\\\\\\\\\\\\": \\\\\\\\\\\\\\\"high_blood_pressure\\\\\\\\\\\\\\\"}}, \\\\\\\\\\\\\\\"typeProperty\\\\\\\\\\\\\\\": 2}, {\\\\\\\\\\\\\\\"column\\\\\\\\\\\\\\\": {\\\\\\\\\\\\\\\"type\\\\\\\\\\\\\\\": 2, \\\\\\\\\\\\\\\"details\\\\\\\\\\\\\\\": {\\\\\\\\\\\\\\\"selectedColumn\\\\\\\\\\\\\\\": \\\\\\\\\\\\\\\"platelets\\\\\\\\\\\\\\\"}}, \\\\\\\\\\\\\\\"typeProperty\\\\\\\\\\\\\\\": 3}, {\\\\\\\\\\\\\\\"column\\\\\\\\\\\\\\\": {\\\\\\\\\\\\\\\"type\\\\\\\\\\\\\\\": 2, \\\\\\\\\\\\\\\"details\\\\\\\\\\\\\\\": {\\\\\\\\\\\\\\\"selectedColumn\\\\\\\\\\\\\\\": \\\\\\\\\\\\\\\"serum_creatinine\\\\\\\\\\\\\\\"}}, \\\\\\\\\\\\\\\"typeProperty\\\\\\\\\\\\\\\": 3}, {\\\\\\\\\\\\\\\"column\\\\\\\\\\\\\\\": {\\\\\\\\\\\\\\\"type\\\\\\\\\\\\\\\": 2, \\\\\\\\\\\\\\\"details\\\\\\\\\\\\\\\": {\\\\\\\\\\\\\\\"selectedColumn\\\\\\\\\\\\\\\": \\\\\\\\\\\\\\\"serum_sodium\\\\\\\\\\\\\\\"}}, \\\\\\\\\\\\\\\"typeProperty\\\\\\\\\\\\\\\": 2}, {\\\\\\\\\\\\\\\"column\\\\\\\\\\\\\\\": {\\\\\\\\\\\\\\\"type\\\\\\\\\\\\\\\": 2, \\\\\\\\\\\\\\\"details\\\\\\\\\\\\\\\": {\\\\\\\\\\\\\\\"selectedColumn\\\\\\\\\\\\\\\": \\\\\\\\\\\\\\\"sex\\\\\\\\\\\\\\\"}}, \\\\\\\\\\\\\\\"typeProperty\\\\\\\\\\\\\\\": 2}, {\\\\\\\\\\\\\\\"column\\\\\\\\\\\\\\\": {\\\\\\\\\\\\\\\"type\\\\\\\\\\\\\\\": 2, \\\\\\\\\\\\\\\"details\\\\\\\\\\\\\\\": {\\\\\\\\\\\\\\\"selectedColumn\\\\\\\\\\\\\\\": \\\\\\\\\\\\\\\"smoking\\\\\\\\\\\\\\\"}}, \\\\\\\\\\\\\\\"typeProperty\\\\\\\\\\\\\\\": 2}, {\\\\\\\\\\\\\\\"column\\\\\\\\\\\\\\\": {\\\\\\\\\\\\\\\"type\\\\\\\\\\\\\\\": 2, \\\\\\\\\\\\\\\"details\\\\\\\\\\\\\\\": {\\\\\\\\\\\\\\\"selectedColumn\\\\\\\\\\\\\\\": \\\\\\\\\\\\\\\"time\\\\\\\\\\\\\\\"}}, \\\\\\\\\\\\\\\"typeProperty\\\\\\\\\\\\\\\": 2}, {\\\\\\\\\\\\\\\"column\\\\\\\\\\\\\\\": {\\\\\\\\\\\\\\\"type\\\\\\\\\\\\\\\": 2, \\\\\\\\\\\\\\\"details\\\\\\\\\\\\\\\": {\\\\\\\\\\\\\\\"selectedColumn\\\\\\\\\\\\\\\": \\\\\\\\\\\\\\\"DEATH_EVENT\\\\\\\\\\\\\\\"}}, \\\\\\\\\\\\\\\"typeProperty\\\\\\\\\\\\\\\": 2}]}, \\\\\\\\\\\\\\\"localData\\\\\\\\\\\\\\\": {}, \\\\\\\\\\\\\\\"isEnabled\\\\\\\\\\\\\\\": true, \\\\\\\\\\\\\\\"name\\\\\\\\\\\\\\\": null, \\\\\\\\\\\\\\\"annotation\\\\\\\\\\\\\\\": null}], \\\\\\\\\\\\\\\"inspectors\\\\\\\\\\\\\\\": [], \\\\\\\\\\\\\\\"meta\\\\\\\\\\\\\\\": {\\\\\\\\\\\\\\\"savedDatasetId\\\\\\\\\\\\\\\": \\\\\\\\\\\\\\\"19752d6f-e033-400c-9b84-9699a15eddce\\\\\\\\\\\\\\\", \\\\\\\\\\\\\\\"datasetType\\\\\\\\\\\\\\\": \\\\\\\\\\\\\\\"tabular\\\\\\\\\\\\\\\", \\\\\\\\\\\\\\\"subscriptionId\\\\\\\\\\\\\\\": \\\\\\\\\\\\\\\"888519c8-2387-461a-aff3-b31b86e2438e\\\\\\\\\\\\\\\", \\\\\\\\\\\\\\\"workspaceId\\\\\\\\\\\\\\\": \\\\\\\\\\\\\\\"017e2447-6d9f-42f4-98c6-3586fb784fde\\\\\\\\\\\\\\\", \\\\\\\\\\\\\\\"workspaceLocation\\\\\\\\\\\\\\\": \\\\\\\\\\\\\\\"southcentralus\\\\\\\\\\\\\\\"}}\\\\\\\", \\\\\\\"activities\\\\\\\": 0}\", \"EnableSubsampling\": null, \"runTemplate\": \"AutoML\", \"azureml.runsource\": \"automl\", \"display_task_type\": \"classification\", \"dependencies_versions\": \"{\\\"azureml-widgets\\\": \\\"1.18.0\\\", \\\"azureml-train\\\": \\\"1.18.0\\\", \\\"azureml-train-restclients-hyperdrive\\\": \\\"1.18.0\\\", \\\"azureml-train-core\\\": \\\"1.18.0\\\", \\\"azureml-train-automl\\\": \\\"1.18.0\\\", \\\"azureml-train-automl-runtime\\\": \\\"1.18.0\\\", \\\"azureml-train-automl-client\\\": \\\"1.18.0\\\", \\\"azureml-tensorboard\\\": \\\"1.18.0\\\", \\\"azureml-telemetry\\\": \\\"1.18.0\\\", \\\"azureml-sdk\\\": \\\"1.18.0\\\", \\\"azureml-samples\\\": \\\"0+unknown\\\", \\\"azureml-pipeline\\\": \\\"1.18.0\\\", \\\"azureml-pipeline-steps\\\": \\\"1.18.0\\\", \\\"azureml-pipeline-core\\\": \\\"1.18.0\\\", \\\"azureml-opendatasets\\\": \\\"1.18.0\\\", \\\"azureml-model-management-sdk\\\": \\\"1.0.1b6.post1\\\", \\\"azureml-mlflow\\\": \\\"1.18.0\\\", \\\"azureml-interpret\\\": \\\"1.18.0\\\", \\\"azureml-explain-model\\\": \\\"1.18.0\\\", \\\"azureml-defaults\\\": \\\"1.18.0\\\", \\\"azureml-dataset-runtime\\\": \\\"1.18.0\\\", \\\"azureml-dataprep\\\": \\\"2.4.2\\\", \\\"azureml-dataprep-rslex\\\": \\\"1.2.2\\\", \\\"azureml-dataprep-native\\\": \\\"24.0.0\\\", \\\"azureml-datadrift\\\": \\\"1.18.0\\\", \\\"azureml-core\\\": \\\"1.18.0\\\", \\\"azureml-contrib-services\\\": \\\"1.18.0\\\", \\\"azureml-contrib-server\\\": \\\"1.18.0\\\", \\\"azureml-contrib-reinforcementlearning\\\": \\\"1.18.0\\\", \\\"azureml-contrib-pipeline-steps\\\": \\\"1.18.0\\\", \\\"azureml-contrib-notebook\\\": \\\"1.18.0\\\", \\\"azureml-contrib-interpret\\\": \\\"1.18.0\\\", \\\"azureml-contrib-gbdt\\\": \\\"1.18.0\\\", \\\"azureml-contrib-fairness\\\": \\\"1.18.0\\\", \\\"azureml-contrib-dataset\\\": \\\"1.18.0\\\", \\\"azureml-cli-common\\\": \\\"1.18.0\\\", \\\"azureml-automl-runtime\\\": \\\"1.18.0\\\", \\\"azureml-automl-core\\\": \\\"1.18.0\\\", \\\"azureml-accel-models\\\": \\\"1.18.0\\\"}\", \"_aml_system_scenario_identification\": \"Remote.Parent\", \"ClientType\": \"SDK\", \"environment_cpu_name\": \"AzureML-AutoML\", \"environment_cpu_version\": \"44\", \"environment_gpu_name\": \"AzureML-AutoML-GPU\", \"environment_gpu_version\": \"32\", \"root_attribution\": \"automl\", \"attribution\": \"AutoML\", \"Orchestrator\": \"AutoML\", \"CancelUri\": \"https://southcentralus.experiments.azureml.net/jasmine/v1.0/subscriptions/888519c8-2387-461a-aff3-b31b86e2438e/resourceGroups/aml-quickstarts-126122/providers/Microsoft.MachineLearningServices/workspaces/quick-starts-ws-126122/experimentids/aa3da41e-d194-46af-aaad-199755b60939/cancel/AutoML_145744c5-84cf-4edf-9ef7-aee6ffbfe704\", \"ClientSdkVersion\": \"1.17.0\", \"snapshotId\": \"00000000-0000-0000-0000-000000000000\", \"SetupRunId\": \"AutoML_145744c5-84cf-4edf-9ef7-aee6ffbfe704_setup\", \"SetupRunContainerId\": \"dcid.AutoML_145744c5-84cf-4edf-9ef7-aee6ffbfe704_setup\", \"FeaturizationRunJsonPath\": \"featurizer_container.json\", \"FeaturizationRunId\": \"AutoML_145744c5-84cf-4edf-9ef7-aee6ffbfe704_featurize\", \"ProblemInfoJsonString\": \"{\\\"dataset_num_categorical\\\": 0, \\\"is_sparse\\\": false, \\\"subsampling\\\": false, \\\"dataset_classes\\\": 2, \\\"dataset_features\\\": 12, \\\"dataset_samples\\\": 299, \\\"single_frequency_class_detected\\\": false}\", \"ModelExplainRunId\": \"AutoML_145744c5-84cf-4edf-9ef7-aee6ffbfe704_ModelExplain\"}, \"tags\": {\"model_explain_run\": \"best_run\", \"_aml_system_azureml.automlComponent\": \"AutoML\", \"pipeline_id\": \"<c7af0367625be6ac5c2fecbfc72ed444cb7a2111>;<f873311e8cfb2bcdbeb6c20367cf912f4ee6733e>;<5dfac790c5c209f98a1da2dc1c7fb76f0397324f>;<cf1dc9b7ea4a50d759bce352343ec6737501695a>;<b19eeb61727e9c4fbb5aa45fb6e9fe3fab5b1f04>;<47dd667bb7c34b68c9fffa6fd580565b1f85400f>;<713f188a27b176644f73e8664c667c674a2d3d62>;<62c0e30b2e9113b3ecd95bcf5b31423c72074070>;<9e3f4780268658ad403e896559a8d3406152018c>;<e81d621ed176e5fac9def492d4ac54f304146b7c>;<59e4a1b86a57dfaeac5f3a051de6155ffc74f55b>;<a2983da01504b121cc4056d933a1191b51be87bc>;<52ac74da744a165756acc49238b34b81115532fd>;<8de8c085d2a4b23d3f4cc392a2f2660d23d38c14>;<a91f8b94ae9bf0dfc66e93d29d1ef41b7e2687f2>;<80d7fafc6227885ab86e843212a0c5ea47a69004>;<4d4be808b8b6dd0f67e8354c79eddd3d712440a5>;<d8d1a28b70a271fc16185d8e06b7faeee4bdd817>;<19bb9b610818186383462e6b1f9b568bc04b93e9>;<9fd7f177a78effac65f3f97ae40ca91e296c3f10>;<f86e0c37319548491774cfe027df9161ae6eecd2>;<9845a0ba1345a7474c237d10111bcf5bccbb1f0e>;<ce2643edf3d450b10c86c7d034a9bc952dc282d3>;<51ae05309834b29f71340af1008fc94fbd8213f4>;<bc9206626b500d75953081471497ef8df99a5b5f>;<24898c3fc87ab1754f4f98f00e8c6bffdbeabbd1>;<be1ef63576c9bf239084ecda182b48071c3c26e3>;<f8c2944a6f1d1c4ed906fd0b27cc6d8d1d4718b0>;<adf88c245fccd90cff054b0559cb3f18c133bb49>;<159bc77eee25e2b315ed79d180b93364945bdb2e>;<9945d10cda55998fa90958e83e28d2572cf56b48>;<bc9ef65750222003882cc9d618a82d0718fa6658>;<66d3351293e95c3fc2c942c78d68c54cccaf861b>;<c54527505577de5c7d9be05eb12aa19519975369>;<bb5824e5bb306c07443e17dd22f8ba9501b88c72>;<6054d54f602e7a75b86519a756eef869aa9deb1a>;<9602d4aae4ece79c353abeaacf0892c8a66ff4e5>;<b9fa8bf37aef47590ee2611ea49af2a1d5d325fc>;<__AutoML_Ensemble__>;<__AutoML_Stack_Ensemble__>;\", \"score\": \"<0.8294252873563218>;<0.8293103448275861>;<0.8528735632183908>;<0.8262068965517241>;<0.8394252873563218>;<0.7588505747126437>;<0.8360919540229886>;<0.7726436781609196>;<0.812528735632184>;<0.825977011494253>;<0.8060919540229886>;<0.7788505747126436>;<0.7956321839080459>;<0.8426436781609196>;<0.7826436781609195>;<0.8260919540229887>;<0.7659770114942528>;<0.7589655172413792>;<0.7520689655172415>;<0.8126436781609195>;<0.7758620689655171>;<0.8022988505747126>;<0.8360919540229885>;<0.8294252873563218>;<0.8160919540229885>;<0.8059770114942528>;<0.8394252873563219>;<0.8459770114942529>;<0.8427586206896551>;<0.835977011494253>;<0.8493103448275863>;<0.835977011494253>;<0.8393103448275863>;<NaN>;<NaN>;<NaN>;<NaN>;<0.8462068965517242>;<0.8727586206896552>;<0.8527586206896552>;\", \"predicted_cost\": \"<0>;<0.5>;<0>;<0.5>;<0.5>;<0.5>;<0.004032999999999998>;<0.004032999999999998>;<0.014028801477338494>;<0.005774548229483107>;<0.006224507458488261>;<0.004669170105926211>;<0.02606236552770604>;<0.01820626430497947>;<0.006941367610289401>;<0.017842741852528456>;<0.01819707947047425>;<0.024147660561404907>;<0.004056376170071746>;<0.021100712654512143>;<0.022840602828898965>;<0.02358136390956063>;<0.029471232262255623>;<0.025151806267362627>;<0.0037380419834226503>;<0.018189833745009376>;<0.023532448102355483>;<0.030765649963814635>;<0.035050671805787074>;<0.021853585451585486>;<0.030185026015130047>;<0.02146656447310255>;<0.044359129031933286>;<0.03398836229791083>;<0.053229299314119176>;<0.026983344789156066>;<0.050165620311892124>;<0.10721328627709137>;<0>;<0>;\", \"fit_time\": \"<0.0349762>;<0.004033>;<0.030724300000000003>;<0.0159925>;<0.0227408>;<0.004253100000000001>;<0.018924000000000003>;<0.0586152>;<0.0414267>;<0.0035532000000000003>;<0.013272699999999998>;<0.004252000000000001>;<0.0544988>;<0.0248898>;<0.013702>;<0.0169885>;<0.0504989>;<0.05039010000000001>;<0.0041872>;<0.0366438>;<0.015559700000000001>;<0.053618200000000005>;<0.0183118>;<0.0171123>;<0.004143099999999999>;<0.015118099999999999>;<0.09464900000000001>;<0.0980591>;<0.8692529>;<0.0136082>;<0.0181001>;<0.0200293>;<0.041249299999999996>;<NaN>;<NaN>;<NaN>;<NaN>;<0.5026278000000001>;<69>;<63>;\", \"training_percent\": \"<100>;<100>;<100>;<100>;<100>;<100>;<100>;<100>;<100>;<100>;<100>;<100>;<100>;<100>;<100>;<100>;<100>;<100>;<100>;<100>;<100>;<100>;<100>;<100>;<100>;<100>;<100>;<100>;<100>;<100>;<100>;<100>;<100>;<100>;<100>;<100>;<100>;<100>;<100>;<100>;\", \"iteration\": \"<1>;<3>;<0>;<2>;<4>;<5>;<6>;<7>;<8>;<9>;<10>;<11>;<12>;<14>;<13>;<17>;<15>;<16>;<18>;<19>;<20>;<21>;<22>;<23>;<24>;<25>;<26>;<27>;<28>;<29>;<30>;<31>;<32>;<36>;<37>;<35>;<34>;<33>;<38>;<39>;\", \"run_preprocessor\": \"<MaxAbsScaler>;<StandardScalerWrapper>;<MaxAbsScaler>;<MinMaxScaler>;<MinMaxScaler>;<StandardScalerWrapper>;<StandardScalerWrapper>;<RobustScaler>;<StandardScalerWrapper>;<StandardScalerWrapper>;<StandardScalerWrapper>;<MinMaxScaler>;<RobustScaler>;<MinMaxScaler>;<MinMaxScaler>;<StandardScalerWrapper>;<MinMaxScaler>;<MinMaxScaler>;<StandardScalerWrapper>;<RobustScaler>;<StandardScalerWrapper>;<MinMaxScaler>;<MaxAbsScaler>;<MaxAbsScaler>;<MaxAbsScaler>;<MaxAbsScaler>;<MinMaxScaler>;<RobustScaler>;<MinMaxScaler>;<StandardScalerWrapper>;<MinMaxScaler>;<SparseNormalizer>;<RobustScaler>;<>;<>;<>;<>;<MinMaxScaler>;<>;<>;\", \"run_algorithm\": \"<XGBoostClassifier>;<SGD>;<LightGBM>;<RandomForest>;<RandomForest>;<SGD>;<RandomForest>;<ExtremeRandomTrees>;<ExtremeRandomTrees>;<SGD>;<SGD>;<SGD>;<ExtremeRandomTrees>;<ExtremeRandomTrees>;<SGD>;<RandomForest>;<ExtremeRandomTrees>;<ExtremeRandomTrees>;<SGD>;<ExtremeRandomTrees>;<RandomForest>;<ExtremeRandomTrees>;<RandomForest>;<ExtremeRandomTrees>;<SGD>;<LightGBM>;<RandomForest>;<ExtremeRandomTrees>;<RandomForest>;<XGBoostClassifier>;<LightGBM>;<XGBoostClassifier>;<LightGBM>;<>;<>;<>;<>;<RandomForest>;<VotingEnsemble>;<StackEnsemble>;\", \"dynamic_whitelisting_iterations\": \"<25>;<30>;<35>;\", \"automl_best_child_run_id\": \"AutoML_145744c5-84cf-4edf-9ef7-aee6ffbfe704_38\", \"model_explain_best_run_child_id\": \"AutoML_145744c5-84cf-4edf-9ef7-aee6ffbfe704_38\"}, \"end_time_utc\": \"2020-11-14T13:42:48.880405Z\", \"status\": \"Completed\", \"log_files\": {}, \"log_groups\": [], \"run_duration\": \"0:31:19\"}, \"child_runs\": [{\"run_id\": \"AutoML_145744c5-84cf-4edf-9ef7-aee6ffbfe704_1\", \"run_number\": 5, \"metric\": null, \"status\": \"Completed\", \"run_type\": \"azureml.scriptrun\", \"training_percent\": \"100\", \"start_time\": \"2020-11-14T13:20:13.972909Z\", \"end_time\": \"2020-11-14T13:20:54.748471Z\", \"created_time\": \"2020-11-14T13:20:01.737698Z\", \"created_time_dt\": \"2020-11-14T13:20:01.737698Z\", \"duration\": \"0:00:53\", \"iteration\": \"1\", \"goal\": \"accuracy_max\", \"run_name\": \"MaxAbsScaler, XGBoostClassifier\", \"run_properties\": \"copy=True\", \"primary_metric\": 0.82942529, \"best_metric\": 0.85287356}, {\"run_id\": \"AutoML_145744c5-84cf-4edf-9ef7-aee6ffbfe704_4\", \"run_number\": 6, \"metric\": null, \"status\": \"Completed\", \"run_type\": \"azureml.scriptrun\", \"training_percent\": \"100\", \"start_time\": \"2020-11-14T13:23:38.76479Z\", \"end_time\": \"2020-11-14T13:24:16.718665Z\", \"created_time\": \"2020-11-14T13:20:01.840219Z\", \"created_time_dt\": \"2020-11-14T13:20:01.840219Z\", \"duration\": \"0:04:14\", \"iteration\": \"4\", \"goal\": \"accuracy_max\", \"run_name\": \"MinMaxScaler, RandomForest\", \"run_properties\": \"copy=True, feature_range=(0, 1\", \"primary_metric\": 0.83942529, \"best_metric\": 0.85287356}, {\"run_id\": \"AutoML_145744c5-84cf-4edf-9ef7-aee6ffbfe704_2\", \"run_number\": 7, \"metric\": null, \"status\": \"Completed\", \"run_type\": \"azureml.scriptrun\", \"training_percent\": \"100\", \"start_time\": \"2020-11-14T13:22:00.833922Z\", \"end_time\": \"2020-11-14T13:24:15.789769Z\", \"created_time\": \"2020-11-14T13:20:01.868887Z\", \"created_time_dt\": \"2020-11-14T13:20:01.868887Z\", \"duration\": \"0:04:13\", \"iteration\": \"2\", \"goal\": \"accuracy_max\", \"run_name\": \"MinMaxScaler, RandomForest\", \"run_properties\": \"copy=True, feature_range=(0, 1\", \"primary_metric\": 0.8262069, \"best_metric\": 0.85287356}, {\"run_id\": \"AutoML_145744c5-84cf-4edf-9ef7-aee6ffbfe704_0\", \"run_number\": 8, \"metric\": null, \"status\": \"Completed\", \"run_type\": \"azureml.scriptrun\", \"training_percent\": \"100\", \"start_time\": \"2020-11-14T13:22:20.374858Z\", \"end_time\": \"2020-11-14T13:23:13.000798Z\", \"created_time\": \"2020-11-14T13:20:01.91238Z\", \"created_time_dt\": \"2020-11-14T13:20:01.91238Z\", \"duration\": \"0:03:11\", \"iteration\": \"0\", \"goal\": \"accuracy_max\", \"run_name\": \"MaxAbsScaler, LightGBM\", \"run_properties\": \"copy=True\", \"primary_metric\": 0.85287356, \"best_metric\": 0.85287356}, {\"run_id\": \"AutoML_145744c5-84cf-4edf-9ef7-aee6ffbfe704_3\", \"run_number\": 9, \"metric\": null, \"status\": \"Completed\", \"run_type\": \"azureml.scriptrun\", \"training_percent\": \"100\", \"start_time\": \"2020-11-14T13:21:15.080457Z\", \"end_time\": \"2020-11-14T13:21:55.907725Z\", \"created_time\": \"2020-11-14T13:20:01.837647Z\", \"created_time_dt\": \"2020-11-14T13:20:01.837647Z\", \"duration\": \"0:01:54\", \"iteration\": \"3\", \"goal\": \"accuracy_max\", \"run_name\": \"StandardScalerWrapper, SGD\", \"run_properties\": \"<azureml.automl.runtime.shared.model_wrappers.StandardScalerWrapper object at 0x7f8b382765f8\", \"primary_metric\": 0.82931034, \"best_metric\": 0.85287356}, {\"run_id\": \"AutoML_145744c5-84cf-4edf-9ef7-aee6ffbfe704_5\", \"run_number\": 10, \"metric\": null, \"status\": \"Completed\", \"run_type\": \"azureml.scriptrun\", \"training_percent\": \"100\", \"start_time\": \"2020-11-14T13:24:42.677008Z\", \"end_time\": \"2020-11-14T13:25:17.156809Z\", \"created_time\": \"2020-11-14T13:21:00.8198Z\", \"created_time_dt\": \"2020-11-14T13:21:00.8198Z\", \"duration\": \"0:04:16\", \"iteration\": \"5\", \"goal\": \"accuracy_max\", \"run_name\": \"StandardScalerWrapper, SGD\", \"run_properties\": \"<azureml.automl.runtime.shared.model_wrappers.StandardScalerWrapper object at 0x7fb2342279e8\", \"primary_metric\": 0.75885057, \"best_metric\": 0.85287356}, {\"run_id\": \"AutoML_145744c5-84cf-4edf-9ef7-aee6ffbfe704_6\", \"run_number\": 11, \"metric\": null, \"status\": \"Completed\", \"run_type\": \"azureml.scriptrun\", \"training_percent\": \"100\", \"start_time\": \"2020-11-14T13:24:40.725831Z\", \"end_time\": \"2020-11-14T13:25:26.29191Z\", \"created_time\": \"2020-11-14T13:22:00.248139Z\", \"created_time_dt\": \"2020-11-14T13:22:00.248139Z\", \"duration\": \"0:03:26\", \"iteration\": \"6\", \"goal\": \"accuracy_max\", \"run_name\": \"StandardScalerWrapper, RandomForest\", \"run_properties\": \"<azureml.automl.runtime.shared.model_wrappers.StandardScalerWrapper object at 0x7f95f2b72518\", \"primary_metric\": 0.83609195, \"best_metric\": 0.85287356}, {\"run_id\": \"AutoML_145744c5-84cf-4edf-9ef7-aee6ffbfe704_7\", \"run_number\": 12, \"metric\": null, \"status\": \"Completed\", \"run_type\": \"azureml.scriptrun\", \"training_percent\": \"100\", \"start_time\": \"2020-11-14T13:25:41.02273Z\", \"end_time\": \"2020-11-14T13:26:17.345225Z\", \"created_time\": \"2020-11-14T13:23:22.083173Z\", \"created_time_dt\": \"2020-11-14T13:23:22.083173Z\", \"duration\": \"0:02:55\", \"iteration\": \"7\", \"goal\": \"accuracy_max\", \"run_name\": \"RobustScaler, ExtremeRandomTrees\", \"run_properties\": \"copy=True, quantile_range=[10, 90], with_centering=False,\\n             with_scaling=False\", \"primary_metric\": 0.77264368, \"best_metric\": 0.85287356}, {\"run_id\": \"AutoML_145744c5-84cf-4edf-9ef7-aee6ffbfe704_8\", \"run_number\": 13, \"metric\": null, \"status\": \"Completed\", \"run_type\": \"azureml.scriptrun\", \"training_percent\": \"100\", \"start_time\": \"2020-11-14T13:25:52.872325Z\", \"end_time\": \"2020-11-14T13:26:30.555501Z\", \"created_time\": \"2020-11-14T13:24:25.8361Z\", \"created_time_dt\": \"2020-11-14T13:24:25.8361Z\", \"duration\": \"0:02:04\", \"iteration\": \"8\", \"goal\": \"accuracy_max\", \"run_name\": \"StandardScalerWrapper, ExtremeRandomTrees\", \"run_properties\": \"<azureml.automl.runtime.shared.model_wrappers.StandardScalerWrapper object at 0x7ffa18bdab00\", \"primary_metric\": 0.81252874, \"best_metric\": 0.85287356}, {\"run_id\": \"AutoML_145744c5-84cf-4edf-9ef7-aee6ffbfe704_9\", \"run_number\": 14, \"metric\": null, \"status\": \"Completed\", \"run_type\": \"azureml.scriptrun\", \"training_percent\": \"100\", \"start_time\": \"2020-11-14T13:26:39.297998Z\", \"end_time\": \"2020-11-14T13:27:17.260039Z\", \"created_time\": \"2020-11-14T13:24:26.019318Z\", \"created_time_dt\": \"2020-11-14T13:24:26.019318Z\", \"duration\": \"0:02:51\", \"iteration\": \"9\", \"goal\": \"accuracy_max\", \"run_name\": \"StandardScalerWrapper, SGD\", \"run_properties\": \"<azureml.automl.runtime.shared.model_wrappers.StandardScalerWrapper object at 0x7fe470563c88\", \"primary_metric\": 0.82597701, \"best_metric\": 0.85287356}, {\"run_id\": \"AutoML_145744c5-84cf-4edf-9ef7-aee6ffbfe704_10\", \"run_number\": 15, \"metric\": null, \"status\": \"Completed\", \"run_type\": \"azureml.scriptrun\", \"training_percent\": \"100\", \"start_time\": \"2020-11-14T13:26:56.935209Z\", \"end_time\": \"2020-11-14T13:27:27.455743Z\", \"created_time\": \"2020-11-14T13:25:24.824982Z\", \"created_time_dt\": \"2020-11-14T13:25:24.824982Z\", \"duration\": \"0:02:02\", \"iteration\": \"10\", \"goal\": \"accuracy_max\", \"run_name\": \"StandardScalerWrapper, SGD\", \"run_properties\": \"<azureml.automl.runtime.shared.model_wrappers.StandardScalerWrapper object at 0x7f6de3013358\", \"primary_metric\": 0.80609195, \"best_metric\": 0.85287356}, {\"run_id\": \"AutoML_145744c5-84cf-4edf-9ef7-aee6ffbfe704_11\", \"run_number\": 16, \"metric\": null, \"status\": \"Completed\", \"run_type\": \"azureml.scriptrun\", \"training_percent\": \"100\", \"start_time\": \"2020-11-14T13:27:46.23455Z\", \"end_time\": \"2020-11-14T13:28:27.924251Z\", \"created_time\": \"2020-11-14T13:25:41.95255Z\", \"created_time_dt\": \"2020-11-14T13:25:41.95255Z\", \"duration\": \"0:02:45\", \"iteration\": \"11\", \"goal\": \"accuracy_max\", \"run_name\": \"MinMaxScaler, SGD\", \"run_properties\": \"copy=True, feature_range=(0, 1\", \"primary_metric\": 0.77885057, \"best_metric\": 0.85287356}, {\"run_id\": \"AutoML_145744c5-84cf-4edf-9ef7-aee6ffbfe704_12\", \"run_number\": 17, \"metric\": null, \"status\": \"Completed\", \"run_type\": \"azureml.scriptrun\", \"training_percent\": \"100\", \"start_time\": \"2020-11-14T13:27:49.704473Z\", \"end_time\": \"2020-11-14T13:28:29.431747Z\", \"created_time\": \"2020-11-14T13:26:26.401222Z\", \"created_time_dt\": \"2020-11-14T13:26:26.401222Z\", \"duration\": \"0:02:03\", \"iteration\": \"12\", \"goal\": \"accuracy_max\", \"run_name\": \"RobustScaler, ExtremeRandomTrees\", \"run_properties\": \"copy=True, quantile_range=[10, 90], with_centering=False,\\n             with_scaling=False\", \"primary_metric\": 0.79563218, \"best_metric\": 0.85287356}, {\"run_id\": \"AutoML_145744c5-84cf-4edf-9ef7-aee6ffbfe704_13\", \"run_number\": 18, \"metric\": null, \"status\": \"Completed\", \"run_type\": \"azureml.scriptrun\", \"training_percent\": \"100\", \"start_time\": \"2020-11-14T13:28:54.760761Z\", \"end_time\": \"2020-11-14T13:29:36.417479Z\", \"created_time\": \"2020-11-14T13:26:43.083292Z\", \"created_time_dt\": \"2020-11-14T13:26:43.083292Z\", \"duration\": \"0:02:53\", \"iteration\": \"13\", \"goal\": \"accuracy_max\", \"run_name\": \"MinMaxScaler, SGD\", \"run_properties\": \"copy=True, feature_range=(0, 1\", \"primary_metric\": 0.78264368, \"best_metric\": 0.85287356}, {\"run_id\": \"AutoML_145744c5-84cf-4edf-9ef7-aee6ffbfe704_14\", \"run_number\": 19, \"metric\": null, \"status\": \"Completed\", \"run_type\": \"azureml.scriptrun\", \"training_percent\": \"100\", \"start_time\": \"2020-11-14T13:28:57.073993Z\", \"end_time\": \"2020-11-14T13:29:34.361522Z\", \"created_time\": \"2020-11-14T13:27:20.325595Z\", \"created_time_dt\": \"2020-11-14T13:27:20.325595Z\", \"duration\": \"0:02:14\", \"iteration\": \"14\", \"goal\": \"accuracy_max\", \"run_name\": \"MinMaxScaler, ExtremeRandomTrees\", \"run_properties\": \"copy=True, feature_range=(0, 1\", \"primary_metric\": 0.84264368, \"best_metric\": 0.85287356}, {\"run_id\": \"AutoML_145744c5-84cf-4edf-9ef7-aee6ffbfe704_15\", \"run_number\": 20, \"metric\": null, \"status\": \"Completed\", \"run_type\": \"azureml.scriptrun\", \"training_percent\": \"100\", \"start_time\": \"2020-11-14T13:29:58.59528Z\", \"end_time\": \"2020-11-14T13:30:40.087867Z\", \"created_time\": \"2020-11-14T13:27:35.67414Z\", \"created_time_dt\": \"2020-11-14T13:27:35.67414Z\", \"duration\": \"0:03:04\", \"iteration\": \"15\", \"goal\": \"accuracy_max\", \"run_name\": \"MinMaxScaler, ExtremeRandomTrees\", \"run_properties\": \"copy=True, feature_range=(0, 1\", \"primary_metric\": 0.76597701, \"best_metric\": 0.85287356}, {\"run_id\": \"AutoML_145744c5-84cf-4edf-9ef7-aee6ffbfe704_16\", \"run_number\": 21, \"metric\": null, \"status\": \"Completed\", \"run_type\": \"azureml.scriptrun\", \"training_percent\": \"100\", \"start_time\": \"2020-11-14T13:31:05.627913Z\", \"end_time\": \"2020-11-14T13:31:41.624246Z\", \"created_time\": \"2020-11-14T13:28:33.298918Z\", \"created_time_dt\": \"2020-11-14T13:28:33.298918Z\", \"duration\": \"0:03:08\", \"iteration\": \"16\", \"goal\": \"accuracy_max\", \"run_name\": \"MinMaxScaler, ExtremeRandomTrees\", \"run_properties\": \"copy=True, feature_range=(0, 1\", \"primary_metric\": 0.75896552, \"best_metric\": 0.85287356}, {\"run_id\": \"AutoML_145744c5-84cf-4edf-9ef7-aee6ffbfe704_17\", \"run_number\": 22, \"metric\": null, \"status\": \"Completed\", \"run_type\": \"azureml.scriptrun\", \"training_percent\": \"100\", \"start_time\": \"2020-11-14T13:30:00.991711Z\", \"end_time\": \"2020-11-14T13:30:48.136584Z\", \"created_time\": \"2020-11-14T13:28:33.327921Z\", \"created_time_dt\": \"2020-11-14T13:28:33.327921Z\", \"duration\": \"0:02:14\", \"iteration\": \"17\", \"goal\": \"accuracy_max\", \"run_name\": \"StandardScalerWrapper, RandomForest\", \"run_properties\": \"<azureml.automl.runtime.shared.model_wrappers.StandardScalerWrapper object at 0x7f805062a208\", \"primary_metric\": 0.82609195, \"best_metric\": 0.85287356}, {\"run_id\": \"AutoML_145744c5-84cf-4edf-9ef7-aee6ffbfe704_18\", \"run_number\": 23, \"metric\": null, \"status\": \"Completed\", \"run_type\": \"azureml.scriptrun\", \"training_percent\": \"100\", \"start_time\": \"2020-11-14T13:31:14.578862Z\", \"end_time\": \"2020-11-14T13:32:02.105786Z\", \"created_time\": \"2020-11-14T13:29:37.849073Z\", \"created_time_dt\": \"2020-11-14T13:29:37.849073Z\", \"duration\": \"0:02:24\", \"iteration\": \"18\", \"goal\": \"accuracy_max\", \"run_name\": \"StandardScalerWrapper, SGD\", \"run_properties\": \"<azureml.automl.runtime.shared.model_wrappers.StandardScalerWrapper object at 0x7fe03963e1d0\", \"primary_metric\": 0.75206897, \"best_metric\": 0.85287356}, {\"run_id\": \"AutoML_145744c5-84cf-4edf-9ef7-aee6ffbfe704_19\", \"run_number\": 24, \"metric\": null, \"status\": \"Completed\", \"run_type\": \"azureml.scriptrun\", \"training_percent\": \"100\", \"start_time\": \"2020-11-14T13:32:05.495739Z\", \"end_time\": \"2020-11-14T13:32:44.557576Z\", \"created_time\": \"2020-11-14T13:29:54.000978Z\", \"created_time_dt\": \"2020-11-14T13:29:54.000978Z\", \"duration\": \"0:02:50\", \"iteration\": \"19\", \"goal\": \"accuracy_max\", \"run_name\": \"RobustScaler, ExtremeRandomTrees\", \"run_properties\": \"copy=True, quantile_range=[25, 75], with_centering=True,\\n             with_scaling=False\", \"primary_metric\": 0.81264368, \"best_metric\": 0.85287356}, {\"run_id\": \"AutoML_145744c5-84cf-4edf-9ef7-aee6ffbfe704_20\", \"run_number\": 25, \"metric\": null, \"status\": \"Completed\", \"run_type\": \"azureml.scriptrun\", \"training_percent\": \"100\", \"start_time\": \"2020-11-14T13:32:27.583811Z\", \"end_time\": \"2020-11-14T13:33:09.6903Z\", \"created_time\": \"2020-11-14T13:30:53.593505Z\", \"created_time_dt\": \"2020-11-14T13:30:53.593505Z\", \"duration\": \"0:02:16\", \"iteration\": \"20\", \"goal\": \"accuracy_max\", \"run_name\": \"StandardScalerWrapper, RandomForest\", \"run_properties\": \"<azureml.automl.runtime.shared.model_wrappers.StandardScalerWrapper object at 0x7fccd0a08fd0\", \"primary_metric\": 0.77586207, \"best_metric\": 0.85287356}, {\"run_id\": \"AutoML_145744c5-84cf-4edf-9ef7-aee6ffbfe704_21\", \"run_number\": 26, \"metric\": null, \"status\": \"Completed\", \"run_type\": \"azureml.scriptrun\", \"training_percent\": \"100\", \"start_time\": \"2020-11-14T13:33:09.462248Z\", \"end_time\": \"2020-11-14T13:33:46.984427Z\", \"created_time\": \"2020-11-14T13:30:53.711323Z\", \"created_time_dt\": \"2020-11-14T13:30:53.711323Z\", \"duration\": \"0:02:53\", \"iteration\": \"21\", \"goal\": \"accuracy_max\", \"run_name\": \"MinMaxScaler, ExtremeRandomTrees\", \"run_properties\": \"copy=True, feature_range=(0, 1\", \"primary_metric\": 0.80229885, \"best_metric\": 0.85287356}, {\"run_id\": \"AutoML_145744c5-84cf-4edf-9ef7-aee6ffbfe704_22\", \"run_number\": 27, \"metric\": null, \"status\": \"Completed\", \"run_type\": \"azureml.scriptrun\", \"training_percent\": \"100\", \"start_time\": \"2020-11-14T13:33:32.624434Z\", \"end_time\": \"2020-11-14T13:34:09.146206Z\", \"created_time\": \"2020-11-14T13:31:51.848187Z\", \"created_time_dt\": \"2020-11-14T13:31:51.848187Z\", \"duration\": \"0:02:17\", \"iteration\": \"22\", \"goal\": \"accuracy_max\", \"run_name\": \"MaxAbsScaler, RandomForest\", \"run_properties\": \"copy=True\", \"primary_metric\": 0.83609195, \"best_metric\": 0.85287356}, {\"run_id\": \"AutoML_145744c5-84cf-4edf-9ef7-aee6ffbfe704_23\", \"run_number\": 28, \"metric\": null, \"status\": \"Completed\", \"run_type\": \"azureml.scriptrun\", \"training_percent\": \"100\", \"start_time\": \"2020-11-14T13:34:13.48799Z\", \"end_time\": \"2020-11-14T13:34:51.474292Z\", \"created_time\": \"2020-11-14T13:32:07.036658Z\", \"created_time_dt\": \"2020-11-14T13:32:07.036658Z\", \"duration\": \"0:02:44\", \"iteration\": \"23\", \"goal\": \"accuracy_max\", \"run_name\": \"MaxAbsScaler, ExtremeRandomTrees\", \"run_properties\": \"copy=True\", \"primary_metric\": 0.82942529, \"best_metric\": 0.85287356}, {\"run_id\": \"AutoML_145744c5-84cf-4edf-9ef7-aee6ffbfe704_24\", \"run_number\": 29, \"metric\": null, \"status\": \"Completed\", \"run_type\": \"azureml.scriptrun\", \"training_percent\": \"100\", \"start_time\": \"2020-11-14T13:34:37.945171Z\", \"end_time\": \"2020-11-14T13:35:18.584969Z\", \"created_time\": \"2020-11-14T13:32:53.794427Z\", \"created_time_dt\": \"2020-11-14T13:32:53.794427Z\", \"duration\": \"0:02:24\", \"iteration\": \"24\", \"goal\": \"accuracy_max\", \"run_name\": \"MaxAbsScaler, SGD\", \"run_properties\": \"copy=True\", \"primary_metric\": 0.81609195, \"best_metric\": 0.85287356}, {\"run_id\": \"AutoML_145744c5-84cf-4edf-9ef7-aee6ffbfe704_25\", \"run_number\": 30, \"metric\": null, \"status\": \"Completed\", \"run_type\": \"azureml.scriptrun\", \"training_percent\": \"100\", \"start_time\": \"2020-11-14T13:35:16.740269Z\", \"end_time\": \"2020-11-14T13:36:02.136196Z\", \"created_time\": \"2020-11-14T13:33:21.542785Z\", \"created_time_dt\": \"2020-11-14T13:33:21.542785Z\", \"duration\": \"0:02:40\", \"iteration\": \"25\", \"goal\": \"accuracy_max\", \"run_name\": \"MaxAbsScaler, LightGBM\", \"run_properties\": \"copy=True\", \"primary_metric\": 0.80597701, \"best_metric\": 0.85287356}, {\"run_id\": \"AutoML_145744c5-84cf-4edf-9ef7-aee6ffbfe704_26\", \"run_number\": 31, \"metric\": null, \"status\": \"Completed\", \"run_type\": \"azureml.scriptrun\", \"training_percent\": \"100\", \"start_time\": \"2020-11-14T13:35:47.862978Z\", \"end_time\": \"2020-11-14T13:36:25.511651Z\", \"created_time\": \"2020-11-14T13:33:56.551525Z\", \"created_time_dt\": \"2020-11-14T13:33:56.551525Z\", \"duration\": \"0:02:28\", \"iteration\": \"26\", \"goal\": \"accuracy_max\", \"run_name\": \"MinMaxScaler, RandomForest\", \"run_properties\": \"copy=True, feature_range=(0, 1\", \"primary_metric\": 0.83942529, \"best_metric\": 0.85287356}, {\"run_id\": \"AutoML_145744c5-84cf-4edf-9ef7-aee6ffbfe704_27\", \"run_number\": 32, \"metric\": null, \"status\": \"Completed\", \"run_type\": \"azureml.scriptrun\", \"training_percent\": \"100\", \"start_time\": \"2020-11-14T13:36:30.091273Z\", \"end_time\": \"2020-11-14T13:37:06.53565Z\", \"created_time\": \"2020-11-14T13:34:11.50236Z\", \"created_time_dt\": \"2020-11-14T13:34:11.50236Z\", \"duration\": \"0:02:55\", \"iteration\": \"27\", \"goal\": \"accuracy_max\", \"run_name\": \"RobustScaler, ExtremeRandomTrees\", \"run_properties\": \"copy=True, quantile_range=[25, 75], with_centering=False,\\n             with_scaling=False\", \"primary_metric\": 0.84597701, \"best_metric\": 0.85287356}, {\"run_id\": \"AutoML_145744c5-84cf-4edf-9ef7-aee6ffbfe704_28\", \"run_number\": 33, \"metric\": null, \"status\": \"Completed\", \"run_type\": \"azureml.scriptrun\", \"training_percent\": \"100\", \"start_time\": \"2020-11-14T13:36:49.836153Z\", \"end_time\": \"2020-11-14T13:37:41.970031Z\", \"created_time\": \"2020-11-14T13:34:58.504235Z\", \"created_time_dt\": \"2020-11-14T13:34:58.504235Z\", \"duration\": \"0:02:43\", \"iteration\": \"28\", \"goal\": \"accuracy_max\", \"run_name\": \"MinMaxScaler, RandomForest\", \"run_properties\": \"copy=True, feature_range=(0, 1\", \"primary_metric\": 0.84275862, \"best_metric\": 0.85287356}, {\"run_id\": \"AutoML_145744c5-84cf-4edf-9ef7-aee6ffbfe704_29\", \"run_number\": 34, \"metric\": null, \"status\": \"Completed\", \"run_type\": \"azureml.scriptrun\", \"training_percent\": \"100\", \"start_time\": \"2020-11-14T13:37:34.744265Z\", \"end_time\": \"2020-11-14T13:38:08.949079Z\", \"created_time\": \"2020-11-14T13:35:23.446057Z\", \"created_time_dt\": \"2020-11-14T13:35:23.446057Z\", \"duration\": \"0:02:45\", \"iteration\": \"29\", \"goal\": \"accuracy_max\", \"run_name\": \"StandardScalerWrapper, XGBoostClassifier\", \"run_properties\": \"<azureml.automl.runtime.shared.model_wrappers.StandardScalerWrapper object at 0x7fa36290b7f0\", \"primary_metric\": 0.83597701, \"best_metric\": 0.85287356}, {\"run_id\": \"AutoML_145744c5-84cf-4edf-9ef7-aee6ffbfe704_30\", \"run_number\": 35, \"metric\": null, \"status\": \"Completed\", \"run_type\": \"azureml.scriptrun\", \"training_percent\": \"100\", \"start_time\": \"2020-11-14T13:38:06.32589Z\", \"end_time\": \"2020-11-14T13:38:46.639776Z\", \"created_time\": \"2020-11-14T13:36:10.359397Z\", \"created_time_dt\": \"2020-11-14T13:36:10.359397Z\", \"duration\": \"0:02:36\", \"iteration\": \"30\", \"goal\": \"accuracy_max\", \"run_name\": \"MinMaxScaler, LightGBM\", \"run_properties\": \"copy=True, feature_range=(0, 1\", \"primary_metric\": 0.84931034, \"best_metric\": 0.85287356}, {\"run_id\": \"AutoML_145744c5-84cf-4edf-9ef7-aee6ffbfe704_31\", \"run_number\": 36, \"metric\": null, \"status\": \"Completed\", \"run_type\": \"azureml.scriptrun\", \"training_percent\": \"100\", \"start_time\": \"2020-11-14T13:38:35.070632Z\", \"end_time\": \"2020-11-14T13:39:09.827658Z\", \"created_time\": \"2020-11-14T13:36:36.86314Z\", \"created_time_dt\": \"2020-11-14T13:36:36.86314Z\", \"duration\": \"0:02:32\", \"iteration\": \"31\", \"goal\": \"accuracy_max\", \"run_name\": \"SparseNormalizer, XGBoostClassifier\", \"run_properties\": \"<azureml.automl.runtime.shared.model_wrappers.SparseNormalizer object at 0x7f7894fa7f60\", \"primary_metric\": 0.83597701, \"best_metric\": 0.85287356}, {\"run_id\": \"AutoML_145744c5-84cf-4edf-9ef7-aee6ffbfe704_32\", \"run_number\": 37, \"metric\": null, \"status\": \"Completed\", \"run_type\": \"azureml.scriptrun\", \"training_percent\": \"100\", \"start_time\": \"2020-11-14T13:39:09.279335Z\", \"end_time\": \"2020-11-14T13:39:46.640708Z\", \"created_time\": \"2020-11-14T13:37:15.071566Z\", \"created_time_dt\": \"2020-11-14T13:37:15.071566Z\", \"duration\": \"0:02:31\", \"iteration\": \"32\", \"goal\": \"accuracy_max\", \"run_name\": \"RobustScaler, LightGBM\", \"run_properties\": \"copy=True, quantile_range=[10, 90], with_centering=True,\\n             with_scaling=False\", \"primary_metric\": 0.83931034, \"best_metric\": 0.85287356}, {\"run_id\": \"AutoML_145744c5-84cf-4edf-9ef7-aee6ffbfe704_33\", \"run_number\": 38, \"metric\": null, \"status\": \"Completed\", \"run_type\": \"azureml.scriptrun\", \"training_percent\": \"100\", \"start_time\": \"2020-11-14T13:39:32.660658Z\", \"end_time\": \"2020-11-14T13:40:21.322291Z\", \"created_time\": \"2020-11-14T13:37:51.613728Z\", \"created_time_dt\": \"2020-11-14T13:37:51.613728Z\", \"duration\": \"0:02:29\", \"iteration\": \"33\", \"goal\": \"accuracy_max\", \"run_name\": \"MinMaxScaler, RandomForest\", \"run_properties\": \"copy=True, feature_range=(0, 1\", \"primary_metric\": 0.8462069, \"best_metric\": 0.85287356}, {\"run_id\": \"AutoML_145744c5-84cf-4edf-9ef7-aee6ffbfe704_34\", \"run_number\": 39, \"metric\": null, \"status\": \"Canceled\", \"run_type\": \"azureml.scriptrun\", \"training_percent\": \"100\", \"start_time\": \"2020-11-14T13:40:09.092373Z\", \"end_time\": \"2020-11-14T13:40:33.881148Z\", \"created_time\": \"2020-11-14T13:38:16.346394Z\", \"created_time_dt\": \"2020-11-14T13:38:16.346394Z\", \"duration\": \"0:02:17\", \"iteration\": \"34\", \"goal\": null, \"run_name\": \"Canceled\", \"run_properties\": null}, {\"run_id\": \"AutoML_145744c5-84cf-4edf-9ef7-aee6ffbfe704_35\", \"run_number\": 40, \"metric\": null, \"status\": \"Canceled\", \"run_type\": \"azureml.scriptrun\", \"training_percent\": \"100\", \"start_time\": \"2020-11-14T13:38:52.478954Z\", \"end_time\": \"2020-11-14T13:40:34.514143Z\", \"created_time\": \"2020-11-14T13:38:52.478954Z\", \"created_time_dt\": \"2020-11-14T13:38:52.478954Z\", \"duration\": \"0:01:42\", \"iteration\": \"35\", \"goal\": null, \"run_name\": \"Canceled\", \"run_properties\": null}, {\"run_id\": \"AutoML_145744c5-84cf-4edf-9ef7-aee6ffbfe704_36\", \"run_number\": 41, \"metric\": null, \"status\": \"Canceled\", \"run_type\": \"azureml.scriptrun\", \"training_percent\": \"100\", \"start_time\": \"2020-11-14T13:39:17.123564Z\", \"end_time\": \"2020-11-14T13:40:35.69256Z\", \"created_time\": \"2020-11-14T13:39:17.123564Z\", \"created_time_dt\": \"2020-11-14T13:39:17.123564Z\", \"duration\": \"0:01:18\", \"iteration\": \"36\", \"goal\": null, \"run_name\": \"Canceled\", \"run_properties\": null}, {\"run_id\": \"AutoML_145744c5-84cf-4edf-9ef7-aee6ffbfe704_37\", \"run_number\": 42, \"metric\": null, \"status\": \"Canceled\", \"run_type\": \"azureml.scriptrun\", \"training_percent\": \"100\", \"start_time\": \"2020-11-14T13:39:52.851755Z\", \"end_time\": \"2020-11-14T13:40:35.257152Z\", \"created_time\": \"2020-11-14T13:39:52.851755Z\", \"created_time_dt\": \"2020-11-14T13:39:52.851755Z\", \"duration\": \"0:00:42\", \"iteration\": \"37\", \"goal\": null, \"run_name\": \"Canceled\", \"run_properties\": null}, {\"run_id\": \"AutoML_145744c5-84cf-4edf-9ef7-aee6ffbfe704_38\", \"run_number\": 43, \"metric\": null, \"status\": \"Completed\", \"run_type\": \"azureml.scriptrun\", \"training_percent\": \"100\", \"start_time\": \"2020-11-14T13:40:52.958393Z\", \"end_time\": \"2020-11-14T13:42:36.88212Z\", \"created_time\": \"2020-11-14T13:40:40.139402Z\", \"created_time_dt\": \"2020-11-14T13:40:40.139402Z\", \"duration\": \"0:01:56\", \"iteration\": \"38\", \"goal\": \"accuracy_max\", \"run_name\": \"VotingEnsemble\", \"run_properties\": \"classification_labels=None,\\n                              estimators=[('0',\\n                                           Pipeline(memory=None,\\n                                                    steps=[('maxabsscaler',\\n                                                            MaxAbsScaler(copy=True\", \"primary_metric\": 0.87275862, \"best_metric\": 0.87275862}, {\"run_id\": \"AutoML_145744c5-84cf-4edf-9ef7-aee6ffbfe704_39\", \"run_number\": 44, \"metric\": null, \"status\": \"Completed\", \"run_type\": \"azureml.scriptrun\", \"training_percent\": \"100\", \"start_time\": \"2020-11-14T13:40:54.458009Z\", \"end_time\": \"2020-11-14T13:42:36.230427Z\", \"created_time\": \"2020-11-14T13:40:40.196731Z\", \"created_time_dt\": \"2020-11-14T13:40:40.196731Z\", \"duration\": \"0:01:56\", \"iteration\": \"39\", \"goal\": \"accuracy_max\", \"run_name\": \"StackEnsemble\", \"run_properties\": \"base_learners=[('0',\\n                                        Pipeline(memory=None,\\n                                                 steps=[('maxabsscaler',\\n                                                         MaxAbsScaler(copy=True\", \"primary_metric\": 0.85275862, \"best_metric\": 0.87275862}], \"children_metrics\": {\"categories\": [0], \"series\": {\"AUC_weighted\": [{\"categories\": [\"0\", \"1\", \"2\", \"3\", \"4\", \"5\", \"6\", \"7\", \"8\", \"9\", \"10\", \"11\", \"12\", \"13\", \"14\", \"15\", \"16\", \"17\", \"18\", \"19\", \"20\", \"21\", \"22\", \"23\", \"24\", \"25\", \"26\", \"27\", \"28\", \"29\", \"30\", \"31\", \"32\", \"33\", \"38\", \"39\"], \"mode\": \"markers\", \"name\": \"AUC_weighted\", \"stepped\": false, \"type\": \"scatter\", \"data\": [0.8821828799692835, 0.8717221751769996, 0.8810081396673501, 0.8502771313806402, 0.8829530579394614, 0.8633480762090411, 0.890789859750386, 0.8698412793347003, 0.8597849271748397, 0.8550140521758942, 0.849734349763297, 0.8252992677400572, 0.8258118108824247, 0.8278432583985215, 0.896121117608837, 0.841533676995519, 0.8448796661265959, 0.8847175065188223, 0.8608221047146485, 0.8632945454967386, 0.8395161390428934, 0.8586622678328817, 0.8567783591976574, 0.8573493225909893, 0.861059599335038, 0.888191785440031, 0.8989670314253647, 0.879072923681257, 0.8948505689729375, 0.8935271853877117, 0.8932624652962373, 0.8705373743702692, 0.9031550808840281, 0.8919869821861048, 0.9022900626988346, 0.9001536944212383]}, {\"categories\": [\"0\", \"1\", \"2\", \"3\", \"4\", \"5\", \"6\", \"7\", \"8\", \"9\", \"10\", \"11\", \"12\", \"13\", \"14\", \"15\", \"16\", \"17\", \"18\", \"19\", \"20\", \"21\", \"22\", \"23\", \"24\", \"25\", \"26\", \"27\", \"28\", \"29\", \"30\", \"31\", \"32\", \"33\", \"38\", \"39\"], \"mode\": \"lines\", \"name\": \"AUC_weighted_max\", \"stepped\": true, \"type\": \"scatter\", \"data\": [0.8821828799692835, 0.8821828799692835, 0.8821828799692835, 0.8821828799692835, 0.8829530579394614, 0.8829530579394614, 0.890789859750386, 0.890789859750386, 0.890789859750386, 0.890789859750386, 0.890789859750386, 0.890789859750386, 0.890789859750386, 0.890789859750386, 0.896121117608837, 0.896121117608837, 0.896121117608837, 0.896121117608837, 0.896121117608837, 0.896121117608837, 0.896121117608837, 0.896121117608837, 0.896121117608837, 0.896121117608837, 0.896121117608837, 0.896121117608837, 0.8989670314253647, 0.8989670314253647, 0.8989670314253647, 0.8989670314253647, 0.8989670314253647, 0.8989670314253647, 0.9031550808840281, 0.9031550808840281, 0.9031550808840281, 0.9031550808840281]}], \"average_precision_score_micro\": [{\"categories\": [\"0\", \"1\", \"2\", \"3\", \"4\", \"5\", \"6\", \"7\", \"8\", \"9\", \"10\", \"11\", \"12\", \"13\", \"14\", \"15\", \"16\", \"17\", \"18\", \"19\", \"20\", \"21\", \"22\", \"23\", \"24\", \"25\", \"26\", \"27\", \"28\", \"29\", \"30\", \"31\", \"32\", \"33\", \"38\", \"39\"], \"mode\": \"markers\", \"name\": \"average_precision_score_micro\", \"stepped\": false, \"type\": \"scatter\", \"data\": [0.9103669076530551, 0.9004445736495577, 0.9131131834943632, 0.8910248570721901, 0.9081551331350557, 0.8578822862474056, 0.9137737277239907, 0.8814994569230145, 0.8839741906372331, 0.889015412637915, 0.8817900792787412, 0.8513587813978523, 0.8635907981680129, 0.8647383287567717, 0.9143122611420358, 0.8653349658211816, 0.8580385817120073, 0.9002708871099662, 0.8381026640548681, 0.8916759677844949, 0.8690084987924898, 0.8789374007261161, 0.9007794057550594, 0.8892172390536774, 0.8934752565941017, 0.9065913566546986, 0.9179287308141004, 0.9013315362868533, 0.9151389587167736, 0.9027935184086144, 0.9120400519598556, 0.9049857453557453, 0.9169658121494475, 0.9133639127211186, 0.9227602213782635, 0.9167603826684628]}, {\"categories\": [\"0\", \"1\", \"2\", \"3\", \"4\", \"5\", \"6\", \"7\", \"8\", \"9\", \"10\", \"11\", \"12\", \"13\", \"14\", \"15\", \"16\", \"17\", \"18\", \"19\", \"20\", \"21\", \"22\", \"23\", \"24\", \"25\", \"26\", \"27\", \"28\", \"29\", \"30\", \"31\", \"32\", \"33\", \"38\", \"39\"], \"mode\": \"lines\", \"name\": \"average_precision_score_micro_max\", \"stepped\": true, \"type\": \"scatter\", \"data\": [0.9103669076530551, 0.9103669076530551, 0.9131131834943632, 0.9131131834943632, 0.9131131834943632, 0.9131131834943632, 0.9137737277239907, 0.9137737277239907, 0.9137737277239907, 0.9137737277239907, 0.9137737277239907, 0.9137737277239907, 0.9137737277239907, 0.9137737277239907, 0.9143122611420358, 0.9143122611420358, 0.9143122611420358, 0.9143122611420358, 0.9143122611420358, 0.9143122611420358, 0.9143122611420358, 0.9143122611420358, 0.9143122611420358, 0.9143122611420358, 0.9143122611420358, 0.9143122611420358, 0.9179287308141004, 0.9179287308141004, 0.9179287308141004, 0.9179287308141004, 0.9179287308141004, 0.9179287308141004, 0.9179287308141004, 0.9179287308141004, 0.9227602213782635, 0.9227602213782635]}], \"log_loss\": [{\"categories\": [\"0\", \"1\", \"2\", \"3\", \"4\", \"5\", \"6\", \"7\", \"8\", \"9\", \"10\", \"11\", \"12\", \"13\", \"14\", \"15\", \"16\", \"17\", \"18\", \"19\", \"20\", \"21\", \"22\", \"23\", \"24\", \"25\", \"26\", \"27\", \"28\", \"29\", \"30\", \"31\", \"32\", \"33\", \"38\", \"39\"], \"mode\": \"markers\", \"name\": \"log_loss\", \"stepped\": false, \"type\": \"scatter\", \"data\": [0.4383775438850842, 0.4160171917503055, 0.38075948259635967, 0.41829894778328686, 0.3960252571277177, 0.4980447656963557, 0.36265274027695504, 0.46617546565149476, 0.5095147525256674, 0.6157461320506309, 0.45961089172114045, 0.5287797096853073, 0.5780876878549213, 0.4690019750990535, 0.3873797528042606, 0.481682735292679, 0.5028021853314533, 0.4078712350370039, 0.5815965685557977, 0.46228716355627053, 0.5122375510609795, 0.5289327374178459, 0.3881736562349125, 0.4221765925537144, 0.543478687259192, 0.4265556661890478, 0.3684801880897596, 0.3975867780896961, 0.36314163050430315, 0.4602239178532283, 0.3651238710642529, 0.41563480089497074, 0.37597132869340266, 0.3958726846549706, 0.3703621394095316, 0.3674987932250722]}, {\"categories\": [\"0\", \"1\", \"2\", \"3\", \"4\", \"5\", \"6\", \"7\", \"8\", \"9\", \"10\", \"11\", \"12\", \"13\", \"14\", \"15\", \"16\", \"17\", \"18\", \"19\", \"20\", \"21\", \"22\", \"23\", \"24\", \"25\", \"26\", \"27\", \"28\", \"29\", \"30\", \"31\", \"32\", \"33\", \"38\", \"39\"], \"mode\": \"lines\", \"name\": \"log_loss_min\", \"stepped\": true, \"type\": \"scatter\", \"data\": [0.4383775438850842, 0.4160171917503055, 0.38075948259635967, 0.38075948259635967, 0.38075948259635967, 0.38075948259635967, 0.36265274027695504, 0.36265274027695504, 0.36265274027695504, 0.36265274027695504, 0.36265274027695504, 0.36265274027695504, 0.36265274027695504, 0.36265274027695504, 0.36265274027695504, 0.36265274027695504, 0.36265274027695504, 0.36265274027695504, 0.36265274027695504, 0.36265274027695504, 0.36265274027695504, 0.36265274027695504, 0.36265274027695504, 0.36265274027695504, 0.36265274027695504, 0.36265274027695504, 0.36265274027695504, 0.36265274027695504, 0.36265274027695504, 0.36265274027695504, 0.36265274027695504, 0.36265274027695504, 0.36265274027695504, 0.36265274027695504, 0.36265274027695504, 0.36265274027695504]}], \"AUC_macro\": [{\"categories\": [\"0\", \"1\", \"2\", \"3\", \"4\", \"5\", \"6\", \"7\", \"8\", \"9\", \"10\", \"11\", \"12\", \"13\", \"14\", \"15\", \"16\", \"17\", \"18\", \"19\", \"20\", \"21\", \"22\", \"23\", \"24\", \"25\", \"26\", \"27\", \"28\", \"29\", \"30\", \"31\", \"32\", \"33\", \"38\", \"39\"], \"mode\": \"markers\", \"name\": \"AUC_macro\", \"stepped\": false, \"type\": \"scatter\", \"data\": [0.8821828799692835, 0.8717221751769996, 0.8810081396673504, 0.8502771313806402, 0.8829530579394614, 0.8633480762090411, 0.8907369496974761, 0.8698412793347006, 0.8597849271748395, 0.8550140521758942, 0.849734349763297, 0.8252992677400572, 0.8258118108824248, 0.8278432583985216, 0.896121117608837, 0.8415336769955191, 0.8448796661265959, 0.8847175065188223, 0.8608221047146486, 0.8632945454967386, 0.8395161390428934, 0.8586622678328817, 0.8567783591976574, 0.8573493225909893, 0.861059599335038, 0.888191785440031, 0.8989670314253647, 0.879072923681257, 0.8948505689729375, 0.8935271853877117, 0.8932624652962373, 0.8705373743702692, 0.9031550808840281, 0.8919869821861051, 0.9022900626988346, 0.9001536944212383]}, {\"categories\": [\"0\", \"1\", \"2\", \"3\", \"4\", \"5\", \"6\", \"7\", \"8\", \"9\", \"10\", \"11\", \"12\", \"13\", \"14\", \"15\", \"16\", \"17\", \"18\", \"19\", \"20\", \"21\", \"22\", \"23\", \"24\", \"25\", \"26\", \"27\", \"28\", \"29\", \"30\", \"31\", \"32\", \"33\", \"38\", \"39\"], \"mode\": \"lines\", \"name\": \"AUC_macro_max\", \"stepped\": true, \"type\": \"scatter\", \"data\": [0.8821828799692835, 0.8821828799692835, 0.8821828799692835, 0.8821828799692835, 0.8829530579394614, 0.8829530579394614, 0.8907369496974761, 0.8907369496974761, 0.8907369496974761, 0.8907369496974761, 0.8907369496974761, 0.8907369496974761, 0.8907369496974761, 0.8907369496974761, 0.896121117608837, 0.896121117608837, 0.896121117608837, 0.896121117608837, 0.896121117608837, 0.896121117608837, 0.896121117608837, 0.896121117608837, 0.896121117608837, 0.896121117608837, 0.896121117608837, 0.896121117608837, 0.8989670314253647, 0.8989670314253647, 0.8989670314253647, 0.8989670314253647, 0.8989670314253647, 0.8989670314253647, 0.9031550808840281, 0.9031550808840281, 0.9031550808840281, 0.9031550808840281]}], \"precision_score_weighted\": [{\"categories\": [\"0\", \"1\", \"2\", \"3\", \"4\", \"5\", \"6\", \"7\", \"8\", \"9\", \"10\", \"11\", \"12\", \"13\", \"14\", \"15\", \"16\", \"17\", \"18\", \"19\", \"20\", \"21\", \"22\", \"23\", \"24\", \"25\", \"26\", \"27\", \"28\", \"29\", \"30\", \"31\", \"32\", \"33\", \"38\", \"39\"], \"mode\": \"markers\", \"name\": \"precision_score_weighted\", \"stepped\": false, \"type\": \"scatter\", \"data\": [0.8658810842926681, 0.8401639640136642, 0.8488441383362847, 0.8381515473122535, 0.8516541331123001, 0.8069207194102797, 0.8479793299977946, 0.8039823299139641, 0.8271055386419726, 0.8367725503028218, 0.8286403958748787, 0.8120219053430212, 0.8125286885753418, 0.8014365706757012, 0.859088201581305, 0.7696909424907926, 0.7587621416897279, 0.8516579470486217, 0.8103743920367974, 0.8241939501395802, 0.8124268623195601, 0.8176542014640125, 0.852293378458868, 0.840644182456125, 0.8276817386419573, 0.8183110839685053, 0.8495770963724487, 0.8623166404643167, 0.8607930936559518, 0.8505086173021942, 0.855012497937634, 0.8422656936964914, 0.8464095933919573, 0.8590947145474882, 0.8799181221077772, 0.8606373697502278]}, {\"categories\": [\"0\", \"1\", \"2\", \"3\", \"4\", \"5\", \"6\", \"7\", \"8\", \"9\", \"10\", \"11\", \"12\", \"13\", \"14\", \"15\", \"16\", \"17\", \"18\", \"19\", \"20\", \"21\", \"22\", \"23\", \"24\", \"25\", \"26\", \"27\", \"28\", \"29\", \"30\", \"31\", \"32\", \"33\", \"38\", \"39\"], \"mode\": \"lines\", \"name\": \"precision_score_weighted_max\", \"stepped\": true, \"type\": \"scatter\", \"data\": [0.8658810842926681, 0.8658810842926681, 0.8658810842926681, 0.8658810842926681, 0.8658810842926681, 0.8658810842926681, 0.8658810842926681, 0.8658810842926681, 0.8658810842926681, 0.8658810842926681, 0.8658810842926681, 0.8658810842926681, 0.8658810842926681, 0.8658810842926681, 0.8658810842926681, 0.8658810842926681, 0.8658810842926681, 0.8658810842926681, 0.8658810842926681, 0.8658810842926681, 0.8658810842926681, 0.8658810842926681, 0.8658810842926681, 0.8658810842926681, 0.8658810842926681, 0.8658810842926681, 0.8658810842926681, 0.8658810842926681, 0.8658810842926681, 0.8658810842926681, 0.8658810842926681, 0.8658810842926681, 0.8658810842926681, 0.8658810842926681, 0.8799181221077772, 0.8799181221077772]}], \"balanced_accuracy\": [{\"categories\": [\"0\", \"1\", \"2\", \"3\", \"4\", \"5\", \"6\", \"7\", \"8\", \"9\", \"10\", \"11\", \"12\", \"13\", \"14\", \"15\", \"16\", \"17\", \"18\", \"19\", \"20\", \"21\", \"22\", \"23\", \"24\", \"25\", \"26\", \"27\", \"28\", \"29\", \"30\", \"31\", \"32\", \"33\", \"38\", \"39\"], \"mode\": \"markers\", \"name\": \"balanced_accuracy\", \"stepped\": false, \"type\": \"scatter\", \"data\": [0.8069458209918737, 0.7833175837320574, 0.7740972760183287, 0.7759512575630997, 0.777421530467583, 0.7527046910204805, 0.78221076681603, 0.6667984101668313, 0.7679221855142908, 0.7758651331611858, 0.7409288055998582, 0.7568463361687046, 0.7543720253917623, 0.7055814979367611, 0.7649590896433003, 0.651197966507177, 0.6122710184552289, 0.8140893331814383, 0.7534858104858105, 0.7658679179008125, 0.7559939938229412, 0.7615674571529836, 0.782123094984937, 0.762196146932989, 0.7542079757474495, 0.7149254037872459, 0.7746935362395889, 0.7676762360446572, 0.7922641578694211, 0.7700749348117768, 0.7994498588643325, 0.7523197893724209, 0.7957608509911143, 0.7816225538593959, 0.8165013765474292, 0.798113183843447]}, {\"categories\": [\"0\", \"1\", \"2\", \"3\", \"4\", \"5\", \"6\", \"7\", \"8\", \"9\", \"10\", \"11\", \"12\", \"13\", \"14\", \"15\", \"16\", \"17\", \"18\", \"19\", \"20\", \"21\", \"22\", \"23\", \"24\", \"25\", \"26\", \"27\", \"28\", \"29\", \"30\", \"31\", \"32\", \"33\", \"38\", \"39\"], \"mode\": \"lines\", \"name\": \"balanced_accuracy_max\", \"stepped\": true, \"type\": \"scatter\", \"data\": [0.8069458209918737, 0.8069458209918737, 0.8069458209918737, 0.8069458209918737, 0.8069458209918737, 0.8069458209918737, 0.8069458209918737, 0.8069458209918737, 0.8069458209918737, 0.8069458209918737, 0.8069458209918737, 0.8069458209918737, 0.8069458209918737, 0.8069458209918737, 0.8069458209918737, 0.8069458209918737, 0.8069458209918737, 0.8140893331814383, 0.8140893331814383, 0.8140893331814383, 0.8140893331814383, 0.8140893331814383, 0.8140893331814383, 0.8140893331814383, 0.8140893331814383, 0.8140893331814383, 0.8140893331814383, 0.8140893331814383, 0.8140893331814383, 0.8140893331814383, 0.8140893331814383, 0.8140893331814383, 0.8140893331814383, 0.8140893331814383, 0.8165013765474292, 0.8165013765474292]}], \"recall_score_micro\": [{\"categories\": [\"0\", \"1\", \"2\", \"3\", \"4\", \"5\", \"6\", \"7\", \"8\", \"9\", \"10\", \"11\", \"12\", \"13\", \"14\", \"15\", \"16\", \"17\", \"18\", \"19\", \"20\", \"21\", \"22\", \"23\", \"24\", \"25\", \"26\", \"27\", \"28\", \"29\", \"30\", \"31\", \"32\", \"33\", \"38\", \"39\"], \"mode\": \"markers\", \"name\": \"recall_score_micro\", \"stepped\": false, \"type\": \"scatter\", \"data\": [0.8528735632183908, 0.8294252873563218, 0.8262068965517241, 0.8293103448275861, 0.8394252873563218, 0.7588505747126437, 0.8360919540229886, 0.7726436781609196, 0.812528735632184, 0.825977011494253, 0.8060919540229886, 0.7788505747126436, 0.7956321839080459, 0.7826436781609195, 0.8426436781609196, 0.7659770114942528, 0.7589655172413792, 0.8260919540229887, 0.7520689655172415, 0.8126436781609195, 0.7758620689655171, 0.8022988505747126, 0.8360919540229885, 0.8294252873563218, 0.8160919540229885, 0.8059770114942528, 0.8394252873563219, 0.8459770114942529, 0.8427586206896551, 0.835977011494253, 0.8493103448275863, 0.835977011494253, 0.8393103448275863, 0.8462068965517242, 0.8727586206896552, 0.8527586206896552]}, {\"categories\": [\"0\", \"1\", \"2\", \"3\", \"4\", \"5\", \"6\", \"7\", \"8\", \"9\", \"10\", \"11\", \"12\", \"13\", \"14\", \"15\", \"16\", \"17\", \"18\", \"19\", \"20\", \"21\", \"22\", \"23\", \"24\", \"25\", \"26\", \"27\", \"28\", \"29\", \"30\", \"31\", \"32\", \"33\", \"38\", \"39\"], \"mode\": \"lines\", \"name\": \"recall_score_micro_max\", \"stepped\": true, \"type\": \"scatter\", \"data\": [0.8528735632183908, 0.8528735632183908, 0.8528735632183908, 0.8528735632183908, 0.8528735632183908, 0.8528735632183908, 0.8528735632183908, 0.8528735632183908, 0.8528735632183908, 0.8528735632183908, 0.8528735632183908, 0.8528735632183908, 0.8528735632183908, 0.8528735632183908, 0.8528735632183908, 0.8528735632183908, 0.8528735632183908, 0.8528735632183908, 0.8528735632183908, 0.8528735632183908, 0.8528735632183908, 0.8528735632183908, 0.8528735632183908, 0.8528735632183908, 0.8528735632183908, 0.8528735632183908, 0.8528735632183908, 0.8528735632183908, 0.8528735632183908, 0.8528735632183908, 0.8528735632183908, 0.8528735632183908, 0.8528735632183908, 0.8528735632183908, 0.8727586206896552, 0.8727586206896552]}], \"recall_score_weighted\": [{\"categories\": [\"0\", \"1\", \"2\", \"3\", \"4\", \"5\", \"6\", \"7\", \"8\", \"9\", \"10\", \"11\", \"12\", \"13\", \"14\", \"15\", \"16\", \"17\", \"18\", \"19\", \"20\", \"21\", \"22\", \"23\", \"24\", \"25\", \"26\", \"27\", \"28\", \"29\", \"30\", \"31\", \"32\", \"33\", \"38\", \"39\"], \"mode\": \"markers\", \"name\": \"recall_score_weighted\", \"stepped\": false, \"type\": \"scatter\", \"data\": [0.8528735632183908, 0.8294252873563218, 0.8262068965517241, 0.8293103448275861, 0.8394252873563218, 0.7588505747126437, 0.8360919540229886, 0.7726436781609196, 0.812528735632184, 0.825977011494253, 0.8060919540229886, 0.7788505747126436, 0.7956321839080459, 0.7826436781609195, 0.8426436781609196, 0.7659770114942528, 0.7589655172413792, 0.8260919540229887, 0.7520689655172415, 0.8126436781609195, 0.7758620689655171, 0.8022988505747126, 0.8360919540229885, 0.8294252873563218, 0.8160919540229885, 0.8059770114942528, 0.8394252873563219, 0.8459770114942529, 0.8427586206896551, 0.835977011494253, 0.8493103448275863, 0.835977011494253, 0.8393103448275863, 0.8462068965517242, 0.8727586206896552, 0.8527586206896552]}, {\"categories\": [\"0\", \"1\", \"2\", \"3\", \"4\", \"5\", \"6\", \"7\", \"8\", \"9\", \"10\", \"11\", \"12\", \"13\", \"14\", \"15\", \"16\", \"17\", \"18\", \"19\", \"20\", \"21\", \"22\", \"23\", \"24\", \"25\", \"26\", \"27\", \"28\", \"29\", \"30\", \"31\", \"32\", \"33\", \"38\", \"39\"], \"mode\": \"lines\", \"name\": \"recall_score_weighted_max\", \"stepped\": true, \"type\": \"scatter\", \"data\": [0.8528735632183908, 0.8528735632183908, 0.8528735632183908, 0.8528735632183908, 0.8528735632183908, 0.8528735632183908, 0.8528735632183908, 0.8528735632183908, 0.8528735632183908, 0.8528735632183908, 0.8528735632183908, 0.8528735632183908, 0.8528735632183908, 0.8528735632183908, 0.8528735632183908, 0.8528735632183908, 0.8528735632183908, 0.8528735632183908, 0.8528735632183908, 0.8528735632183908, 0.8528735632183908, 0.8528735632183908, 0.8528735632183908, 0.8528735632183908, 0.8528735632183908, 0.8528735632183908, 0.8528735632183908, 0.8528735632183908, 0.8528735632183908, 0.8528735632183908, 0.8528735632183908, 0.8528735632183908, 0.8528735632183908, 0.8528735632183908, 0.8727586206896552, 0.8727586206896552]}], \"f1_score_micro\": [{\"categories\": [\"0\", \"1\", \"2\", \"3\", \"4\", \"5\", \"6\", \"7\", \"8\", \"9\", \"10\", \"11\", \"12\", \"13\", \"14\", \"15\", \"16\", \"17\", \"18\", \"19\", \"20\", \"21\", \"22\", \"23\", \"24\", \"25\", \"26\", \"27\", \"28\", \"29\", \"30\", \"31\", \"32\", \"33\", \"38\", \"39\"], \"mode\": \"markers\", \"name\": \"f1_score_micro\", \"stepped\": false, \"type\": \"scatter\", \"data\": [0.8528735632183908, 0.8294252873563218, 0.8262068965517241, 0.8293103448275861, 0.8394252873563218, 0.7588505747126437, 0.8360919540229886, 0.7726436781609196, 0.812528735632184, 0.825977011494253, 0.8060919540229886, 0.7788505747126436, 0.7956321839080459, 0.7826436781609195, 0.8426436781609196, 0.7659770114942528, 0.7589655172413792, 0.8260919540229887, 0.7520689655172415, 0.8126436781609196, 0.7758620689655172, 0.8022988505747127, 0.8360919540229885, 0.8294252873563218, 0.8160919540229885, 0.8059770114942528, 0.8394252873563219, 0.8459770114942529, 0.8427586206896551, 0.835977011494253, 0.8493103448275863, 0.835977011494253, 0.8393103448275863, 0.8462068965517242, 0.8727586206896552, 0.8527586206896552]}, {\"categories\": [\"0\", \"1\", \"2\", \"3\", \"4\", \"5\", \"6\", \"7\", \"8\", \"9\", \"10\", \"11\", \"12\", \"13\", \"14\", \"15\", \"16\", \"17\", \"18\", \"19\", \"20\", \"21\", \"22\", \"23\", \"24\", \"25\", \"26\", \"27\", \"28\", \"29\", \"30\", \"31\", \"32\", \"33\", \"38\", \"39\"], \"mode\": \"lines\", \"name\": \"f1_score_micro_max\", \"stepped\": true, \"type\": \"scatter\", \"data\": [0.8528735632183908, 0.8528735632183908, 0.8528735632183908, 0.8528735632183908, 0.8528735632183908, 0.8528735632183908, 0.8528735632183908, 0.8528735632183908, 0.8528735632183908, 0.8528735632183908, 0.8528735632183908, 0.8528735632183908, 0.8528735632183908, 0.8528735632183908, 0.8528735632183908, 0.8528735632183908, 0.8528735632183908, 0.8528735632183908, 0.8528735632183908, 0.8528735632183908, 0.8528735632183908, 0.8528735632183908, 0.8528735632183908, 0.8528735632183908, 0.8528735632183908, 0.8528735632183908, 0.8528735632183908, 0.8528735632183908, 0.8528735632183908, 0.8528735632183908, 0.8528735632183908, 0.8528735632183908, 0.8528735632183908, 0.8528735632183908, 0.8727586206896552, 0.8727586206896552]}], \"f1_score_macro\": [{\"categories\": [\"0\", \"1\", \"2\", \"3\", \"4\", \"5\", \"6\", \"7\", \"8\", \"9\", \"10\", \"11\", \"12\", \"13\", \"14\", \"15\", \"16\", \"17\", \"18\", \"19\", \"20\", \"21\", \"22\", \"23\", \"24\", \"25\", \"26\", \"27\", \"28\", \"29\", \"30\", \"31\", \"32\", \"33\", \"38\", \"39\"], \"mode\": \"markers\", \"name\": \"f1_score_macro\", \"stepped\": false, \"type\": \"scatter\", \"data\": [0.816001336152938, 0.7913782065467154, 0.7745116815854802, 0.7780487553828688, 0.7847999848608447, 0.7268531892395909, 0.78481676122615, 0.6693278828587237, 0.7634641425356617, 0.7765551456091838, 0.7396023200185622, 0.742614706878502, 0.7443062989238511, 0.7041992429234394, 0.7732430334996743, 0.6427525719597773, 0.582014627616941, 0.7930217129896207, 0.7224079269835415, 0.7612487958983266, 0.7375445996433476, 0.7548450950415302, 0.7899374900606153, 0.7686345545157209, 0.7562865793915586, 0.7245284618242535, 0.7812822218889981, 0.7816401863236984, 0.7958741301126327, 0.7765308970478143, 0.8009476106064273, 0.755083038542922, 0.8033216564137616, 0.7893711651095201, 0.8266686505848485, 0.8025297250519804]}, {\"categories\": [\"0\", \"1\", \"2\", \"3\", \"4\", \"5\", \"6\", \"7\", \"8\", \"9\", \"10\", \"11\", \"12\", \"13\", \"14\", \"15\", \"16\", \"17\", \"18\", \"19\", \"20\", \"21\", \"22\", \"23\", \"24\", \"25\", \"26\", \"27\", \"28\", \"29\", \"30\", \"31\", \"32\", \"33\", \"38\", \"39\"], \"mode\": \"lines\", \"name\": \"f1_score_macro_max\", \"stepped\": true, \"type\": \"scatter\", \"data\": [0.816001336152938, 0.816001336152938, 0.816001336152938, 0.816001336152938, 0.816001336152938, 0.816001336152938, 0.816001336152938, 0.816001336152938, 0.816001336152938, 0.816001336152938, 0.816001336152938, 0.816001336152938, 0.816001336152938, 0.816001336152938, 0.816001336152938, 0.816001336152938, 0.816001336152938, 0.816001336152938, 0.816001336152938, 0.816001336152938, 0.816001336152938, 0.816001336152938, 0.816001336152938, 0.816001336152938, 0.816001336152938, 0.816001336152938, 0.816001336152938, 0.816001336152938, 0.816001336152938, 0.816001336152938, 0.816001336152938, 0.816001336152938, 0.816001336152938, 0.816001336152938, 0.8266686505848485, 0.8266686505848485]}], \"precision_score_micro\": [{\"categories\": [\"0\", \"1\", \"2\", \"3\", \"4\", \"5\", \"6\", \"7\", \"8\", \"9\", \"10\", \"11\", \"12\", \"13\", \"14\", \"15\", \"16\", \"17\", \"18\", \"19\", \"20\", \"21\", \"22\", \"23\", \"24\", \"25\", \"26\", \"27\", \"28\", \"29\", \"30\", \"31\", \"32\", \"33\", \"38\", \"39\"], \"mode\": \"markers\", \"name\": \"precision_score_micro\", \"stepped\": false, \"type\": \"scatter\", \"data\": [0.8528735632183908, 0.8294252873563218, 0.8262068965517241, 0.8293103448275861, 0.8394252873563218, 0.7588505747126437, 0.8360919540229886, 0.7726436781609196, 0.812528735632184, 0.825977011494253, 0.8060919540229886, 0.7788505747126436, 0.7956321839080459, 0.7826436781609195, 0.8426436781609196, 0.7659770114942528, 0.7589655172413792, 0.8260919540229887, 0.7520689655172415, 0.8126436781609195, 0.7758620689655171, 0.8022988505747126, 0.8360919540229885, 0.8294252873563218, 0.8160919540229885, 0.8059770114942528, 0.8394252873563219, 0.8459770114942529, 0.8427586206896551, 0.835977011494253, 0.8493103448275863, 0.835977011494253, 0.8393103448275863, 0.8462068965517242, 0.8727586206896552, 0.8527586206896552]}, {\"categories\": [\"0\", \"1\", \"2\", \"3\", \"4\", \"5\", \"6\", \"7\", \"8\", \"9\", \"10\", \"11\", \"12\", \"13\", \"14\", \"15\", \"16\", \"17\", \"18\", \"19\", \"20\", \"21\", \"22\", \"23\", \"24\", \"25\", \"26\", \"27\", \"28\", \"29\", \"30\", \"31\", \"32\", \"33\", \"38\", \"39\"], \"mode\": \"lines\", \"name\": \"precision_score_micro_max\", \"stepped\": true, \"type\": \"scatter\", \"data\": [0.8528735632183908, 0.8528735632183908, 0.8528735632183908, 0.8528735632183908, 0.8528735632183908, 0.8528735632183908, 0.8528735632183908, 0.8528735632183908, 0.8528735632183908, 0.8528735632183908, 0.8528735632183908, 0.8528735632183908, 0.8528735632183908, 0.8528735632183908, 0.8528735632183908, 0.8528735632183908, 0.8528735632183908, 0.8528735632183908, 0.8528735632183908, 0.8528735632183908, 0.8528735632183908, 0.8528735632183908, 0.8528735632183908, 0.8528735632183908, 0.8528735632183908, 0.8528735632183908, 0.8528735632183908, 0.8528735632183908, 0.8528735632183908, 0.8528735632183908, 0.8528735632183908, 0.8528735632183908, 0.8528735632183908, 0.8528735632183908, 0.8727586206896552, 0.8727586206896552]}], \"average_precision_score_weighted\": [{\"categories\": [\"0\", \"1\", \"2\", \"3\", \"4\", \"5\", \"6\", \"7\", \"8\", \"9\", \"10\", \"11\", \"12\", \"13\", \"14\", \"15\", \"16\", \"17\", \"18\", \"19\", \"20\", \"21\", \"22\", \"23\", \"24\", \"25\", \"26\", \"27\", \"28\", \"29\", \"30\", \"31\", \"32\", \"33\", \"38\", \"39\"], \"mode\": \"markers\", \"name\": \"average_precision_score_weighted\", \"stepped\": false, \"type\": \"scatter\", \"data\": [0.9156642734629606, 0.9101945312982677, 0.9251999968205602, 0.8951404898957842, 0.9176584901375267, 0.9022732979399862, 0.9152309408394368, 0.9074902365975287, 0.8968007237023284, 0.8962342124419713, 0.8910732029846224, 0.8759503204165657, 0.879711751378393, 0.8768083536747395, 0.9225676809364589, 0.8867196865473156, 0.884764161099706, 0.9126831297710141, 0.9000103679196636, 0.8999032608093614, 0.8772595864446447, 0.894208785292953, 0.9079758403244089, 0.8998270531500534, 0.9022252742907874, 0.9190771814376676, 0.9286242495478728, 0.9129951997832636, 0.9224868166678201, 0.9097263399804646, 0.9204913491600859, 0.9119555622238738, 0.9236651080207829, 0.923629684230713, 0.9290795914774671, 0.9283753746361715]}, {\"categories\": [\"0\", \"1\", \"2\", \"3\", \"4\", \"5\", \"6\", \"7\", \"8\", \"9\", \"10\", \"11\", \"12\", \"13\", \"14\", \"15\", \"16\", \"17\", \"18\", \"19\", \"20\", \"21\", \"22\", \"23\", \"24\", \"25\", \"26\", \"27\", \"28\", \"29\", \"30\", \"31\", \"32\", \"33\", \"38\", \"39\"], \"mode\": \"lines\", \"name\": \"average_precision_score_weighted_max\", \"stepped\": true, \"type\": \"scatter\", \"data\": [0.9156642734629606, 0.9156642734629606, 0.9251999968205602, 0.9251999968205602, 0.9251999968205602, 0.9251999968205602, 0.9251999968205602, 0.9251999968205602, 0.9251999968205602, 0.9251999968205602, 0.9251999968205602, 0.9251999968205602, 0.9251999968205602, 0.9251999968205602, 0.9251999968205602, 0.9251999968205602, 0.9251999968205602, 0.9251999968205602, 0.9251999968205602, 0.9251999968205602, 0.9251999968205602, 0.9251999968205602, 0.9251999968205602, 0.9251999968205602, 0.9251999968205602, 0.9251999968205602, 0.9286242495478728, 0.9286242495478728, 0.9286242495478728, 0.9286242495478728, 0.9286242495478728, 0.9286242495478728, 0.9286242495478728, 0.9286242495478728, 0.9290795914774671, 0.9290795914774671]}], \"weighted_accuracy\": [{\"categories\": [\"0\", \"1\", \"2\", \"3\", \"4\", \"5\", \"6\", \"7\", \"8\", \"9\", \"10\", \"11\", \"12\", \"13\", \"14\", \"15\", \"16\", \"17\", \"18\", \"19\", \"20\", \"21\", \"22\", \"23\", \"24\", \"25\", \"26\", \"27\", \"28\", \"29\", \"30\", \"31\", \"32\", \"33\", \"38\", \"39\"], \"mode\": \"markers\", \"name\": \"weighted_accuracy\", \"stepped\": false, \"type\": \"scatter\", \"data\": [0.8769762059573883, 0.8518333326626155, 0.8483246379858743, 0.8579881464075141, 0.8675636717854681, 0.756774990313386, 0.8602469862863289, 0.8348642825110824, 0.831471740416311, 0.8524822415240159, 0.8447158551286202, 0.7839116210935778, 0.8069984027497483, 0.8236624439574329, 0.8825847394864763, 0.8340143704212434, 0.8411079515674146, 0.829807304054864, 0.7442983187293752, 0.8298616815403823, 0.7799634629182288, 0.8167862368719156, 0.8623779403613622, 0.8613491945183126, 0.8441515085282069, 0.8557016000175081, 0.8693377569203211, 0.8850429788352944, 0.8653612371060311, 0.8670324465748864, 0.869221707683049, 0.872261734798178, 0.8614238839556341, 0.8759683013822361, 0.8965050780805462, 0.8763908420254019]}, {\"categories\": [\"0\", \"1\", \"2\", \"3\", \"4\", \"5\", \"6\", \"7\", \"8\", \"9\", \"10\", \"11\", \"12\", \"13\", \"14\", \"15\", \"16\", \"17\", \"18\", \"19\", \"20\", \"21\", \"22\", \"23\", \"24\", \"25\", \"26\", \"27\", \"28\", \"29\", \"30\", \"31\", \"32\", \"33\", \"38\", \"39\"], \"mode\": \"lines\", \"name\": \"weighted_accuracy_max\", \"stepped\": true, \"type\": \"scatter\", \"data\": [0.8769762059573883, 0.8769762059573883, 0.8769762059573883, 0.8769762059573883, 0.8769762059573883, 0.8769762059573883, 0.8769762059573883, 0.8769762059573883, 0.8769762059573883, 0.8769762059573883, 0.8769762059573883, 0.8769762059573883, 0.8769762059573883, 0.8769762059573883, 0.8825847394864763, 0.8825847394864763, 0.8825847394864763, 0.8825847394864763, 0.8825847394864763, 0.8825847394864763, 0.8825847394864763, 0.8825847394864763, 0.8825847394864763, 0.8825847394864763, 0.8825847394864763, 0.8825847394864763, 0.8825847394864763, 0.8850429788352944, 0.8850429788352944, 0.8850429788352944, 0.8850429788352944, 0.8850429788352944, 0.8850429788352944, 0.8850429788352944, 0.8965050780805462, 0.8965050780805462]}], \"AUC_micro\": [{\"categories\": [\"0\", \"1\", \"2\", \"3\", \"4\", \"5\", \"6\", \"7\", \"8\", \"9\", \"10\", \"11\", \"12\", \"13\", \"14\", \"15\", \"16\", \"17\", \"18\", \"19\", \"20\", \"21\", \"22\", \"23\", \"24\", \"25\", \"26\", \"27\", \"28\", \"29\", \"30\", \"31\", \"32\", \"33\", \"38\", \"39\"], \"mode\": \"markers\", \"name\": \"AUC_micro\", \"stepped\": false, \"type\": \"scatter\", \"data\": [0.9086785572730877, 0.8963258026159334, 0.9078052582903948, 0.8850002642356982, 0.9082146915048224, 0.8541408376271635, 0.9107419738406659, 0.8739690844233057, 0.8823121944774741, 0.8861757167393316, 0.876674725855463, 0.8487646981107148, 0.8577217598097503, 0.8644702074250231, 0.9128559915444574, 0.8618950984277977, 0.8476846346941471, 0.8936571541815299, 0.8363748183379573, 0.891891134892324, 0.8619320914255516, 0.8745403620029066, 0.8980392390011891, 0.8871951380631524, 0.8902790328973446, 0.9009319593077025, 0.9117039239001189, 0.898916369401506, 0.9120216673272559, 0.9077428986656099, 0.9090158541418948, 0.9026921654115473, 0.9117740784780024, 0.9099807107940283, 0.9191307966706301, 0.9124641300039634]}, {\"categories\": [\"0\", \"1\", \"2\", \"3\", \"4\", \"5\", \"6\", \"7\", \"8\", \"9\", \"10\", \"11\", \"12\", \"13\", \"14\", \"15\", \"16\", \"17\", \"18\", \"19\", \"20\", \"21\", \"22\", \"23\", \"24\", \"25\", \"26\", \"27\", \"28\", \"29\", \"30\", \"31\", \"32\", \"33\", \"38\", \"39\"], \"mode\": \"lines\", \"name\": \"AUC_micro_max\", \"stepped\": true, \"type\": \"scatter\", \"data\": [0.9086785572730877, 0.9086785572730877, 0.9086785572730877, 0.9086785572730877, 0.9086785572730877, 0.9086785572730877, 0.9107419738406659, 0.9107419738406659, 0.9107419738406659, 0.9107419738406659, 0.9107419738406659, 0.9107419738406659, 0.9107419738406659, 0.9107419738406659, 0.9128559915444574, 0.9128559915444574, 0.9128559915444574, 0.9128559915444574, 0.9128559915444574, 0.9128559915444574, 0.9128559915444574, 0.9128559915444574, 0.9128559915444574, 0.9128559915444574, 0.9128559915444574, 0.9128559915444574, 0.9128559915444574, 0.9128559915444574, 0.9128559915444574, 0.9128559915444574, 0.9128559915444574, 0.9128559915444574, 0.9128559915444574, 0.9128559915444574, 0.9191307966706301, 0.9191307966706301]}], \"accuracy\": [{\"categories\": [\"0\", \"1\", \"2\", \"3\", \"4\", \"5\", \"6\", \"7\", \"8\", \"9\", \"10\", \"11\", \"12\", \"13\", \"14\", \"15\", \"16\", \"17\", \"18\", \"19\", \"20\", \"21\", \"22\", \"23\", \"24\", \"25\", \"26\", \"27\", \"28\", \"29\", \"30\", \"31\", \"32\", \"33\", \"38\", \"39\"], \"mode\": \"markers\", \"name\": \"accuracy\", \"stepped\": false, \"type\": \"scatter\", \"data\": [0.8528735632183908, 0.8294252873563218, 0.8262068965517241, 0.8293103448275861, 0.8394252873563218, 0.7588505747126437, 0.8360919540229886, 0.7726436781609196, 0.812528735632184, 0.825977011494253, 0.8060919540229886, 0.7788505747126436, 0.7956321839080459, 0.7826436781609195, 0.8426436781609196, 0.7659770114942528, 0.7589655172413792, 0.8260919540229887, 0.7520689655172415, 0.8126436781609195, 0.7758620689655171, 0.8022988505747126, 0.8360919540229885, 0.8294252873563218, 0.8160919540229885, 0.8059770114942528, 0.8394252873563219, 0.8459770114942529, 0.8427586206896551, 0.835977011494253, 0.8493103448275863, 0.835977011494253, 0.8393103448275863, 0.8462068965517242, 0.8727586206896552, 0.8527586206896552]}, {\"categories\": [\"0\", \"1\", \"2\", \"3\", \"4\", \"5\", \"6\", \"7\", \"8\", \"9\", \"10\", \"11\", \"12\", \"13\", \"14\", \"15\", \"16\", \"17\", \"18\", \"19\", \"20\", \"21\", \"22\", \"23\", \"24\", \"25\", \"26\", \"27\", \"28\", \"29\", \"30\", \"31\", \"32\", \"33\", \"38\", \"39\"], \"mode\": \"lines\", \"name\": \"accuracy_max\", \"stepped\": true, \"type\": \"scatter\", \"data\": [0.8528735632183908, 0.8528735632183908, 0.8528735632183908, 0.8528735632183908, 0.8528735632183908, 0.8528735632183908, 0.8528735632183908, 0.8528735632183908, 0.8528735632183908, 0.8528735632183908, 0.8528735632183908, 0.8528735632183908, 0.8528735632183908, 0.8528735632183908, 0.8528735632183908, 0.8528735632183908, 0.8528735632183908, 0.8528735632183908, 0.8528735632183908, 0.8528735632183908, 0.8528735632183908, 0.8528735632183908, 0.8528735632183908, 0.8528735632183908, 0.8528735632183908, 0.8528735632183908, 0.8528735632183908, 0.8528735632183908, 0.8528735632183908, 0.8528735632183908, 0.8528735632183908, 0.8528735632183908, 0.8528735632183908, 0.8528735632183908, 0.8727586206896552, 0.8727586206896552]}], \"recall_score_macro\": [{\"categories\": [\"0\", \"1\", \"2\", \"3\", \"4\", \"5\", \"6\", \"7\", \"8\", \"9\", \"10\", \"11\", \"12\", \"13\", \"14\", \"15\", \"16\", \"17\", \"18\", \"19\", \"20\", \"21\", \"22\", \"23\", \"24\", \"25\", \"26\", \"27\", \"28\", \"29\", \"30\", \"31\", \"32\", \"33\", \"38\", \"39\"], \"mode\": \"markers\", \"name\": \"recall_score_macro\", \"stepped\": false, \"type\": \"scatter\", \"data\": [0.8069458209918737, 0.7833175837320574, 0.7740972760183287, 0.7759512575630997, 0.777421530467583, 0.7527046910204805, 0.78221076681603, 0.6667984101668313, 0.7679221855142908, 0.7758651331611858, 0.7409288055998582, 0.7568463361687046, 0.7543720253917623, 0.7055814979367611, 0.7649590896433003, 0.651197966507177, 0.6122710184552289, 0.8140893331814383, 0.7534858104858105, 0.7658679179008125, 0.7559939938229412, 0.7615674571529836, 0.782123094984937, 0.762196146932989, 0.7542079757474495, 0.7149254037872459, 0.7746935362395889, 0.7676762360446572, 0.7922641578694211, 0.7700749348117768, 0.7994498588643325, 0.7523197893724209, 0.7957608509911143, 0.7816225538593959, 0.8165013765474292, 0.798113183843447]}, {\"categories\": [\"0\", \"1\", \"2\", \"3\", \"4\", \"5\", \"6\", \"7\", \"8\", \"9\", \"10\", \"11\", \"12\", \"13\", \"14\", \"15\", \"16\", \"17\", \"18\", \"19\", \"20\", \"21\", \"22\", \"23\", \"24\", \"25\", \"26\", \"27\", \"28\", \"29\", \"30\", \"31\", \"32\", \"33\", \"38\", \"39\"], \"mode\": \"lines\", \"name\": \"recall_score_macro_max\", \"stepped\": true, \"type\": \"scatter\", \"data\": [0.8069458209918737, 0.8069458209918737, 0.8069458209918737, 0.8069458209918737, 0.8069458209918737, 0.8069458209918737, 0.8069458209918737, 0.8069458209918737, 0.8069458209918737, 0.8069458209918737, 0.8069458209918737, 0.8069458209918737, 0.8069458209918737, 0.8069458209918737, 0.8069458209918737, 0.8069458209918737, 0.8069458209918737, 0.8140893331814383, 0.8140893331814383, 0.8140893331814383, 0.8140893331814383, 0.8140893331814383, 0.8140893331814383, 0.8140893331814383, 0.8140893331814383, 0.8140893331814383, 0.8140893331814383, 0.8140893331814383, 0.8140893331814383, 0.8140893331814383, 0.8140893331814383, 0.8140893331814383, 0.8140893331814383, 0.8140893331814383, 0.8165013765474292, 0.8165013765474292]}], \"norm_macro_recall\": [{\"categories\": [\"0\", \"1\", \"2\", \"3\", \"4\", \"5\", \"6\", \"7\", \"8\", \"9\", \"10\", \"11\", \"12\", \"13\", \"14\", \"15\", \"16\", \"17\", \"18\", \"19\", \"20\", \"21\", \"22\", \"23\", \"24\", \"25\", \"26\", \"27\", \"28\", \"29\", \"30\", \"31\", \"32\", \"33\", \"38\", \"39\"], \"mode\": \"markers\", \"name\": \"norm_macro_recall\", \"stepped\": false, \"type\": \"scatter\", \"data\": [0.6138916419837473, 0.5746351674641148, 0.5601945520366574, 0.5519025151261994, 0.5628430609351662, 0.5094093820409611, 0.5644215336320599, 0.33359682033366245, 0.5358443710285815, 0.5557302663223715, 0.4818576111997164, 0.5256926723374092, 0.5087440507835245, 0.4191629958735222, 0.5299181792866003, 0.3023959330143541, 0.22454203691045796, 0.6281786663628768, 0.510971620971621, 0.5357358358016253, 0.5119879876458823, 0.5231349143059669, 0.5642461899698742, 0.5243922938659781, 0.5124159514948988, 0.4298508075744918, 0.5493870724791777, 0.5353524720893141, 0.584528315738842, 0.5401498696235538, 0.598899717728665, 0.5083432824485457, 0.5915217019822283, 0.5632451077187918, 0.6330027530948583, 0.596226367686894]}, {\"categories\": [\"0\", \"1\", \"2\", \"3\", \"4\", \"5\", \"6\", \"7\", \"8\", \"9\", \"10\", \"11\", \"12\", \"13\", \"14\", \"15\", \"16\", \"17\", \"18\", \"19\", \"20\", \"21\", \"22\", \"23\", \"24\", \"25\", \"26\", \"27\", \"28\", \"29\", \"30\", \"31\", \"32\", \"33\", \"38\", \"39\"], \"mode\": \"lines\", \"name\": \"norm_macro_recall_max\", \"stepped\": true, \"type\": \"scatter\", \"data\": [0.6138916419837473, 0.6138916419837473, 0.6138916419837473, 0.6138916419837473, 0.6138916419837473, 0.6138916419837473, 0.6138916419837473, 0.6138916419837473, 0.6138916419837473, 0.6138916419837473, 0.6138916419837473, 0.6138916419837473, 0.6138916419837473, 0.6138916419837473, 0.6138916419837473, 0.6138916419837473, 0.6138916419837473, 0.6281786663628768, 0.6281786663628768, 0.6281786663628768, 0.6281786663628768, 0.6281786663628768, 0.6281786663628768, 0.6281786663628768, 0.6281786663628768, 0.6281786663628768, 0.6281786663628768, 0.6281786663628768, 0.6281786663628768, 0.6281786663628768, 0.6281786663628768, 0.6281786663628768, 0.6281786663628768, 0.6281786663628768, 0.6330027530948583, 0.6330027530948583]}], \"average_precision_score_macro\": [{\"categories\": [\"0\", \"1\", \"2\", \"3\", \"4\", \"5\", \"6\", \"7\", \"8\", \"9\", \"10\", \"11\", \"12\", \"13\", \"14\", \"15\", \"16\", \"17\", \"18\", \"19\", \"20\", \"21\", \"22\", \"23\", \"24\", \"25\", \"26\", \"27\", \"28\", \"29\", \"30\", \"31\", \"32\", \"33\", \"38\", \"39\"], \"mode\": \"markers\", \"name\": \"average_precision_score_macro\", \"stepped\": false, \"type\": \"scatter\", \"data\": [0.8791765284374424, 0.8711161960758371, 0.8824378219753605, 0.8412141510676951, 0.8764670150663729, 0.848703681272499, 0.8712585608818918, 0.861682459213886, 0.8459333851263982, 0.8426178758661285, 0.8380436137865646, 0.8333401079600871, 0.829393287696244, 0.8359291915137301, 0.8791856731565394, 0.8384625253397984, 0.8338720539434812, 0.8736604749104544, 0.8462091695337655, 0.8467192976645552, 0.8334354116548329, 0.8476352881349992, 0.8586804206048025, 0.8553925945703889, 0.8552973358540527, 0.87955818422049, 0.8928431233183206, 0.8697213765650309, 0.8815758355458557, 0.8713290741501268, 0.8801563359478823, 0.867152034015575, 0.8914876546096725, 0.8838914188096691, 0.8918063121520723, 0.8915081037573737]}, {\"categories\": [\"0\", \"1\", \"2\", \"3\", \"4\", \"5\", \"6\", \"7\", \"8\", \"9\", \"10\", \"11\", \"12\", \"13\", \"14\", \"15\", \"16\", \"17\", \"18\", \"19\", \"20\", \"21\", \"22\", \"23\", \"24\", \"25\", \"26\", \"27\", \"28\", \"29\", \"30\", \"31\", \"32\", \"33\", \"38\", \"39\"], \"mode\": \"lines\", \"name\": \"average_precision_score_macro_max\", \"stepped\": true, \"type\": \"scatter\", \"data\": [0.8791765284374424, 0.8791765284374424, 0.8824378219753605, 0.8824378219753605, 0.8824378219753605, 0.8824378219753605, 0.8824378219753605, 0.8824378219753605, 0.8824378219753605, 0.8824378219753605, 0.8824378219753605, 0.8824378219753605, 0.8824378219753605, 0.8824378219753605, 0.8824378219753605, 0.8824378219753605, 0.8824378219753605, 0.8824378219753605, 0.8824378219753605, 0.8824378219753605, 0.8824378219753605, 0.8824378219753605, 0.8824378219753605, 0.8824378219753605, 0.8824378219753605, 0.8824378219753605, 0.8928431233183206, 0.8928431233183206, 0.8928431233183206, 0.8928431233183206, 0.8928431233183206, 0.8928431233183206, 0.8928431233183206, 0.8928431233183206, 0.8928431233183206, 0.8928431233183206]}], \"matthews_correlation\": [{\"categories\": [\"0\", \"1\", \"2\", \"3\", \"4\", \"5\", \"6\", \"7\", \"8\", \"9\", \"10\", \"11\", \"12\", \"13\", \"14\", \"15\", \"16\", \"17\", \"18\", \"19\", \"20\", \"21\", \"22\", \"23\", \"24\", \"25\", \"26\", \"27\", \"28\", \"29\", \"30\", \"31\", \"32\", \"33\", \"38\", \"39\"], \"mode\": \"markers\", \"name\": \"matthews_correlation\", \"stepped\": false, \"type\": \"scatter\", \"data\": [0.6513585985756285, 0.5937735919757674, 0.5693190256311909, 0.5698825026451143, 0.5847660253153808, 0.4869201814932326, 0.5874044016974992, 0.42701616840343765, 0.5365378707275534, 0.5663865177871112, 0.5253511980167709, 0.507438847110435, 0.5017583075223769, 0.4479141018359827, 0.5826114279006018, 0.38689518526161915, 0.31680822997345265, 0.6034844952700122, 0.48875609984504653, 0.5283433598636398, 0.4979301944887628, 0.5214287532400681, 0.5952756299648012, 0.5597983425529953, 0.5344935053999388, 0.4944252210991059, 0.5825699997561073, 0.6070630435451354, 0.6103390123360753, 0.5779284052702038, 0.6111680325966808, 0.536161037999048, 0.6160647900172307, 0.6000498436793295, 0.67338774368029, 0.6192781440655625]}, {\"categories\": [\"0\", \"1\", \"2\", \"3\", \"4\", \"5\", \"6\", \"7\", \"8\", \"9\", \"10\", \"11\", \"12\", \"13\", \"14\", \"15\", \"16\", \"17\", \"18\", \"19\", \"20\", \"21\", \"22\", \"23\", \"24\", \"25\", \"26\", \"27\", \"28\", \"29\", \"30\", \"31\", \"32\", \"33\", \"38\", \"39\"], \"mode\": \"lines\", \"name\": \"matthews_correlation_max\", \"stepped\": true, \"type\": \"scatter\", \"data\": [0.6513585985756285, 0.6513585985756285, 0.6513585985756285, 0.6513585985756285, 0.6513585985756285, 0.6513585985756285, 0.6513585985756285, 0.6513585985756285, 0.6513585985756285, 0.6513585985756285, 0.6513585985756285, 0.6513585985756285, 0.6513585985756285, 0.6513585985756285, 0.6513585985756285, 0.6513585985756285, 0.6513585985756285, 0.6513585985756285, 0.6513585985756285, 0.6513585985756285, 0.6513585985756285, 0.6513585985756285, 0.6513585985756285, 0.6513585985756285, 0.6513585985756285, 0.6513585985756285, 0.6513585985756285, 0.6513585985756285, 0.6513585985756285, 0.6513585985756285, 0.6513585985756285, 0.6513585985756285, 0.6513585985756285, 0.6513585985756285, 0.67338774368029, 0.67338774368029]}], \"f1_score_weighted\": [{\"categories\": [\"0\", \"1\", \"2\", \"3\", \"4\", \"5\", \"6\", \"7\", \"8\", \"9\", \"10\", \"11\", \"12\", \"13\", \"14\", \"15\", \"16\", \"17\", \"18\", \"19\", \"20\", \"21\", \"22\", \"23\", \"24\", \"25\", \"26\", \"27\", \"28\", \"29\", \"30\", \"31\", \"32\", \"33\", \"38\", \"39\"], \"mode\": \"markers\", \"name\": \"f1_score_weighted\", \"stepped\": false, \"type\": \"scatter\", \"data\": [0.850686174915935, 0.8303399291049066, 0.8279166722722906, 0.8276650659245917, 0.8390797325509807, 0.7693387773175042, 0.8336674631810153, 0.7450133785366572, 0.8159253827430433, 0.8256176252700083, 0.7940828282650939, 0.7856362393446985, 0.7980467962506529, 0.7727014391233209, 0.8335636299670183, 0.7249645966541425, 0.6952121414930273, 0.8324698080496518, 0.7621115991696089, 0.8159863575312357, 0.7851858614180278, 0.8048418617921295, 0.8380685279748985, 0.8243963210653359, 0.8117858504444694, 0.7907454655499344, 0.8349774903239762, 0.8353718665735229, 0.8436148961901633, 0.8312592433709234, 0.8480372983237533, 0.8265045990920775, 0.8392253812430764, 0.842418919534008, 0.8692792097993198, 0.8501176514343373]}, {\"categories\": [\"0\", \"1\", \"2\", \"3\", \"4\", \"5\", \"6\", \"7\", \"8\", \"9\", \"10\", \"11\", \"12\", \"13\", \"14\", \"15\", \"16\", \"17\", \"18\", \"19\", \"20\", \"21\", \"22\", \"23\", \"24\", \"25\", \"26\", \"27\", \"28\", \"29\", \"30\", \"31\", \"32\", \"33\", \"38\", \"39\"], \"mode\": \"lines\", \"name\": \"f1_score_weighted_max\", \"stepped\": true, \"type\": \"scatter\", \"data\": [0.850686174915935, 0.850686174915935, 0.850686174915935, 0.850686174915935, 0.850686174915935, 0.850686174915935, 0.850686174915935, 0.850686174915935, 0.850686174915935, 0.850686174915935, 0.850686174915935, 0.850686174915935, 0.850686174915935, 0.850686174915935, 0.850686174915935, 0.850686174915935, 0.850686174915935, 0.850686174915935, 0.850686174915935, 0.850686174915935, 0.850686174915935, 0.850686174915935, 0.850686174915935, 0.850686174915935, 0.850686174915935, 0.850686174915935, 0.850686174915935, 0.850686174915935, 0.850686174915935, 0.850686174915935, 0.850686174915935, 0.850686174915935, 0.850686174915935, 0.850686174915935, 0.8692792097993198, 0.8692792097993198]}], \"precision_score_macro\": [{\"categories\": [\"0\", \"1\", \"2\", \"3\", \"4\", \"5\", \"6\", \"7\", \"8\", \"9\", \"10\", \"11\", \"12\", \"13\", \"14\", \"15\", \"16\", \"17\", \"18\", \"19\", \"20\", \"21\", \"22\", \"23\", \"24\", \"25\", \"26\", \"27\", \"28\", \"29\", \"30\", \"31\", \"32\", \"33\", \"38\", \"39\"], \"mode\": \"markers\", \"name\": \"precision_score_macro\", \"stepped\": false, \"type\": \"scatter\", \"data\": [0.8478050569440729, 0.8122953918062613, 0.7965670886984322, 0.7965086247788495, 0.8098832497911446, 0.7362420330451022, 0.8071970357382255, 0.7802980787328615, 0.7694174925951242, 0.7929772089533834, 0.7954113109113109, 0.7513342962282927, 0.7477952243548219, 0.7567706054506733, 0.823935878935879, 0.7475405206986916, 0.7106961544202923, 0.7915425298815391, 0.7369936543504655, 0.7628888409043881, 0.7432473115120174, 0.7604623254855454, 0.8144912222915656, 0.8003806081409056, 0.7832770257329754, 0.7894756209973602, 0.8102539533946856, 0.8513195770579578, 0.8200485815989248, 0.8110716019297255, 0.8128359725070252, 0.7856967348563656, 0.822381744876024, 0.8210698311985498, 0.8651801512663582, 0.8229180659157777]}, {\"categories\": [\"0\", \"1\", \"2\", \"3\", \"4\", \"5\", \"6\", \"7\", \"8\", \"9\", \"10\", \"11\", \"12\", \"13\", \"14\", \"15\", \"16\", \"17\", \"18\", \"19\", \"20\", \"21\", \"22\", \"23\", \"24\", \"25\", \"26\", \"27\", \"28\", \"29\", \"30\", \"31\", \"32\", \"33\", \"38\", \"39\"], \"mode\": \"lines\", \"name\": \"precision_score_macro_max\", \"stepped\": true, \"type\": \"scatter\", \"data\": [0.8478050569440729, 0.8478050569440729, 0.8478050569440729, 0.8478050569440729, 0.8478050569440729, 0.8478050569440729, 0.8478050569440729, 0.8478050569440729, 0.8478050569440729, 0.8478050569440729, 0.8478050569440729, 0.8478050569440729, 0.8478050569440729, 0.8478050569440729, 0.8478050569440729, 0.8478050569440729, 0.8478050569440729, 0.8478050569440729, 0.8478050569440729, 0.8478050569440729, 0.8478050569440729, 0.8478050569440729, 0.8478050569440729, 0.8478050569440729, 0.8478050569440729, 0.8478050569440729, 0.8478050569440729, 0.8513195770579578, 0.8513195770579578, 0.8513195770579578, 0.8513195770579578, 0.8513195770579578, 0.8513195770579578, 0.8513195770579578, 0.8651801512663582, 0.8651801512663582]}]}, \"metricName\": null, \"primaryMetricName\": \"accuracy\", \"showLegend\": false}, \"run_metrics\": [{\"name\": \"experiment_status\", \"run_id\": \"AutoML_145744c5-84cf-4edf-9ef7-aee6ffbfe704\", \"categories\": [0, 1, 2, 3, 4, 5, 6, 7, 8, 9, 10, 11, 12, 13], \"series\": [{\"data\": [\"DatasetEvaluation\", \"FeaturesGeneration\", \"DatasetFeaturization\", \"DatasetFeaturizationCompleted\", \"DatasetCrossValidationSplit\", \"ModelSelection\", \"BestRunExplainModel\", \"ModelExplanationDataSetSetup\", \"PickSurrogateModel\", \"EngineeredFeatureExplanations\", \"EngineeredFeatureExplanations\", \"RawFeaturesExplanations\", \"RawFeaturesExplanations\", \"BestRunExplainModel\"]}]}, {\"name\": \"experiment_status_description\", \"run_id\": \"AutoML_145744c5-84cf-4edf-9ef7-aee6ffbfe704\", \"categories\": [0, 1, 2, 3, 4, 5, 6, 7, 8, 9, 10, 11, 12, 13], \"series\": [{\"data\": [\"Gathering dataset statistics.\", \"Generating features for the dataset.\", \"Beginning to fit featurizers and featurize the dataset.\", \"Completed fit featurizers and featurizing the dataset.\", \"Generating individually featurized CV splits.\", \"Beginning model selection.\", \"Best run model explanations started\", \"Model explanations data setup completed\", \"Choosing LightGBM as the surrogate model for explanations\", \"Computation of engineered features started\", \"Computation of engineered features completed\", \"Computation of raw features started\", \"Computation of raw features completed\", \"Best run model explanations completed\"]}]}, {\"name\": \"recall_score_macro\", \"run_id\": \"AutoML_145744c5-84cf-4edf-9ef7-aee6ffbfe704\", \"categories\": [0], \"series\": [{\"data\": [0.8165013765474292]}]}, {\"name\": \"accuracy\", \"run_id\": \"AutoML_145744c5-84cf-4edf-9ef7-aee6ffbfe704\", \"categories\": [0], \"series\": [{\"data\": [0.8727586206896552]}]}, {\"name\": \"precision_score_weighted\", \"run_id\": \"AutoML_145744c5-84cf-4edf-9ef7-aee6ffbfe704\", \"categories\": [0], \"series\": [{\"data\": [0.8799181221077772]}]}, {\"name\": \"recall_score_micro\", \"run_id\": \"AutoML_145744c5-84cf-4edf-9ef7-aee6ffbfe704\", \"categories\": [0], \"series\": [{\"data\": [0.8727586206896552]}]}, {\"name\": \"balanced_accuracy\", \"run_id\": \"AutoML_145744c5-84cf-4edf-9ef7-aee6ffbfe704\", \"categories\": [0], \"series\": [{\"data\": [0.8165013765474292]}]}, {\"name\": \"weighted_accuracy\", \"run_id\": \"AutoML_145744c5-84cf-4edf-9ef7-aee6ffbfe704\", \"categories\": [0], \"series\": [{\"data\": [0.8965050780805462]}]}, {\"name\": \"f1_score_micro\", \"run_id\": \"AutoML_145744c5-84cf-4edf-9ef7-aee6ffbfe704\", \"categories\": [0], \"series\": [{\"data\": [0.8727586206896552]}]}, {\"name\": \"log_loss\", \"run_id\": \"AutoML_145744c5-84cf-4edf-9ef7-aee6ffbfe704\", \"categories\": [0], \"series\": [{\"data\": [0.3703621394095316]}]}, {\"name\": \"norm_macro_recall\", \"run_id\": \"AutoML_145744c5-84cf-4edf-9ef7-aee6ffbfe704\", \"categories\": [0], \"series\": [{\"data\": [0.6330027530948583]}]}, {\"name\": \"average_precision_score_micro\", \"run_id\": \"AutoML_145744c5-84cf-4edf-9ef7-aee6ffbfe704\", \"categories\": [0], \"series\": [{\"data\": [0.9227602213782635]}]}, {\"name\": \"AUC_macro\", \"run_id\": \"AutoML_145744c5-84cf-4edf-9ef7-aee6ffbfe704\", \"categories\": [0], \"series\": [{\"data\": [0.9022900626988346]}]}, {\"name\": \"matthews_correlation\", \"run_id\": \"AutoML_145744c5-84cf-4edf-9ef7-aee6ffbfe704\", \"categories\": [0], \"series\": [{\"data\": [0.67338774368029]}]}, {\"name\": \"AUC_weighted\", \"run_id\": \"AutoML_145744c5-84cf-4edf-9ef7-aee6ffbfe704\", \"categories\": [0], \"series\": [{\"data\": [0.9022900626988346]}]}, {\"name\": \"AUC_micro\", \"run_id\": \"AutoML_145744c5-84cf-4edf-9ef7-aee6ffbfe704\", \"categories\": [0], \"series\": [{\"data\": [0.9191307966706301]}]}, {\"name\": \"precision_score_micro\", \"run_id\": \"AutoML_145744c5-84cf-4edf-9ef7-aee6ffbfe704\", \"categories\": [0], \"series\": [{\"data\": [0.8727586206896552]}]}, {\"name\": \"average_precision_score_weighted\", \"run_id\": \"AutoML_145744c5-84cf-4edf-9ef7-aee6ffbfe704\", \"categories\": [0], \"series\": [{\"data\": [0.9290795914774671]}]}, {\"name\": \"f1_score_macro\", \"run_id\": \"AutoML_145744c5-84cf-4edf-9ef7-aee6ffbfe704\", \"categories\": [0], \"series\": [{\"data\": [0.8266686505848485]}]}, {\"name\": \"precision_score_macro\", \"run_id\": \"AutoML_145744c5-84cf-4edf-9ef7-aee6ffbfe704\", \"categories\": [0], \"series\": [{\"data\": [0.8651801512663582]}]}, {\"name\": \"f1_score_weighted\", \"run_id\": \"AutoML_145744c5-84cf-4edf-9ef7-aee6ffbfe704\", \"categories\": [0], \"series\": [{\"data\": [0.8692792097993198]}]}, {\"name\": \"average_precision_score_macro\", \"run_id\": \"AutoML_145744c5-84cf-4edf-9ef7-aee6ffbfe704\", \"categories\": [0], \"series\": [{\"data\": [0.8918063121520723]}]}, {\"name\": \"recall_score_weighted\", \"run_id\": \"AutoML_145744c5-84cf-4edf-9ef7-aee6ffbfe704\", \"categories\": [0], \"series\": [{\"data\": [0.8727586206896552]}]}], \"run_logs\": \"\\nRun is completed.\", \"graph\": {}, \"widget_settings\": {\"childWidgetDisplay\": \"popup\", \"send_telemetry\": false, \"log_level\": \"INFO\", \"sdk_version\": \"1.18.0\"}, \"loading\": false}"
     },
     "metadata": {},
     "output_type": "display_data"
    }
   ],
   "source": [
    "RunDetails(Automl_run).show()"
   ]
  },
  {
   "cell_type": "markdown",
   "metadata": {},
   "source": [
    "## Best Model\n",
    "\n",
    "Getb the best model from the automl experiments and display all the properties of the model.\n",
    "\n"
   ]
  },
  {
   "cell_type": "code",
   "execution_count": 41,
   "metadata": {
    "gather": {
     "logged": 1598431425670
    },
    "jupyter": {
     "outputs_hidden": false,
     "source_hidden": false
    },
    "nteract": {
     "transient": {
      "deleting": false
     }
    }
   },
   "outputs": [
    {
     "name": "stdout",
     "output_type": "stream",
     "text": [
      "Run(Experiment: Heart-Failure-AutoMlProject,\n",
      "Id: AutoML_145744c5-84cf-4edf-9ef7-aee6ffbfe704_38,\n",
      "Type: azureml.scriptrun,\n",
      "Status: Completed)\n",
      "Pipeline(memory=None,\n",
      "         steps=[('datatransformer',\n",
      "                 DataTransformer(enable_dnn=None, enable_feature_sweeping=None,\n",
      "                                 feature_sweeping_config=None,\n",
      "                                 feature_sweeping_timeout=None,\n",
      "                                 featurization_config=None, force_text_dnn=None,\n",
      "                                 is_cross_validation=None,\n",
      "                                 is_onnx_compatible=None, logger=None,\n",
      "                                 observer=None, task=None, working_dir=None)),\n",
      "                ('prefittedsoftvotingclassifier',...\n",
      "                                                                                                subsample_for_bin=200000,\n",
      "                                                                                                subsample_freq=0,\n",
      "                                                                                                verbose=-10))],\n",
      "                                                                     verbose=False))],\n",
      "                                               flatten_transform=None,\n",
      "                                               weights=[0.06666666666666667,\n",
      "                                                        0.13333333333333333,\n",
      "                                                        0.06666666666666667,\n",
      "                                                        0.13333333333333333,\n",
      "                                                        0.06666666666666667,\n",
      "                                                        0.13333333333333333,\n",
      "                                                        0.06666666666666667,\n",
      "                                                        0.06666666666666667,\n",
      "                                                        0.06666666666666667,\n",
      "                                                        0.06666666666666667,\n",
      "                                                        0.06666666666666667,\n",
      "                                                        0.06666666666666667]))],\n",
      "         verbose=False)\n"
     ]
    }
   ],
   "source": [
    "best_run, fitted_model = Automl_run.get_output()\n",
    "print(best_run)\n",
    "print(fitted_model)"
   ]
  },
  {
   "cell_type": "code",
   "execution_count": 42,
   "metadata": {
    "gather": {
     "logged": 1598431426111
    },
    "jupyter": {
     "outputs_hidden": false,
     "source_hidden": false
    },
    "nteract": {
     "transient": {
      "deleting": false
     }
    }
   },
   "outputs": [
    {
     "name": "stdout",
     "output_type": "stream",
     "text": [
      "Registering model auto-ml\n",
      "Name: auto-ml\n",
      "Version: 4\n"
     ]
    }
   ],
   "source": [
    "#TODO: Save the best model\n",
    "joblib.dump(fitted_model, 'automlmodel.pkl')\n",
    "\n",
    "automl_model = Model.register(workspace=ws,\n",
    "                       model_name='auto-ml',                # Name of the registered model in your workspace.\n",
    "                       model_path='./automlmodel.pkl',  # Local file to upload and register as a model.\n",
    "                       model_framework=Model.Framework.SCIKITLEARN,  # Framework used to create the model.\n",
    "                       model_framework_version=sklearn.__version__,# Version of scikit-learn used to create the model.\n",
    "                      # resource_configuration=ResourceConfiguration(cpu=1, memory_in_gb=1),\n",
    "                       description='Regression model to predict Death Event',\n",
    "                       tags={'area': 'Death Event', 'type': 'regression'}\n",
    "                       )\n",
    "\n",
    "print('Name:', automl_model.name)\n",
    "print('Version:', automl_model.version)"
   ]
  },
  {
   "cell_type": "markdown",
   "metadata": {},
   "source": [
    "## Model Deployment 1\n",
    "\n",
    "\n",
    "Remember you have to deploy only one of the two models you trained. Perform the steps in the rest of this notebook only if you wish to deploy this model.\n",
    "\n",
    "TODO: In the cell below, register the model, create an inference config and deploy the model as a web service."
   ]
  },
  {
   "cell_type": "code",
   "execution_count": 121,
   "metadata": {
    "gather": {
     "logged": 1598431435189
    },
    "jupyter": {
     "outputs_hidden": false,
     "source_hidden": false
    },
    "nteract": {
     "transient": {
      "deleting": false
     }
    }
   },
   "outputs": [],
   "source": [
    "#Set up the Environment \n",
    "env = Environment(workspace=ws, name=\"myenv\")  \n",
    "\n",
    "#Install the correct packages\n",
    "#env.python.conda_dependencies.add_pip_package(\"scikit-learn\")  \n",
    "\n",
    "# Define the packages needed by the model and scripts\n",
    "#env.python.conda_dependencies.add_pip_package('ference-schema[numpy-support]')\n",
    "env.python.conda_dependencies.add_pip_package(\"numpy\")\n",
    "env.python.conda_dependencies.add_pip_package(\"scikit-learn\")\n",
    "env.python.conda_dependencies.add_pip_package(\"azureml-train-automl\")\n",
    "env.python.conda_dependencies.add_pip_package(\"azureml-explain-model\")\n",
    "env.python.conda_dependencies.add_pip_package(\"inference-schema\")\n",
    "env.python.conda_dependencies.add_pip_package(\"py-xgboost\")\n",
    "env.python.conda_dependencies.add_pip_package(\"joblib\")\n",
    "# You must list azureml-defaults as a pip dependency\n",
    "env.python.conda_dependencies.add_pip_package(\"azureml-defaults\")\n",
    "env.python.conda_dependencies.add_pip_package(\"conda\")"
   ]
  },
  {
   "cell_type": "code",
   "execution_count": null,
   "metadata": {},
   "outputs": [],
   "source": []
  },
  {
   "cell_type": "code",
   "execution_count": 114,
   "metadata": {},
   "outputs": [
    {
     "name": "stdout",
     "output_type": "stream",
     "text": [
      "Tips: You can try get_logs(): https://aka.ms/debugimage#dockerlog or local deployment: https://aka.ms/debugimage#debug-locally to debug if deployment takes longer than 10 minutes.\n",
      "Running.......................................................................................\n",
      "Failed\n"
     ]
    },
    {
     "name": "stderr",
     "output_type": "stream",
     "text": [
      "ERROR - Service deployment polling reached non-successful terminal state, current service state: Failed\n",
      "Operation ID: d6e193c1-f8cf-4150-86ad-5267241dccac\n",
      "More information can be found using '.get_logs()'\n",
      "Error:\n",
      "{\n",
      "  \"code\": \"AciDeploymentFailed\",\n",
      "  \"message\": \"Aci Deployment failed with exception: Your container application crashed. This may be caused by errors in your scoring file's init() function.\\nPlease check the logs for your container instance: mywebservice2. From the AML SDK, you can run print(service.get_logs()) if you have service object to fetch the logs. \\nYou can also try to run image 017e24476d9f42f498c63586fb784fde.azurecr.io/azureml/azureml_13566eba4a2d7f1d17c875fa7545ed0f locally. Please refer to https://aka.ms/debugimage#service-launch-fails for more information.\",\n",
      "  \"details\": [\n",
      "    {\n",
      "      \"code\": \"CrashLoopBackOff\",\n",
      "      \"message\": \"Your container application crashed. This may be caused by errors in your scoring file's init() function.\\nPlease check the logs for your container instance: mywebservice2. From the AML SDK, you can run print(service.get_logs()) if you have service object to fetch the logs. \\nYou can also try to run image 017e24476d9f42f498c63586fb784fde.azurecr.io/azureml/azureml_13566eba4a2d7f1d17c875fa7545ed0f locally. Please refer to https://aka.ms/debugimage#service-launch-fails for more information.\"\n",
      "    },\n",
      "    {\n",
      "      \"code\": \"AciDeploymentFailed\",\n",
      "      \"message\": \"Your container application crashed. Please follow the steps to debug:\\n1. From the AML SDK, you can run print(service.get_logs()) if you have service object to fetch the logs. Please refer to https://aka.ms/debugimage#dockerlog for more information.\\n2. If your container application crashed. This may be caused by errors in your scoring file's init() function. You can try debugging locally first. Please refer to https://aka.ms/debugimage#debug-locally for more information.\\n3. View the diagnostic events to check status of container, it may help you to debug the issue. {\\\"restartCount\\\":4,\\\"currentState\\\":{\\\"state\\\":\\\"Waiting\\\",\\\"startTime\\\":null,\\\"exitCode\\\":null,\\\"finishTime\\\":null,\\\"detailStatus\\\":\\\"CrashLoopBackOff: Back-off restarting failed\\\"},\\\"previousState\\\":{\\\"state\\\":\\\"Terminated\\\",\\\"startTime\\\":\\\"2020-11-14T16:39:16.837Z\\\",\\\"exitCode\\\":111,\\\"finishTime\\\":\\\"2020-11-14T16:39:25.67Z\\\",\\\"detailStatus\\\":\\\"Error\\\"},\\\"events\\\":[{\\\"count\\\":1,\\\"firstTimestamp\\\":\\\"2020-11-14T16:33:32Z\\\",\\\"lastTimestamp\\\":\\\"2020-11-14T16:33:32Z\\\",\\\"name\\\":\\\"Pulling\\\",\\\"message\\\":\\\"pulling image \\\\\\\"017e24476d9f42f498c63586fb784fde.azurecr.io/azureml/azureml_13566eba4a2d7f1d17c875fa7545ed0f:latest\\\\\\\"\\\",\\\"type\\\":\\\"Normal\\\"},{\\\"count\\\":1,\\\"firstTimestamp\\\":\\\"2020-11-14T16:35:50Z\\\",\\\"lastTimestamp\\\":\\\"2020-11-14T16:35:50Z\\\",\\\"name\\\":\\\"Pulled\\\",\\\"message\\\":\\\"Successfully pulled image \\\\\\\"017e24476d9f42f498c63586fb784fde.azurecr.io/azureml/azureml_13566eba4a2d7f1d17c875fa7545ed0f:latest\\\\\\\"\\\",\\\"type\\\":\\\"Normal\\\"},{\\\"count\\\":5,\\\"firstTimestamp\\\":\\\"2020-11-14T16:36:13Z\\\",\\\"lastTimestamp\\\":\\\"2020-11-14T16:39:16Z\\\",\\\"name\\\":\\\"Started\\\",\\\"message\\\":\\\"Started container\\\",\\\"type\\\":\\\"Normal\\\"},{\\\"count\\\":5,\\\"firstTimestamp\\\":\\\"2020-11-14T16:36:43Z\\\",\\\"lastTimestamp\\\":\\\"2020-11-14T16:39:25Z\\\",\\\"name\\\":\\\"Killing\\\",\\\"message\\\":\\\"Killing container with id 7a029e687c455a5f657f3e2dff3045fbc648677022acd09dbaf48325861092cb.\\\",\\\"type\\\":\\\"Normal\\\"}]}\"\n",
      "    }\n",
      "  ]\n",
      "}\n",
      "\n"
     ]
    },
    {
     "ename": "WebserviceException",
     "evalue": "WebserviceException:\n\tMessage: Service deployment polling reached non-successful terminal state, current service state: Failed\nOperation ID: d6e193c1-f8cf-4150-86ad-5267241dccac\nMore information can be found using '.get_logs()'\nError:\n{\n  \"code\": \"AciDeploymentFailed\",\n  \"message\": \"Aci Deployment failed with exception: Your container application crashed. This may be caused by errors in your scoring file's init() function.\\nPlease check the logs for your container instance: mywebservice2. From the AML SDK, you can run print(service.get_logs()) if you have service object to fetch the logs. \\nYou can also try to run image 017e24476d9f42f498c63586fb784fde.azurecr.io/azureml/azureml_13566eba4a2d7f1d17c875fa7545ed0f locally. Please refer to https://aka.ms/debugimage#service-launch-fails for more information.\",\n  \"details\": [\n    {\n      \"code\": \"CrashLoopBackOff\",\n      \"message\": \"Your container application crashed. This may be caused by errors in your scoring file's init() function.\\nPlease check the logs for your container instance: mywebservice2. From the AML SDK, you can run print(service.get_logs()) if you have service object to fetch the logs. \\nYou can also try to run image 017e24476d9f42f498c63586fb784fde.azurecr.io/azureml/azureml_13566eba4a2d7f1d17c875fa7545ed0f locally. Please refer to https://aka.ms/debugimage#service-launch-fails for more information.\"\n    },\n    {\n      \"code\": \"AciDeploymentFailed\",\n      \"message\": \"Your container application crashed. Please follow the steps to debug:\\n1. From the AML SDK, you can run print(service.get_logs()) if you have service object to fetch the logs. Please refer to https://aka.ms/debugimage#dockerlog for more information.\\n2. If your container application crashed. This may be caused by errors in your scoring file's init() function. You can try debugging locally first. Please refer to https://aka.ms/debugimage#debug-locally for more information.\\n3. View the diagnostic events to check status of container, it may help you to debug the issue. {\\\"restartCount\\\":4,\\\"currentState\\\":{\\\"state\\\":\\\"Waiting\\\",\\\"startTime\\\":null,\\\"exitCode\\\":null,\\\"finishTime\\\":null,\\\"detailStatus\\\":\\\"CrashLoopBackOff: Back-off restarting failed\\\"},\\\"previousState\\\":{\\\"state\\\":\\\"Terminated\\\",\\\"startTime\\\":\\\"2020-11-14T16:39:16.837Z\\\",\\\"exitCode\\\":111,\\\"finishTime\\\":\\\"2020-11-14T16:39:25.67Z\\\",\\\"detailStatus\\\":\\\"Error\\\"},\\\"events\\\":[{\\\"count\\\":1,\\\"firstTimestamp\\\":\\\"2020-11-14T16:33:32Z\\\",\\\"lastTimestamp\\\":\\\"2020-11-14T16:33:32Z\\\",\\\"name\\\":\\\"Pulling\\\",\\\"message\\\":\\\"pulling image \\\\\\\"017e24476d9f42f498c63586fb784fde.azurecr.io/azureml/azureml_13566eba4a2d7f1d17c875fa7545ed0f:latest\\\\\\\"\\\",\\\"type\\\":\\\"Normal\\\"},{\\\"count\\\":1,\\\"firstTimestamp\\\":\\\"2020-11-14T16:35:50Z\\\",\\\"lastTimestamp\\\":\\\"2020-11-14T16:35:50Z\\\",\\\"name\\\":\\\"Pulled\\\",\\\"message\\\":\\\"Successfully pulled image \\\\\\\"017e24476d9f42f498c63586fb784fde.azurecr.io/azureml/azureml_13566eba4a2d7f1d17c875fa7545ed0f:latest\\\\\\\"\\\",\\\"type\\\":\\\"Normal\\\"},{\\\"count\\\":5,\\\"firstTimestamp\\\":\\\"2020-11-14T16:36:13Z\\\",\\\"lastTimestamp\\\":\\\"2020-11-14T16:39:16Z\\\",\\\"name\\\":\\\"Started\\\",\\\"message\\\":\\\"Started container\\\",\\\"type\\\":\\\"Normal\\\"},{\\\"count\\\":5,\\\"firstTimestamp\\\":\\\"2020-11-14T16:36:43Z\\\",\\\"lastTimestamp\\\":\\\"2020-11-14T16:39:25Z\\\",\\\"name\\\":\\\"Killing\\\",\\\"message\\\":\\\"Killing container with id 7a029e687c455a5f657f3e2dff3045fbc648677022acd09dbaf48325861092cb.\\\",\\\"type\\\":\\\"Normal\\\"}]}\"\n    }\n  ]\n}\n\tInnerException None\n\tErrorResponse \n{\n    \"error\": {\n        \"message\": \"Service deployment polling reached non-successful terminal state, current service state: Failed\\nOperation ID: d6e193c1-f8cf-4150-86ad-5267241dccac\\nMore information can be found using '.get_logs()'\\nError:\\n{\\n  \\\"code\\\": \\\"AciDeploymentFailed\\\",\\n  \\\"message\\\": \\\"Aci Deployment failed with exception: Your container application crashed. This may be caused by errors in your scoring file's init() function.\\\\nPlease check the logs for your container instance: mywebservice2. From the AML SDK, you can run print(service.get_logs()) if you have service object to fetch the logs. \\\\nYou can also try to run image 017e24476d9f42f498c63586fb784fde.azurecr.io/azureml/azureml_13566eba4a2d7f1d17c875fa7545ed0f locally. Please refer to https://aka.ms/debugimage#service-launch-fails for more information.\\\",\\n  \\\"details\\\": [\\n    {\\n      \\\"code\\\": \\\"CrashLoopBackOff\\\",\\n      \\\"message\\\": \\\"Your container application crashed. This may be caused by errors in your scoring file's init() function.\\\\nPlease check the logs for your container instance: mywebservice2. From the AML SDK, you can run print(service.get_logs()) if you have service object to fetch the logs. \\\\nYou can also try to run image 017e24476d9f42f498c63586fb784fde.azurecr.io/azureml/azureml_13566eba4a2d7f1d17c875fa7545ed0f locally. Please refer to https://aka.ms/debugimage#service-launch-fails for more information.\\\"\\n    },\\n    {\\n      \\\"code\\\": \\\"AciDeploymentFailed\\\",\\n      \\\"message\\\": \\\"Your container application crashed. Please follow the steps to debug:\\\\n1. From the AML SDK, you can run print(service.get_logs()) if you have service object to fetch the logs. Please refer to https://aka.ms/debugimage#dockerlog for more information.\\\\n2. If your container application crashed. This may be caused by errors in your scoring file's init() function. You can try debugging locally first. Please refer to https://aka.ms/debugimage#debug-locally for more information.\\\\n3. View the diagnostic events to check status of container, it may help you to debug the issue. {\\\\\\\"restartCount\\\\\\\":4,\\\\\\\"currentState\\\\\\\":{\\\\\\\"state\\\\\\\":\\\\\\\"Waiting\\\\\\\",\\\\\\\"startTime\\\\\\\":null,\\\\\\\"exitCode\\\\\\\":null,\\\\\\\"finishTime\\\\\\\":null,\\\\\\\"detailStatus\\\\\\\":\\\\\\\"CrashLoopBackOff: Back-off restarting failed\\\\\\\"},\\\\\\\"previousState\\\\\\\":{\\\\\\\"state\\\\\\\":\\\\\\\"Terminated\\\\\\\",\\\\\\\"startTime\\\\\\\":\\\\\\\"2020-11-14T16:39:16.837Z\\\\\\\",\\\\\\\"exitCode\\\\\\\":111,\\\\\\\"finishTime\\\\\\\":\\\\\\\"2020-11-14T16:39:25.67Z\\\\\\\",\\\\\\\"detailStatus\\\\\\\":\\\\\\\"Error\\\\\\\"},\\\\\\\"events\\\\\\\":[{\\\\\\\"count\\\\\\\":1,\\\\\\\"firstTimestamp\\\\\\\":\\\\\\\"2020-11-14T16:33:32Z\\\\\\\",\\\\\\\"lastTimestamp\\\\\\\":\\\\\\\"2020-11-14T16:33:32Z\\\\\\\",\\\\\\\"name\\\\\\\":\\\\\\\"Pulling\\\\\\\",\\\\\\\"message\\\\\\\":\\\\\\\"pulling image \\\\\\\\\\\\\\\"017e24476d9f42f498c63586fb784fde.azurecr.io/azureml/azureml_13566eba4a2d7f1d17c875fa7545ed0f:latest\\\\\\\\\\\\\\\"\\\\\\\",\\\\\\\"type\\\\\\\":\\\\\\\"Normal\\\\\\\"},{\\\\\\\"count\\\\\\\":1,\\\\\\\"firstTimestamp\\\\\\\":\\\\\\\"2020-11-14T16:35:50Z\\\\\\\",\\\\\\\"lastTimestamp\\\\\\\":\\\\\\\"2020-11-14T16:35:50Z\\\\\\\",\\\\\\\"name\\\\\\\":\\\\\\\"Pulled\\\\\\\",\\\\\\\"message\\\\\\\":\\\\\\\"Successfully pulled image \\\\\\\\\\\\\\\"017e24476d9f42f498c63586fb784fde.azurecr.io/azureml/azureml_13566eba4a2d7f1d17c875fa7545ed0f:latest\\\\\\\\\\\\\\\"\\\\\\\",\\\\\\\"type\\\\\\\":\\\\\\\"Normal\\\\\\\"},{\\\\\\\"count\\\\\\\":5,\\\\\\\"firstTimestamp\\\\\\\":\\\\\\\"2020-11-14T16:36:13Z\\\\\\\",\\\\\\\"lastTimestamp\\\\\\\":\\\\\\\"2020-11-14T16:39:16Z\\\\\\\",\\\\\\\"name\\\\\\\":\\\\\\\"Started\\\\\\\",\\\\\\\"message\\\\\\\":\\\\\\\"Started container\\\\\\\",\\\\\\\"type\\\\\\\":\\\\\\\"Normal\\\\\\\"},{\\\\\\\"count\\\\\\\":5,\\\\\\\"firstTimestamp\\\\\\\":\\\\\\\"2020-11-14T16:36:43Z\\\\\\\",\\\\\\\"lastTimestamp\\\\\\\":\\\\\\\"2020-11-14T16:39:25Z\\\\\\\",\\\\\\\"name\\\\\\\":\\\\\\\"Killing\\\\\\\",\\\\\\\"message\\\\\\\":\\\\\\\"Killing container with id 7a029e687c455a5f657f3e2dff3045fbc648677022acd09dbaf48325861092cb.\\\\\\\",\\\\\\\"type\\\\\\\":\\\\\\\"Normal\\\\\\\"}]}\\\"\\n    }\\n  ]\\n}\"\n    }\n}",
     "output_type": "error",
     "traceback": [
      "\u001b[0;31m---------------------------------------------------------------------------\u001b[0m",
      "\u001b[0;31mWebserviceException\u001b[0m                       Traceback (most recent call last)",
      "\u001b[0;32m<ipython-input-114-72f90be0f7e3>\u001b[0m in \u001b[0;36m<module>\u001b[0;34m\u001b[0m\n\u001b[1;32m     13\u001b[0m \u001b[0;34m\u001b[0m\u001b[0m\n\u001b[1;32m     14\u001b[0m \u001b[0;31m#wait until deployment is complete\u001b[0m\u001b[0;34m\u001b[0m\u001b[0;34m\u001b[0m\u001b[0;34m\u001b[0m\u001b[0m\n\u001b[0;32m---> 15\u001b[0;31m \u001b[0mservice\u001b[0m\u001b[0;34m.\u001b[0m\u001b[0mwait_for_deployment\u001b[0m\u001b[0;34m(\u001b[0m\u001b[0mshow_output\u001b[0m \u001b[0;34m=\u001b[0m \u001b[0;32mTrue\u001b[0m\u001b[0;34m)\u001b[0m\u001b[0;34m\u001b[0m\u001b[0;34m\u001b[0m\u001b[0m\n\u001b[0m",
      "\u001b[0;32m/anaconda/envs/azureml_py36/lib/python3.6/site-packages/azureml/core/webservice/webservice.py\u001b[0m in \u001b[0;36mwait_for_deployment\u001b[0;34m(self, show_output, timeout_sec)\u001b[0m\n\u001b[1;32m    810\u001b[0m                                           \u001b[0;34m'Error:\\n'\u001b[0m\u001b[0;34m\u001b[0m\u001b[0;34m\u001b[0m\u001b[0m\n\u001b[1;32m    811\u001b[0m                                           '{}'.format(self.state, self._operation_endpoint.split('/')[-1],\n\u001b[0;32m--> 812\u001b[0;31m                                                       logs_response, error_response), logger=module_logger)\n\u001b[0m\u001b[1;32m    813\u001b[0m             print('{} service creation operation finished, operation \"{}\"'.format(self._webservice_type,\n\u001b[1;32m    814\u001b[0m                                                                                   operation_state))\n",
      "\u001b[0;31mWebserviceException\u001b[0m: WebserviceException:\n\tMessage: Service deployment polling reached non-successful terminal state, current service state: Failed\nOperation ID: d6e193c1-f8cf-4150-86ad-5267241dccac\nMore information can be found using '.get_logs()'\nError:\n{\n  \"code\": \"AciDeploymentFailed\",\n  \"message\": \"Aci Deployment failed with exception: Your container application crashed. This may be caused by errors in your scoring file's init() function.\\nPlease check the logs for your container instance: mywebservice2. From the AML SDK, you can run print(service.get_logs()) if you have service object to fetch the logs. \\nYou can also try to run image 017e24476d9f42f498c63586fb784fde.azurecr.io/azureml/azureml_13566eba4a2d7f1d17c875fa7545ed0f locally. Please refer to https://aka.ms/debugimage#service-launch-fails for more information.\",\n  \"details\": [\n    {\n      \"code\": \"CrashLoopBackOff\",\n      \"message\": \"Your container application crashed. This may be caused by errors in your scoring file's init() function.\\nPlease check the logs for your container instance: mywebservice2. From the AML SDK, you can run print(service.get_logs()) if you have service object to fetch the logs. \\nYou can also try to run image 017e24476d9f42f498c63586fb784fde.azurecr.io/azureml/azureml_13566eba4a2d7f1d17c875fa7545ed0f locally. Please refer to https://aka.ms/debugimage#service-launch-fails for more information.\"\n    },\n    {\n      \"code\": \"AciDeploymentFailed\",\n      \"message\": \"Your container application crashed. Please follow the steps to debug:\\n1. From the AML SDK, you can run print(service.get_logs()) if you have service object to fetch the logs. Please refer to https://aka.ms/debugimage#dockerlog for more information.\\n2. If your container application crashed. This may be caused by errors in your scoring file's init() function. You can try debugging locally first. Please refer to https://aka.ms/debugimage#debug-locally for more information.\\n3. View the diagnostic events to check status of container, it may help you to debug the issue. {\\\"restartCount\\\":4,\\\"currentState\\\":{\\\"state\\\":\\\"Waiting\\\",\\\"startTime\\\":null,\\\"exitCode\\\":null,\\\"finishTime\\\":null,\\\"detailStatus\\\":\\\"CrashLoopBackOff: Back-off restarting failed\\\"},\\\"previousState\\\":{\\\"state\\\":\\\"Terminated\\\",\\\"startTime\\\":\\\"2020-11-14T16:39:16.837Z\\\",\\\"exitCode\\\":111,\\\"finishTime\\\":\\\"2020-11-14T16:39:25.67Z\\\",\\\"detailStatus\\\":\\\"Error\\\"},\\\"events\\\":[{\\\"count\\\":1,\\\"firstTimestamp\\\":\\\"2020-11-14T16:33:32Z\\\",\\\"lastTimestamp\\\":\\\"2020-11-14T16:33:32Z\\\",\\\"name\\\":\\\"Pulling\\\",\\\"message\\\":\\\"pulling image \\\\\\\"017e24476d9f42f498c63586fb784fde.azurecr.io/azureml/azureml_13566eba4a2d7f1d17c875fa7545ed0f:latest\\\\\\\"\\\",\\\"type\\\":\\\"Normal\\\"},{\\\"count\\\":1,\\\"firstTimestamp\\\":\\\"2020-11-14T16:35:50Z\\\",\\\"lastTimestamp\\\":\\\"2020-11-14T16:35:50Z\\\",\\\"name\\\":\\\"Pulled\\\",\\\"message\\\":\\\"Successfully pulled image \\\\\\\"017e24476d9f42f498c63586fb784fde.azurecr.io/azureml/azureml_13566eba4a2d7f1d17c875fa7545ed0f:latest\\\\\\\"\\\",\\\"type\\\":\\\"Normal\\\"},{\\\"count\\\":5,\\\"firstTimestamp\\\":\\\"2020-11-14T16:36:13Z\\\",\\\"lastTimestamp\\\":\\\"2020-11-14T16:39:16Z\\\",\\\"name\\\":\\\"Started\\\",\\\"message\\\":\\\"Started container\\\",\\\"type\\\":\\\"Normal\\\"},{\\\"count\\\":5,\\\"firstTimestamp\\\":\\\"2020-11-14T16:36:43Z\\\",\\\"lastTimestamp\\\":\\\"2020-11-14T16:39:25Z\\\",\\\"name\\\":\\\"Killing\\\",\\\"message\\\":\\\"Killing container with id 7a029e687c455a5f657f3e2dff3045fbc648677022acd09dbaf48325861092cb.\\\",\\\"type\\\":\\\"Normal\\\"}]}\"\n    }\n  ]\n}\n\tInnerException None\n\tErrorResponse \n{\n    \"error\": {\n        \"message\": \"Service deployment polling reached non-successful terminal state, current service state: Failed\\nOperation ID: d6e193c1-f8cf-4150-86ad-5267241dccac\\nMore information can be found using '.get_logs()'\\nError:\\n{\\n  \\\"code\\\": \\\"AciDeploymentFailed\\\",\\n  \\\"message\\\": \\\"Aci Deployment failed with exception: Your container application crashed. This may be caused by errors in your scoring file's init() function.\\\\nPlease check the logs for your container instance: mywebservice2. From the AML SDK, you can run print(service.get_logs()) if you have service object to fetch the logs. \\\\nYou can also try to run image 017e24476d9f42f498c63586fb784fde.azurecr.io/azureml/azureml_13566eba4a2d7f1d17c875fa7545ed0f locally. Please refer to https://aka.ms/debugimage#service-launch-fails for more information.\\\",\\n  \\\"details\\\": [\\n    {\\n      \\\"code\\\": \\\"CrashLoopBackOff\\\",\\n      \\\"message\\\": \\\"Your container application crashed. This may be caused by errors in your scoring file's init() function.\\\\nPlease check the logs for your container instance: mywebservice2. From the AML SDK, you can run print(service.get_logs()) if you have service object to fetch the logs. \\\\nYou can also try to run image 017e24476d9f42f498c63586fb784fde.azurecr.io/azureml/azureml_13566eba4a2d7f1d17c875fa7545ed0f locally. Please refer to https://aka.ms/debugimage#service-launch-fails for more information.\\\"\\n    },\\n    {\\n      \\\"code\\\": \\\"AciDeploymentFailed\\\",\\n      \\\"message\\\": \\\"Your container application crashed. Please follow the steps to debug:\\\\n1. From the AML SDK, you can run print(service.get_logs()) if you have service object to fetch the logs. Please refer to https://aka.ms/debugimage#dockerlog for more information.\\\\n2. If your container application crashed. This may be caused by errors in your scoring file's init() function. You can try debugging locally first. Please refer to https://aka.ms/debugimage#debug-locally for more information.\\\\n3. View the diagnostic events to check status of container, it may help you to debug the issue. {\\\\\\\"restartCount\\\\\\\":4,\\\\\\\"currentState\\\\\\\":{\\\\\\\"state\\\\\\\":\\\\\\\"Waiting\\\\\\\",\\\\\\\"startTime\\\\\\\":null,\\\\\\\"exitCode\\\\\\\":null,\\\\\\\"finishTime\\\\\\\":null,\\\\\\\"detailStatus\\\\\\\":\\\\\\\"CrashLoopBackOff: Back-off restarting failed\\\\\\\"},\\\\\\\"previousState\\\\\\\":{\\\\\\\"state\\\\\\\":\\\\\\\"Terminated\\\\\\\",\\\\\\\"startTime\\\\\\\":\\\\\\\"2020-11-14T16:39:16.837Z\\\\\\\",\\\\\\\"exitCode\\\\\\\":111,\\\\\\\"finishTime\\\\\\\":\\\\\\\"2020-11-14T16:39:25.67Z\\\\\\\",\\\\\\\"detailStatus\\\\\\\":\\\\\\\"Error\\\\\\\"},\\\\\\\"events\\\\\\\":[{\\\\\\\"count\\\\\\\":1,\\\\\\\"firstTimestamp\\\\\\\":\\\\\\\"2020-11-14T16:33:32Z\\\\\\\",\\\\\\\"lastTimestamp\\\\\\\":\\\\\\\"2020-11-14T16:33:32Z\\\\\\\",\\\\\\\"name\\\\\\\":\\\\\\\"Pulling\\\\\\\",\\\\\\\"message\\\\\\\":\\\\\\\"pulling image \\\\\\\\\\\\\\\"017e24476d9f42f498c63586fb784fde.azurecr.io/azureml/azureml_13566eba4a2d7f1d17c875fa7545ed0f:latest\\\\\\\\\\\\\\\"\\\\\\\",\\\\\\\"type\\\\\\\":\\\\\\\"Normal\\\\\\\"},{\\\\\\\"count\\\\\\\":1,\\\\\\\"firstTimestamp\\\\\\\":\\\\\\\"2020-11-14T16:35:50Z\\\\\\\",\\\\\\\"lastTimestamp\\\\\\\":\\\\\\\"2020-11-14T16:35:50Z\\\\\\\",\\\\\\\"name\\\\\\\":\\\\\\\"Pulled\\\\\\\",\\\\\\\"message\\\\\\\":\\\\\\\"Successfully pulled image \\\\\\\\\\\\\\\"017e24476d9f42f498c63586fb784fde.azurecr.io/azureml/azureml_13566eba4a2d7f1d17c875fa7545ed0f:latest\\\\\\\\\\\\\\\"\\\\\\\",\\\\\\\"type\\\\\\\":\\\\\\\"Normal\\\\\\\"},{\\\\\\\"count\\\\\\\":5,\\\\\\\"firstTimestamp\\\\\\\":\\\\\\\"2020-11-14T16:36:13Z\\\\\\\",\\\\\\\"lastTimestamp\\\\\\\":\\\\\\\"2020-11-14T16:39:16Z\\\\\\\",\\\\\\\"name\\\\\\\":\\\\\\\"Started\\\\\\\",\\\\\\\"message\\\\\\\":\\\\\\\"Started container\\\\\\\",\\\\\\\"type\\\\\\\":\\\\\\\"Normal\\\\\\\"},{\\\\\\\"count\\\\\\\":5,\\\\\\\"firstTimestamp\\\\\\\":\\\\\\\"2020-11-14T16:36:43Z\\\\\\\",\\\\\\\"lastTimestamp\\\\\\\":\\\\\\\"2020-11-14T16:39:25Z\\\\\\\",\\\\\\\"name\\\\\\\":\\\\\\\"Killing\\\\\\\",\\\\\\\"message\\\\\\\":\\\\\\\"Killing container with id 7a029e687c455a5f657f3e2dff3045fbc648677022acd09dbaf48325861092cb.\\\\\\\",\\\\\\\"type\\\\\\\":\\\\\\\"Normal\\\\\\\"}]}\\\"\\n    }\\n  ]\\n}\"\n    }\n}"
     ]
    }
   ],
   "source": [
    "#Set up the inference_config\n",
    "inference_config = InferenceConfig(entry_script='score.py', environment=env)\n",
    "#Set up the deployment_config as webservice\n",
    "aci_config = AciWebservice.deploy_configuration(cpu_cores=1, memory_gb=1)\n",
    "\n",
    "#Deploy the model\n",
    "service = Model.deploy(\n",
    "    workspace = ws,\n",
    "    name = \"mywebservice2\",\n",
    "    models = [automl_model],\n",
    "    inference_config = inference_config,\n",
    "    deployment_config = aci_config, overwrite=True)\n",
    "\n",
    "#wait until deployment is complete\n",
    "service.wait_for_deployment(show_output = True)"
   ]
  },
  {
   "cell_type": "code",
   "execution_count": 115,
   "metadata": {},
   "outputs": [
    {
     "name": "stdout",
     "output_type": "stream",
     "text": [
      "2020-11-14T16:40:39.9156389Z stdout F 2020-11-14T16:40:39,896504300+00:00 - gunicorn/run \n",
      "2020-11-14T16:40:39.9226233Z stdout F 2020-11-14T16:40:39,904211400+00:00 - rsyslog/run \n",
      "2020-11-14T16:40:39.9373732Z stdout F 2020-11-14T16:40:39,912266100+00:00 - iot-server/run \n",
      "2020-11-14T16:40:39.9374975Z stdout F 2020-11-14T16:40:39,911051600+00:00 - nginx/run \n",
      "2020-11-14T16:40:39.944035Z stderr F /usr/sbin/nginx: /azureml-envs/azureml_3a737fba763fc576399cf0fee1b7331a/lib/libcrypto.so.1.0.0: no version information available (required by /usr/sbin/nginx)\n",
      "2020-11-14T16:40:39.9466149Z stderr F /usr/sbin/nginx: /azureml-envs/azureml_3a737fba763fc576399cf0fee1b7331a/lib/libcrypto.so.1.0.0: no version information available (required by /usr/sbin/nginx)\n",
      "2020-11-14T16:40:39.9526158Z stderr F /usr/sbin/nginx: /azureml-envs/azureml_3a737fba763fc576399cf0fee1b7331a/lib/libssl.so.1.0.0: no version information available (required by /usr/sbin/nginx)\n",
      "2020-11-14T16:40:39.9526158Z stderr F /usr/sbin/nginx: /azureml-envs/azureml_3a737fba763fc576399cf0fee1b7331a/lib/libssl.so.1.0.0: no version information available (required by /usr/sbin/nginx)\n",
      "2020-11-14T16:40:39.9526158Z stderr F /usr/sbin/nginx: /azureml-envs/azureml_3a737fba763fc576399cf0fee1b7331a/lib/libssl.so.1.0.0: no version information available (required by /usr/sbin/nginx)\n",
      "2020-11-14T16:40:40.207247Z stdout F EdgeHubConnectionString and IOTEDGE_IOTHUBHOSTNAME are not set. Exiting...\n",
      "2020-11-14T16:40:40.2182889Z stdout F 2020-11-14T16:40:40,197979700+00:00 - iot-server/finish 1 0\n",
      "2020-11-14T16:40:40.2222818Z stdout F 2020-11-14T16:40:40,203381900+00:00 - Exit code 1 is normal. Not restarting iot-server.\n",
      "2020-11-14T16:40:40.5072061Z stdout F Starting gunicorn 19.9.0\n",
      "2020-11-14T16:40:40.5082059Z stdout F Listening at: http://127.0.0.1:31311 (400)\n",
      "2020-11-14T16:40:40.5082059Z stdout F Using worker: sync\n",
      "2020-11-14T16:40:40.511175Z stdout F worker timeout is set to 300\n",
      "2020-11-14T16:40:40.5132011Z stdout F Booting worker with pid: 429\n",
      "2020-11-14T16:40:41.1532344Z stdout F SPARK_HOME not set. Skipping PySpark Initialization.\n",
      "2020-11-14T16:40:41.1532344Z stdout F Initializing logger\n",
      "2020-11-14T16:40:41.1532344Z stdout F 2020-11-14 16:40:41,134 | root | INFO | Starting up app insights client\n",
      "2020-11-14T16:40:41.1532344Z stdout F Starting up app insights client\n",
      "2020-11-14T16:40:41.1532344Z stdout F 2020-11-14 16:40:41,134 | root | INFO | Starting up request id generator\n",
      "2020-11-14T16:40:41.1532344Z stdout F Starting up request id generator\n",
      "2020-11-14T16:40:41.1532344Z stdout F 2020-11-14 16:40:41,134 | root | INFO | Starting up app insight hooks\n",
      "2020-11-14T16:40:41.1532344Z stdout F Starting up app insight hooks\n",
      "2020-11-14T16:40:41.1542443Z stdout F 2020-11-14 16:40:41,135 | root | INFO | Invoking user's init function\n",
      "2020-11-14T16:40:41.1542443Z stdout F Invoking user's init function\n",
      "\n"
     ]
    }
   ],
   "source": [
    "print(service.get_logs())"
   ]
  },
  {
   "cell_type": "code",
   "execution_count": null,
   "metadata": {},
   "outputs": [],
   "source": []
  },
  {
   "cell_type": "code",
   "execution_count": null,
   "metadata": {},
   "outputs": [],
   "source": [
    "#Print the state\n",
    "print(service.state)\n",
    "\n",
    "#Print the scoring uri of the service\n",
    "print(service.scoring_uri)\n",
    "\n",
    "#Print the primary authentication key for the service\n",
    "primary, secondary = service.get_keys()\n",
    "print(primary)"
   ]
  },
  {
   "cell_type": "code",
   "execution_count": null,
   "metadata": {},
   "outputs": [],
   "source": [
    "     "
   ]
  },
  {
   "cell_type": "code",
   "execution_count": null,
   "metadata": {},
   "outputs": [],
   "source": []
  },
  {
   "cell_type": "code",
   "execution_count": null,
   "metadata": {},
   "outputs": [
    {
     "name": "stdout",
     "output_type": "stream",
     "text": [
      "Downloading model auto-ml:4 to /tmp/azureml_qxgp635i/auto-ml/4\n",
      "Generating Docker build context.\n",
      "2020/11/14 16:49:39 Downloading source code...\n",
      "2020/11/14 16:49:41 Finished downloading source code\n",
      "2020/11/14 16:49:42 Creating Docker network: acb_default_network, driver: 'bridge'\n",
      "2020/11/14 16:49:42 Successfully set up Docker network: acb_default_network\n",
      "2020/11/14 16:49:42 Setting up Docker configuration...\n",
      "2020/11/14 16:49:43 Successfully set up Docker configuration\n",
      "2020/11/14 16:49:43 Logging in to registry: 017e24476d9f42f498c63586fb784fde.azurecr.io\n",
      "2020/11/14 16:49:44 Successfully logged into 017e24476d9f42f498c63586fb784fde.azurecr.io\n",
      "2020/11/14 16:49:44 Executing step ID: acb_step_0. Timeout(sec): 5400, Working directory: '', Network: 'acb_default_network'\n",
      "2020/11/14 16:49:44 Scanning for dependencies...\n",
      "2020/11/14 16:49:44 Successfully scanned dependencies\n",
      "2020/11/14 16:49:44 Launching container with name: acb_step_0\n",
      "Sending build context to Docker daemon     64kB\n",
      "Step 1/15 : FROM mcr.microsoft.com/azureml/intelmpi2018.3-ubuntu16.04:20200821.v1@sha256:8cee6f674276dddb23068d2710da7f7f95b119412cc482675ac79ba45a4acf99\n",
      "sha256:8cee6f674276dddb23068d2710da7f7f95b119412cc482675ac79ba45a4acf99: Pulling from azureml/intelmpi2018.3-ubuntu16.04\n",
      "Digest: sha256:8cee6f674276dddb23068d2710da7f7f95b119412cc482675ac79ba45a4acf99\n",
      "Status: Downloaded newer image for mcr.microsoft.com/azureml/intelmpi2018.3-ubuntu16.04:20200821.v1@sha256:8cee6f674276dddb23068d2710da7f7f95b119412cc482675ac79ba45a4acf99\n",
      " ---> 287916b809d9\n",
      "Step 2/15 : USER root\n",
      " ---> Running in 74765856c4fe\n",
      "Removing intermediate container 74765856c4fe\n",
      " ---> 2518f3400c5c\n",
      "Step 3/15 : RUN mkdir -p $HOME/.cache\n",
      " ---> Running in 0c309e28ce50\n",
      "Removing intermediate container 0c309e28ce50\n",
      " ---> f59e0bc3662f\n",
      "Step 4/15 : WORKDIR /\n",
      " ---> Running in 9090db2b864f\n",
      "Removing intermediate container 9090db2b864f\n",
      " ---> 33112edfbc91\n",
      "Step 5/15 : COPY azureml-environment-setup/99brokenproxy /etc/apt/apt.conf.d/\n",
      " ---> 0ba2c7af824e\n",
      "Step 6/15 : RUN if dpkg --compare-versions `conda --version | grep -oE '[^ ]+$'` lt 4.4.11; then conda install conda==4.4.11; fi\n",
      " ---> Running in 9e2c3768bb8f\n",
      "Removing intermediate container 9e2c3768bb8f\n",
      " ---> d4f6702dc984\n",
      "Step 7/15 : COPY azureml-environment-setup/mutated_conda_dependencies.yml azureml-environment-setup/mutated_conda_dependencies.yml\n"
     ]
    }
   ],
   "source": [
    "#Local Deployment\n",
    "from azureml.core.webservice import LocalWebservice\n",
    "local_config = LocalWebservice.deploy_configuration(port=9000)\n",
    "inference_config = InferenceConfig(entry_script='score.py', environment=env)\n",
    "local_service = Model.deploy(ws, \"test\", [automl_model], inference_config, local_config)\n",
    "local_service.wait_for_deployment(show_output=True)\n"
   ]
  },
  {
   "cell_type": "code",
   "execution_count": 83,
   "metadata": {},
   "outputs": [
    {
     "name": "stdout",
     "output_type": "stream",
     "text": [
      "2020-11-14T15:38:01,564252436+00:00 - gunicorn/run \n",
      "2020-11-14T15:38:01,566125851+00:00 - rsyslog/run \n",
      "2020-11-14T15:38:01,566883758+00:00 - iot-server/run \n",
      "2020-11-14T15:38:01,569551579+00:00 - nginx/run \n",
      "/usr/sbin/nginx: /azureml-envs/azureml_8fd3f9f199f53e0d69da685b735ef9f1/lib/libcrypto.so.1.0.0: no version information available (required by /usr/sbin/nginx)\n",
      "/usr/sbin/nginx: /azureml-envs/azureml_8fd3f9f199f53e0d69da685b735ef9f1/lib/libcrypto.so.1.0.0: no version information available (required by /usr/sbin/nginx)\n",
      "/usr/sbin/nginx: /azureml-envs/azureml_8fd3f9f199f53e0d69da685b735ef9f1/lib/libssl.so.1.0.0: no version information available (required by /usr/sbin/nginx)\n",
      "/usr/sbin/nginx: /azureml-envs/azureml_8fd3f9f199f53e0d69da685b735ef9f1/lib/libssl.so.1.0.0: no version information available (required by /usr/sbin/nginx)\n",
      "/usr/sbin/nginx: /azureml-envs/azureml_8fd3f9f199f53e0d69da685b735ef9f1/lib/libssl.so.1.0.0: no version information available (required by /usr/sbin/nginx)\n",
      "rsyslogd: /azureml-envs/azureml_8fd3f9f199f53e0d69da685b735ef9f1/lib/libuuid.so.1: no version information available (required by rsyslogd)\n",
      "EdgeHubConnectionString and IOTEDGE_IOTHUBHOSTNAME are not set. Exiting...\n",
      "2020-11-14T15:38:01,647503916+00:00 - iot-server/finish 1 0\n",
      "2020-11-14T15:38:01,648821027+00:00 - Exit code 1 is normal. Not restarting iot-server.\n",
      "Starting gunicorn 19.9.0\n",
      "Listening at: http://127.0.0.1:31311 (10)\n",
      "Using worker: sync\n",
      "worker timeout is set to 300\n",
      "Booting worker with pid: 41\n",
      "SPARK_HOME not set. Skipping PySpark Initialization.\n",
      "Initializing logger\n",
      "2020-11-14 15:38:02,155 | root | INFO | Starting up app insights client\n",
      "Starting up app insights client\n",
      "2020-11-14 15:38:02,155 | root | INFO | Starting up request id generator\n",
      "Starting up request id generator\n",
      "2020-11-14 15:38:02,155 | root | INFO | Starting up app insight hooks\n",
      "Starting up app insight hooks\n",
      "2020-11-14 15:38:02,155 | root | INFO | Invoking user's init function\n",
      "Invoking user's init function\n",
      "2020-11-14 15:38:04,125 | root | ERROR | User's init function failed\n",
      "User's init function failed\n",
      "2020-11-14 15:38:04,126 | root | ERROR | Encountered Exception Traceback (most recent call last):\n",
      "  File \"/var/azureml-server/aml_blueprint.py\", line 177, in register\n",
      "    main.init()\n",
      "  File \"/var/azureml-app/score.py\", line 24, in init\n",
      "    model = joblib.load(model_path)\n",
      "  File \"/azureml-envs/azureml_8fd3f9f199f53e0d69da685b735ef9f1/lib/python3.6/site-packages/joblib/numpy_pickle.py\", line 605, in load\n",
      "    obj = _unpickle(fobj, filename, mmap_mode)\n",
      "  File \"/azureml-envs/azureml_8fd3f9f199f53e0d69da685b735ef9f1/lib/python3.6/site-packages/joblib/numpy_pickle.py\", line 529, in _unpickle\n",
      "    obj = unpickler.load()\n",
      "  File \"/azureml-envs/azureml_8fd3f9f199f53e0d69da685b735ef9f1/lib/python3.6/pickle.py\", line 1050, in load\n",
      "    dispatch[key[0]](self)\n",
      "  File \"/azureml-envs/azureml_8fd3f9f199f53e0d69da685b735ef9f1/lib/python3.6/pickle.py\", line 1338, in load_global\n",
      "    klass = self.find_class(module, name)\n",
      "  File \"/azureml-envs/azureml_8fd3f9f199f53e0d69da685b735ef9f1/lib/python3.6/pickle.py\", line 1388, in find_class\n",
      "    __import__(module, level=0)\n",
      "ModuleNotFoundError: No module named 'xgboost'\n",
      "\n",
      "Encountered Exception Traceback (most recent call last):\n",
      "  File \"/var/azureml-server/aml_blueprint.py\", line 177, in register\n",
      "    main.init()\n",
      "  File \"/var/azureml-app/score.py\", line 24, in init\n",
      "    model = joblib.load(model_path)\n",
      "  File \"/azureml-envs/azureml_8fd3f9f199f53e0d69da685b735ef9f1/lib/python3.6/site-packages/joblib/numpy_pickle.py\", line 605, in load\n",
      "    obj = _unpickle(fobj, filename, mmap_mode)\n",
      "  File \"/azureml-envs/azureml_8fd3f9f199f53e0d69da685b735ef9f1/lib/python3.6/site-packages/joblib/numpy_pickle.py\", line 529, in _unpickle\n",
      "    obj = unpickler.load()\n",
      "  File \"/azureml-envs/azureml_8fd3f9f199f53e0d69da685b735ef9f1/lib/python3.6/pickle.py\", line 1050, in load\n",
      "    dispatch[key[0]](self)\n",
      "  File \"/azureml-envs/azureml_8fd3f9f199f53e0d69da685b735ef9f1/lib/python3.6/pickle.py\", line 1338, in load_global\n",
      "    klass = self.find_class(module, name)\n",
      "  File \"/azureml-envs/azureml_8fd3f9f199f53e0d69da685b735ef9f1/lib/python3.6/pickle.py\", line 1388, in find_class\n",
      "    __import__(module, level=0)\n",
      "ModuleNotFoundError: No module named 'xgboost'\n",
      "\n",
      "Worker exiting (pid: 41)\n",
      "Shutting down: Master\n",
      "Reason: Worker failed to boot.\n",
      "2020-11-14T15:38:04,986719073+00:00 - gunicorn/finish 3 0\n",
      "2020-11-14T15:38:04,988057384+00:00 - Exit code 3 is not normal. Killing image.\n",
      "\n"
     ]
    }
   ],
   "source": [
    "print(local_service.get_logs())"
   ]
  },
  {
   "cell_type": "code",
   "execution_count": 40,
   "metadata": {},
   "outputs": [
    {
     "ename": "TypeError",
     "evalue": "expected str, bytes or os.PathLike object, not NoneType",
     "output_type": "error",
     "traceback": [
      "\u001b[0;31m---------------------------------------------------------------------------\u001b[0m",
      "\u001b[0;31mTypeError\u001b[0m                                 Traceback (most recent call last)",
      "\u001b[0;32m<ipython-input-40-c4a700a57c24>\u001b[0m in \u001b[0;36m<module>\u001b[0;34m\u001b[0m\n\u001b[0;32m----> 1\u001b[0;31m \u001b[0mmodel_path\u001b[0m \u001b[0;34m=\u001b[0m \u001b[0mos\u001b[0m\u001b[0;34m.\u001b[0m\u001b[0mpath\u001b[0m\u001b[0;34m.\u001b[0m\u001b[0mjoin\u001b[0m\u001b[0;34m(\u001b[0m\u001b[0mos\u001b[0m\u001b[0;34m.\u001b[0m\u001b[0mgetenv\u001b[0m\u001b[0;34m(\u001b[0m\u001b[0;34m'AZUREML_MODEL_DIR'\u001b[0m\u001b[0;34m)\u001b[0m\u001b[0;34m,\u001b[0m \u001b[0;34m'automlmodel.pkl'\u001b[0m\u001b[0;34m)\u001b[0m\u001b[0;34m\u001b[0m\u001b[0;34m\u001b[0m\u001b[0m\n\u001b[0m",
      "\u001b[0;32m/anaconda/envs/azureml_py36/lib/python3.6/posixpath.py\u001b[0m in \u001b[0;36mjoin\u001b[0;34m(a, *p)\u001b[0m\n\u001b[1;32m     78\u001b[0m     \u001b[0mwill\u001b[0m \u001b[0mbe\u001b[0m \u001b[0mdiscarded\u001b[0m\u001b[0;34m.\u001b[0m  \u001b[0mAn\u001b[0m \u001b[0mempty\u001b[0m \u001b[0mlast\u001b[0m \u001b[0mpart\u001b[0m \u001b[0mwill\u001b[0m \u001b[0mresult\u001b[0m \u001b[0;32min\u001b[0m \u001b[0ma\u001b[0m \u001b[0mpath\u001b[0m \u001b[0mthat\u001b[0m\u001b[0;34m\u001b[0m\u001b[0;34m\u001b[0m\u001b[0m\n\u001b[1;32m     79\u001b[0m     ends with a separator.\"\"\"\n\u001b[0;32m---> 80\u001b[0;31m     \u001b[0ma\u001b[0m \u001b[0;34m=\u001b[0m \u001b[0mos\u001b[0m\u001b[0;34m.\u001b[0m\u001b[0mfspath\u001b[0m\u001b[0;34m(\u001b[0m\u001b[0ma\u001b[0m\u001b[0;34m)\u001b[0m\u001b[0;34m\u001b[0m\u001b[0;34m\u001b[0m\u001b[0m\n\u001b[0m\u001b[1;32m     81\u001b[0m     \u001b[0msep\u001b[0m \u001b[0;34m=\u001b[0m \u001b[0m_get_sep\u001b[0m\u001b[0;34m(\u001b[0m\u001b[0ma\u001b[0m\u001b[0;34m)\u001b[0m\u001b[0;34m\u001b[0m\u001b[0;34m\u001b[0m\u001b[0m\n\u001b[1;32m     82\u001b[0m     \u001b[0mpath\u001b[0m \u001b[0;34m=\u001b[0m \u001b[0ma\u001b[0m\u001b[0;34m\u001b[0m\u001b[0;34m\u001b[0m\u001b[0m\n",
      "\u001b[0;31mTypeError\u001b[0m: expected str, bytes or os.PathLike object, not NoneType"
     ]
    }
   ],
   "source": []
  },
  {
   "cell_type": "markdown",
   "metadata": {
    "collapsed": true,
    "gather": {
     "logged": 1598431657736
    },
    "jupyter": {
     "outputs_hidden": false,
     "source_hidden": false
    },
    "nteract": {
     "transient": {
      "deleting": false
     }
    }
   },
   "source": [
    "TODO: In the cell below, send a request to the web service you deployed to test it."
   ]
  },
  {
   "cell_type": "code",
   "execution_count": null,
   "metadata": {
    "gather": {
     "logged": 1598432707604
    },
    "jupyter": {
     "outputs_hidden": false,
     "source_hidden": false
    },
    "nteract": {
     "transient": {
      "deleting": false
     }
    }
   },
   "outputs": [],
   "source": [
    "# URL for the web service\n",
    "scoring_uri = service.scoring_uri\n",
    "# If the service is authenticated, set the key or token\n",
    "key = primary\n",
    "\n",
    "# Two sets of data to score, so we get two results back\n",
    "data = {\"data\":\n",
    "        [\n",
    "            [\n",
    "            \"age\": 17\n",
    "            \"anaemia\": 1\n",
    "            \"creatinine_phosphokinase\": 452\n",
    "            \"diabetes\": 0\n",
    "            \"ejection_fraction\": 30\n",
    "            \"high_blood_pressure\": 1\n",
    "            \"platelets\": 263358.03\n",
    "            \"serum_creatinine\": 1.1\n",
    "            \"serum_sodium\": 137\n",
    "            \"sex\": 0\n",
    "            \"smoking\": 0\n",
    "            \"time\": 8\n",
    "            ],\n",
    "        }\n",
    "# Convert to JSON string\n",
    "input_data = json.dumps(data)\n",
    "\n",
    "# Set the content type\n",
    "headers = {'Content-Type': 'application/json'}\n",
    "# If authentication is enabled, set the authorization header\n",
    "headers['Authorization'] = f'Bearer {key}'\n",
    "\n",
    "# Make the request and display the response\n",
    "resp = requests.post(scoring_uri, input_data, headers=headers)\n",
    "print(resp.text)"
   ]
  },
  {
   "cell_type": "markdown",
   "metadata": {
    "collapsed": true,
    "gather": {
     "logged": 1598432765711
    },
    "jupyter": {
     "outputs_hidden": false,
     "source_hidden": false
    },
    "nteract": {
     "transient": {
      "deleting": false
     }
    }
   },
   "source": [
    "TODO: In the cell below, print the logs of the web service and delete the service"
   ]
  },
  {
   "cell_type": "code",
   "execution_count": null,
   "metadata": {
    "jupyter": {
     "outputs_hidden": false,
     "source_hidden": false
    },
    "nteract": {
     "transient": {
      "deleting": false
     }
    }
   },
   "outputs": [],
   "source": [
    "service.delete()\n",
    "\n",
    "from azureml.core.model import Model\n",
    "import logging\n",
    "logging.basicConfig(level=logging.DEBUG)\n",
    "print(Model.get_model_path(model_name='my-best-model'))"
   ]
  }
 ],
 "metadata": {
  "kernel_info": {
   "name": "python3-azureml"
  },
  "kernelspec": {
   "display_name": "Python 3",
   "language": "python",
   "name": "python3"
  },
  "language_info": {
   "codemirror_mode": {
    "name": "ipython",
    "version": 3
   },
   "file_extension": ".py",
   "mimetype": "text/x-python",
   "name": "python",
   "nbconvert_exporter": "python",
   "pygments_lexer": "ipython3",
   "version": "3.6.9"
  },
  "nteract": {
   "version": "nteract-front-end@1.0.0"
  }
 },
 "nbformat": 4,
 "nbformat_minor": 2
}
