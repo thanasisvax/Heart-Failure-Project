{
 "cells": [
  {
   "cell_type": "markdown",
   "metadata": {},
   "source": [
    "# Automated ML\n",
    "\n",
    "Import Dependencies. In the cell below, import all the dependencies that I will need to complete the project."
   ]
  },
  {
   "cell_type": "code",
   "execution_count": 1,
   "metadata": {
    "gather": {
     "logged": 1598423888013
    },
    "jupyter": {
     "outputs_hidden": false,
     "source_hidden": false
    },
    "nteract": {
     "transient": {
      "deleting": false
     }
    }
   },
   "outputs": [],
   "source": [
    "from azureml.core import Workspace, Experiment\n",
    "from azureml.core.compute import ComputeTarget, AmlCompute\n",
    "from azureml.core.compute_target import ComputeTargetException\n",
    "from azureml.widgets import RunDetails\n",
    "from azureml.train.hyperdrive.run import PrimaryMetricGoal\n",
    "import os\n",
    "import joblib\n",
    "from azureml.core.dataset import Dataset\n",
    "from azureml.train.automl import AutoMLConfig\n",
    "from azureml.core.model import Model\n",
    "from azureml.core.webservice import AciWebservice\n",
    "from azureml.core.environment import Environment\n",
    "from azureml.core.model import InferenceConfig\n",
    "import requests\n",
    "import json\n",
    "from azureml.core.conda_dependencies import CondaDependencies\n",
    "import sklearn\n",
    "from azureml.core.model import Model"
   ]
  },
  {
   "cell_type": "markdown",
   "metadata": {},
   "source": [
    "## Dataset\n",
    "\n",
    "### Overview\n",
    "\n",
    "I use the Heart-Failure Dataset from Kaggle and the task is to predict the mortality of the patients based on their clinical records. I create the workspace and experiment in the Azure ML studio. I check if the computer target already exists. If it does not then it creates one. Finally, I display the first rows of the Heart-Failure Dataset."
   ]
  },
  {
   "cell_type": "code",
   "execution_count": 2,
   "metadata": {
    "gather": {
     "logged": 1598423890461
    },
    "jupyter": {
     "outputs_hidden": false,
     "source_hidden": false
    },
    "nteract": {
     "transient": {
      "deleting": false
     }
    }
   },
   "outputs": [
    {
     "name": "stdout",
     "output_type": "stream",
     "text": [
      "Creating a new compute target...\n",
      "Creating\n",
      "Succeeded\n",
      "AmlCompute wait for completion finished\n",
      "\n",
      "Minimum number of nodes requested have been provisioned\n",
      "{'currentNodeCount': 0, 'targetNodeCount': 0, 'nodeStateCounts': {'preparingNodeCount': 0, 'runningNodeCount': 0, 'idleNodeCount': 0, 'unusableNodeCount': 0, 'leavingNodeCount': 0, 'preemptedNodeCount': 0}, 'allocationState': 'Steady', 'allocationStateTransitionTime': '2020-11-15T08:52:31.928000+00:00', 'errors': None, 'creationTime': '2020-11-15T08:52:27.608019+00:00', 'modifiedTime': '2020-11-15T08:52:43.881426+00:00', 'provisioningState': 'Succeeded', 'provisioningStateTransitionTime': None, 'scaleSettings': {'minNodeCount': 0, 'maxNodeCount': 4, 'nodeIdleTimeBeforeScaleDown': 'PT120S'}, 'vmPriority': 'Dedicated', 'vmSize': 'STANDARD_DS13_V2'}\n"
     ]
    }
   ],
   "source": [
    "#Create a workspace and an experiment in Azureml\n",
    "ws = Workspace.from_config()\n",
    "experiment_name = 'Heart-Failure-AutoMlProject'\n",
    "project_folder = './Heart-Failure-project'\n",
    "\n",
    "experiment=Experiment(ws, experiment_name)\n",
    "\n",
    "#Check if the cluster exists if it does not then create one.\n",
    "# choose a name for your cluster\n",
    "cluster_name = \"cpu-cluster\"\n",
    "\n",
    "try:\n",
    "    compute_target = ComputeTarget(workspace=ws, name=cluster_name)\n",
    "    print('Found existing compute target')\n",
    "except ComputeTargetException:\n",
    "    print('Creating a new compute target...')\n",
    "    compute_config = AmlCompute.provisioning_configuration(vm_size='STANDARD_DS13_V2', \n",
    "                                                           max_nodes=4)\n",
    "\n",
    "    # create the cluster\n",
    "    compute_target = ComputeTarget.create(ws, cluster_name, compute_config)\n",
    "\n",
    "    # can poll for a minimum number of nodes and for a specific timeout. \n",
    "    # if no min node count is provided it uses the scale settings for the cluster\n",
    "    compute_target.wait_for_completion(show_output=True, min_node_count=None, timeout_in_minutes=20)\n",
    "\n",
    "# use get_status() to get a detailed status for the current cluster. \n",
    "print(compute_target.get_status().serialize())"
   ]
  },
  {
   "cell_type": "code",
   "execution_count": 3,
   "metadata": {},
   "outputs": [],
   "source": [
    "# Get Heart Failure Dataset and add it in pandas\n",
    "ds = Dataset.get_by_name(ws, name='Heart-Failure')"
   ]
  },
  {
   "cell_type": "code",
   "execution_count": 4,
   "metadata": {},
   "outputs": [
    {
     "data": {
      "text/html": [
       "<div>\n",
       "<style scoped>\n",
       "    .dataframe tbody tr th:only-of-type {\n",
       "        vertical-align: middle;\n",
       "    }\n",
       "\n",
       "    .dataframe tbody tr th {\n",
       "        vertical-align: top;\n",
       "    }\n",
       "\n",
       "    .dataframe thead th {\n",
       "        text-align: right;\n",
       "    }\n",
       "</style>\n",
       "<table border=\"1\" class=\"dataframe\">\n",
       "  <thead>\n",
       "    <tr style=\"text-align: right;\">\n",
       "      <th></th>\n",
       "      <th>age</th>\n",
       "      <th>anaemia</th>\n",
       "      <th>creatinine_phosphokinase</th>\n",
       "      <th>diabetes</th>\n",
       "      <th>ejection_fraction</th>\n",
       "      <th>high_blood_pressure</th>\n",
       "      <th>platelets</th>\n",
       "      <th>serum_creatinine</th>\n",
       "      <th>serum_sodium</th>\n",
       "      <th>sex</th>\n",
       "      <th>smoking</th>\n",
       "      <th>time</th>\n",
       "      <th>DEATH_EVENT</th>\n",
       "    </tr>\n",
       "  </thead>\n",
       "  <tbody>\n",
       "    <tr>\n",
       "      <th>0</th>\n",
       "      <td>75.0</td>\n",
       "      <td>0</td>\n",
       "      <td>582</td>\n",
       "      <td>0</td>\n",
       "      <td>20</td>\n",
       "      <td>1</td>\n",
       "      <td>265000.00</td>\n",
       "      <td>1.9</td>\n",
       "      <td>130</td>\n",
       "      <td>1</td>\n",
       "      <td>0</td>\n",
       "      <td>4</td>\n",
       "      <td>1</td>\n",
       "    </tr>\n",
       "    <tr>\n",
       "      <th>1</th>\n",
       "      <td>55.0</td>\n",
       "      <td>0</td>\n",
       "      <td>7861</td>\n",
       "      <td>0</td>\n",
       "      <td>38</td>\n",
       "      <td>0</td>\n",
       "      <td>263358.03</td>\n",
       "      <td>1.1</td>\n",
       "      <td>136</td>\n",
       "      <td>1</td>\n",
       "      <td>0</td>\n",
       "      <td>6</td>\n",
       "      <td>1</td>\n",
       "    </tr>\n",
       "    <tr>\n",
       "      <th>2</th>\n",
       "      <td>65.0</td>\n",
       "      <td>0</td>\n",
       "      <td>146</td>\n",
       "      <td>0</td>\n",
       "      <td>20</td>\n",
       "      <td>0</td>\n",
       "      <td>162000.00</td>\n",
       "      <td>1.3</td>\n",
       "      <td>129</td>\n",
       "      <td>1</td>\n",
       "      <td>1</td>\n",
       "      <td>7</td>\n",
       "      <td>1</td>\n",
       "    </tr>\n",
       "    <tr>\n",
       "      <th>3</th>\n",
       "      <td>50.0</td>\n",
       "      <td>1</td>\n",
       "      <td>111</td>\n",
       "      <td>0</td>\n",
       "      <td>20</td>\n",
       "      <td>0</td>\n",
       "      <td>210000.00</td>\n",
       "      <td>1.9</td>\n",
       "      <td>137</td>\n",
       "      <td>1</td>\n",
       "      <td>0</td>\n",
       "      <td>7</td>\n",
       "      <td>1</td>\n",
       "    </tr>\n",
       "    <tr>\n",
       "      <th>4</th>\n",
       "      <td>65.0</td>\n",
       "      <td>1</td>\n",
       "      <td>160</td>\n",
       "      <td>1</td>\n",
       "      <td>20</td>\n",
       "      <td>0</td>\n",
       "      <td>327000.00</td>\n",
       "      <td>2.7</td>\n",
       "      <td>116</td>\n",
       "      <td>0</td>\n",
       "      <td>0</td>\n",
       "      <td>8</td>\n",
       "      <td>1</td>\n",
       "    </tr>\n",
       "  </tbody>\n",
       "</table>\n",
       "</div>"
      ],
      "text/plain": [
       "    age  anaemia  creatinine_phosphokinase  diabetes  ejection_fraction  \\\n",
       "0  75.0        0                       582         0                 20   \n",
       "1  55.0        0                      7861         0                 38   \n",
       "2  65.0        0                       146         0                 20   \n",
       "3  50.0        1                       111         0                 20   \n",
       "4  65.0        1                       160         1                 20   \n",
       "\n",
       "   high_blood_pressure  platelets  serum_creatinine  serum_sodium  sex  \\\n",
       "0                    1  265000.00               1.9           130    1   \n",
       "1                    0  263358.03               1.1           136    1   \n",
       "2                    0  162000.00               1.3           129    1   \n",
       "3                    0  210000.00               1.9           137    1   \n",
       "4                    0  327000.00               2.7           116    0   \n",
       "\n",
       "   smoking  time  DEATH_EVENT  \n",
       "0        0     4            1  \n",
       "1        0     6            1  \n",
       "2        1     7            1  \n",
       "3        0     7            1  \n",
       "4        0     8            1  "
      ]
     },
     "execution_count": 4,
     "metadata": {},
     "output_type": "execute_result"
    }
   ],
   "source": [
    "#Review the first 5 rows in the dataset\n",
    "ds.take(5).to_pandas_dataframe()"
   ]
  },
  {
   "cell_type": "code",
   "execution_count": 5,
   "metadata": {},
   "outputs": [],
   "source": [
    "#Split Dataset to Training and Testing Datasets\n",
    "training_data, test_data = ds.random_split(percentage=0.8, seed=223)"
   ]
  },
  {
   "cell_type": "markdown",
   "metadata": {},
   "source": [
    "## AutoML Configuration\n",
    "It is used an AutoML for the classification problem using the Heart Failure Dataset. The AutoML run will look for the best model in relation to the accuracy. The target feature is the \"DEATH_EVENT\". The experiment timeout is 30 mins and the maximum number of iterations which are executed in parallel are 5. "
   ]
  },
  {
   "cell_type": "code",
   "execution_count": 6,
   "metadata": {
    "gather": {
     "logged": 1598429217746
    },
    "jupyter": {
     "outputs_hidden": false,
     "source_hidden": false
    },
    "nteract": {
     "transient": {
      "deleting": false
     }
    }
   },
   "outputs": [],
   "source": [
    "# AutoML settings\n",
    "automl_settings = {\n",
    "    \"experiment_timeout_minutes\": 30,\n",
    "    \"max_concurrent_iterations\": 5,\n",
    "    \"primary_metric\" : 'accuracy'\n",
    "}\n",
    "\n",
    "# AutoML config\n",
    "automl_config = AutoMLConfig(compute_target=compute_target,\n",
    "                             task = \"classification\",\n",
    "                             training_data=training_data,\n",
    "                             validation_data=test_data,\n",
    "                             label_column_name=\"DEATH_EVENT\",   \n",
    "                             path = project_folder,\n",
    "                             enable_early_stopping= True,\n",
    "                             featurization= 'auto',\n",
    "                             debug_log = \"automl_errors.log\",\n",
    "                             **automl_settings\n",
    "                            )"
   ]
  },
  {
   "cell_type": "code",
   "execution_count": 7,
   "metadata": {
    "gather": {
     "logged": 1598431107951
    },
    "jupyter": {
     "outputs_hidden": false,
     "source_hidden": false
    },
    "nteract": {
     "transient": {
      "deleting": false
     }
    }
   },
   "outputs": [
    {
     "name": "stdout",
     "output_type": "stream",
     "text": [
      "Running on remote.\n"
     ]
    }
   ],
   "source": [
    "# Submit experiment\n",
    "Automl_run = experiment.submit(automl_config)"
   ]
  },
  {
   "cell_type": "markdown",
   "metadata": {},
   "source": [
    "## Run Details\n",
    "\n",
    "`RunDetails` widget is used to show the different experiments."
   ]
  },
  {
   "cell_type": "code",
   "execution_count": 8,
   "metadata": {
    "gather": {
     "logged": 1598431121770
    },
    "jupyter": {
     "outputs_hidden": false,
     "source_hidden": false
    },
    "nteract": {
     "transient": {
      "deleting": false
     }
    }
   },
   "outputs": [
    {
     "data": {
      "application/vnd.jupyter.widget-view+json": {
       "model_id": "41661cb344c24f24904fda497709f93e",
       "version_major": 2,
       "version_minor": 0
      },
      "text/plain": [
       "_AutoMLWidget(widget_settings={'childWidgetDisplay': 'popup', 'send_telemetry': False, 'log_level': 'INFO', 's…"
      ]
     },
     "metadata": {},
     "output_type": "display_data"
    },
    {
     "data": {
      "application/aml.mini.widget.v1": "{\"status\": \"Completed\", \"workbench_run_details_uri\": \"https://ml.azure.com/experiments/Heart-Failure-AutoMlProject/runs/AutoML_c543f296-e326-4356-b26f-f7be218a6366?wsid=/subscriptions/a7e82b92-bbed-4497-a8df-009b71b94f9c/resourcegroups/aml-quickstarts-126252/workspaces/quick-starts-ws-126252\", \"run_id\": \"AutoML_c543f296-e326-4356-b26f-f7be218a6366\", \"run_properties\": {\"run_id\": \"AutoML_c543f296-e326-4356-b26f-f7be218a6366\", \"created_utc\": \"2020-11-15T08:53:18.469707Z\", \"properties\": {\"num_iterations\": \"1000\", \"training_type\": \"TrainFull\", \"acquisition_function\": \"EI\", \"primary_metric\": \"accuracy\", \"train_split\": \"0\", \"acquisition_parameter\": \"0\", \"num_cross_validation\": null, \"target\": \"cpu-cluster\", \"AMLSettingsJsonString\": \"{\\\"path\\\":null,\\\"name\\\":\\\"Heart-Failure-AutoMlProject\\\",\\\"subscription_id\\\":\\\"a7e82b92-bbed-4497-a8df-009b71b94f9c\\\",\\\"resource_group\\\":\\\"aml-quickstarts-126252\\\",\\\"workspace_name\\\":\\\"quick-starts-ws-126252\\\",\\\"region\\\":\\\"southcentralus\\\",\\\"compute_target\\\":\\\"cpu-cluster\\\",\\\"spark_service\\\":null,\\\"azure_service\\\":\\\"remote\\\",\\\"_local_managed_run_id\\\":null,\\\"many_models\\\":false,\\\"pipeline_fetch_max_batch_size\\\":1,\\\"iterations\\\":1000,\\\"primary_metric\\\":\\\"accuracy\\\",\\\"task_type\\\":\\\"classification\\\",\\\"data_script\\\":null,\\\"validation_size\\\":0.0,\\\"n_cross_validations\\\":null,\\\"y_min\\\":null,\\\"y_max\\\":null,\\\"num_classes\\\":null,\\\"featurization\\\":\\\"auto\\\",\\\"_ignore_package_version_incompatibilities\\\":false,\\\"is_timeseries\\\":false,\\\"max_cores_per_iteration\\\":1,\\\"max_concurrent_iterations\\\":5,\\\"iteration_timeout_minutes\\\":null,\\\"mem_in_mb\\\":null,\\\"enforce_time_on_windows\\\":false,\\\"experiment_timeout_minutes\\\":30,\\\"experiment_exit_score\\\":null,\\\"whitelist_models\\\":null,\\\"blacklist_algos\\\":[\\\"TensorFlowLinearClassifier\\\",\\\"TensorFlowDNN\\\"],\\\"supported_models\\\":[\\\"MultinomialNaiveBayes\\\",\\\"XGBoostClassifier\\\",\\\"BernoulliNaiveBayes\\\",\\\"DecisionTree\\\",\\\"GradientBoosting\\\",\\\"RandomForest\\\",\\\"AveragedPerceptronClassifier\\\",\\\"SGD\\\",\\\"TensorFlowDNN\\\",\\\"TensorFlowLinearClassifier\\\",\\\"SVM\\\",\\\"LightGBM\\\",\\\"ExtremeRandomTrees\\\",\\\"LinearSVM\\\",\\\"KNN\\\",\\\"LogisticRegression\\\"],\\\"auto_blacklist\\\":true,\\\"blacklist_samples_reached\\\":false,\\\"exclude_nan_labels\\\":true,\\\"verbosity\\\":20,\\\"_debug_log\\\":\\\"azureml_automl.log\\\",\\\"show_warnings\\\":false,\\\"model_explainability\\\":true,\\\"service_url\\\":null,\\\"sdk_url\\\":null,\\\"sdk_packages\\\":null,\\\"enable_onnx_compatible_models\\\":false,\\\"enable_split_onnx_featurizer_estimator_models\\\":false,\\\"vm_type\\\":\\\"STANDARD_DS13_V2\\\",\\\"telemetry_verbosity\\\":20,\\\"send_telemetry\\\":true,\\\"enable_dnn\\\":false,\\\"scenario\\\":\\\"SDK-1.13.0\\\",\\\"environment_label\\\":null,\\\"force_text_dnn\\\":false,\\\"enable_feature_sweeping\\\":true,\\\"enable_early_stopping\\\":true,\\\"early_stopping_n_iters\\\":10,\\\"metrics\\\":null,\\\"enable_ensembling\\\":true,\\\"enable_stack_ensembling\\\":true,\\\"ensemble_iterations\\\":15,\\\"enable_tf\\\":false,\\\"enable_subsampling\\\":null,\\\"subsample_seed\\\":null,\\\"enable_nimbusml\\\":false,\\\"enable_streaming\\\":false,\\\"force_streaming\\\":false,\\\"track_child_runs\\\":true,\\\"allowed_private_models\\\":[],\\\"label_column_name\\\":\\\"DEATH_EVENT\\\",\\\"weight_column_name\\\":null,\\\"cv_split_column_names\\\":null,\\\"enable_local_managed\\\":false,\\\"cost_mode\\\":1,\\\"lag_length\\\":0,\\\"metric_operation\\\":\\\"maximize\\\",\\\"preprocess\\\":true}\", \"DataPrepJsonString\": \"{\\\\\\\"training_data\\\\\\\": \\\\\\\"{\\\\\\\\\\\\\\\"blocks\\\\\\\\\\\\\\\": [{\\\\\\\\\\\\\\\"id\\\\\\\\\\\\\\\": \\\\\\\\\\\\\\\"1733e8b5-f1e5-40c4-bd44-ffff937fe371\\\\\\\\\\\\\\\", \\\\\\\\\\\\\\\"type\\\\\\\\\\\\\\\": \\\\\\\\\\\\\\\"Microsoft.DPrep.GetDatastoreFilesBlock\\\\\\\\\\\\\\\", \\\\\\\\\\\\\\\"arguments\\\\\\\\\\\\\\\": {\\\\\\\\\\\\\\\"datastores\\\\\\\\\\\\\\\": [{\\\\\\\\\\\\\\\"datastoreName\\\\\\\\\\\\\\\": \\\\\\\\\\\\\\\"workspaceblobstore\\\\\\\\\\\\\\\", \\\\\\\\\\\\\\\"path\\\\\\\\\\\\\\\": \\\\\\\\\\\\\\\"UI/11-15-2020_085055_UTC/heart_failure_clinical_records_dataset.csv\\\\\\\\\\\\\\\", \\\\\\\\\\\\\\\"resourceGroup\\\\\\\\\\\\\\\": \\\\\\\\\\\\\\\"aml-quickstarts-126252\\\\\\\\\\\\\\\", \\\\\\\\\\\\\\\"subscription\\\\\\\\\\\\\\\": \\\\\\\\\\\\\\\"a7e82b92-bbed-4497-a8df-009b71b94f9c\\\\\\\\\\\\\\\", \\\\\\\\\\\\\\\"workspaceName\\\\\\\\\\\\\\\": \\\\\\\\\\\\\\\"quick-starts-ws-126252\\\\\\\\\\\\\\\"}]}, \\\\\\\\\\\\\\\"localData\\\\\\\\\\\\\\\": {}, \\\\\\\\\\\\\\\"isEnabled\\\\\\\\\\\\\\\": true, \\\\\\\\\\\\\\\"name\\\\\\\\\\\\\\\": null, \\\\\\\\\\\\\\\"annotation\\\\\\\\\\\\\\\": null}, {\\\\\\\\\\\\\\\"id\\\\\\\\\\\\\\\": \\\\\\\\\\\\\\\"fbe36e8f-d59f-402f-907c-3ece930b8d6c\\\\\\\\\\\\\\\", \\\\\\\\\\\\\\\"type\\\\\\\\\\\\\\\": \\\\\\\\\\\\\\\"Microsoft.DPrep.ParseDelimitedBlock\\\\\\\\\\\\\\\", \\\\\\\\\\\\\\\"arguments\\\\\\\\\\\\\\\": {\\\\\\\\\\\\\\\"columnHeadersMode\\\\\\\\\\\\\\\": 1, \\\\\\\\\\\\\\\"fileEncoding\\\\\\\\\\\\\\\": 0, \\\\\\\\\\\\\\\"handleQuotedLineBreaks\\\\\\\\\\\\\\\": false, \\\\\\\\\\\\\\\"preview\\\\\\\\\\\\\\\": false, \\\\\\\\\\\\\\\"separator\\\\\\\\\\\\\\\": \\\\\\\\\\\\\\\",\\\\\\\\\\\\\\\", \\\\\\\\\\\\\\\"skipRows\\\\\\\\\\\\\\\": 0, \\\\\\\\\\\\\\\"skipRowsMode\\\\\\\\\\\\\\\": 0}, \\\\\\\\\\\\\\\"localData\\\\\\\\\\\\\\\": {}, \\\\\\\\\\\\\\\"isEnabled\\\\\\\\\\\\\\\": true, \\\\\\\\\\\\\\\"name\\\\\\\\\\\\\\\": null, \\\\\\\\\\\\\\\"annotation\\\\\\\\\\\\\\\": null}, {\\\\\\\\\\\\\\\"id\\\\\\\\\\\\\\\": \\\\\\\\\\\\\\\"bc538e3c-fd0a-4607-a98d-b3074d708304\\\\\\\\\\\\\\\", \\\\\\\\\\\\\\\"type\\\\\\\\\\\\\\\": \\\\\\\\\\\\\\\"Microsoft.DPrep.DropColumnsBlock\\\\\\\\\\\\\\\", \\\\\\\\\\\\\\\"arguments\\\\\\\\\\\\\\\": {\\\\\\\\\\\\\\\"columns\\\\\\\\\\\\\\\": {\\\\\\\\\\\\\\\"type\\\\\\\\\\\\\\\": 0, \\\\\\\\\\\\\\\"details\\\\\\\\\\\\\\\": {\\\\\\\\\\\\\\\"selectedColumns\\\\\\\\\\\\\\\": [\\\\\\\\\\\\\\\"Path\\\\\\\\\\\\\\\"]}}}, \\\\\\\\\\\\\\\"localData\\\\\\\\\\\\\\\": {}, \\\\\\\\\\\\\\\"isEnabled\\\\\\\\\\\\\\\": true, \\\\\\\\\\\\\\\"name\\\\\\\\\\\\\\\": null, \\\\\\\\\\\\\\\"annotation\\\\\\\\\\\\\\\": null}, {\\\\\\\\\\\\\\\"id\\\\\\\\\\\\\\\": \\\\\\\\\\\\\\\"1e6d23ee-03ad-445a-abf7-385adac406ba\\\\\\\\\\\\\\\", \\\\\\\\\\\\\\\"type\\\\\\\\\\\\\\\": \\\\\\\\\\\\\\\"Microsoft.DPrep.SetColumnTypesBlock\\\\\\\\\\\\\\\", \\\\\\\\\\\\\\\"arguments\\\\\\\\\\\\\\\": {\\\\\\\\\\\\\\\"columnConversion\\\\\\\\\\\\\\\": [{\\\\\\\\\\\\\\\"column\\\\\\\\\\\\\\\": {\\\\\\\\\\\\\\\"type\\\\\\\\\\\\\\\": 2, \\\\\\\\\\\\\\\"details\\\\\\\\\\\\\\\": {\\\\\\\\\\\\\\\"selectedColumn\\\\\\\\\\\\\\\": \\\\\\\\\\\\\\\"Path\\\\\\\\\\\\\\\"}}, \\\\\\\\\\\\\\\"typeProperty\\\\\\\\\\\\\\\": 0}, {\\\\\\\\\\\\\\\"column\\\\\\\\\\\\\\\": {\\\\\\\\\\\\\\\"type\\\\\\\\\\\\\\\": 2, \\\\\\\\\\\\\\\"details\\\\\\\\\\\\\\\": {\\\\\\\\\\\\\\\"selectedColumn\\\\\\\\\\\\\\\": \\\\\\\\\\\\\\\"age\\\\\\\\\\\\\\\"}}, \\\\\\\\\\\\\\\"typeProperty\\\\\\\\\\\\\\\": 3}, {\\\\\\\\\\\\\\\"column\\\\\\\\\\\\\\\": {\\\\\\\\\\\\\\\"type\\\\\\\\\\\\\\\": 2, \\\\\\\\\\\\\\\"details\\\\\\\\\\\\\\\": {\\\\\\\\\\\\\\\"selectedColumn\\\\\\\\\\\\\\\": \\\\\\\\\\\\\\\"anaemia\\\\\\\\\\\\\\\"}}, \\\\\\\\\\\\\\\"typeProperty\\\\\\\\\\\\\\\": 2}, {\\\\\\\\\\\\\\\"column\\\\\\\\\\\\\\\": {\\\\\\\\\\\\\\\"type\\\\\\\\\\\\\\\": 2, \\\\\\\\\\\\\\\"details\\\\\\\\\\\\\\\": {\\\\\\\\\\\\\\\"selectedColumn\\\\\\\\\\\\\\\": \\\\\\\\\\\\\\\"creatinine_phosphokinase\\\\\\\\\\\\\\\"}}, \\\\\\\\\\\\\\\"typeProperty\\\\\\\\\\\\\\\": 2}, {\\\\\\\\\\\\\\\"column\\\\\\\\\\\\\\\": {\\\\\\\\\\\\\\\"type\\\\\\\\\\\\\\\": 2, \\\\\\\\\\\\\\\"details\\\\\\\\\\\\\\\": {\\\\\\\\\\\\\\\"selectedColumn\\\\\\\\\\\\\\\": \\\\\\\\\\\\\\\"diabetes\\\\\\\\\\\\\\\"}}, \\\\\\\\\\\\\\\"typeProperty\\\\\\\\\\\\\\\": 2}, {\\\\\\\\\\\\\\\"column\\\\\\\\\\\\\\\": {\\\\\\\\\\\\\\\"type\\\\\\\\\\\\\\\": 2, \\\\\\\\\\\\\\\"details\\\\\\\\\\\\\\\": {\\\\\\\\\\\\\\\"selectedColumn\\\\\\\\\\\\\\\": \\\\\\\\\\\\\\\"ejection_fraction\\\\\\\\\\\\\\\"}}, \\\\\\\\\\\\\\\"typeProperty\\\\\\\\\\\\\\\": 2}, {\\\\\\\\\\\\\\\"column\\\\\\\\\\\\\\\": {\\\\\\\\\\\\\\\"type\\\\\\\\\\\\\\\": 2, \\\\\\\\\\\\\\\"details\\\\\\\\\\\\\\\": {\\\\\\\\\\\\\\\"selectedColumn\\\\\\\\\\\\\\\": \\\\\\\\\\\\\\\"high_blood_pressure\\\\\\\\\\\\\\\"}}, \\\\\\\\\\\\\\\"typeProperty\\\\\\\\\\\\\\\": 2}, {\\\\\\\\\\\\\\\"column\\\\\\\\\\\\\\\": {\\\\\\\\\\\\\\\"type\\\\\\\\\\\\\\\": 2, \\\\\\\\\\\\\\\"details\\\\\\\\\\\\\\\": {\\\\\\\\\\\\\\\"selectedColumn\\\\\\\\\\\\\\\": \\\\\\\\\\\\\\\"platelets\\\\\\\\\\\\\\\"}}, \\\\\\\\\\\\\\\"typeProperty\\\\\\\\\\\\\\\": 3}, {\\\\\\\\\\\\\\\"column\\\\\\\\\\\\\\\": {\\\\\\\\\\\\\\\"type\\\\\\\\\\\\\\\": 2, \\\\\\\\\\\\\\\"details\\\\\\\\\\\\\\\": {\\\\\\\\\\\\\\\"selectedColumn\\\\\\\\\\\\\\\": \\\\\\\\\\\\\\\"serum_creatinine\\\\\\\\\\\\\\\"}}, \\\\\\\\\\\\\\\"typeProperty\\\\\\\\\\\\\\\": 3}, {\\\\\\\\\\\\\\\"column\\\\\\\\\\\\\\\": {\\\\\\\\\\\\\\\"type\\\\\\\\\\\\\\\": 2, \\\\\\\\\\\\\\\"details\\\\\\\\\\\\\\\": {\\\\\\\\\\\\\\\"selectedColumn\\\\\\\\\\\\\\\": \\\\\\\\\\\\\\\"serum_sodium\\\\\\\\\\\\\\\"}}, \\\\\\\\\\\\\\\"typeProperty\\\\\\\\\\\\\\\": 2}, {\\\\\\\\\\\\\\\"column\\\\\\\\\\\\\\\": {\\\\\\\\\\\\\\\"type\\\\\\\\\\\\\\\": 2, \\\\\\\\\\\\\\\"details\\\\\\\\\\\\\\\": {\\\\\\\\\\\\\\\"selectedColumn\\\\\\\\\\\\\\\": \\\\\\\\\\\\\\\"sex\\\\\\\\\\\\\\\"}}, \\\\\\\\\\\\\\\"typeProperty\\\\\\\\\\\\\\\": 2}, {\\\\\\\\\\\\\\\"column\\\\\\\\\\\\\\\": {\\\\\\\\\\\\\\\"type\\\\\\\\\\\\\\\": 2, \\\\\\\\\\\\\\\"details\\\\\\\\\\\\\\\": {\\\\\\\\\\\\\\\"selectedColumn\\\\\\\\\\\\\\\": \\\\\\\\\\\\\\\"smoking\\\\\\\\\\\\\\\"}}, \\\\\\\\\\\\\\\"typeProperty\\\\\\\\\\\\\\\": 2}, {\\\\\\\\\\\\\\\"column\\\\\\\\\\\\\\\": {\\\\\\\\\\\\\\\"type\\\\\\\\\\\\\\\": 2, \\\\\\\\\\\\\\\"details\\\\\\\\\\\\\\\": {\\\\\\\\\\\\\\\"selectedColumn\\\\\\\\\\\\\\\": \\\\\\\\\\\\\\\"time\\\\\\\\\\\\\\\"}}, \\\\\\\\\\\\\\\"typeProperty\\\\\\\\\\\\\\\": 2}, {\\\\\\\\\\\\\\\"column\\\\\\\\\\\\\\\": {\\\\\\\\\\\\\\\"type\\\\\\\\\\\\\\\": 2, \\\\\\\\\\\\\\\"details\\\\\\\\\\\\\\\": {\\\\\\\\\\\\\\\"selectedColumn\\\\\\\\\\\\\\\": \\\\\\\\\\\\\\\"DEATH_EVENT\\\\\\\\\\\\\\\"}}, \\\\\\\\\\\\\\\"typeProperty\\\\\\\\\\\\\\\": 2}]}, \\\\\\\\\\\\\\\"localData\\\\\\\\\\\\\\\": {}, \\\\\\\\\\\\\\\"isEnabled\\\\\\\\\\\\\\\": true, \\\\\\\\\\\\\\\"name\\\\\\\\\\\\\\\": null, \\\\\\\\\\\\\\\"annotation\\\\\\\\\\\\\\\": null}, {\\\\\\\\\\\\\\\"id\\\\\\\\\\\\\\\": \\\\\\\\\\\\\\\"3c5f2b48-e4d0-4804-8781-50fc1f0318e6\\\\\\\\\\\\\\\", \\\\\\\\\\\\\\\"type\\\\\\\\\\\\\\\": \\\\\\\\\\\\\\\"Microsoft.DPrep.RandomSplitBlock\\\\\\\\\\\\\\\", \\\\\\\\\\\\\\\"arguments\\\\\\\\\\\\\\\": {\\\\\\\\\\\\\\\"probability\\\\\\\\\\\\\\\": 0.8, \\\\\\\\\\\\\\\"seed\\\\\\\\\\\\\\\": 223}, \\\\\\\\\\\\\\\"localData\\\\\\\\\\\\\\\": {}, \\\\\\\\\\\\\\\"isEnabled\\\\\\\\\\\\\\\": true, \\\\\\\\\\\\\\\"name\\\\\\\\\\\\\\\": null, \\\\\\\\\\\\\\\"annotation\\\\\\\\\\\\\\\": null}], \\\\\\\\\\\\\\\"inspectors\\\\\\\\\\\\\\\": [], \\\\\\\\\\\\\\\"meta\\\\\\\\\\\\\\\": {\\\\\\\\\\\\\\\"savedDatasetId\\\\\\\\\\\\\\\": \\\\\\\\\\\\\\\"493cbf37-e0bf-49d5-ab5d-104055cedb3f\\\\\\\\\\\\\\\", \\\\\\\\\\\\\\\"datasetType\\\\\\\\\\\\\\\": \\\\\\\\\\\\\\\"tabular\\\\\\\\\\\\\\\", \\\\\\\\\\\\\\\"subscriptionId\\\\\\\\\\\\\\\": \\\\\\\\\\\\\\\"a7e82b92-bbed-4497-a8df-009b71b94f9c\\\\\\\\\\\\\\\", \\\\\\\\\\\\\\\"workspaceId\\\\\\\\\\\\\\\": \\\\\\\\\\\\\\\"2682445f-a265-434c-a960-4922460a7b0c\\\\\\\\\\\\\\\", \\\\\\\\\\\\\\\"workspaceLocation\\\\\\\\\\\\\\\": \\\\\\\\\\\\\\\"southcentralus\\\\\\\\\\\\\\\"}}\\\\\\\", \\\\\\\"validation_data\\\\\\\": \\\\\\\"{\\\\\\\\\\\\\\\"blocks\\\\\\\\\\\\\\\": [{\\\\\\\\\\\\\\\"id\\\\\\\\\\\\\\\": \\\\\\\\\\\\\\\"168dc90b-b5a7-4991-a36a-8ceb930476f6\\\\\\\\\\\\\\\", \\\\\\\\\\\\\\\"type\\\\\\\\\\\\\\\": \\\\\\\\\\\\\\\"Microsoft.DPrep.ReferenceAndInverseSplitBlock\\\\\\\\\\\\\\\", \\\\\\\\\\\\\\\"arguments\\\\\\\\\\\\\\\": {\\\\\\\\\\\\\\\"sourceFilter\\\\\\\\\\\\\\\": {\\\\\\\\\\\\\\\"referenceType\\\\\\\\\\\\\\\": 2, \\\\\\\\\\\\\\\"referenceContainerPath\\\\\\\\\\\\\\\": null, \\\\\\\\\\\\\\\"referencedStep\\\\\\\\\\\\\\\": {\\\\\\\\\\\\\\\"referencedStepId\\\\\\\\\\\\\\\": \\\\\\\\\\\\\\\"00000000-0000-0000-0000-000000000000\\\\\\\\\\\\\\\", \\\\\\\\\\\\\\\"fallback\\\\\\\\\\\\\\\": 1}, \\\\\\\\\\\\\\\"anonymousSteps\\\\\\\\\\\\\\\": [{\\\\\\\\\\\\\\\"id\\\\\\\\\\\\\\\": \\\\\\\\\\\\\\\"1733e8b5-f1e5-40c4-bd44-ffff937fe371\\\\\\\\\\\\\\\", \\\\\\\\\\\\\\\"description\\\\\\\\\\\\\\\": {\\\\\\\\\\\\\\\"localDataProperties\\\\\\\\\\\\\\\": [], \\\\\\\\\\\\\\\"blockGroup\\\\\\\\\\\\\\\": 0, \\\\\\\\\\\\\\\"supportedTargets\\\\\\\\\\\\\\\": [4], \\\\\\\\\\\\\\\"supportedFieldTypes\\\\\\\\\\\\\\\": null, \\\\\\\\\\\\\\\"supportedMessages\\\\\\\\\\\\\\\": [], \\\\\\\\\\\\\\\"requiresInitialization\\\\\\\\\\\\\\\": false, \\\\\\\\\\\\\\\"allowDefaultAdd\\\\\\\\\\\\\\\": true, \\\\\\\\\\\\\\\"documentation\\\\\\\\\\\\\\\": null, \\\\\\\\\\\\\\\"type\\\\\\\\\\\\\\\": \\\\\\\\\\\\\\\"Microsoft.DPrep.GetDatastoreFilesBlock\\\\\\\\\\\\\\\", \\\\\\\\\\\\\\\"propertyDescriptions\\\\\\\\\\\\\\\": [{\\\\\\\\\\\\\\\"name\\\\\\\\\\\\\\\": \\\\\\\\\\\\\\\"datastores\\\\\\\\\\\\\\\", \\\\\\\\\\\\\\\"type\\\\\\\\\\\\\\\": 7, \\\\\\\\\\\\\\\"multipleValues\\\\\\\\\\\\\\\": true, \\\\\\\\\\\\\\\"domain\\\\\\\\\\\\\\\": {\\\\\\\\\\\\\\\"type\\\\\\\\\\\\\\\": 0, \\\\\\\\\\\\\\\"details\\\\\\\\\\\\\\\": [{\\\\\\\\\\\\\\\"name\\\\\\\\\\\\\\\": \\\\\\\\\\\\\\\"subscription\\\\\\\\\\\\\\\", \\\\\\\\\\\\\\\"type\\\\\\\\\\\\\\\": 1, \\\\\\\\\\\\\\\"multipleValues\\\\\\\\\\\\\\\": false, \\\\\\\\\\\\\\\"domain\\\\\\\\\\\\\\\": null, \\\\\\\\\\\\\\\"multiValueDetails\\\\\\\\\\\\\\\": null, \\\\\\\\\\\\\\\"isRequired\\\\\\\\\\\\\\\": true, \\\\\\\\\\\\\\\"origin\\\\\\\\\\\\\\\": 1, \\\\\\\\\\\\\\\"defaultValue\\\\\\\\\\\\\\\": null, \\\\\\\\\\\\\\\"initializeFromProperty\\\\\\\\\\\\\\\": null, \\\\\\\\\\\\\\\"telemetryStrategy\\\\\\\\\\\\\\\": 0, \\\\\\\\\\\\\\\"condition\\\\\\\\\\\\\\\": null, \\\\\\\\\\\\\\\"documentation\\\\\\\\\\\\\\\": \\\\\\\\\\\\\\\"The subscription the workspace belongs to.\\\\\\\\\\\\\\\", \\\\\\\\\\\\\\\"serializeWhenDefault\\\\\\\\\\\\\\\": true}, {\\\\\\\\\\\\\\\"name\\\\\\\\\\\\\\\": \\\\\\\\\\\\\\\"resourceGroup\\\\\\\\\\\\\\\", \\\\\\\\\\\\\\\"type\\\\\\\\\\\\\\\": 1, \\\\\\\\\\\\\\\"multipleValues\\\\\\\\\\\\\\\": false, \\\\\\\\\\\\\\\"domain\\\\\\\\\\\\\\\": null, \\\\\\\\\\\\\\\"multiValueDetails\\\\\\\\\\\\\\\": null, \\\\\\\\\\\\\\\"isRequired\\\\\\\\\\\\\\\": true, \\\\\\\\\\\\\\\"origin\\\\\\\\\\\\\\\": 1, \\\\\\\\\\\\\\\"defaultValue\\\\\\\\\\\\\\\": null, \\\\\\\\\\\\\\\"initializeFromProperty\\\\\\\\\\\\\\\": null, \\\\\\\\\\\\\\\"telemetryStrategy\\\\\\\\\\\\\\\": 2, \\\\\\\\\\\\\\\"condition\\\\\\\\\\\\\\\": null, \\\\\\\\\\\\\\\"documentation\\\\\\\\\\\\\\\": \\\\\\\\\\\\\\\"The resource group the workspace belongs to.\\\\\\\\\\\\\\\", \\\\\\\\\\\\\\\"serializeWhenDefault\\\\\\\\\\\\\\\": true}, {\\\\\\\\\\\\\\\"name\\\\\\\\\\\\\\\": \\\\\\\\\\\\\\\"workspaceName\\\\\\\\\\\\\\\", \\\\\\\\\\\\\\\"type\\\\\\\\\\\\\\\": 1, \\\\\\\\\\\\\\\"multipleValues\\\\\\\\\\\\\\\": false, \\\\\\\\\\\\\\\"domain\\\\\\\\\\\\\\\": null, \\\\\\\\\\\\\\\"multiValueDetails\\\\\\\\\\\\\\\": null, \\\\\\\\\\\\\\\"isRequired\\\\\\\\\\\\\\\": true, \\\\\\\\\\\\\\\"origin\\\\\\\\\\\\\\\": 1, \\\\\\\\\\\\\\\"defaultValue\\\\\\\\\\\\\\\": null, \\\\\\\\\\\\\\\"initializeFromProperty\\\\\\\\\\\\\\\": null, \\\\\\\\\\\\\\\"telemetryStrategy\\\\\\\\\\\\\\\": 2, \\\\\\\\\\\\\\\"condition\\\\\\\\\\\\\\\": null, \\\\\\\\\\\\\\\"documentation\\\\\\\\\\\\\\\": \\\\\\\\\\\\\\\"The workspace the datastore belongs to.\\\\\\\\\\\\\\\", \\\\\\\\\\\\\\\"serializeWhenDefault\\\\\\\\\\\\\\\": true}, {\\\\\\\\\\\\\\\"name\\\\\\\\\\\\\\\": \\\\\\\\\\\\\\\"datastoreName\\\\\\\\\\\\\\\", \\\\\\\\\\\\\\\"type\\\\\\\\\\\\\\\": 1, \\\\\\\\\\\\\\\"multipleValues\\\\\\\\\\\\\\\": false, \\\\\\\\\\\\\\\"domain\\\\\\\\\\\\\\\": null, \\\\\\\\\\\\\\\"multiValueDetails\\\\\\\\\\\\\\\": null, \\\\\\\\\\\\\\\"isRequired\\\\\\\\\\\\\\\": true, \\\\\\\\\\\\\\\"origin\\\\\\\\\\\\\\\": 1, \\\\\\\\\\\\\\\"defaultValue\\\\\\\\\\\\\\\": null, \\\\\\\\\\\\\\\"initializeFromProperty\\\\\\\\\\\\\\\": null, \\\\\\\\\\\\\\\"telemetryStrategy\\\\\\\\\\\\\\\": 2, \\\\\\\\\\\\\\\"condition\\\\\\\\\\\\\\\": null, \\\\\\\\\\\\\\\"documentation\\\\\\\\\\\\\\\": \\\\\\\\\\\\\\\"The datastore to read the data from.\\\\\\\\\\\\\\\", \\\\\\\\\\\\\\\"serializeWhenDefault\\\\\\\\\\\\\\\": true}, {\\\\\\\\\\\\\\\"name\\\\\\\\\\\\\\\": \\\\\\\\\\\\\\\"path\\\\\\\\\\\\\\\", \\\\\\\\\\\\\\\"type\\\\\\\\\\\\\\\": 1, \\\\\\\\\\\\\\\"multipleValues\\\\\\\\\\\\\\\": false, \\\\\\\\\\\\\\\"domain\\\\\\\\\\\\\\\": null, \\\\\\\\\\\\\\\"multiValueDetails\\\\\\\\\\\\\\\": null, \\\\\\\\\\\\\\\"isRequired\\\\\\\\\\\\\\\": false, \\\\\\\\\\\\\\\"origin\\\\\\\\\\\\\\\": 1, \\\\\\\\\\\\\\\"defaultValue\\\\\\\\\\\\\\\": \\\\\\\\\\\\\\\"\\\\\\\\\\\\\\\", \\\\\\\\\\\\\\\"initializeFromProperty\\\\\\\\\\\\\\\": null, \\\\\\\\\\\\\\\"telemetryStrategy\\\\\\\\\\\\\\\": 2, \\\\\\\\\\\\\\\"condition\\\\\\\\\\\\\\\": null, \\\\\\\\\\\\\\\"documentation\\\\\\\\\\\\\\\": \\\\\\\\\\\\\\\"The path on the datastore.\\\\\\\\\\\\\\\", \\\\\\\\\\\\\\\"serializeWhenDefault\\\\\\\\\\\\\\\": true}]}, \\\\\\\\\\\\\\\"multiValueDetails\\\\\\\\\\\\\\\": {\\\\\\\\\\\\\\\"isOrdered\\\\\\\\\\\\\\\": false}, \\\\\\\\\\\\\\\"isRequired\\\\\\\\\\\\\\\": true, \\\\\\\\\\\\\\\"origin\\\\\\\\\\\\\\\": 1, \\\\\\\\\\\\\\\"defaultValue\\\\\\\\\\\\\\\": null, \\\\\\\\\\\\\\\"initializeFromProperty\\\\\\\\\\\\\\\": null, \\\\\\\\\\\\\\\"telemetryStrategy\\\\\\\\\\\\\\\": 0, \\\\\\\\\\\\\\\"condition\\\\\\\\\\\\\\\": null, \\\\\\\\\\\\\\\"documentation\\\\\\\\\\\\\\\": \\\\\\\\\\\\\\\"Properties uniquely identifying a datastore.\\\\\\\\\\\\\\\", \\\\\\\\\\\\\\\"serializeWhenDefault\\\\\\\\\\\\\\\": true}], \\\\\\\\\\\\\\\"dataEffectDetails\\\\\\\\\\\\\\\": {\\\\\\\\\\\\\\\"dataEffect\\\\\\\\\\\\\\\": 9}}, \\\\\\\\\\\\\\\"type\\\\\\\\\\\\\\\": \\\\\\\\\\\\\\\"Microsoft.DPrep.GetDatastoreFilesBlock\\\\\\\\\\\\\\\", \\\\\\\\\\\\\\\"dataEffectDetails\\\\\\\\\\\\\\\": {\\\\\\\\\\\\\\\"dataEffect\\\\\\\\\\\\\\\": 9}, \\\\\\\\\\\\\\\"propertyDescriptions\\\\\\\\\\\\\\\": [{\\\\\\\\\\\\\\\"name\\\\\\\\\\\\\\\": \\\\\\\\\\\\\\\"datastores\\\\\\\\\\\\\\\", \\\\\\\\\\\\\\\"type\\\\\\\\\\\\\\\": 7, \\\\\\\\\\\\\\\"multipleValues\\\\\\\\\\\\\\\": true, \\\\\\\\\\\\\\\"domain\\\\\\\\\\\\\\\": {\\\\\\\\\\\\\\\"type\\\\\\\\\\\\\\\": 0, \\\\\\\\\\\\\\\"details\\\\\\\\\\\\\\\": [{\\\\\\\\\\\\\\\"name\\\\\\\\\\\\\\\": \\\\\\\\\\\\\\\"subscription\\\\\\\\\\\\\\\", \\\\\\\\\\\\\\\"type\\\\\\\\\\\\\\\": 1, \\\\\\\\\\\\\\\"multipleValues\\\\\\\\\\\\\\\": false, \\\\\\\\\\\\\\\"domain\\\\\\\\\\\\\\\": null, \\\\\\\\\\\\\\\"multiValueDetails\\\\\\\\\\\\\\\": null, \\\\\\\\\\\\\\\"isRequired\\\\\\\\\\\\\\\": true, \\\\\\\\\\\\\\\"origin\\\\\\\\\\\\\\\": 1, \\\\\\\\\\\\\\\"defaultValue\\\\\\\\\\\\\\\": null, \\\\\\\\\\\\\\\"initializeFromProperty\\\\\\\\\\\\\\\": null, \\\\\\\\\\\\\\\"telemetryStrategy\\\\\\\\\\\\\\\": 0, \\\\\\\\\\\\\\\"condition\\\\\\\\\\\\\\\": null, \\\\\\\\\\\\\\\"documentation\\\\\\\\\\\\\\\": \\\\\\\\\\\\\\\"The subscription the workspace belongs to.\\\\\\\\\\\\\\\", \\\\\\\\\\\\\\\"serializeWhenDefault\\\\\\\\\\\\\\\": true}, {\\\\\\\\\\\\\\\"name\\\\\\\\\\\\\\\": \\\\\\\\\\\\\\\"resourceGroup\\\\\\\\\\\\\\\", \\\\\\\\\\\\\\\"type\\\\\\\\\\\\\\\": 1, \\\\\\\\\\\\\\\"multipleValues\\\\\\\\\\\\\\\": false, \\\\\\\\\\\\\\\"domain\\\\\\\\\\\\\\\": null, \\\\\\\\\\\\\\\"multiValueDetails\\\\\\\\\\\\\\\": null, \\\\\\\\\\\\\\\"isRequired\\\\\\\\\\\\\\\": true, \\\\\\\\\\\\\\\"origin\\\\\\\\\\\\\\\": 1, \\\\\\\\\\\\\\\"defaultValue\\\\\\\\\\\\\\\": null, \\\\\\\\\\\\\\\"initializeFromProperty\\\\\\\\\\\\\\\": null, \\\\\\\\\\\\\\\"telemetryStrategy\\\\\\\\\\\\\\\": 2, \\\\\\\\\\\\\\\"condition\\\\\\\\\\\\\\\": null, \\\\\\\\\\\\\\\"documentation\\\\\\\\\\\\\\\": \\\\\\\\\\\\\\\"The resource group the workspace belongs to.\\\\\\\\\\\\\\\", \\\\\\\\\\\\\\\"serializeWhenDefault\\\\\\\\\\\\\\\": true}, {\\\\\\\\\\\\\\\"name\\\\\\\\\\\\\\\": \\\\\\\\\\\\\\\"workspaceName\\\\\\\\\\\\\\\", \\\\\\\\\\\\\\\"type\\\\\\\\\\\\\\\": 1, \\\\\\\\\\\\\\\"multipleValues\\\\\\\\\\\\\\\": false, \\\\\\\\\\\\\\\"domain\\\\\\\\\\\\\\\": null, \\\\\\\\\\\\\\\"multiValueDetails\\\\\\\\\\\\\\\": null, \\\\\\\\\\\\\\\"isRequired\\\\\\\\\\\\\\\": true, \\\\\\\\\\\\\\\"origin\\\\\\\\\\\\\\\": 1, \\\\\\\\\\\\\\\"defaultValue\\\\\\\\\\\\\\\": null, \\\\\\\\\\\\\\\"initializeFromProperty\\\\\\\\\\\\\\\": null, \\\\\\\\\\\\\\\"telemetryStrategy\\\\\\\\\\\\\\\": 2, \\\\\\\\\\\\\\\"condition\\\\\\\\\\\\\\\": null, \\\\\\\\\\\\\\\"documentation\\\\\\\\\\\\\\\": \\\\\\\\\\\\\\\"The workspace the datastore belongs to.\\\\\\\\\\\\\\\", \\\\\\\\\\\\\\\"serializeWhenDefault\\\\\\\\\\\\\\\": true}, {\\\\\\\\\\\\\\\"name\\\\\\\\\\\\\\\": \\\\\\\\\\\\\\\"datastoreName\\\\\\\\\\\\\\\", \\\\\\\\\\\\\\\"type\\\\\\\\\\\\\\\": 1, \\\\\\\\\\\\\\\"multipleValues\\\\\\\\\\\\\\\": false, \\\\\\\\\\\\\\\"domain\\\\\\\\\\\\\\\": null, \\\\\\\\\\\\\\\"multiValueDetails\\\\\\\\\\\\\\\": null, \\\\\\\\\\\\\\\"isRequired\\\\\\\\\\\\\\\": true, \\\\\\\\\\\\\\\"origin\\\\\\\\\\\\\\\": 1, \\\\\\\\\\\\\\\"defaultValue\\\\\\\\\\\\\\\": null, \\\\\\\\\\\\\\\"initializeFromProperty\\\\\\\\\\\\\\\": null, \\\\\\\\\\\\\\\"telemetryStrategy\\\\\\\\\\\\\\\": 2, \\\\\\\\\\\\\\\"condition\\\\\\\\\\\\\\\": null, \\\\\\\\\\\\\\\"documentation\\\\\\\\\\\\\\\": \\\\\\\\\\\\\\\"The datastore to read the data from.\\\\\\\\\\\\\\\", \\\\\\\\\\\\\\\"serializeWhenDefault\\\\\\\\\\\\\\\": true}, {\\\\\\\\\\\\\\\"name\\\\\\\\\\\\\\\": \\\\\\\\\\\\\\\"path\\\\\\\\\\\\\\\", \\\\\\\\\\\\\\\"type\\\\\\\\\\\\\\\": 1, \\\\\\\\\\\\\\\"multipleValues\\\\\\\\\\\\\\\": false, \\\\\\\\\\\\\\\"domain\\\\\\\\\\\\\\\": null, \\\\\\\\\\\\\\\"multiValueDetails\\\\\\\\\\\\\\\": null, \\\\\\\\\\\\\\\"isRequired\\\\\\\\\\\\\\\": false, \\\\\\\\\\\\\\\"origin\\\\\\\\\\\\\\\": 1, \\\\\\\\\\\\\\\"defaultValue\\\\\\\\\\\\\\\": \\\\\\\\\\\\\\\"\\\\\\\\\\\\\\\", \\\\\\\\\\\\\\\"initializeFromProperty\\\\\\\\\\\\\\\": null, \\\\\\\\\\\\\\\"telemetryStrategy\\\\\\\\\\\\\\\": 2, \\\\\\\\\\\\\\\"condition\\\\\\\\\\\\\\\": null, \\\\\\\\\\\\\\\"documentation\\\\\\\\\\\\\\\": \\\\\\\\\\\\\\\"The path on the datastore.\\\\\\\\\\\\\\\", \\\\\\\\\\\\\\\"serializeWhenDefault\\\\\\\\\\\\\\\": true}]}, \\\\\\\\\\\\\\\"multiValueDetails\\\\\\\\\\\\\\\": {\\\\\\\\\\\\\\\"isOrdered\\\\\\\\\\\\\\\": false}, \\\\\\\\\\\\\\\"isRequired\\\\\\\\\\\\\\\": true, \\\\\\\\\\\\\\\"origin\\\\\\\\\\\\\\\": 1, \\\\\\\\\\\\\\\"defaultValue\\\\\\\\\\\\\\\": null, \\\\\\\\\\\\\\\"initializeFromProperty\\\\\\\\\\\\\\\": null, \\\\\\\\\\\\\\\"telemetryStrategy\\\\\\\\\\\\\\\": 0, \\\\\\\\\\\\\\\"condition\\\\\\\\\\\\\\\": null, \\\\\\\\\\\\\\\"documentation\\\\\\\\\\\\\\\": \\\\\\\\\\\\\\\"Properties uniquely identifying a datastore.\\\\\\\\\\\\\\\", \\\\\\\\\\\\\\\"serializeWhenDefault\\\\\\\\\\\\\\\": true}], \\\\\\\\\\\\\\\"arguments\\\\\\\\\\\\\\\": {\\\\\\\\\\\\\\\"datastores\\\\\\\\\\\\\\\": [{\\\\\\\\\\\\\\\"datastoreName\\\\\\\\\\\\\\\": \\\\\\\\\\\\\\\"workspaceblobstore\\\\\\\\\\\\\\\", \\\\\\\\\\\\\\\"path\\\\\\\\\\\\\\\": \\\\\\\\\\\\\\\"UI/11-15-2020_085055_UTC/heart_failure_clinical_records_dataset.csv\\\\\\\\\\\\\\\", \\\\\\\\\\\\\\\"resourceGroup\\\\\\\\\\\\\\\": \\\\\\\\\\\\\\\"aml-quickstarts-126252\\\\\\\\\\\\\\\", \\\\\\\\\\\\\\\"subscription\\\\\\\\\\\\\\\": \\\\\\\\\\\\\\\"a7e82b92-bbed-4497-a8df-009b71b94f9c\\\\\\\\\\\\\\\", \\\\\\\\\\\\\\\"workspaceName\\\\\\\\\\\\\\\": \\\\\\\\\\\\\\\"quick-starts-ws-126252\\\\\\\\\\\\\\\"}]}}, {\\\\\\\\\\\\\\\"id\\\\\\\\\\\\\\\": \\\\\\\\\\\\\\\"fbe36e8f-d59f-402f-907c-3ece930b8d6c\\\\\\\\\\\\\\\", \\\\\\\\\\\\\\\"description\\\\\\\\\\\\\\\": {\\\\\\\\\\\\\\\"localDataProperties\\\\\\\\\\\\\\\": [], \\\\\\\\\\\\\\\"blockGroup\\\\\\\\\\\\\\\": 0, \\\\\\\\\\\\\\\"supportedTargets\\\\\\\\\\\\\\\": [5], \\\\\\\\\\\\\\\"supportedFieldTypes\\\\\\\\\\\\\\\": null, \\\\\\\\\\\\\\\"supportedMessages\\\\\\\\\\\\\\\": [], \\\\\\\\\\\\\\\"requiresInitialization\\\\\\\\\\\\\\\": false, \\\\\\\\\\\\\\\"allowDefaultAdd\\\\\\\\\\\\\\\": true, \\\\\\\\\\\\\\\"documentation\\\\\\\\\\\\\\\": null, \\\\\\\\\\\\\\\"type\\\\\\\\\\\\\\\": \\\\\\\\\\\\\\\"Microsoft.DPrep.ParseDelimitedBlock\\\\\\\\\\\\\\\", \\\\\\\\\\\\\\\"propertyDescriptions\\\\\\\\\\\\\\\": [{\\\\\\\\\\\\\\\"name\\\\\\\\\\\\\\\": \\\\\\\\\\\\\\\"maxRows\\\\\\\\\\\\\\\", \\\\\\\\\\\\\\\"type\\\\\\\\\\\\\\\": 2, \\\\\\\\\\\\\\\"multipleValues\\\\\\\\\\\\\\\": false, \\\\\\\\\\\\\\\"domain\\\\\\\\\\\\\\\": null, \\\\\\\\\\\\\\\"multiValueDetails\\\\\\\\\\\\\\\": null, \\\\\\\\\\\\\\\"isRequired\\\\\\\\\\\\\\\": false, \\\\\\\\\\\\\\\"origin\\\\\\\\\\\\\\\": 2, \\\\\\\\\\\\\\\"defaultValue\\\\\\\\\\\\\\\": null, \\\\\\\\\\\\\\\"initializeFromProperty\\\\\\\\\\\\\\\": null, \\\\\\\\\\\\\\\"telemetryStrategy\\\\\\\\\\\\\\\": 0, \\\\\\\\\\\\\\\"condition\\\\\\\\\\\\\\\": null, \\\\\\\\\\\\\\\"documentation\\\\\\\\\\\\\\\": null, \\\\\\\\\\\\\\\"serializeWhenDefault\\\\\\\\\\\\\\\": true}, {\\\\\\\\\\\\\\\"name\\\\\\\\\\\\\\\": \\\\\\\\\\\\\\\"preview\\\\\\\\\\\\\\\", \\\\\\\\\\\\\\\"type\\\\\\\\\\\\\\\": 4, \\\\\\\\\\\\\\\"multipleValues\\\\\\\\\\\\\\\": false, \\\\\\\\\\\\\\\"domain\\\\\\\\\\\\\\\": null, \\\\\\\\\\\\\\\"multiValueDetails\\\\\\\\\\\\\\\": null, \\\\\\\\\\\\\\\"isRequired\\\\\\\\\\\\\\\": false, \\\\\\\\\\\\\\\"origin\\\\\\\\\\\\\\\": 2, \\\\\\\\\\\\\\\"defaultValue\\\\\\\\\\\\\\\": false, \\\\\\\\\\\\\\\"initializeFromProperty\\\\\\\\\\\\\\\": null, \\\\\\\\\\\\\\\"telemetryStrategy\\\\\\\\\\\\\\\": 0, \\\\\\\\\\\\\\\"condition\\\\\\\\\\\\\\\": null, \\\\\\\\\\\\\\\"documentation\\\\\\\\\\\\\\\": null, \\\\\\\\\\\\\\\"serializeWhenDefault\\\\\\\\\\\\\\\": true}, {\\\\\\\\\\\\\\\"name\\\\\\\\\\\\\\\": \\\\\\\\\\\\\\\"columnHeadersMode\\\\\\\\\\\\\\\", \\\\\\\\\\\\\\\"type\\\\\\\\\\\\\\\": 6, \\\\\\\\\\\\\\\"multipleValues\\\\\\\\\\\\\\\": false, \\\\\\\\\\\\\\\"domain\\\\\\\\\\\\\\\": {\\\\\\\\\\\\\\\"type\\\\\\\\\\\\\\\": 1, \\\\\\\\\\\\\\\"details\\\\\\\\\\\\\\\": {\\\\\\\\\\\\\\\"enumName\\\\\\\\\\\\\\\": \\\\\\\\\\\\\\\"PromoteHeadersMode\\\\\\\\\\\\\\\", \\\\\\\\\\\\\\\"enumType\\\\\\\\\\\\\\\": \\\\\\\\\\\\\\\"Microsoft.DPrep.Engine.PromoteHeadersMode, Microsoft.DPrep.EngineAPI, Version=0.1.2010.8053, Culture=neutral, PublicKeyToken=null\\\\\\\\\\\\\\\", \\\\\\\\\\\\\\\"enumValues\\\\\\\\\\\\\\\": [0, 1, 1, 2, 2, 3, 3]}}, \\\\\\\\\\\\\\\"multiValueDetails\\\\\\\\\\\\\\\": null, \\\\\\\\\\\\\\\"isRequired\\\\\\\\\\\\\\\": true, \\\\\\\\\\\\\\\"origin\\\\\\\\\\\\\\\": 1, \\\\\\\\\\\\\\\"defaultValue\\\\\\\\\\\\\\\": 1, \\\\\\\\\\\\\\\"initializeFromProperty\\\\\\\\\\\\\\\": null, \\\\\\\\\\\\\\\"telemetryStrategy\\\\\\\\\\\\\\\": 0, \\\\\\\\\\\\\\\"condition\\\\\\\\\\\\\\\": null, \\\\\\\\\\\\\\\"documentation\\\\\\\\\\\\\\\": null, \\\\\\\\\\\\\\\"serializeWhenDefault\\\\\\\\\\\\\\\": true}, {\\\\\\\\\\\\\\\"name\\\\\\\\\\\\\\\": \\\\\\\\\\\\\\\"separator\\\\\\\\\\\\\\\", \\\\\\\\\\\\\\\"type\\\\\\\\\\\\\\\": 0, \\\\\\\\\\\\\\\"multipleValues\\\\\\\\\\\\\\\": false, \\\\\\\\\\\\\\\"domain\\\\\\\\\\\\\\\": {\\\\\\\\\\\\\\\"type\\\\\\\\\\\\\\\": 6, \\\\\\\\\\\\\\\"details\\\\\\\\\\\\\\\": {\\\\\\\\\\\\\\\"values\\\\\\\\\\\\\\\": [{\\\\\\\\\\\\\\\"value\\\\\\\\\\\\\\\": \\\\\\\\\\\\\\\",\\\\\\\\\\\\\\\", \\\\\\\\\\\\\\\"id\\\\\\\\\\\\\\\": 0}, {\\\\\\\\\\\\\\\"value\\\\\\\\\\\\\\\": \\\\\\\\\\\\\\\"\\\\\\\\\\\\\\\\t\\\\\\\\\\\\\\\", \\\\\\\\\\\\\\\"id\\\\\\\\\\\\\\\": 1}, {\\\\\\\\\\\\\\\"value\\\\\\\\\\\\\\\": \\\\\\\\\\\\\\\":\\\\\\\\\\\\\\\", \\\\\\\\\\\\\\\"id\\\\\\\\\\\\\\\": 2}, {\\\\\\\\\\\\\\\"value\\\\\\\\\\\\\\\": \\\\\\\\\\\\\\\";\\\\\\\\\\\\\\\", \\\\\\\\\\\\\\\"id\\\\\\\\\\\\\\\": 3}, {\\\\\\\\\\\\\\\"value\\\\\\\\\\\\\\\": \\\\\\\\\\\\\\\" \\\\\\\\\\\\\\\", \\\\\\\\\\\\\\\"id\\\\\\\\\\\\\\\": 5}, {\\\\\\\\\\\\\\\"value\\\\\\\\\\\\\\\": \\\\\\\\\\\\\\\"=\\\\\\\\\\\\\\\", \\\\\\\\\\\\\\\"id\\\\\\\\\\\\\\\": 4}, {\\\\\\\\\\\\\\\"value\\\\\\\\\\\\\\\": \\\\\\\\\\\\\\\"\\\\\\\\\\\\\\\\u2014\\\\\\\\\\\\\\\", \\\\\\\\\\\\\\\"id\\\\\\\\\\\\\\\": 7}], \\\\\\\\\\\\\\\"allowCustom\\\\\\\\\\\\\\\": true, \\\\\\\\\\\\\\\"customEnumValue\\\\\\\\\\\\\\\": 6}}, \\\\\\\\\\\\\\\"multiValueDetails\\\\\\\\\\\\\\\": null, \\\\\\\\\\\\\\\"isRequired\\\\\\\\\\\\\\\": true, \\\\\\\\\\\\\\\"origin\\\\\\\\\\\\\\\": 1, \\\\\\\\\\\\\\\"defaultValue\\\\\\\\\\\\\\\": \\\\\\\\\\\\\\\",\\\\\\\\\\\\\\\", \\\\\\\\\\\\\\\"initializeFromProperty\\\\\\\\\\\\\\\": null, \\\\\\\\\\\\\\\"telemetryStrategy\\\\\\\\\\\\\\\": 0, \\\\\\\\\\\\\\\"condition\\\\\\\\\\\\\\\": null, \\\\\\\\\\\\\\\"documentation\\\\\\\\\\\\\\\": null, \\\\\\\\\\\\\\\"serializeWhenDefault\\\\\\\\\\\\\\\": true}, {\\\\\\\\\\\\\\\"name\\\\\\\\\\\\\\\": \\\\\\\\\\\\\\\"commentLineCharacter\\\\\\\\\\\\\\\", \\\\\\\\\\\\\\\"type\\\\\\\\\\\\\\\": 0, \\\\\\\\\\\\\\\"multipleValues\\\\\\\\\\\\\\\": false, \\\\\\\\\\\\\\\"domain\\\\\\\\\\\\\\\": null, \\\\\\\\\\\\\\\"multiValueDetails\\\\\\\\\\\\\\\": null, \\\\\\\\\\\\\\\"isRequired\\\\\\\\\\\\\\\": false, \\\\\\\\\\\\\\\"origin\\\\\\\\\\\\\\\": 1, \\\\\\\\\\\\\\\"defaultValue\\\\\\\\\\\\\\\": null, \\\\\\\\\\\\\\\"initializeFromProperty\\\\\\\\\\\\\\\": null, \\\\\\\\\\\\\\\"telemetryStrategy\\\\\\\\\\\\\\\": 0, \\\\\\\\\\\\\\\"condition\\\\\\\\\\\\\\\": null, \\\\\\\\\\\\\\\"documentation\\\\\\\\\\\\\\\": null, \\\\\\\\\\\\\\\"serializeWhenDefault\\\\\\\\\\\\\\\": true}, {\\\\\\\\\\\\\\\"name\\\\\\\\\\\\\\\": \\\\\\\\\\\\\\\"fileEncoding\\\\\\\\\\\\\\\", \\\\\\\\\\\\\\\"type\\\\\\\\\\\\\\\": 6, \\\\\\\\\\\\\\\"multipleValues\\\\\\\\\\\\\\\": false, \\\\\\\\\\\\\\\"domain\\\\\\\\\\\\\\\": {\\\\\\\\\\\\\\\"type\\\\\\\\\\\\\\\": 1, \\\\\\\\\\\\\\\"details\\\\\\\\\\\\\\\": {\\\\\\\\\\\\\\\"enumName\\\\\\\\\\\\\\\": \\\\\\\\\\\\\\\"FileEncoding\\\\\\\\\\\\\\\", \\\\\\\\\\\\\\\"enumType\\\\\\\\\\\\\\\": \\\\\\\\\\\\\\\"Microsoft.DPrep.Engine.FileEncoding, Microsoft.DPrep.EngineAPI, Version=0.1.2010.8053, Culture=neutral, PublicKeyToken=null\\\\\\\\\\\\\\\", \\\\\\\\\\\\\\\"enumValues\\\\\\\\\\\\\\\": [0, 1, 2, 3, 4, 5, 6, 7]}}, \\\\\\\\\\\\\\\"multiValueDetails\\\\\\\\\\\\\\\": null, \\\\\\\\\\\\\\\"isRequired\\\\\\\\\\\\\\\": true, \\\\\\\\\\\\\\\"origin\\\\\\\\\\\\\\\": 1, \\\\\\\\\\\\\\\"defaultValue\\\\\\\\\\\\\\\": 0, \\\\\\\\\\\\\\\"initializeFromProperty\\\\\\\\\\\\\\\": null, \\\\\\\\\\\\\\\"telemetryStrategy\\\\\\\\\\\\\\\": 0, \\\\\\\\\\\\\\\"condition\\\\\\\\\\\\\\\": null, \\\\\\\\\\\\\\\"documentation\\\\\\\\\\\\\\\": null, \\\\\\\\\\\\\\\"serializeWhenDefault\\\\\\\\\\\\\\\": true}, {\\\\\\\\\\\\\\\"name\\\\\\\\\\\\\\\": \\\\\\\\\\\\\\\"skipRowsMode\\\\\\\\\\\\\\\", \\\\\\\\\\\\\\\"type\\\\\\\\\\\\\\\": 6, \\\\\\\\\\\\\\\"multipleValues\\\\\\\\\\\\\\\": false, \\\\\\\\\\\\\\\"domain\\\\\\\\\\\\\\\": {\\\\\\\\\\\\\\\"type\\\\\\\\\\\\\\\": 1, \\\\\\\\\\\\\\\"details\\\\\\\\\\\\\\\": {\\\\\\\\\\\\\\\"enumName\\\\\\\\\\\\\\\": \\\\\\\\\\\\\\\"SkipMode\\\\\\\\\\\\\\\", \\\\\\\\\\\\\\\"enumType\\\\\\\\\\\\\\\": \\\\\\\\\\\\\\\"Microsoft.DPrep.Engine.SkipMode, Microsoft.DPrep.EngineAPI, Version=0.1.2010.8053, Culture=neutral, PublicKeyToken=null\\\\\\\\\\\\\\\", \\\\\\\\\\\\\\\"enumValues\\\\\\\\\\\\\\\": [0, 1, 1, 2, 2]}}, \\\\\\\\\\\\\\\"multiValueDetails\\\\\\\\\\\\\\\": null, \\\\\\\\\\\\\\\"isRequired\\\\\\\\\\\\\\\": true, \\\\\\\\\\\\\\\"origin\\\\\\\\\\\\\\\": 1, \\\\\\\\\\\\\\\"defaultValue\\\\\\\\\\\\\\\": 0, \\\\\\\\\\\\\\\"initializeFromProperty\\\\\\\\\\\\\\\": null, \\\\\\\\\\\\\\\"telemetryStrategy\\\\\\\\\\\\\\\": 0, \\\\\\\\\\\\\\\"condition\\\\\\\\\\\\\\\": null, \\\\\\\\\\\\\\\"documentation\\\\\\\\\\\\\\\": null, \\\\\\\\\\\\\\\"serializeWhenDefault\\\\\\\\\\\\\\\": true}, {\\\\\\\\\\\\\\\"name\\\\\\\\\\\\\\\": \\\\\\\\\\\\\\\"skipRows\\\\\\\\\\\\\\\", \\\\\\\\\\\\\\\"type\\\\\\\\\\\\\\\": 2, \\\\\\\\\\\\\\\"multipleValues\\\\\\\\\\\\\\\": false, \\\\\\\\\\\\\\\"domain\\\\\\\\\\\\\\\": {\\\\\\\\\\\\\\\"type\\\\\\\\\\\\\\\": 4, \\\\\\\\\\\\\\\"details\\\\\\\\\\\\\\\": {\\\\\\\\\\\\\\\"min\\\\\\\\\\\\\\\": 0.0, \\\\\\\\\\\\\\\"max\\\\\\\\\\\\\\\": 1.7976931348623157e+308}}, \\\\\\\\\\\\\\\"multiValueDetails\\\\\\\\\\\\\\\": null, \\\\\\\\\\\\\\\"isRequired\\\\\\\\\\\\\\\": false, \\\\\\\\\\\\\\\"origin\\\\\\\\\\\\\\\": 1, \\\\\\\\\\\\\\\"defaultValue\\\\\\\\\\\\\\\": null, \\\\\\\\\\\\\\\"initializeFromProperty\\\\\\\\\\\\\\\": null, \\\\\\\\\\\\\\\"telemetryStrategy\\\\\\\\\\\\\\\": 0, \\\\\\\\\\\\\\\"condition\\\\\\\\\\\\\\\": {\\\\\\\\\\\\\\\"condition\\\\\\\\\\\\\\\": {\\\\\\\\\\\\\\\"property\\\\\\\\\\\\\\\": {\\\\\\\\\\\\\\\"propertyPath\\\\\\\\\\\\\\\": [\\\\\\\\\\\\\\\"skipRowsMode\\\\\\\\\\\\\\\"]}, \\\\\\\\\\\\\\\"comparison\\\\\\\\\\\\\\\": 1, \\\\\\\\\\\\\\\"value\\\\\\\\\\\\\\\": 0}, \\\\\\\\\\\\\\\"aggregate\\\\\\\\\\\\\\\": null}, \\\\\\\\\\\\\\\"documentation\\\\\\\\\\\\\\\": null, \\\\\\\\\\\\\\\"serializeWhenDefault\\\\\\\\\\\\\\\": true}, {\\\\\\\\\\\\\\\"name\\\\\\\\\\\\\\\": \\\\\\\\\\\\\\\"handleQuotedLineBreaks\\\\\\\\\\\\\\\", \\\\\\\\\\\\\\\"type\\\\\\\\\\\\\\\": 4, \\\\\\\\\\\\\\\"multipleValues\\\\\\\\\\\\\\\": false, \\\\\\\\\\\\\\\"domain\\\\\\\\\\\\\\\": null, \\\\\\\\\\\\\\\"multiValueDetails\\\\\\\\\\\\\\\": null, \\\\\\\\\\\\\\\"isRequired\\\\\\\\\\\\\\\": true, \\\\\\\\\\\\\\\"origin\\\\\\\\\\\\\\\": 1, \\\\\\\\\\\\\\\"defaultValue\\\\\\\\\\\\\\\": false, \\\\\\\\\\\\\\\"initializeFromProperty\\\\\\\\\\\\\\\": null, \\\\\\\\\\\\\\\"telemetryStrategy\\\\\\\\\\\\\\\": 0, \\\\\\\\\\\\\\\"condition\\\\\\\\\\\\\\\": null, \\\\\\\\\\\\\\\"documentation\\\\\\\\\\\\\\\": null, \\\\\\\\\\\\\\\"serializeWhenDefault\\\\\\\\\\\\\\\": true}, {\\\\\\\\\\\\\\\"name\\\\\\\\\\\\\\\": \\\\\\\\\\\\\\\"partitionSize\\\\\\\\\\\\\\\", \\\\\\\\\\\\\\\"type\\\\\\\\\\\\\\\": 2, \\\\\\\\\\\\\\\"multipleValues\\\\\\\\\\\\\\\": false, \\\\\\\\\\\\\\\"domain\\\\\\\\\\\\\\\": null, \\\\\\\\\\\\\\\"multiValueDetails\\\\\\\\\\\\\\\": null, \\\\\\\\\\\\\\\"isRequired\\\\\\\\\\\\\\\": false, \\\\\\\\\\\\\\\"origin\\\\\\\\\\\\\\\": 1, \\\\\\\\\\\\\\\"defaultValue\\\\\\\\\\\\\\\": null, \\\\\\\\\\\\\\\"initializeFromProperty\\\\\\\\\\\\\\\": null, \\\\\\\\\\\\\\\"telemetryStrategy\\\\\\\\\\\\\\\": 0, \\\\\\\\\\\\\\\"condition\\\\\\\\\\\\\\\": null, \\\\\\\\\\\\\\\"documentation\\\\\\\\\\\\\\\": null, \\\\\\\\\\\\\\\"serializeWhenDefault\\\\\\\\\\\\\\\": true}, {\\\\\\\\\\\\\\\"name\\\\\\\\\\\\\\\": \\\\\\\\\\\\\\\"emptyAsString\\\\\\\\\\\\\\\", \\\\\\\\\\\\\\\"type\\\\\\\\\\\\\\\": 4, \\\\\\\\\\\\\\\"multipleValues\\\\\\\\\\\\\\\": false, \\\\\\\\\\\\\\\"domain\\\\\\\\\\\\\\\": null, \\\\\\\\\\\\\\\"multiValueDetails\\\\\\\\\\\\\\\": null, \\\\\\\\\\\\\\\"isRequired\\\\\\\\\\\\\\\": false, \\\\\\\\\\\\\\\"origin\\\\\\\\\\\\\\\": 1, \\\\\\\\\\\\\\\"defaultValue\\\\\\\\\\\\\\\": false, \\\\\\\\\\\\\\\"initializeFromProperty\\\\\\\\\\\\\\\": null, \\\\\\\\\\\\\\\"telemetryStrategy\\\\\\\\\\\\\\\": 0, \\\\\\\\\\\\\\\"condition\\\\\\\\\\\\\\\": null, \\\\\\\\\\\\\\\"documentation\\\\\\\\\\\\\\\": null, \\\\\\\\\\\\\\\"serializeWhenDefault\\\\\\\\\\\\\\\": false}], \\\\\\\\\\\\\\\"dataEffectDetails\\\\\\\\\\\\\\\": {\\\\\\\\\\\\\\\"dataEffect\\\\\\\\\\\\\\\": 1}}, \\\\\\\\\\\\\\\"type\\\\\\\\\\\\\\\": \\\\\\\\\\\\\\\"Microsoft.DPrep.ParseDelimitedBlock\\\\\\\\\\\\\\\", \\\\\\\\\\\\\\\"dataEffectDetails\\\\\\\\\\\\\\\": {\\\\\\\\\\\\\\\"dataEffect\\\\\\\\\\\\\\\": 1}, \\\\\\\\\\\\\\\"propertyDescriptions\\\\\\\\\\\\\\\": [{\\\\\\\\\\\\\\\"name\\\\\\\\\\\\\\\": \\\\\\\\\\\\\\\"maxRows\\\\\\\\\\\\\\\", \\\\\\\\\\\\\\\"type\\\\\\\\\\\\\\\": 2, \\\\\\\\\\\\\\\"multipleValues\\\\\\\\\\\\\\\": false, \\\\\\\\\\\\\\\"domain\\\\\\\\\\\\\\\": null, \\\\\\\\\\\\\\\"multiValueDetails\\\\\\\\\\\\\\\": null, \\\\\\\\\\\\\\\"isRequired\\\\\\\\\\\\\\\": false, \\\\\\\\\\\\\\\"origin\\\\\\\\\\\\\\\": 2, \\\\\\\\\\\\\\\"defaultValue\\\\\\\\\\\\\\\": null, \\\\\\\\\\\\\\\"initializeFromProperty\\\\\\\\\\\\\\\": null, \\\\\\\\\\\\\\\"telemetryStrategy\\\\\\\\\\\\\\\": 0, \\\\\\\\\\\\\\\"condition\\\\\\\\\\\\\\\": null, \\\\\\\\\\\\\\\"documentation\\\\\\\\\\\\\\\": null, \\\\\\\\\\\\\\\"serializeWhenDefault\\\\\\\\\\\\\\\": true}, {\\\\\\\\\\\\\\\"name\\\\\\\\\\\\\\\": \\\\\\\\\\\\\\\"preview\\\\\\\\\\\\\\\", \\\\\\\\\\\\\\\"type\\\\\\\\\\\\\\\": 4, \\\\\\\\\\\\\\\"multipleValues\\\\\\\\\\\\\\\": false, \\\\\\\\\\\\\\\"domain\\\\\\\\\\\\\\\": null, \\\\\\\\\\\\\\\"multiValueDetails\\\\\\\\\\\\\\\": null, \\\\\\\\\\\\\\\"isRequired\\\\\\\\\\\\\\\": false, \\\\\\\\\\\\\\\"origin\\\\\\\\\\\\\\\": 2, \\\\\\\\\\\\\\\"defaultValue\\\\\\\\\\\\\\\": false, \\\\\\\\\\\\\\\"initializeFromProperty\\\\\\\\\\\\\\\": null, \\\\\\\\\\\\\\\"telemetryStrategy\\\\\\\\\\\\\\\": 0, \\\\\\\\\\\\\\\"condition\\\\\\\\\\\\\\\": null, \\\\\\\\\\\\\\\"documentation\\\\\\\\\\\\\\\": null, \\\\\\\\\\\\\\\"serializeWhenDefault\\\\\\\\\\\\\\\": true}, {\\\\\\\\\\\\\\\"name\\\\\\\\\\\\\\\": \\\\\\\\\\\\\\\"columnHeadersMode\\\\\\\\\\\\\\\", \\\\\\\\\\\\\\\"type\\\\\\\\\\\\\\\": 6, \\\\\\\\\\\\\\\"multipleValues\\\\\\\\\\\\\\\": false, \\\\\\\\\\\\\\\"domain\\\\\\\\\\\\\\\": {\\\\\\\\\\\\\\\"type\\\\\\\\\\\\\\\": 1, \\\\\\\\\\\\\\\"details\\\\\\\\\\\\\\\": {\\\\\\\\\\\\\\\"enumName\\\\\\\\\\\\\\\": \\\\\\\\\\\\\\\"PromoteHeadersMode\\\\\\\\\\\\\\\", \\\\\\\\\\\\\\\"enumType\\\\\\\\\\\\\\\": \\\\\\\\\\\\\\\"Microsoft.DPrep.Engine.PromoteHeadersMode, Microsoft.DPrep.EngineAPI, Version=0.1.2010.8053, Culture=neutral, PublicKeyToken=null\\\\\\\\\\\\\\\", \\\\\\\\\\\\\\\"enumValues\\\\\\\\\\\\\\\": [0, 1, 1, 2, 2, 3, 3]}}, \\\\\\\\\\\\\\\"multiValueDetails\\\\\\\\\\\\\\\": null, \\\\\\\\\\\\\\\"isRequired\\\\\\\\\\\\\\\": true, \\\\\\\\\\\\\\\"origin\\\\\\\\\\\\\\\": 1, \\\\\\\\\\\\\\\"defaultValue\\\\\\\\\\\\\\\": 1, \\\\\\\\\\\\\\\"initializeFromProperty\\\\\\\\\\\\\\\": null, \\\\\\\\\\\\\\\"telemetryStrategy\\\\\\\\\\\\\\\": 0, \\\\\\\\\\\\\\\"condition\\\\\\\\\\\\\\\": null, \\\\\\\\\\\\\\\"documentation\\\\\\\\\\\\\\\": null, \\\\\\\\\\\\\\\"serializeWhenDefault\\\\\\\\\\\\\\\": true}, {\\\\\\\\\\\\\\\"name\\\\\\\\\\\\\\\": \\\\\\\\\\\\\\\"separator\\\\\\\\\\\\\\\", \\\\\\\\\\\\\\\"type\\\\\\\\\\\\\\\": 0, \\\\\\\\\\\\\\\"multipleValues\\\\\\\\\\\\\\\": false, \\\\\\\\\\\\\\\"domain\\\\\\\\\\\\\\\": {\\\\\\\\\\\\\\\"type\\\\\\\\\\\\\\\": 6, \\\\\\\\\\\\\\\"details\\\\\\\\\\\\\\\": {\\\\\\\\\\\\\\\"values\\\\\\\\\\\\\\\": [{\\\\\\\\\\\\\\\"value\\\\\\\\\\\\\\\": \\\\\\\\\\\\\\\",\\\\\\\\\\\\\\\", \\\\\\\\\\\\\\\"id\\\\\\\\\\\\\\\": 0}, {\\\\\\\\\\\\\\\"value\\\\\\\\\\\\\\\": \\\\\\\\\\\\\\\"\\\\\\\\\\\\\\\\t\\\\\\\\\\\\\\\", \\\\\\\\\\\\\\\"id\\\\\\\\\\\\\\\": 1}, {\\\\\\\\\\\\\\\"value\\\\\\\\\\\\\\\": \\\\\\\\\\\\\\\":\\\\\\\\\\\\\\\", \\\\\\\\\\\\\\\"id\\\\\\\\\\\\\\\": 2}, {\\\\\\\\\\\\\\\"value\\\\\\\\\\\\\\\": \\\\\\\\\\\\\\\";\\\\\\\\\\\\\\\", \\\\\\\\\\\\\\\"id\\\\\\\\\\\\\\\": 3}, {\\\\\\\\\\\\\\\"value\\\\\\\\\\\\\\\": \\\\\\\\\\\\\\\" \\\\\\\\\\\\\\\", \\\\\\\\\\\\\\\"id\\\\\\\\\\\\\\\": 5}, {\\\\\\\\\\\\\\\"value\\\\\\\\\\\\\\\": \\\\\\\\\\\\\\\"=\\\\\\\\\\\\\\\", \\\\\\\\\\\\\\\"id\\\\\\\\\\\\\\\": 4}, {\\\\\\\\\\\\\\\"value\\\\\\\\\\\\\\\": \\\\\\\\\\\\\\\"\\\\\\\\\\\\\\\\u2014\\\\\\\\\\\\\\\", \\\\\\\\\\\\\\\"id\\\\\\\\\\\\\\\": 7}], \\\\\\\\\\\\\\\"allowCustom\\\\\\\\\\\\\\\": true, \\\\\\\\\\\\\\\"customEnumValue\\\\\\\\\\\\\\\": 6}}, \\\\\\\\\\\\\\\"multiValueDetails\\\\\\\\\\\\\\\": null, \\\\\\\\\\\\\\\"isRequired\\\\\\\\\\\\\\\": true, \\\\\\\\\\\\\\\"origin\\\\\\\\\\\\\\\": 1, \\\\\\\\\\\\\\\"defaultValue\\\\\\\\\\\\\\\": \\\\\\\\\\\\\\\",\\\\\\\\\\\\\\\", \\\\\\\\\\\\\\\"initializeFromProperty\\\\\\\\\\\\\\\": null, \\\\\\\\\\\\\\\"telemetryStrategy\\\\\\\\\\\\\\\": 0, \\\\\\\\\\\\\\\"condition\\\\\\\\\\\\\\\": null, \\\\\\\\\\\\\\\"documentation\\\\\\\\\\\\\\\": null, \\\\\\\\\\\\\\\"serializeWhenDefault\\\\\\\\\\\\\\\": true}, {\\\\\\\\\\\\\\\"name\\\\\\\\\\\\\\\": \\\\\\\\\\\\\\\"commentLineCharacter\\\\\\\\\\\\\\\", \\\\\\\\\\\\\\\"type\\\\\\\\\\\\\\\": 0, \\\\\\\\\\\\\\\"multipleValues\\\\\\\\\\\\\\\": false, \\\\\\\\\\\\\\\"domain\\\\\\\\\\\\\\\": null, \\\\\\\\\\\\\\\"multiValueDetails\\\\\\\\\\\\\\\": null, \\\\\\\\\\\\\\\"isRequired\\\\\\\\\\\\\\\": false, \\\\\\\\\\\\\\\"origin\\\\\\\\\\\\\\\": 1, \\\\\\\\\\\\\\\"defaultValue\\\\\\\\\\\\\\\": null, \\\\\\\\\\\\\\\"initializeFromProperty\\\\\\\\\\\\\\\": null, \\\\\\\\\\\\\\\"telemetryStrategy\\\\\\\\\\\\\\\": 0, \\\\\\\\\\\\\\\"condition\\\\\\\\\\\\\\\": null, \\\\\\\\\\\\\\\"documentation\\\\\\\\\\\\\\\": null, \\\\\\\\\\\\\\\"serializeWhenDefault\\\\\\\\\\\\\\\": true}, {\\\\\\\\\\\\\\\"name\\\\\\\\\\\\\\\": \\\\\\\\\\\\\\\"fileEncoding\\\\\\\\\\\\\\\", \\\\\\\\\\\\\\\"type\\\\\\\\\\\\\\\": 6, \\\\\\\\\\\\\\\"multipleValues\\\\\\\\\\\\\\\": false, \\\\\\\\\\\\\\\"domain\\\\\\\\\\\\\\\": {\\\\\\\\\\\\\\\"type\\\\\\\\\\\\\\\": 1, \\\\\\\\\\\\\\\"details\\\\\\\\\\\\\\\": {\\\\\\\\\\\\\\\"enumName\\\\\\\\\\\\\\\": \\\\\\\\\\\\\\\"FileEncoding\\\\\\\\\\\\\\\", \\\\\\\\\\\\\\\"enumType\\\\\\\\\\\\\\\": \\\\\\\\\\\\\\\"Microsoft.DPrep.Engine.FileEncoding, Microsoft.DPrep.EngineAPI, Version=0.1.2010.8053, Culture=neutral, PublicKeyToken=null\\\\\\\\\\\\\\\", \\\\\\\\\\\\\\\"enumValues\\\\\\\\\\\\\\\": [0, 1, 2, 3, 4, 5, 6, 7]}}, \\\\\\\\\\\\\\\"multiValueDetails\\\\\\\\\\\\\\\": null, \\\\\\\\\\\\\\\"isRequired\\\\\\\\\\\\\\\": true, \\\\\\\\\\\\\\\"origin\\\\\\\\\\\\\\\": 1, \\\\\\\\\\\\\\\"defaultValue\\\\\\\\\\\\\\\": 0, \\\\\\\\\\\\\\\"initializeFromProperty\\\\\\\\\\\\\\\": null, \\\\\\\\\\\\\\\"telemetryStrategy\\\\\\\\\\\\\\\": 0, \\\\\\\\\\\\\\\"condition\\\\\\\\\\\\\\\": null, \\\\\\\\\\\\\\\"documentation\\\\\\\\\\\\\\\": null, \\\\\\\\\\\\\\\"serializeWhenDefault\\\\\\\\\\\\\\\": true}, {\\\\\\\\\\\\\\\"name\\\\\\\\\\\\\\\": \\\\\\\\\\\\\\\"skipRowsMode\\\\\\\\\\\\\\\", \\\\\\\\\\\\\\\"type\\\\\\\\\\\\\\\": 6, \\\\\\\\\\\\\\\"multipleValues\\\\\\\\\\\\\\\": false, \\\\\\\\\\\\\\\"domain\\\\\\\\\\\\\\\": {\\\\\\\\\\\\\\\"type\\\\\\\\\\\\\\\": 1, \\\\\\\\\\\\\\\"details\\\\\\\\\\\\\\\": {\\\\\\\\\\\\\\\"enumName\\\\\\\\\\\\\\\": \\\\\\\\\\\\\\\"SkipMode\\\\\\\\\\\\\\\", \\\\\\\\\\\\\\\"enumType\\\\\\\\\\\\\\\": \\\\\\\\\\\\\\\"Microsoft.DPrep.Engine.SkipMode, Microsoft.DPrep.EngineAPI, Version=0.1.2010.8053, Culture=neutral, PublicKeyToken=null\\\\\\\\\\\\\\\", \\\\\\\\\\\\\\\"enumValues\\\\\\\\\\\\\\\": [0, 1, 1, 2, 2]}}, \\\\\\\\\\\\\\\"multiValueDetails\\\\\\\\\\\\\\\": null, \\\\\\\\\\\\\\\"isRequired\\\\\\\\\\\\\\\": true, \\\\\\\\\\\\\\\"origin\\\\\\\\\\\\\\\": 1, \\\\\\\\\\\\\\\"defaultValue\\\\\\\\\\\\\\\": 0, \\\\\\\\\\\\\\\"initializeFromProperty\\\\\\\\\\\\\\\": null, \\\\\\\\\\\\\\\"telemetryStrategy\\\\\\\\\\\\\\\": 0, \\\\\\\\\\\\\\\"condition\\\\\\\\\\\\\\\": null, \\\\\\\\\\\\\\\"documentation\\\\\\\\\\\\\\\": null, \\\\\\\\\\\\\\\"serializeWhenDefault\\\\\\\\\\\\\\\": true}, {\\\\\\\\\\\\\\\"name\\\\\\\\\\\\\\\": \\\\\\\\\\\\\\\"skipRows\\\\\\\\\\\\\\\", \\\\\\\\\\\\\\\"type\\\\\\\\\\\\\\\": 2, \\\\\\\\\\\\\\\"multipleValues\\\\\\\\\\\\\\\": false, \\\\\\\\\\\\\\\"domain\\\\\\\\\\\\\\\": {\\\\\\\\\\\\\\\"type\\\\\\\\\\\\\\\": 4, \\\\\\\\\\\\\\\"details\\\\\\\\\\\\\\\": {\\\\\\\\\\\\\\\"min\\\\\\\\\\\\\\\": 0.0, \\\\\\\\\\\\\\\"max\\\\\\\\\\\\\\\": 1.7976931348623157e+308}}, \\\\\\\\\\\\\\\"multiValueDetails\\\\\\\\\\\\\\\": null, \\\\\\\\\\\\\\\"isRequired\\\\\\\\\\\\\\\": false, \\\\\\\\\\\\\\\"origin\\\\\\\\\\\\\\\": 1, \\\\\\\\\\\\\\\"defaultValue\\\\\\\\\\\\\\\": null, \\\\\\\\\\\\\\\"initializeFromProperty\\\\\\\\\\\\\\\": null, \\\\\\\\\\\\\\\"telemetryStrategy\\\\\\\\\\\\\\\": 0, \\\\\\\\\\\\\\\"condition\\\\\\\\\\\\\\\": {\\\\\\\\\\\\\\\"condition\\\\\\\\\\\\\\\": {\\\\\\\\\\\\\\\"property\\\\\\\\\\\\\\\": {\\\\\\\\\\\\\\\"propertyPath\\\\\\\\\\\\\\\": [\\\\\\\\\\\\\\\"skipRowsMode\\\\\\\\\\\\\\\"]}, \\\\\\\\\\\\\\\"comparison\\\\\\\\\\\\\\\": 1, \\\\\\\\\\\\\\\"value\\\\\\\\\\\\\\\": 0}, \\\\\\\\\\\\\\\"aggregate\\\\\\\\\\\\\\\": null}, \\\\\\\\\\\\\\\"documentation\\\\\\\\\\\\\\\": null, \\\\\\\\\\\\\\\"serializeWhenDefault\\\\\\\\\\\\\\\": true}, {\\\\\\\\\\\\\\\"name\\\\\\\\\\\\\\\": \\\\\\\\\\\\\\\"handleQuotedLineBreaks\\\\\\\\\\\\\\\", \\\\\\\\\\\\\\\"type\\\\\\\\\\\\\\\": 4, \\\\\\\\\\\\\\\"multipleValues\\\\\\\\\\\\\\\": false, \\\\\\\\\\\\\\\"domain\\\\\\\\\\\\\\\": null, \\\\\\\\\\\\\\\"multiValueDetails\\\\\\\\\\\\\\\": null, \\\\\\\\\\\\\\\"isRequired\\\\\\\\\\\\\\\": true, \\\\\\\\\\\\\\\"origin\\\\\\\\\\\\\\\": 1, \\\\\\\\\\\\\\\"defaultValue\\\\\\\\\\\\\\\": false, \\\\\\\\\\\\\\\"initializeFromProperty\\\\\\\\\\\\\\\": null, \\\\\\\\\\\\\\\"telemetryStrategy\\\\\\\\\\\\\\\": 0, \\\\\\\\\\\\\\\"condition\\\\\\\\\\\\\\\": null, \\\\\\\\\\\\\\\"documentation\\\\\\\\\\\\\\\": null, \\\\\\\\\\\\\\\"serializeWhenDefault\\\\\\\\\\\\\\\": true}, {\\\\\\\\\\\\\\\"name\\\\\\\\\\\\\\\": \\\\\\\\\\\\\\\"partitionSize\\\\\\\\\\\\\\\", \\\\\\\\\\\\\\\"type\\\\\\\\\\\\\\\": 2, \\\\\\\\\\\\\\\"multipleValues\\\\\\\\\\\\\\\": false, \\\\\\\\\\\\\\\"domain\\\\\\\\\\\\\\\": null, \\\\\\\\\\\\\\\"multiValueDetails\\\\\\\\\\\\\\\": null, \\\\\\\\\\\\\\\"isRequired\\\\\\\\\\\\\\\": false, \\\\\\\\\\\\\\\"origin\\\\\\\\\\\\\\\": 1, \\\\\\\\\\\\\\\"defaultValue\\\\\\\\\\\\\\\": null, \\\\\\\\\\\\\\\"initializeFromProperty\\\\\\\\\\\\\\\": null, \\\\\\\\\\\\\\\"telemetryStrategy\\\\\\\\\\\\\\\": 0, \\\\\\\\\\\\\\\"condition\\\\\\\\\\\\\\\": null, \\\\\\\\\\\\\\\"documentation\\\\\\\\\\\\\\\": null, \\\\\\\\\\\\\\\"serializeWhenDefault\\\\\\\\\\\\\\\": true}, {\\\\\\\\\\\\\\\"name\\\\\\\\\\\\\\\": \\\\\\\\\\\\\\\"emptyAsString\\\\\\\\\\\\\\\", \\\\\\\\\\\\\\\"type\\\\\\\\\\\\\\\": 4, \\\\\\\\\\\\\\\"multipleValues\\\\\\\\\\\\\\\": false, \\\\\\\\\\\\\\\"domain\\\\\\\\\\\\\\\": null, \\\\\\\\\\\\\\\"multiValueDetails\\\\\\\\\\\\\\\": null, \\\\\\\\\\\\\\\"isRequired\\\\\\\\\\\\\\\": false, \\\\\\\\\\\\\\\"origin\\\\\\\\\\\\\\\": 1, \\\\\\\\\\\\\\\"defaultValue\\\\\\\\\\\\\\\": false, \\\\\\\\\\\\\\\"initializeFromProperty\\\\\\\\\\\\\\\": null, \\\\\\\\\\\\\\\"telemetryStrategy\\\\\\\\\\\\\\\": 0, \\\\\\\\\\\\\\\"condition\\\\\\\\\\\\\\\": null, \\\\\\\\\\\\\\\"documentation\\\\\\\\\\\\\\\": null, \\\\\\\\\\\\\\\"serializeWhenDefault\\\\\\\\\\\\\\\": false}], \\\\\\\\\\\\\\\"arguments\\\\\\\\\\\\\\\": {\\\\\\\\\\\\\\\"columnHeadersMode\\\\\\\\\\\\\\\": 1, \\\\\\\\\\\\\\\"fileEncoding\\\\\\\\\\\\\\\": 0, \\\\\\\\\\\\\\\"handleQuotedLineBreaks\\\\\\\\\\\\\\\": false, \\\\\\\\\\\\\\\"preview\\\\\\\\\\\\\\\": false, \\\\\\\\\\\\\\\"separator\\\\\\\\\\\\\\\": \\\\\\\\\\\\\\\",\\\\\\\\\\\\\\\", \\\\\\\\\\\\\\\"skipRows\\\\\\\\\\\\\\\": 0, \\\\\\\\\\\\\\\"skipRowsMode\\\\\\\\\\\\\\\": 0}}, {\\\\\\\\\\\\\\\"id\\\\\\\\\\\\\\\": \\\\\\\\\\\\\\\"bc538e3c-fd0a-4607-a98d-b3074d708304\\\\\\\\\\\\\\\", \\\\\\\\\\\\\\\"description\\\\\\\\\\\\\\\": {\\\\\\\\\\\\\\\"localDataProperties\\\\\\\\\\\\\\\": [], \\\\\\\\\\\\\\\"blockGroup\\\\\\\\\\\\\\\": 6, \\\\\\\\\\\\\\\"supportedTargets\\\\\\\\\\\\\\\": [2, 3], \\\\\\\\\\\\\\\"supportedFieldTypes\\\\\\\\\\\\\\\": null, \\\\\\\\\\\\\\\"supportedMessages\\\\\\\\\\\\\\\": [], \\\\\\\\\\\\\\\"requiresInitialization\\\\\\\\\\\\\\\": false, \\\\\\\\\\\\\\\"allowDefaultAdd\\\\\\\\\\\\\\\": true, \\\\\\\\\\\\\\\"documentation\\\\\\\\\\\\\\\": \\\\\\\\\\\\\\\"Drops the specified columns.\\\\\\\\\\\\\\\", \\\\\\\\\\\\\\\"type\\\\\\\\\\\\\\\": \\\\\\\\\\\\\\\"Microsoft.DPrep.DropColumnsBlock\\\\\\\\\\\\\\\", \\\\\\\\\\\\\\\"propertyDescriptions\\\\\\\\\\\\\\\": [{\\\\\\\\\\\\\\\"name\\\\\\\\\\\\\\\": \\\\\\\\\\\\\\\"columns\\\\\\\\\\\\\\\", \\\\\\\\\\\\\\\"type\\\\\\\\\\\\\\\": 5, \\\\\\\\\\\\\\\"multipleValues\\\\\\\\\\\\\\\": false, \\\\\\\\\\\\\\\"domain\\\\\\\\\\\\\\\": {\\\\\\\\\\\\\\\"type\\\\\\\\\\\\\\\": 12, \\\\\\\\\\\\\\\"details\\\\\\\\\\\\\\\": {\\\\\\\\\\\\\\\"selectorDomainType\\\\\\\\\\\\\\\": 1, \\\\\\\\\\\\\\\"fieldTypes\\\\\\\\\\\\\\\": []}}, \\\\\\\\\\\\\\\"multiValueDetails\\\\\\\\\\\\\\\": null, \\\\\\\\\\\\\\\"isRequired\\\\\\\\\\\\\\\": true, \\\\\\\\\\\\\\\"origin\\\\\\\\\\\\\\\": 0, \\\\\\\\\\\\\\\"defaultValue\\\\\\\\\\\\\\\": null, \\\\\\\\\\\\\\\"initializeFromProperty\\\\\\\\\\\\\\\": null, \\\\\\\\\\\\\\\"telemetryStrategy\\\\\\\\\\\\\\\": 1, \\\\\\\\\\\\\\\"condition\\\\\\\\\\\\\\\": null, \\\\\\\\\\\\\\\"documentation\\\\\\\\\\\\\\\": \\\\\\\\\\\\\\\"The source columns.\\\\\\\\\\\\\\\", \\\\\\\\\\\\\\\"serializeWhenDefault\\\\\\\\\\\\\\\": true}], \\\\\\\\\\\\\\\"dataEffectDetails\\\\\\\\\\\\\\\": {\\\\\\\\\\\\\\\"columnsRemovedProperties\\\\\\\\\\\\\\\": [{\\\\\\\\\\\\\\\"propertyPath\\\\\\\\\\\\\\\": [\\\\\\\\\\\\\\\"columns\\\\\\\\\\\\\\\"]}], \\\\\\\\\\\\\\\"dataEffect\\\\\\\\\\\\\\\": 4}}, \\\\\\\\\\\\\\\"type\\\\\\\\\\\\\\\": \\\\\\\\\\\\\\\"Microsoft.DPrep.DropColumnsBlock\\\\\\\\\\\\\\\", \\\\\\\\\\\\\\\"dataEffectDetails\\\\\\\\\\\\\\\": {\\\\\\\\\\\\\\\"columnsRemovedProperties\\\\\\\\\\\\\\\": [{\\\\\\\\\\\\\\\"propertyPath\\\\\\\\\\\\\\\": [\\\\\\\\\\\\\\\"columns\\\\\\\\\\\\\\\"]}], \\\\\\\\\\\\\\\"dataEffect\\\\\\\\\\\\\\\": 4}, \\\\\\\\\\\\\\\"propertyDescriptions\\\\\\\\\\\\\\\": [{\\\\\\\\\\\\\\\"name\\\\\\\\\\\\\\\": \\\\\\\\\\\\\\\"columns\\\\\\\\\\\\\\\", \\\\\\\\\\\\\\\"type\\\\\\\\\\\\\\\": 5, \\\\\\\\\\\\\\\"multipleValues\\\\\\\\\\\\\\\": false, \\\\\\\\\\\\\\\"domain\\\\\\\\\\\\\\\": {\\\\\\\\\\\\\\\"type\\\\\\\\\\\\\\\": 12, \\\\\\\\\\\\\\\"details\\\\\\\\\\\\\\\": {\\\\\\\\\\\\\\\"selectorDomainType\\\\\\\\\\\\\\\": 1, \\\\\\\\\\\\\\\"fieldTypes\\\\\\\\\\\\\\\": []}}, \\\\\\\\\\\\\\\"multiValueDetails\\\\\\\\\\\\\\\": null, \\\\\\\\\\\\\\\"isRequired\\\\\\\\\\\\\\\": true, \\\\\\\\\\\\\\\"origin\\\\\\\\\\\\\\\": 0, \\\\\\\\\\\\\\\"defaultValue\\\\\\\\\\\\\\\": null, \\\\\\\\\\\\\\\"initializeFromProperty\\\\\\\\\\\\\\\": null, \\\\\\\\\\\\\\\"telemetryStrategy\\\\\\\\\\\\\\\": 1, \\\\\\\\\\\\\\\"condition\\\\\\\\\\\\\\\": null, \\\\\\\\\\\\\\\"documentation\\\\\\\\\\\\\\\": \\\\\\\\\\\\\\\"The source columns.\\\\\\\\\\\\\\\", \\\\\\\\\\\\\\\"serializeWhenDefault\\\\\\\\\\\\\\\": true}], \\\\\\\\\\\\\\\"arguments\\\\\\\\\\\\\\\": {\\\\\\\\\\\\\\\"columns\\\\\\\\\\\\\\\": {\\\\\\\\\\\\\\\"type\\\\\\\\\\\\\\\": 0, \\\\\\\\\\\\\\\"details\\\\\\\\\\\\\\\": {\\\\\\\\\\\\\\\"selectedColumns\\\\\\\\\\\\\\\": [\\\\\\\\\\\\\\\"Path\\\\\\\\\\\\\\\"]}}}}, {\\\\\\\\\\\\\\\"id\\\\\\\\\\\\\\\": \\\\\\\\\\\\\\\"1e6d23ee-03ad-445a-abf7-385adac406ba\\\\\\\\\\\\\\\", \\\\\\\\\\\\\\\"description\\\\\\\\\\\\\\\": {\\\\\\\\\\\\\\\"localDataProperties\\\\\\\\\\\\\\\": [], \\\\\\\\\\\\\\\"blockGroup\\\\\\\\\\\\\\\": 7, \\\\\\\\\\\\\\\"supportedTargets\\\\\\\\\\\\\\\": [5], \\\\\\\\\\\\\\\"supportedFieldTypes\\\\\\\\\\\\\\\": null, \\\\\\\\\\\\\\\"supportedMessages\\\\\\\\\\\\\\\": [], \\\\\\\\\\\\\\\"requiresInitialization\\\\\\\\\\\\\\\": false, \\\\\\\\\\\\\\\"allowDefaultAdd\\\\\\\\\\\\\\\": true, \\\\\\\\\\\\\\\"documentation\\\\\\\\\\\\\\\": null, \\\\\\\\\\\\\\\"type\\\\\\\\\\\\\\\": \\\\\\\\\\\\\\\"Microsoft.DPrep.SetColumnTypesBlock\\\\\\\\\\\\\\\", \\\\\\\\\\\\\\\"propertyDescriptions\\\\\\\\\\\\\\\": [{\\\\\\\\\\\\\\\"name\\\\\\\\\\\\\\\": \\\\\\\\\\\\\\\"columnConversion\\\\\\\\\\\\\\\", \\\\\\\\\\\\\\\"type\\\\\\\\\\\\\\\": 7, \\\\\\\\\\\\\\\"multipleValues\\\\\\\\\\\\\\\": true, \\\\\\\\\\\\\\\"domain\\\\\\\\\\\\\\\": {\\\\\\\\\\\\\\\"type\\\\\\\\\\\\\\\": 0, \\\\\\\\\\\\\\\"details\\\\\\\\\\\\\\\": [{\\\\\\\\\\\\\\\"name\\\\\\\\\\\\\\\": \\\\\\\\\\\\\\\"column\\\\\\\\\\\\\\\", \\\\\\\\\\\\\\\"type\\\\\\\\\\\\\\\": 5, \\\\\\\\\\\\\\\"multipleValues\\\\\\\\\\\\\\\": false, \\\\\\\\\\\\\\\"domain\\\\\\\\\\\\\\\": {\\\\\\\\\\\\\\\"type\\\\\\\\\\\\\\\": 12, \\\\\\\\\\\\\\\"details\\\\\\\\\\\\\\\": {\\\\\\\\\\\\\\\"selectorDomainType\\\\\\\\\\\\\\\": 0, \\\\\\\\\\\\\\\"fieldTypes\\\\\\\\\\\\\\\": []}}, \\\\\\\\\\\\\\\"multiValueDetails\\\\\\\\\\\\\\\": null, \\\\\\\\\\\\\\\"isRequired\\\\\\\\\\\\\\\": true, \\\\\\\\\\\\\\\"origin\\\\\\\\\\\\\\\": 0, \\\\\\\\\\\\\\\"defaultValue\\\\\\\\\\\\\\\": null, \\\\\\\\\\\\\\\"initializeFromProperty\\\\\\\\\\\\\\\": null, \\\\\\\\\\\\\\\"telemetryStrategy\\\\\\\\\\\\\\\": 1, \\\\\\\\\\\\\\\"condition\\\\\\\\\\\\\\\": null, \\\\\\\\\\\\\\\"documentation\\\\\\\\\\\\\\\": \\\\\\\\\\\\\\\"The source column.\\\\\\\\\\\\\\\", \\\\\\\\\\\\\\\"serializeWhenDefault\\\\\\\\\\\\\\\": true}, {\\\\\\\\\\\\\\\"name\\\\\\\\\\\\\\\": \\\\\\\\\\\\\\\"typeProperty\\\\\\\\\\\\\\\", \\\\\\\\\\\\\\\"type\\\\\\\\\\\\\\\": 6, \\\\\\\\\\\\\\\"multipleValues\\\\\\\\\\\\\\\": false, \\\\\\\\\\\\\\\"domain\\\\\\\\\\\\\\\": {\\\\\\\\\\\\\\\"type\\\\\\\\\\\\\\\": 1, \\\\\\\\\\\\\\\"details\\\\\\\\\\\\\\\": {\\\\\\\\\\\\\\\"enumName\\\\\\\\\\\\\\\": \\\\\\\\\\\\\\\"FieldType\\\\\\\\\\\\\\\", \\\\\\\\\\\\\\\"enumType\\\\\\\\\\\\\\\": \\\\\\\\\\\\\\\"Microsoft.DPrep.Engine.FieldType, Microsoft.DPrep.EngineAPI, Version=0.1.2010.8053, Culture=neutral, PublicKeyToken=null\\\\\\\\\\\\\\\", \\\\\\\\\\\\\\\"enumValues\\\\\\\\\\\\\\\": [0, 1, 3, 4, 10]}}, \\\\\\\\\\\\\\\"multiValueDetails\\\\\\\\\\\\\\\": null, \\\\\\\\\\\\\\\"isRequired\\\\\\\\\\\\\\\": true, \\\\\\\\\\\\\\\"origin\\\\\\\\\\\\\\\": 0, \\\\\\\\\\\\\\\"defaultValue\\\\\\\\\\\\\\\": 0, \\\\\\\\\\\\\\\"initializeFromProperty\\\\\\\\\\\\\\\": null, \\\\\\\\\\\\\\\"telemetryStrategy\\\\\\\\\\\\\\\": 0, \\\\\\\\\\\\\\\"condition\\\\\\\\\\\\\\\": null, \\\\\\\\\\\\\\\"documentation\\\\\\\\\\\\\\\": null, \\\\\\\\\\\\\\\"serializeWhenDefault\\\\\\\\\\\\\\\": true}, {\\\\\\\\\\\\\\\"name\\\\\\\\\\\\\\\": \\\\\\\\\\\\\\\"typeArguments\\\\\\\\\\\\\\\", \\\\\\\\\\\\\\\"type\\\\\\\\\\\\\\\": 7, \\\\\\\\\\\\\\\"multipleValues\\\\\\\\\\\\\\\": false, \\\\\\\\\\\\\\\"domain\\\\\\\\\\\\\\\": {\\\\\\\\\\\\\\\"type\\\\\\\\\\\\\\\": 0, \\\\\\\\\\\\\\\"details\\\\\\\\\\\\\\\": [{\\\\\\\\\\\\\\\"name\\\\\\\\\\\\\\\": \\\\\\\\\\\\\\\"dateTimeFormats\\\\\\\\\\\\\\\", \\\\\\\\\\\\\\\"type\\\\\\\\\\\\\\\": 1, \\\\\\\\\\\\\\\"multipleValues\\\\\\\\\\\\\\\": true, \\\\\\\\\\\\\\\"domain\\\\\\\\\\\\\\\": null, \\\\\\\\\\\\\\\"multiValueDetails\\\\\\\\\\\\\\\": {\\\\\\\\\\\\\\\"isOrdered\\\\\\\\\\\\\\\": false}, \\\\\\\\\\\\\\\"isRequired\\\\\\\\\\\\\\\": false, \\\\\\\\\\\\\\\"origin\\\\\\\\\\\\\\\": 1, \\\\\\\\\\\\\\\"defaultValue\\\\\\\\\\\\\\\": null, \\\\\\\\\\\\\\\"initializeFromProperty\\\\\\\\\\\\\\\": null, \\\\\\\\\\\\\\\"telemetryStrategy\\\\\\\\\\\\\\\": 0, \\\\\\\\\\\\\\\"condition\\\\\\\\\\\\\\\": null, \\\\\\\\\\\\\\\"documentation\\\\\\\\\\\\\\\": null, \\\\\\\\\\\\\\\"serializeWhenDefault\\\\\\\\\\\\\\\": true}, {\\\\\\\\\\\\\\\"name\\\\\\\\\\\\\\\": \\\\\\\\\\\\\\\"decimalMark\\\\\\\\\\\\\\\", \\\\\\\\\\\\\\\"type\\\\\\\\\\\\\\\": 6, \\\\\\\\\\\\\\\"multipleValues\\\\\\\\\\\\\\\": false, \\\\\\\\\\\\\\\"domain\\\\\\\\\\\\\\\": {\\\\\\\\\\\\\\\"type\\\\\\\\\\\\\\\": 1, \\\\\\\\\\\\\\\"details\\\\\\\\\\\\\\\": {\\\\\\\\\\\\\\\"enumName\\\\\\\\\\\\\\\": \\\\\\\\\\\\\\\"DecimalMark\\\\\\\\\\\\\\\", \\\\\\\\\\\\\\\"enumType\\\\\\\\\\\\\\\": \\\\\\\\\\\\\\\"Microsoft.DPrep.Engine.PropertiesSystem.SharedSystemProperties+DecimalMark, Microsoft.DPrep.Engine, Version=0.1.2010.8053, Culture=neutral, PublicKeyToken=null\\\\\\\\\\\\\\\", \\\\\\\\\\\\\\\"enumValues\\\\\\\\\\\\\\\": [0, 1]}}, \\\\\\\\\\\\\\\"multiValueDetails\\\\\\\\\\\\\\\": null, \\\\\\\\\\\\\\\"isRequired\\\\\\\\\\\\\\\": false, \\\\\\\\\\\\\\\"origin\\\\\\\\\\\\\\\": 1, \\\\\\\\\\\\\\\"defaultValue\\\\\\\\\\\\\\\": null, \\\\\\\\\\\\\\\"initializeFromProperty\\\\\\\\\\\\\\\": null, \\\\\\\\\\\\\\\"telemetryStrategy\\\\\\\\\\\\\\\": 0, \\\\\\\\\\\\\\\"condition\\\\\\\\\\\\\\\": null, \\\\\\\\\\\\\\\"documentation\\\\\\\\\\\\\\\": \\\\\\\\\\\\\\\"The symbol to use as the decimal mark.\\\\\\\\\\\\\\\", \\\\\\\\\\\\\\\"serializeWhenDefault\\\\\\\\\\\\\\\": false}]}, \\\\\\\\\\\\\\\"multiValueDetails\\\\\\\\\\\\\\\": null, \\\\\\\\\\\\\\\"isRequired\\\\\\\\\\\\\\\": false, \\\\\\\\\\\\\\\"origin\\\\\\\\\\\\\\\": 0, \\\\\\\\\\\\\\\"defaultValue\\\\\\\\\\\\\\\": null, \\\\\\\\\\\\\\\"initializeFromProperty\\\\\\\\\\\\\\\": null, \\\\\\\\\\\\\\\"telemetryStrategy\\\\\\\\\\\\\\\": 0, \\\\\\\\\\\\\\\"condition\\\\\\\\\\\\\\\": null, \\\\\\\\\\\\\\\"documentation\\\\\\\\\\\\\\\": null, \\\\\\\\\\\\\\\"serializeWhenDefault\\\\\\\\\\\\\\\": true}]}, \\\\\\\\\\\\\\\"multiValueDetails\\\\\\\\\\\\\\\": {\\\\\\\\\\\\\\\"isOrdered\\\\\\\\\\\\\\\": false}, \\\\\\\\\\\\\\\"isRequired\\\\\\\\\\\\\\\": false, \\\\\\\\\\\\\\\"origin\\\\\\\\\\\\\\\": 0, \\\\\\\\\\\\\\\"defaultValue\\\\\\\\\\\\\\\": null, \\\\\\\\\\\\\\\"initializeFromProperty\\\\\\\\\\\\\\\": null, \\\\\\\\\\\\\\\"telemetryStrategy\\\\\\\\\\\\\\\": 0, \\\\\\\\\\\\\\\"condition\\\\\\\\\\\\\\\": null, \\\\\\\\\\\\\\\"documentation\\\\\\\\\\\\\\\": null, \\\\\\\\\\\\\\\"serializeWhenDefault\\\\\\\\\\\\\\\": true}], \\\\\\\\\\\\\\\"dataEffectDetails\\\\\\\\\\\\\\\": {\\\\\\\\\\\\\\\"dataEffect\\\\\\\\\\\\\\\": 1}}, \\\\\\\\\\\\\\\"type\\\\\\\\\\\\\\\": \\\\\\\\\\\\\\\"Microsoft.DPrep.SetColumnTypesBlock\\\\\\\\\\\\\\\", \\\\\\\\\\\\\\\"dataEffectDetails\\\\\\\\\\\\\\\": {\\\\\\\\\\\\\\\"dataEffect\\\\\\\\\\\\\\\": 1}, \\\\\\\\\\\\\\\"propertyDescriptions\\\\\\\\\\\\\\\": [{\\\\\\\\\\\\\\\"name\\\\\\\\\\\\\\\": \\\\\\\\\\\\\\\"columnConversion\\\\\\\\\\\\\\\", \\\\\\\\\\\\\\\"type\\\\\\\\\\\\\\\": 7, \\\\\\\\\\\\\\\"multipleValues\\\\\\\\\\\\\\\": true, \\\\\\\\\\\\\\\"domain\\\\\\\\\\\\\\\": {\\\\\\\\\\\\\\\"type\\\\\\\\\\\\\\\": 0, \\\\\\\\\\\\\\\"details\\\\\\\\\\\\\\\": [{\\\\\\\\\\\\\\\"name\\\\\\\\\\\\\\\": \\\\\\\\\\\\\\\"column\\\\\\\\\\\\\\\", \\\\\\\\\\\\\\\"type\\\\\\\\\\\\\\\": 5, \\\\\\\\\\\\\\\"multipleValues\\\\\\\\\\\\\\\": false, \\\\\\\\\\\\\\\"domain\\\\\\\\\\\\\\\": {\\\\\\\\\\\\\\\"type\\\\\\\\\\\\\\\": 12, \\\\\\\\\\\\\\\"details\\\\\\\\\\\\\\\": {\\\\\\\\\\\\\\\"selectorDomainType\\\\\\\\\\\\\\\": 0, \\\\\\\\\\\\\\\"fieldTypes\\\\\\\\\\\\\\\": []}}, \\\\\\\\\\\\\\\"multiValueDetails\\\\\\\\\\\\\\\": null, \\\\\\\\\\\\\\\"isRequired\\\\\\\\\\\\\\\": true, \\\\\\\\\\\\\\\"origin\\\\\\\\\\\\\\\": 0, \\\\\\\\\\\\\\\"defaultValue\\\\\\\\\\\\\\\": null, \\\\\\\\\\\\\\\"initializeFromProperty\\\\\\\\\\\\\\\": null, \\\\\\\\\\\\\\\"telemetryStrategy\\\\\\\\\\\\\\\": 1, \\\\\\\\\\\\\\\"condition\\\\\\\\\\\\\\\": null, \\\\\\\\\\\\\\\"documentation\\\\\\\\\\\\\\\": \\\\\\\\\\\\\\\"The source column.\\\\\\\\\\\\\\\", \\\\\\\\\\\\\\\"serializeWhenDefault\\\\\\\\\\\\\\\": true}, {\\\\\\\\\\\\\\\"name\\\\\\\\\\\\\\\": \\\\\\\\\\\\\\\"typeProperty\\\\\\\\\\\\\\\", \\\\\\\\\\\\\\\"type\\\\\\\\\\\\\\\": 6, \\\\\\\\\\\\\\\"multipleValues\\\\\\\\\\\\\\\": false, \\\\\\\\\\\\\\\"domain\\\\\\\\\\\\\\\": {\\\\\\\\\\\\\\\"type\\\\\\\\\\\\\\\": 1, \\\\\\\\\\\\\\\"details\\\\\\\\\\\\\\\": {\\\\\\\\\\\\\\\"enumName\\\\\\\\\\\\\\\": \\\\\\\\\\\\\\\"FieldType\\\\\\\\\\\\\\\", \\\\\\\\\\\\\\\"enumType\\\\\\\\\\\\\\\": \\\\\\\\\\\\\\\"Microsoft.DPrep.Engine.FieldType, Microsoft.DPrep.EngineAPI, Version=0.1.2010.8053, Culture=neutral, PublicKeyToken=null\\\\\\\\\\\\\\\", \\\\\\\\\\\\\\\"enumValues\\\\\\\\\\\\\\\": [0, 1, 3, 4, 10]}}, \\\\\\\\\\\\\\\"multiValueDetails\\\\\\\\\\\\\\\": null, \\\\\\\\\\\\\\\"isRequired\\\\\\\\\\\\\\\": true, \\\\\\\\\\\\\\\"origin\\\\\\\\\\\\\\\": 0, \\\\\\\\\\\\\\\"defaultValue\\\\\\\\\\\\\\\": 0, \\\\\\\\\\\\\\\"initializeFromProperty\\\\\\\\\\\\\\\": null, \\\\\\\\\\\\\\\"telemetryStrategy\\\\\\\\\\\\\\\": 0, \\\\\\\\\\\\\\\"condition\\\\\\\\\\\\\\\": null, \\\\\\\\\\\\\\\"documentation\\\\\\\\\\\\\\\": null, \\\\\\\\\\\\\\\"serializeWhenDefault\\\\\\\\\\\\\\\": true}, {\\\\\\\\\\\\\\\"name\\\\\\\\\\\\\\\": \\\\\\\\\\\\\\\"typeArguments\\\\\\\\\\\\\\\", \\\\\\\\\\\\\\\"type\\\\\\\\\\\\\\\": 7, \\\\\\\\\\\\\\\"multipleValues\\\\\\\\\\\\\\\": false, \\\\\\\\\\\\\\\"domain\\\\\\\\\\\\\\\": {\\\\\\\\\\\\\\\"type\\\\\\\\\\\\\\\": 0, \\\\\\\\\\\\\\\"details\\\\\\\\\\\\\\\": [{\\\\\\\\\\\\\\\"name\\\\\\\\\\\\\\\": \\\\\\\\\\\\\\\"dateTimeFormats\\\\\\\\\\\\\\\", \\\\\\\\\\\\\\\"type\\\\\\\\\\\\\\\": 1, \\\\\\\\\\\\\\\"multipleValues\\\\\\\\\\\\\\\": true, \\\\\\\\\\\\\\\"domain\\\\\\\\\\\\\\\": null, \\\\\\\\\\\\\\\"multiValueDetails\\\\\\\\\\\\\\\": {\\\\\\\\\\\\\\\"isOrdered\\\\\\\\\\\\\\\": false}, \\\\\\\\\\\\\\\"isRequired\\\\\\\\\\\\\\\": false, \\\\\\\\\\\\\\\"origin\\\\\\\\\\\\\\\": 1, \\\\\\\\\\\\\\\"defaultValue\\\\\\\\\\\\\\\": null, \\\\\\\\\\\\\\\"initializeFromProperty\\\\\\\\\\\\\\\": null, \\\\\\\\\\\\\\\"telemetryStrategy\\\\\\\\\\\\\\\": 0, \\\\\\\\\\\\\\\"condition\\\\\\\\\\\\\\\": null, \\\\\\\\\\\\\\\"documentation\\\\\\\\\\\\\\\": null, \\\\\\\\\\\\\\\"serializeWhenDefault\\\\\\\\\\\\\\\": true}, {\\\\\\\\\\\\\\\"name\\\\\\\\\\\\\\\": \\\\\\\\\\\\\\\"decimalMark\\\\\\\\\\\\\\\", \\\\\\\\\\\\\\\"type\\\\\\\\\\\\\\\": 6, \\\\\\\\\\\\\\\"multipleValues\\\\\\\\\\\\\\\": false, \\\\\\\\\\\\\\\"domain\\\\\\\\\\\\\\\": {\\\\\\\\\\\\\\\"type\\\\\\\\\\\\\\\": 1, \\\\\\\\\\\\\\\"details\\\\\\\\\\\\\\\": {\\\\\\\\\\\\\\\"enumName\\\\\\\\\\\\\\\": \\\\\\\\\\\\\\\"DecimalMark\\\\\\\\\\\\\\\", \\\\\\\\\\\\\\\"enumType\\\\\\\\\\\\\\\": \\\\\\\\\\\\\\\"Microsoft.DPrep.Engine.PropertiesSystem.SharedSystemProperties+DecimalMark, Microsoft.DPrep.Engine, Version=0.1.2010.8053, Culture=neutral, PublicKeyToken=null\\\\\\\\\\\\\\\", \\\\\\\\\\\\\\\"enumValues\\\\\\\\\\\\\\\": [0, 1]}}, \\\\\\\\\\\\\\\"multiValueDetails\\\\\\\\\\\\\\\": null, \\\\\\\\\\\\\\\"isRequired\\\\\\\\\\\\\\\": false, \\\\\\\\\\\\\\\"origin\\\\\\\\\\\\\\\": 1, \\\\\\\\\\\\\\\"defaultValue\\\\\\\\\\\\\\\": null, \\\\\\\\\\\\\\\"initializeFromProperty\\\\\\\\\\\\\\\": null, \\\\\\\\\\\\\\\"telemetryStrategy\\\\\\\\\\\\\\\": 0, \\\\\\\\\\\\\\\"condition\\\\\\\\\\\\\\\": null, \\\\\\\\\\\\\\\"documentation\\\\\\\\\\\\\\\": \\\\\\\\\\\\\\\"The symbol to use as the decimal mark.\\\\\\\\\\\\\\\", \\\\\\\\\\\\\\\"serializeWhenDefault\\\\\\\\\\\\\\\": false}]}, \\\\\\\\\\\\\\\"multiValueDetails\\\\\\\\\\\\\\\": null, \\\\\\\\\\\\\\\"isRequired\\\\\\\\\\\\\\\": false, \\\\\\\\\\\\\\\"origin\\\\\\\\\\\\\\\": 0, \\\\\\\\\\\\\\\"defaultValue\\\\\\\\\\\\\\\": null, \\\\\\\\\\\\\\\"initializeFromProperty\\\\\\\\\\\\\\\": null, \\\\\\\\\\\\\\\"telemetryStrategy\\\\\\\\\\\\\\\": 0, \\\\\\\\\\\\\\\"condition\\\\\\\\\\\\\\\": null, \\\\\\\\\\\\\\\"documentation\\\\\\\\\\\\\\\": null, \\\\\\\\\\\\\\\"serializeWhenDefault\\\\\\\\\\\\\\\": true}]}, \\\\\\\\\\\\\\\"multiValueDetails\\\\\\\\\\\\\\\": {\\\\\\\\\\\\\\\"isOrdered\\\\\\\\\\\\\\\": false}, \\\\\\\\\\\\\\\"isRequired\\\\\\\\\\\\\\\": false, \\\\\\\\\\\\\\\"origin\\\\\\\\\\\\\\\": 0, \\\\\\\\\\\\\\\"defaultValue\\\\\\\\\\\\\\\": null, \\\\\\\\\\\\\\\"initializeFromProperty\\\\\\\\\\\\\\\": null, \\\\\\\\\\\\\\\"telemetryStrategy\\\\\\\\\\\\\\\": 0, \\\\\\\\\\\\\\\"condition\\\\\\\\\\\\\\\": null, \\\\\\\\\\\\\\\"documentation\\\\\\\\\\\\\\\": null, \\\\\\\\\\\\\\\"serializeWhenDefault\\\\\\\\\\\\\\\": true}], \\\\\\\\\\\\\\\"arguments\\\\\\\\\\\\\\\": {\\\\\\\\\\\\\\\"columnConversion\\\\\\\\\\\\\\\": [{\\\\\\\\\\\\\\\"column\\\\\\\\\\\\\\\": {\\\\\\\\\\\\\\\"type\\\\\\\\\\\\\\\": 2, \\\\\\\\\\\\\\\"details\\\\\\\\\\\\\\\": {\\\\\\\\\\\\\\\"selectedColumn\\\\\\\\\\\\\\\": \\\\\\\\\\\\\\\"Path\\\\\\\\\\\\\\\"}}, \\\\\\\\\\\\\\\"typeProperty\\\\\\\\\\\\\\\": 0}, {\\\\\\\\\\\\\\\"column\\\\\\\\\\\\\\\": {\\\\\\\\\\\\\\\"type\\\\\\\\\\\\\\\": 2, \\\\\\\\\\\\\\\"details\\\\\\\\\\\\\\\": {\\\\\\\\\\\\\\\"selectedColumn\\\\\\\\\\\\\\\": \\\\\\\\\\\\\\\"age\\\\\\\\\\\\\\\"}}, \\\\\\\\\\\\\\\"typeProperty\\\\\\\\\\\\\\\": 3}, {\\\\\\\\\\\\\\\"column\\\\\\\\\\\\\\\": {\\\\\\\\\\\\\\\"type\\\\\\\\\\\\\\\": 2, \\\\\\\\\\\\\\\"details\\\\\\\\\\\\\\\": {\\\\\\\\\\\\\\\"selectedColumn\\\\\\\\\\\\\\\": \\\\\\\\\\\\\\\"anaemia\\\\\\\\\\\\\\\"}}, \\\\\\\\\\\\\\\"typeProperty\\\\\\\\\\\\\\\": 2}, {\\\\\\\\\\\\\\\"column\\\\\\\\\\\\\\\": {\\\\\\\\\\\\\\\"type\\\\\\\\\\\\\\\": 2, \\\\\\\\\\\\\\\"details\\\\\\\\\\\\\\\": {\\\\\\\\\\\\\\\"selectedColumn\\\\\\\\\\\\\\\": \\\\\\\\\\\\\\\"creatinine_phosphokinase\\\\\\\\\\\\\\\"}}, \\\\\\\\\\\\\\\"typeProperty\\\\\\\\\\\\\\\": 2}, {\\\\\\\\\\\\\\\"column\\\\\\\\\\\\\\\": {\\\\\\\\\\\\\\\"type\\\\\\\\\\\\\\\": 2, \\\\\\\\\\\\\\\"details\\\\\\\\\\\\\\\": {\\\\\\\\\\\\\\\"selectedColumn\\\\\\\\\\\\\\\": \\\\\\\\\\\\\\\"diabetes\\\\\\\\\\\\\\\"}}, \\\\\\\\\\\\\\\"typeProperty\\\\\\\\\\\\\\\": 2}, {\\\\\\\\\\\\\\\"column\\\\\\\\\\\\\\\": {\\\\\\\\\\\\\\\"type\\\\\\\\\\\\\\\": 2, \\\\\\\\\\\\\\\"details\\\\\\\\\\\\\\\": {\\\\\\\\\\\\\\\"selectedColumn\\\\\\\\\\\\\\\": \\\\\\\\\\\\\\\"ejection_fraction\\\\\\\\\\\\\\\"}}, \\\\\\\\\\\\\\\"typeProperty\\\\\\\\\\\\\\\": 2}, {\\\\\\\\\\\\\\\"column\\\\\\\\\\\\\\\": {\\\\\\\\\\\\\\\"type\\\\\\\\\\\\\\\": 2, \\\\\\\\\\\\\\\"details\\\\\\\\\\\\\\\": {\\\\\\\\\\\\\\\"selectedColumn\\\\\\\\\\\\\\\": \\\\\\\\\\\\\\\"high_blood_pressure\\\\\\\\\\\\\\\"}}, \\\\\\\\\\\\\\\"typeProperty\\\\\\\\\\\\\\\": 2}, {\\\\\\\\\\\\\\\"column\\\\\\\\\\\\\\\": {\\\\\\\\\\\\\\\"type\\\\\\\\\\\\\\\": 2, \\\\\\\\\\\\\\\"details\\\\\\\\\\\\\\\": {\\\\\\\\\\\\\\\"selectedColumn\\\\\\\\\\\\\\\": \\\\\\\\\\\\\\\"platelets\\\\\\\\\\\\\\\"}}, \\\\\\\\\\\\\\\"typeProperty\\\\\\\\\\\\\\\": 3}, {\\\\\\\\\\\\\\\"column\\\\\\\\\\\\\\\": {\\\\\\\\\\\\\\\"type\\\\\\\\\\\\\\\": 2, \\\\\\\\\\\\\\\"details\\\\\\\\\\\\\\\": {\\\\\\\\\\\\\\\"selectedColumn\\\\\\\\\\\\\\\": \\\\\\\\\\\\\\\"serum_creatinine\\\\\\\\\\\\\\\"}}, \\\\\\\\\\\\\\\"typeProperty\\\\\\\\\\\\\\\": 3}, {\\\\\\\\\\\\\\\"column\\\\\\\\\\\\\\\": {\\\\\\\\\\\\\\\"type\\\\\\\\\\\\\\\": 2, \\\\\\\\\\\\\\\"details\\\\\\\\\\\\\\\": {\\\\\\\\\\\\\\\"selectedColumn\\\\\\\\\\\\\\\": \\\\\\\\\\\\\\\"serum_sodium\\\\\\\\\\\\\\\"}}, \\\\\\\\\\\\\\\"typeProperty\\\\\\\\\\\\\\\": 2}, {\\\\\\\\\\\\\\\"column\\\\\\\\\\\\\\\": {\\\\\\\\\\\\\\\"type\\\\\\\\\\\\\\\": 2, \\\\\\\\\\\\\\\"details\\\\\\\\\\\\\\\": {\\\\\\\\\\\\\\\"selectedColumn\\\\\\\\\\\\\\\": \\\\\\\\\\\\\\\"sex\\\\\\\\\\\\\\\"}}, \\\\\\\\\\\\\\\"typeProperty\\\\\\\\\\\\\\\": 2}, {\\\\\\\\\\\\\\\"column\\\\\\\\\\\\\\\": {\\\\\\\\\\\\\\\"type\\\\\\\\\\\\\\\": 2, \\\\\\\\\\\\\\\"details\\\\\\\\\\\\\\\": {\\\\\\\\\\\\\\\"selectedColumn\\\\\\\\\\\\\\\": \\\\\\\\\\\\\\\"smoking\\\\\\\\\\\\\\\"}}, \\\\\\\\\\\\\\\"typeProperty\\\\\\\\\\\\\\\": 2}, {\\\\\\\\\\\\\\\"column\\\\\\\\\\\\\\\": {\\\\\\\\\\\\\\\"type\\\\\\\\\\\\\\\": 2, \\\\\\\\\\\\\\\"details\\\\\\\\\\\\\\\": {\\\\\\\\\\\\\\\"selectedColumn\\\\\\\\\\\\\\\": \\\\\\\\\\\\\\\"time\\\\\\\\\\\\\\\"}}, \\\\\\\\\\\\\\\"typeProperty\\\\\\\\\\\\\\\": 2}, {\\\\\\\\\\\\\\\"column\\\\\\\\\\\\\\\": {\\\\\\\\\\\\\\\"type\\\\\\\\\\\\\\\": 2, \\\\\\\\\\\\\\\"details\\\\\\\\\\\\\\\": {\\\\\\\\\\\\\\\"selectedColumn\\\\\\\\\\\\\\\": \\\\\\\\\\\\\\\"DEATH_EVENT\\\\\\\\\\\\\\\"}}, \\\\\\\\\\\\\\\"typeProperty\\\\\\\\\\\\\\\": 2}]}}, {\\\\\\\\\\\\\\\"id\\\\\\\\\\\\\\\": \\\\\\\\\\\\\\\"3c5f2b48-e4d0-4804-8781-50fc1f0318e6\\\\\\\\\\\\\\\", \\\\\\\\\\\\\\\"description\\\\\\\\\\\\\\\": {\\\\\\\\\\\\\\\"type\\\\\\\\\\\\\\\": \\\\\\\\\\\\\\\"Microsoft.DPrep.RandomSplitStepDescription\\\\\\\\\\\\\\\", \\\\\\\\\\\\\\\"propertyDescriptions\\\\\\\\\\\\\\\": [{\\\\\\\\\\\\\\\"name\\\\\\\\\\\\\\\": \\\\\\\\\\\\\\\"probability\\\\\\\\\\\\\\\", \\\\\\\\\\\\\\\"type\\\\\\\\\\\\\\\": 3, \\\\\\\\\\\\\\\"multipleValues\\\\\\\\\\\\\\\": false, \\\\\\\\\\\\\\\"domain\\\\\\\\\\\\\\\": {\\\\\\\\\\\\\\\"type\\\\\\\\\\\\\\\": 4, \\\\\\\\\\\\\\\"details\\\\\\\\\\\\\\\": {\\\\\\\\\\\\\\\"min\\\\\\\\\\\\\\\": 0.0, \\\\\\\\\\\\\\\"max\\\\\\\\\\\\\\\": 1.0}}, \\\\\\\\\\\\\\\"multiValueDetails\\\\\\\\\\\\\\\": null, \\\\\\\\\\\\\\\"isRequired\\\\\\\\\\\\\\\": true, \\\\\\\\\\\\\\\"origin\\\\\\\\\\\\\\\": 1, \\\\\\\\\\\\\\\"defaultValue\\\\\\\\\\\\\\\": 0.1, \\\\\\\\\\\\\\\"initializeFromProperty\\\\\\\\\\\\\\\": null, \\\\\\\\\\\\\\\"telemetryStrategy\\\\\\\\\\\\\\\": 0, \\\\\\\\\\\\\\\"condition\\\\\\\\\\\\\\\": null, \\\\\\\\\\\\\\\"documentation\\\\\\\\\\\\\\\": \\\\\\\\\\\\\\\"The probability of a record being included in the sample.\\\\\\\\\\\\\\\", \\\\\\\\\\\\\\\"serializeWhenDefault\\\\\\\\\\\\\\\": true}, {\\\\\\\\\\\\\\\"name\\\\\\\\\\\\\\\": \\\\\\\\\\\\\\\"probabilityLowerBound\\\\\\\\\\\\\\\", \\\\\\\\\\\\\\\"type\\\\\\\\\\\\\\\": 3, \\\\\\\\\\\\\\\"multipleValues\\\\\\\\\\\\\\\": false, \\\\\\\\\\\\\\\"domain\\\\\\\\\\\\\\\": null, \\\\\\\\\\\\\\\"multiValueDetails\\\\\\\\\\\\\\\": null, \\\\\\\\\\\\\\\"isRequired\\\\\\\\\\\\\\\": false, \\\\\\\\\\\\\\\"origin\\\\\\\\\\\\\\\": 1, \\\\\\\\\\\\\\\"defaultValue\\\\\\\\\\\\\\\": 0.0, \\\\\\\\\\\\\\\"initializeFromProperty\\\\\\\\\\\\\\\": null, \\\\\\\\\\\\\\\"telemetryStrategy\\\\\\\\\\\\\\\": 0, \\\\\\\\\\\\\\\"condition\\\\\\\\\\\\\\\": null, \\\\\\\\\\\\\\\"documentation\\\\\\\\\\\\\\\": \\\\\\\\\\\\\\\"A lower bound for the accepted range of probabilities when taking a random sample. If probability is set to 0.6, specifying a lower bound of 0.2 would result in only 40% of the records being taken by the sample instead of 60%. This can be useful in order to create multiple exclusive random splits from a single Dataflow.\\\\\\\\\\\\\\\", \\\\\\\\\\\\\\\"serializeWhenDefault\\\\\\\\\\\\\\\": true}, {\\\\\\\\\\\\\\\"name\\\\\\\\\\\\\\\": \\\\\\\\\\\\\\\"seed\\\\\\\\\\\\\\\", \\\\\\\\\\\\\\\"type\\\\\\\\\\\\\\\": 2, \\\\\\\\\\\\\\\"multipleValues\\\\\\\\\\\\\\\": false, \\\\\\\\\\\\\\\"domain\\\\\\\\\\\\\\\": {\\\\\\\\\\\\\\\"type\\\\\\\\\\\\\\\": 4, \\\\\\\\\\\\\\\"details\\\\\\\\\\\\\\\": {\\\\\\\\\\\\\\\"min\\\\\\\\\\\\\\\": 0.0, \\\\\\\\\\\\\\\"max\\\\\\\\\\\\\\\": 4294967295.0}}, \\\\\\\\\\\\\\\"multiValueDetails\\\\\\\\\\\\\\\": null, \\\\\\\\\\\\\\\"isRequired\\\\\\\\\\\\\\\": true, \\\\\\\\\\\\\\\"origin\\\\\\\\\\\\\\\": 1, \\\\\\\\\\\\\\\"defaultValue\\\\\\\\\\\\\\\": null, \\\\\\\\\\\\\\\"initializeFromProperty\\\\\\\\\\\\\\\": null, \\\\\\\\\\\\\\\"telemetryStrategy\\\\\\\\\\\\\\\": 0, \\\\\\\\\\\\\\\"condition\\\\\\\\\\\\\\\": null, \\\\\\\\\\\\\\\"documentation\\\\\\\\\\\\\\\": \\\\\\\\\\\\\\\"The seed to use for the random generator.\\\\\\\\\\\\\\\", \\\\\\\\\\\\\\\"serializeWhenDefault\\\\\\\\\\\\\\\": true}, {\\\\\\\\\\\\\\\"name\\\\\\\\\\\\\\\": \\\\\\\\\\\\\\\"invert\\\\\\\\\\\\\\\", \\\\\\\\\\\\\\\"type\\\\\\\\\\\\\\\": 4, \\\\\\\\\\\\\\\"multipleValues\\\\\\\\\\\\\\\": false, \\\\\\\\\\\\\\\"domain\\\\\\\\\\\\\\\": null, \\\\\\\\\\\\\\\"multiValueDetails\\\\\\\\\\\\\\\": null, \\\\\\\\\\\\\\\"isRequired\\\\\\\\\\\\\\\": false, \\\\\\\\\\\\\\\"origin\\\\\\\\\\\\\\\": 1, \\\\\\\\\\\\\\\"defaultValue\\\\\\\\\\\\\\\": false, \\\\\\\\\\\\\\\"initializeFromProperty\\\\\\\\\\\\\\\": null, \\\\\\\\\\\\\\\"telemetryStrategy\\\\\\\\\\\\\\\": 0, \\\\\\\\\\\\\\\"condition\\\\\\\\\\\\\\\": null, \\\\\\\\\\\\\\\"documentation\\\\\\\\\\\\\\\": null, \\\\\\\\\\\\\\\"serializeWhenDefault\\\\\\\\\\\\\\\": true}], \\\\\\\\\\\\\\\"dataEffectDetails\\\\\\\\\\\\\\\": {\\\\\\\\\\\\\\\"dataEffect\\\\\\\\\\\\\\\": 6}}, \\\\\\\\\\\\\\\"type\\\\\\\\\\\\\\\": \\\\\\\\\\\\\\\"Microsoft.DPrep.RandomSplitStepDescription\\\\\\\\\\\\\\\", \\\\\\\\\\\\\\\"dataEffectDetails\\\\\\\\\\\\\\\": {\\\\\\\\\\\\\\\"dataEffect\\\\\\\\\\\\\\\": 6}, \\\\\\\\\\\\\\\"propertyDescriptions\\\\\\\\\\\\\\\": [{\\\\\\\\\\\\\\\"name\\\\\\\\\\\\\\\": \\\\\\\\\\\\\\\"probability\\\\\\\\\\\\\\\", \\\\\\\\\\\\\\\"type\\\\\\\\\\\\\\\": 3, \\\\\\\\\\\\\\\"multipleValues\\\\\\\\\\\\\\\": false, \\\\\\\\\\\\\\\"domain\\\\\\\\\\\\\\\": {\\\\\\\\\\\\\\\"type\\\\\\\\\\\\\\\": 4, \\\\\\\\\\\\\\\"details\\\\\\\\\\\\\\\": {\\\\\\\\\\\\\\\"min\\\\\\\\\\\\\\\": 0.0, \\\\\\\\\\\\\\\"max\\\\\\\\\\\\\\\": 1.0}}, \\\\\\\\\\\\\\\"multiValueDetails\\\\\\\\\\\\\\\": null, \\\\\\\\\\\\\\\"isRequired\\\\\\\\\\\\\\\": true, \\\\\\\\\\\\\\\"origin\\\\\\\\\\\\\\\": 1, \\\\\\\\\\\\\\\"defaultValue\\\\\\\\\\\\\\\": 0.1, \\\\\\\\\\\\\\\"initializeFromProperty\\\\\\\\\\\\\\\": null, \\\\\\\\\\\\\\\"telemetryStrategy\\\\\\\\\\\\\\\": 0, \\\\\\\\\\\\\\\"condition\\\\\\\\\\\\\\\": null, \\\\\\\\\\\\\\\"documentation\\\\\\\\\\\\\\\": \\\\\\\\\\\\\\\"The probability of a record being included in the sample.\\\\\\\\\\\\\\\", \\\\\\\\\\\\\\\"serializeWhenDefault\\\\\\\\\\\\\\\": true}, {\\\\\\\\\\\\\\\"name\\\\\\\\\\\\\\\": \\\\\\\\\\\\\\\"probabilityLowerBound\\\\\\\\\\\\\\\", \\\\\\\\\\\\\\\"type\\\\\\\\\\\\\\\": 3, \\\\\\\\\\\\\\\"multipleValues\\\\\\\\\\\\\\\": false, \\\\\\\\\\\\\\\"domain\\\\\\\\\\\\\\\": null, \\\\\\\\\\\\\\\"multiValueDetails\\\\\\\\\\\\\\\": null, \\\\\\\\\\\\\\\"isRequired\\\\\\\\\\\\\\\": false, \\\\\\\\\\\\\\\"origin\\\\\\\\\\\\\\\": 1, \\\\\\\\\\\\\\\"defaultValue\\\\\\\\\\\\\\\": 0.0, \\\\\\\\\\\\\\\"initializeFromProperty\\\\\\\\\\\\\\\": null, \\\\\\\\\\\\\\\"telemetryStrategy\\\\\\\\\\\\\\\": 0, \\\\\\\\\\\\\\\"condition\\\\\\\\\\\\\\\": null, \\\\\\\\\\\\\\\"documentation\\\\\\\\\\\\\\\": \\\\\\\\\\\\\\\"A lower bound for the accepted range of probabilities when taking a random sample. If probability is set to 0.6, specifying a lower bound of 0.2 would result in only 40% of the records being taken by the sample instead of 60%. This can be useful in order to create multiple exclusive random splits from a single Dataflow.\\\\\\\\\\\\\\\", \\\\\\\\\\\\\\\"serializeWhenDefault\\\\\\\\\\\\\\\": true}, {\\\\\\\\\\\\\\\"name\\\\\\\\\\\\\\\": \\\\\\\\\\\\\\\"seed\\\\\\\\\\\\\\\", \\\\\\\\\\\\\\\"type\\\\\\\\\\\\\\\": 2, \\\\\\\\\\\\\\\"multipleValues\\\\\\\\\\\\\\\": false, \\\\\\\\\\\\\\\"domain\\\\\\\\\\\\\\\": {\\\\\\\\\\\\\\\"type\\\\\\\\\\\\\\\": 4, \\\\\\\\\\\\\\\"details\\\\\\\\\\\\\\\": {\\\\\\\\\\\\\\\"min\\\\\\\\\\\\\\\": 0.0, \\\\\\\\\\\\\\\"max\\\\\\\\\\\\\\\": 4294967295.0}}, \\\\\\\\\\\\\\\"multiValueDetails\\\\\\\\\\\\\\\": null, \\\\\\\\\\\\\\\"isRequired\\\\\\\\\\\\\\\": true, \\\\\\\\\\\\\\\"origin\\\\\\\\\\\\\\\": 1, \\\\\\\\\\\\\\\"defaultValue\\\\\\\\\\\\\\\": null, \\\\\\\\\\\\\\\"initializeFromProperty\\\\\\\\\\\\\\\": null, \\\\\\\\\\\\\\\"telemetryStrategy\\\\\\\\\\\\\\\": 0, \\\\\\\\\\\\\\\"condition\\\\\\\\\\\\\\\": null, \\\\\\\\\\\\\\\"documentation\\\\\\\\\\\\\\\": \\\\\\\\\\\\\\\"The seed to use for the random generator.\\\\\\\\\\\\\\\", \\\\\\\\\\\\\\\"serializeWhenDefault\\\\\\\\\\\\\\\": true}, {\\\\\\\\\\\\\\\"name\\\\\\\\\\\\\\\": \\\\\\\\\\\\\\\"invert\\\\\\\\\\\\\\\", \\\\\\\\\\\\\\\"type\\\\\\\\\\\\\\\": 4, \\\\\\\\\\\\\\\"multipleValues\\\\\\\\\\\\\\\": false, \\\\\\\\\\\\\\\"domain\\\\\\\\\\\\\\\": null, \\\\\\\\\\\\\\\"multiValueDetails\\\\\\\\\\\\\\\": null, \\\\\\\\\\\\\\\"isRequired\\\\\\\\\\\\\\\": false, \\\\\\\\\\\\\\\"origin\\\\\\\\\\\\\\\": 1, \\\\\\\\\\\\\\\"defaultValue\\\\\\\\\\\\\\\": false, \\\\\\\\\\\\\\\"initializeFromProperty\\\\\\\\\\\\\\\": null, \\\\\\\\\\\\\\\"telemetryStrategy\\\\\\\\\\\\\\\": 0, \\\\\\\\\\\\\\\"condition\\\\\\\\\\\\\\\": null, \\\\\\\\\\\\\\\"documentation\\\\\\\\\\\\\\\": null, \\\\\\\\\\\\\\\"serializeWhenDefault\\\\\\\\\\\\\\\": true}], \\\\\\\\\\\\\\\"arguments\\\\\\\\\\\\\\\": {\\\\\\\\\\\\\\\"invert\\\\\\\\\\\\\\\": false, \\\\\\\\\\\\\\\"probability\\\\\\\\\\\\\\\": 0.8, \\\\\\\\\\\\\\\"probabilityLowerBound\\\\\\\\\\\\\\\": 0.0, \\\\\\\\\\\\\\\"seed\\\\\\\\\\\\\\\": 223}}]}}, \\\\\\\\\\\\\\\"localData\\\\\\\\\\\\\\\": {}, \\\\\\\\\\\\\\\"isEnabled\\\\\\\\\\\\\\\": true, \\\\\\\\\\\\\\\"name\\\\\\\\\\\\\\\": null, \\\\\\\\\\\\\\\"annotation\\\\\\\\\\\\\\\": null}], \\\\\\\\\\\\\\\"inspectors\\\\\\\\\\\\\\\": [], \\\\\\\\\\\\\\\"meta\\\\\\\\\\\\\\\": {\\\\\\\\\\\\\\\"savedDatasetId\\\\\\\\\\\\\\\": \\\\\\\\\\\\\\\"a2064a73-bd64-4ffc-979a-deb37200f70b\\\\\\\\\\\\\\\", \\\\\\\\\\\\\\\"datasetType\\\\\\\\\\\\\\\": \\\\\\\\\\\\\\\"tabular\\\\\\\\\\\\\\\", \\\\\\\\\\\\\\\"subscriptionId\\\\\\\\\\\\\\\": \\\\\\\\\\\\\\\"a7e82b92-bbed-4497-a8df-009b71b94f9c\\\\\\\\\\\\\\\", \\\\\\\\\\\\\\\"workspaceId\\\\\\\\\\\\\\\": \\\\\\\\\\\\\\\"2682445f-a265-434c-a960-4922460a7b0c\\\\\\\\\\\\\\\", \\\\\\\\\\\\\\\"workspaceLocation\\\\\\\\\\\\\\\": \\\\\\\\\\\\\\\"southcentralus\\\\\\\\\\\\\\\"}}\\\\\\\", \\\\\\\"activities\\\\\\\": 0}\", \"EnableSubsampling\": null, \"runTemplate\": \"AutoML\", \"azureml.runsource\": \"automl\", \"display_task_type\": \"classification\", \"dependencies_versions\": \"{\\\"azureml-widgets\\\": \\\"1.18.0\\\", \\\"azureml-train\\\": \\\"1.18.0\\\", \\\"azureml-train-restclients-hyperdrive\\\": \\\"1.18.0\\\", \\\"azureml-train-core\\\": \\\"1.18.0\\\", \\\"azureml-train-automl\\\": \\\"1.18.0\\\", \\\"azureml-train-automl-runtime\\\": \\\"1.18.0\\\", \\\"azureml-train-automl-client\\\": \\\"1.18.0\\\", \\\"azureml-tensorboard\\\": \\\"1.18.0\\\", \\\"azureml-telemetry\\\": \\\"1.18.0\\\", \\\"azureml-sdk\\\": \\\"1.18.0\\\", \\\"azureml-samples\\\": \\\"0+unknown\\\", \\\"azureml-pipeline\\\": \\\"1.18.0\\\", \\\"azureml-pipeline-steps\\\": \\\"1.18.0\\\", \\\"azureml-pipeline-core\\\": \\\"1.18.0\\\", \\\"azureml-opendatasets\\\": \\\"1.18.0\\\", \\\"azureml-model-management-sdk\\\": \\\"1.0.1b6.post1\\\", \\\"azureml-mlflow\\\": \\\"1.18.0\\\", \\\"azureml-interpret\\\": \\\"1.18.0\\\", \\\"azureml-explain-model\\\": \\\"1.18.0\\\", \\\"azureml-defaults\\\": \\\"1.18.0\\\", \\\"azureml-dataset-runtime\\\": \\\"1.18.0\\\", \\\"azureml-dataprep\\\": \\\"2.4.2\\\", \\\"azureml-dataprep-rslex\\\": \\\"1.2.2\\\", \\\"azureml-dataprep-native\\\": \\\"24.0.0\\\", \\\"azureml-datadrift\\\": \\\"1.18.0\\\", \\\"azureml-core\\\": \\\"1.18.0\\\", \\\"azureml-contrib-services\\\": \\\"1.18.0\\\", \\\"azureml-contrib-server\\\": \\\"1.18.0\\\", \\\"azureml-contrib-reinforcementlearning\\\": \\\"1.18.0\\\", \\\"azureml-contrib-pipeline-steps\\\": \\\"1.18.0\\\", \\\"azureml-contrib-notebook\\\": \\\"1.18.0\\\", \\\"azureml-contrib-interpret\\\": \\\"1.18.0\\\", \\\"azureml-contrib-gbdt\\\": \\\"1.18.0\\\", \\\"azureml-contrib-fairness\\\": \\\"1.18.0\\\", \\\"azureml-contrib-dataset\\\": \\\"1.18.0\\\", \\\"azureml-cli-common\\\": \\\"1.18.0\\\", \\\"azureml-automl-runtime\\\": \\\"1.18.0\\\", \\\"azureml-automl-core\\\": \\\"1.18.0\\\", \\\"azureml-accel-models\\\": \\\"1.18.0\\\"}\", \"_aml_system_scenario_identification\": \"Remote.Parent\", \"ClientType\": \"SDK\", \"environment_cpu_name\": \"AzureML-AutoML\", \"environment_cpu_version\": \"44\", \"environment_gpu_name\": \"AzureML-AutoML-GPU\", \"environment_gpu_version\": \"32\", \"root_attribution\": \"automl\", \"attribution\": \"AutoML\", \"Orchestrator\": \"AutoML\", \"CancelUri\": \"https://southcentralus.experiments.azureml.net/jasmine/v1.0/subscriptions/a7e82b92-bbed-4497-a8df-009b71b94f9c/resourceGroups/aml-quickstarts-126252/providers/Microsoft.MachineLearningServices/workspaces/quick-starts-ws-126252/experimentids/b654bc5e-4195-401c-8f8c-da5a3115297d/cancel/AutoML_c543f296-e326-4356-b26f-f7be218a6366\", \"ClientSdkVersion\": \"1.17.0\", \"snapshotId\": \"00000000-0000-0000-0000-000000000000\", \"SetupRunId\": \"AutoML_c543f296-e326-4356-b26f-f7be218a6366_setup\", \"SetupRunContainerId\": \"dcid.AutoML_c543f296-e326-4356-b26f-f7be218a6366_setup\", \"FeaturizationRunJsonPath\": \"featurizer_container.json\", \"FeaturizationRunId\": \"AutoML_c543f296-e326-4356-b26f-f7be218a6366_featurize\", \"ProblemInfoJsonString\": \"{\\\"dataset_num_categorical\\\": 0, \\\"is_sparse\\\": false, \\\"subsampling\\\": false, \\\"dataset_classes\\\": 2, \\\"dataset_features\\\": 12, \\\"dataset_samples\\\": 243, \\\"single_frequency_class_detected\\\": false}\", \"ModelExplainRunId\": \"AutoML_c543f296-e326-4356-b26f-f7be218a6366_ModelExplain\"}, \"tags\": {\"model_explain_run\": \"best_run\", \"_aml_system_azureml.automlComponent\": \"AutoML\", \"pipeline_id\": \"<c7af0367625be6ac5c2fecbfc72ed444cb7a2111>;<5dfac790c5c209f98a1da2dc1c7fb76f0397324f>;<f873311e8cfb2bcdbeb6c20367cf912f4ee6733e>;<cf1dc9b7ea4a50d759bce352343ec6737501695a>;<b19eeb61727e9c4fbb5aa45fb6e9fe3fab5b1f04>;<47dd667bb7c34b68c9fffa6fd580565b1f85400f>;<713f188a27b176644f73e8664c667c674a2d3d62>;<62c0e30b2e9113b3ecd95bcf5b31423c72074070>;<9e3f4780268658ad403e896559a8d3406152018c>;<e81d621ed176e5fac9def492d4ac54f304146b7c>;<a91f8b94ae9bf0dfc66e93d29d1ef41b7e2687f2>;<59e4a1b86a57dfaeac5f3a051de6155ffc74f55b>;<a2983da01504b121cc4056d933a1191b51be87bc>;<8de8c085d2a4b23d3f4cc392a2f2660d23d38c14>;<52ac74da744a165756acc49238b34b81115532fd>;<__AutoML_Ensemble__>;<__AutoML_Stack_Ensemble__>;\", \"score\": \"<0.875>;<0.875>;<0.8571428571428571>;<0.8392857142857143>;<0.8035714285714286>;<0.75>;<0.7857142857142857>;<0.75>;<0.8392857142857143>;<0.8571428571428571>;<NaN>;<NaN>;<NaN>;<NaN>;<NaN>;<0.8928571428571429>;<0.875>;\", \"predicted_cost\": \"<0>;<0>;<0.5>;<0.5>;<0.5>;<0.5>;<0.5>;<0.004473000000000002>;<0.011286108001119562>;<0.006483464058819556>;<0.00999738104563763>;<0.008995058506274276>;<0.007365953502827546>;<0.022203287901589236>;<0.02827732870802049>;<0>;<0>;\", \"fit_time\": \"<0.078881>;<0.068968>;<0.004473>;<0.018689>;<0.023451>;<0.009859>;<0.018532>;<0.063417>;<0.064725>;<0.005393>;<NaN>;<NaN>;<NaN>;<NaN>;<NaN>;<3>;<4>;\", \"training_percent\": \"<100>;<100>;<100>;<100>;<100>;<100>;<100>;<100>;<100>;<100>;<100>;<100>;<100>;<100>;<100>;<100>;<100>;\", \"iteration\": \"<1>;<0>;<3>;<2>;<4>;<5>;<6>;<7>;<8>;<9>;<13>;<10>;<11>;<14>;<12>;<15>;<16>;\", \"run_preprocessor\": \"<MaxAbsScaler>;<MaxAbsScaler>;<StandardScalerWrapper>;<MinMaxScaler>;<MinMaxScaler>;<StandardScalerWrapper>;<StandardScalerWrapper>;<RobustScaler>;<StandardScalerWrapper>;<StandardScalerWrapper>;<>;<>;<>;<>;<>;<>;<>;\", \"run_algorithm\": \"<XGBoostClassifier>;<LightGBM>;<SGD>;<RandomForest>;<RandomForest>;<SGD>;<RandomForest>;<ExtremeRandomTrees>;<ExtremeRandomTrees>;<SGD>;<>;<>;<>;<>;<>;<VotingEnsemble>;<StackEnsemble>;\", \"automl_best_child_run_id\": \"AutoML_c543f296-e326-4356-b26f-f7be218a6366_15\", \"model_explain_best_run_child_id\": \"AutoML_c543f296-e326-4356-b26f-f7be218a6366_15\"}, \"end_time_utc\": \"2020-11-15T09:46:11.31193Z\", \"status\": \"Completed\", \"log_files\": {}, \"log_groups\": [], \"run_duration\": \"0:52:52\"}, \"child_runs\": [{\"run_id\": \"AutoML_c543f296-e326-4356-b26f-f7be218a6366_0\", \"run_number\": 5, \"metric\": null, \"status\": \"Completed\", \"run_type\": \"azureml.scriptrun\", \"training_percent\": \"100\", \"start_time\": \"2020-11-15T09:11:55.033751Z\", \"end_time\": \"2020-11-15T09:12:30.509735Z\", \"created_time\": \"2020-11-15T09:01:35.696261Z\", \"created_time_dt\": \"2020-11-15T09:01:35.696261Z\", \"duration\": \"0:10:54\", \"iteration\": \"0\", \"goal\": \"accuracy_max\", \"run_name\": \"MaxAbsScaler, LightGBM\", \"run_properties\": \"copy=True\", \"primary_metric\": 0.875, \"best_metric\": 0.875}, {\"run_id\": \"AutoML_c543f296-e326-4356-b26f-f7be218a6366_4\", \"run_number\": 6, \"metric\": null, \"status\": \"Completed\", \"run_type\": \"azureml.scriptrun\", \"training_percent\": \"100\", \"start_time\": \"2020-11-15T09:14:48.531486Z\", \"end_time\": \"2020-11-15T09:15:20.423493Z\", \"created_time\": \"2020-11-15T09:01:35.826232Z\", \"created_time_dt\": \"2020-11-15T09:01:35.826232Z\", \"duration\": \"0:13:44\", \"iteration\": \"4\", \"goal\": \"accuracy_max\", \"run_name\": \"MinMaxScaler, RandomForest\", \"run_properties\": \"copy=True, feature_range=(0, 1\", \"primary_metric\": 0.80357143, \"best_metric\": 0.875}, {\"run_id\": \"AutoML_c543f296-e326-4356-b26f-f7be218a6366_2\", \"run_number\": 7, \"metric\": null, \"status\": \"Completed\", \"run_type\": \"azureml.scriptrun\", \"training_percent\": \"100\", \"start_time\": \"2020-11-15T09:13:52.866138Z\", \"end_time\": \"2020-11-15T09:14:23.907908Z\", \"created_time\": \"2020-11-15T09:01:35.873204Z\", \"created_time_dt\": \"2020-11-15T09:01:35.873204Z\", \"duration\": \"0:12:48\", \"iteration\": \"2\", \"goal\": \"accuracy_max\", \"run_name\": \"MinMaxScaler, RandomForest\", \"run_properties\": \"copy=True, feature_range=(0, 1\", \"primary_metric\": 0.83928571, \"best_metric\": 0.875}, {\"run_id\": \"AutoML_c543f296-e326-4356-b26f-f7be218a6366_3\", \"run_number\": 8, \"metric\": null, \"status\": \"Completed\", \"run_type\": \"azureml.scriptrun\", \"training_percent\": \"100\", \"start_time\": \"2020-11-15T09:13:01.689548Z\", \"end_time\": \"2020-11-15T09:13:28.84416Z\", \"created_time\": \"2020-11-15T09:01:35.879052Z\", \"created_time_dt\": \"2020-11-15T09:01:35.879052Z\", \"duration\": \"0:11:52\", \"iteration\": \"3\", \"goal\": \"accuracy_max\", \"run_name\": \"StandardScalerWrapper, SGD\", \"run_properties\": \"<azureml.automl.runtime.shared.model_wrappers.StandardScalerWrapper object at 0x7f117d57dbe0\", \"primary_metric\": 0.85714286, \"best_metric\": 0.875}, {\"run_id\": \"AutoML_c543f296-e326-4356-b26f-f7be218a6366_1\", \"run_number\": 9, \"metric\": null, \"status\": \"Completed\", \"run_type\": \"azureml.scriptrun\", \"training_percent\": \"100\", \"start_time\": \"2020-11-15T09:10:43.599583Z\", \"end_time\": \"2020-11-15T09:11:19.652975Z\", \"created_time\": \"2020-11-15T09:01:35.973133Z\", \"created_time_dt\": \"2020-11-15T09:01:35.973133Z\", \"duration\": \"0:09:43\", \"iteration\": \"1\", \"goal\": \"accuracy_max\", \"run_name\": \"MaxAbsScaler, XGBoostClassifier\", \"run_properties\": \"copy=True\", \"primary_metric\": 0.875, \"best_metric\": 0.875}, {\"run_id\": \"AutoML_c543f296-e326-4356-b26f-f7be218a6366_5\", \"run_number\": 10, \"metric\": null, \"status\": \"Completed\", \"run_type\": \"azureml.scriptrun\", \"training_percent\": \"100\", \"start_time\": \"2020-11-15T09:23:34.455122Z\", \"end_time\": \"2020-11-15T09:24:00.137637Z\", \"created_time\": \"2020-11-15T09:11:30.873505Z\", \"created_time_dt\": \"2020-11-15T09:11:30.873505Z\", \"duration\": \"0:12:29\", \"iteration\": \"5\", \"goal\": \"accuracy_max\", \"run_name\": \"StandardScalerWrapper, SGD\", \"run_properties\": \"<azureml.automl.runtime.shared.model_wrappers.StandardScalerWrapper object at 0x7f4e59d36a58\", \"primary_metric\": 0.75, \"best_metric\": 0.875}, {\"run_id\": \"AutoML_c543f296-e326-4356-b26f-f7be218a6366_6\", \"run_number\": 11, \"metric\": null, \"status\": \"Completed\", \"run_type\": \"azureml.scriptrun\", \"training_percent\": \"100\", \"start_time\": \"2020-11-15T09:24:33.61293Z\", \"end_time\": \"2020-11-15T09:24:56.212879Z\", \"created_time\": \"2020-11-15T09:12:40.741367Z\", \"created_time_dt\": \"2020-11-15T09:12:40.741367Z\", \"duration\": \"0:12:15\", \"iteration\": \"6\", \"goal\": \"accuracy_max\", \"run_name\": \"StandardScalerWrapper, RandomForest\", \"run_properties\": \"<azureml.automl.runtime.shared.model_wrappers.StandardScalerWrapper object at 0x7fa414c9e908\", \"primary_metric\": 0.78571429, \"best_metric\": 0.875}, {\"run_id\": \"AutoML_c543f296-e326-4356-b26f-f7be218a6366_7\", \"run_number\": 12, \"metric\": null, \"status\": \"Completed\", \"run_type\": \"azureml.scriptrun\", \"training_percent\": \"100\", \"start_time\": \"2020-11-15T09:25:28.101227Z\", \"end_time\": \"2020-11-15T09:25:53.950447Z\", \"created_time\": \"2020-11-15T09:13:40.424339Z\", \"created_time_dt\": \"2020-11-15T09:13:40.424339Z\", \"duration\": \"0:12:13\", \"iteration\": \"7\", \"goal\": \"accuracy_max\", \"run_name\": \"RobustScaler, ExtremeRandomTrees\", \"run_properties\": \"copy=True, quantile_range=[10, 90], with_centering=False,\\n             with_scaling=False\", \"primary_metric\": 0.75, \"best_metric\": 0.875}, {\"run_id\": \"AutoML_c543f296-e326-4356-b26f-f7be218a6366_8\", \"run_number\": 13, \"metric\": null, \"status\": \"Completed\", \"run_type\": \"azureml.scriptrun\", \"training_percent\": \"100\", \"start_time\": \"2020-11-15T09:26:22.984716Z\", \"end_time\": \"2020-11-15T09:26:48.000292Z\", \"created_time\": \"2020-11-15T09:14:29.848192Z\", \"created_time_dt\": \"2020-11-15T09:14:29.848192Z\", \"duration\": \"0:12:18\", \"iteration\": \"8\", \"goal\": \"accuracy_max\", \"run_name\": \"StandardScalerWrapper, ExtremeRandomTrees\", \"run_properties\": \"<azureml.automl.runtime.shared.model_wrappers.StandardScalerWrapper object at 0x7f411cec2278\", \"primary_metric\": 0.83928571, \"best_metric\": 0.875}, {\"run_id\": \"AutoML_c543f296-e326-4356-b26f-f7be218a6366_9\", \"run_number\": 14, \"metric\": null, \"status\": \"Completed\", \"run_type\": \"azureml.scriptrun\", \"training_percent\": \"100\", \"start_time\": \"2020-11-15T09:27:11.093006Z\", \"end_time\": \"2020-11-15T09:27:42.254257Z\", \"created_time\": \"2020-11-15T09:15:31.804269Z\", \"created_time_dt\": \"2020-11-15T09:15:31.804269Z\", \"duration\": \"0:12:10\", \"iteration\": \"9\", \"goal\": \"accuracy_max\", \"run_name\": \"StandardScalerWrapper, SGD\", \"run_properties\": \"<azureml.automl.runtime.shared.model_wrappers.StandardScalerWrapper object at 0x7f6baab6e780\", \"primary_metric\": 0.85714286, \"best_metric\": 0.875}, {\"run_id\": \"AutoML_c543f296-e326-4356-b26f-f7be218a6366_10\", \"run_number\": 15, \"metric\": null, \"status\": \"Canceled\", \"run_type\": \"azureml.scriptrun\", \"training_percent\": \"100\", \"start_time\": \"2020-11-15T09:24:11.71675Z\", \"end_time\": \"2020-11-15T09:31:53.899203Z\", \"created_time\": \"2020-11-15T09:24:11.71675Z\", \"created_time_dt\": \"2020-11-15T09:24:11.71675Z\", \"duration\": \"0:07:42\", \"iteration\": \"10\", \"goal\": null, \"run_name\": \"Canceled\", \"run_properties\": null}, {\"run_id\": \"AutoML_c543f296-e326-4356-b26f-f7be218a6366_11\", \"run_number\": 16, \"metric\": null, \"status\": \"Canceled\", \"run_type\": \"azureml.scriptrun\", \"training_percent\": \"100\", \"start_time\": \"2020-11-15T09:24:59.848089Z\", \"end_time\": \"2020-11-15T09:31:53.210268Z\", \"created_time\": \"2020-11-15T09:24:59.848089Z\", \"created_time_dt\": \"2020-11-15T09:24:59.848089Z\", \"duration\": \"0:06:53\", \"iteration\": \"11\", \"goal\": null, \"run_name\": \"Canceled\", \"run_properties\": null}, {\"run_id\": \"AutoML_c543f296-e326-4356-b26f-f7be218a6366_12\", \"run_number\": 17, \"metric\": null, \"status\": \"Canceled\", \"run_type\": \"azureml.scriptrun\", \"training_percent\": \"100\", \"start_time\": \"2020-11-15T09:26:00.710576Z\", \"end_time\": \"2020-11-15T09:31:51.552443Z\", \"created_time\": \"2020-11-15T09:26:00.710576Z\", \"created_time_dt\": \"2020-11-15T09:26:00.710576Z\", \"duration\": \"0:05:50\", \"iteration\": \"12\", \"goal\": null, \"run_name\": \"Canceled\", \"run_properties\": null}, {\"run_id\": \"AutoML_c543f296-e326-4356-b26f-f7be218a6366_13\", \"run_number\": 18, \"metric\": null, \"status\": \"Canceled\", \"run_type\": \"azureml.scriptrun\", \"training_percent\": \"100\", \"start_time\": \"2020-11-15T09:26:59.743923Z\", \"end_time\": \"2020-11-15T09:31:53.987294Z\", \"created_time\": \"2020-11-15T09:26:59.743923Z\", \"created_time_dt\": \"2020-11-15T09:26:59.743923Z\", \"duration\": \"0:04:54\", \"iteration\": \"13\", \"goal\": null, \"run_name\": \"Canceled\", \"run_properties\": null}, {\"run_id\": \"AutoML_c543f296-e326-4356-b26f-f7be218a6366_14\", \"run_number\": 19, \"metric\": null, \"status\": \"Canceled\", \"run_type\": \"azureml.scriptrun\", \"training_percent\": \"100\", \"start_time\": \"2020-11-15T09:27:48.565997Z\", \"end_time\": \"2020-11-15T09:31:51.46023Z\", \"created_time\": \"2020-11-15T09:27:48.565997Z\", \"created_time_dt\": \"2020-11-15T09:27:48.565997Z\", \"duration\": \"0:04:02\", \"iteration\": \"14\", \"goal\": null, \"run_name\": \"Canceled\", \"run_properties\": null}, {\"run_id\": \"AutoML_c543f296-e326-4356-b26f-f7be218a6366_15\", \"run_number\": 20, \"metric\": null, \"status\": \"Completed\", \"run_type\": \"azureml.scriptrun\", \"training_percent\": \"100\", \"start_time\": \"2020-11-15T09:44:26.189643Z\", \"end_time\": \"2020-11-15T09:45:01.440358Z\", \"created_time\": \"2020-11-15T09:31:56.998437Z\", \"created_time_dt\": \"2020-11-15T09:31:56.998437Z\", \"duration\": \"0:13:04\", \"iteration\": \"15\", \"goal\": \"accuracy_max\", \"run_name\": \"VotingEnsemble\", \"run_properties\": \"classification_labels=None,\\n                              estimators=[('0',\\n                                           Pipeline(memory=None,\\n                                                    steps=[('maxabsscaler',\\n                                                            MaxAbsScaler(copy=True\", \"primary_metric\": 0.89285714, \"best_metric\": 0.89285714}, {\"run_id\": \"AutoML_c543f296-e326-4356-b26f-f7be218a6366_16\", \"run_number\": 21, \"metric\": null, \"status\": \"Completed\", \"run_type\": \"azureml.scriptrun\", \"training_percent\": \"100\", \"start_time\": \"2020-11-15T09:45:40.482976Z\", \"end_time\": \"2020-11-15T09:46:04.464901Z\", \"created_time\": \"2020-11-15T09:31:57.158316Z\", \"created_time_dt\": \"2020-11-15T09:31:57.158316Z\", \"duration\": \"0:14:07\", \"iteration\": \"16\", \"goal\": \"accuracy_max\", \"run_name\": \"StackEnsemble\", \"run_properties\": \"base_learners=[('0',\\n                                        Pipeline(memory=None,\\n                                                 steps=[('maxabsscaler',\\n                                                         MaxAbsScaler(copy=True\", \"primary_metric\": 0.875, \"best_metric\": 0.89285714}], \"children_metrics\": {\"categories\": [0], \"series\": {\"average_precision_score_macro\": [{\"categories\": [\"0\", \"1\", \"2\", \"3\", \"4\", \"5\", \"6\", \"7\", \"8\", \"9\", \"15\", \"16\"], \"mode\": \"markers\", \"name\": \"average_precision_score_macro\", \"stepped\": false, \"type\": \"scatter\", \"data\": [0.8824264307283258, 0.8909665094605163, 0.8674172821025181, 0.8902844909624327, 0.8956008883995958, 0.8844540528590789, 0.8338646296339003, 0.8808823122382822, 0.8906098748705051, 0.8911409718325253, 0.9424664888554648, 0.9424395140931421]}, {\"categories\": [\"0\", \"1\", \"2\", \"3\", \"4\", \"5\", \"6\", \"7\", \"8\", \"9\", \"15\", \"16\"], \"mode\": \"lines\", \"name\": \"average_precision_score_macro_max\", \"stepped\": true, \"type\": \"scatter\", \"data\": [0.8824264307283258, 0.8909665094605163, 0.8909665094605163, 0.8909665094605163, 0.8956008883995958, 0.8956008883995958, 0.8956008883995958, 0.8956008883995958, 0.8956008883995958, 0.8956008883995958, 0.9424664888554648, 0.9424664888554648]}], \"log_loss\": [{\"categories\": [\"0\", \"1\", \"2\", \"3\", \"4\", \"5\", \"6\", \"7\", \"8\", \"9\", \"15\", \"16\"], \"mode\": \"markers\", \"name\": \"log_loss\", \"stepped\": false, \"type\": \"scatter\", \"data\": [0.37490095340164115, 0.32912313687961864, 0.38192517043711494, 0.3827635561019174, 0.4021079153101592, 0.5281446612860288, 0.9529196416586846, 0.48853064060743057, 0.4946457412878122, 0.39176757575455945, 0.3442398041230329, 0.35193599384047075]}, {\"categories\": [\"0\", \"1\", \"2\", \"3\", \"4\", \"5\", \"6\", \"7\", \"8\", \"9\", \"15\", \"16\"], \"mode\": \"lines\", \"name\": \"log_loss_min\", \"stepped\": true, \"type\": \"scatter\", \"data\": [0.37490095340164115, 0.32912313687961864, 0.32912313687961864, 0.32912313687961864, 0.32912313687961864, 0.32912313687961864, 0.32912313687961864, 0.32912313687961864, 0.32912313687961864, 0.32912313687961864, 0.32912313687961864, 0.32912313687961864]}], \"precision_score_micro\": [{\"categories\": [\"0\", \"1\", \"2\", \"3\", \"4\", \"5\", \"6\", \"7\", \"8\", \"9\", \"15\", \"16\"], \"mode\": \"markers\", \"name\": \"precision_score_micro\", \"stepped\": false, \"type\": \"scatter\", \"data\": [0.875, 0.875, 0.8392857142857143, 0.8571428571428571, 0.8035714285714286, 0.75, 0.7857142857142857, 0.75, 0.8392857142857143, 0.8571428571428571, 0.8928571428571429, 0.875]}, {\"categories\": [\"0\", \"1\", \"2\", \"3\", \"4\", \"5\", \"6\", \"7\", \"8\", \"9\", \"15\", \"16\"], \"mode\": \"lines\", \"name\": \"precision_score_micro_max\", \"stepped\": true, \"type\": \"scatter\", \"data\": [0.875, 0.875, 0.875, 0.875, 0.875, 0.875, 0.875, 0.875, 0.875, 0.875, 0.8928571428571429, 0.8928571428571429]}], \"accuracy\": [{\"categories\": [\"0\", \"1\", \"2\", \"3\", \"4\", \"5\", \"6\", \"7\", \"8\", \"9\", \"15\", \"16\"], \"mode\": \"markers\", \"name\": \"accuracy\", \"stepped\": false, \"type\": \"scatter\", \"data\": [0.875, 0.875, 0.8392857142857143, 0.8571428571428571, 0.8035714285714286, 0.75, 0.7857142857142857, 0.75, 0.8392857142857143, 0.8571428571428571, 0.8928571428571429, 0.875]}, {\"categories\": [\"0\", \"1\", \"2\", \"3\", \"4\", \"5\", \"6\", \"7\", \"8\", \"9\", \"15\", \"16\"], \"mode\": \"lines\", \"name\": \"accuracy_max\", \"stepped\": true, \"type\": \"scatter\", \"data\": [0.875, 0.875, 0.875, 0.875, 0.875, 0.875, 0.875, 0.875, 0.875, 0.875, 0.8928571428571429, 0.8928571428571429]}], \"matthews_correlation\": [{\"categories\": [\"0\", \"1\", \"2\", \"3\", \"4\", \"5\", \"6\", \"7\", \"8\", \"9\", \"15\", \"16\"], \"mode\": \"markers\", \"name\": \"matthews_correlation\", \"stepped\": false, \"type\": \"scatter\", \"data\": [0.7181639971760345, 0.7181639971760345, 0.6374065999032273, 0.6752529632113417, 0.5449334407495944, 0.494497785099829, 0.5220483641536273, 0.4134008025292192, 0.6465675746400715, 0.6752529632113417, 0.7610241820768137, 0.7156053649930442]}, {\"categories\": [\"0\", \"1\", \"2\", \"3\", \"4\", \"5\", \"6\", \"7\", \"8\", \"9\", \"15\", \"16\"], \"mode\": \"lines\", \"name\": \"matthews_correlation_max\", \"stepped\": true, \"type\": \"scatter\", \"data\": [0.7181639971760345, 0.7181639971760345, 0.7181639971760345, 0.7181639971760345, 0.7181639971760345, 0.7181639971760345, 0.7181639971760345, 0.7181639971760345, 0.7181639971760345, 0.7181639971760345, 0.7610241820768137, 0.7610241820768137]}], \"recall_score_weighted\": [{\"categories\": [\"0\", \"1\", \"2\", \"3\", \"4\", \"5\", \"6\", \"7\", \"8\", \"9\", \"15\", \"16\"], \"mode\": \"markers\", \"name\": \"recall_score_weighted\", \"stepped\": false, \"type\": \"scatter\", \"data\": [0.875, 0.875, 0.8392857142857143, 0.8571428571428571, 0.8035714285714286, 0.75, 0.7857142857142857, 0.75, 0.8392857142857143, 0.8571428571428571, 0.8928571428571429, 0.875]}, {\"categories\": [\"0\", \"1\", \"2\", \"3\", \"4\", \"5\", \"6\", \"7\", \"8\", \"9\", \"15\", \"16\"], \"mode\": \"lines\", \"name\": \"recall_score_weighted_max\", \"stepped\": true, \"type\": \"scatter\", \"data\": [0.875, 0.875, 0.875, 0.875, 0.875, 0.875, 0.875, 0.875, 0.875, 0.875, 0.8928571428571429, 0.8928571428571429]}], \"recall_score_micro\": [{\"categories\": [\"0\", \"1\", \"2\", \"3\", \"4\", \"5\", \"6\", \"7\", \"8\", \"9\", \"15\", \"16\"], \"mode\": \"markers\", \"name\": \"recall_score_micro\", \"stepped\": false, \"type\": \"scatter\", \"data\": [0.875, 0.875, 0.8392857142857143, 0.8571428571428571, 0.8035714285714286, 0.75, 0.7857142857142857, 0.75, 0.8392857142857143, 0.8571428571428571, 0.8928571428571429, 0.875]}, {\"categories\": [\"0\", \"1\", \"2\", \"3\", \"4\", \"5\", \"6\", \"7\", \"8\", \"9\", \"15\", \"16\"], \"mode\": \"lines\", \"name\": \"recall_score_micro_max\", \"stepped\": true, \"type\": \"scatter\", \"data\": [0.875, 0.875, 0.875, 0.875, 0.875, 0.875, 0.875, 0.875, 0.875, 0.875, 0.8928571428571429, 0.8928571428571429]}], \"recall_score_macro\": [{\"categories\": [\"0\", \"1\", \"2\", \"3\", \"4\", \"5\", \"6\", \"7\", \"8\", \"9\", \"15\", \"16\"], \"mode\": \"markers\", \"name\": \"recall_score_macro\", \"stepped\": false, \"type\": \"scatter\", \"data\": [0.8541963015647227, 0.8541963015647227, 0.8143669985775248, 0.8278805120910384, 0.7361308677098151, 0.759601706970128, 0.7610241820768137, 0.6443812233285917, 0.8271692745376956, 0.8278805120910384, 0.8805120910384068, 0.8413940256045519]}, {\"categories\": [\"0\", \"1\", \"2\", \"3\", \"4\", \"5\", \"6\", \"7\", \"8\", \"9\", \"15\", \"16\"], \"mode\": \"lines\", \"name\": \"recall_score_macro_max\", \"stepped\": true, \"type\": \"scatter\", \"data\": [0.8541963015647227, 0.8541963015647227, 0.8541963015647227, 0.8541963015647227, 0.8541963015647227, 0.8541963015647227, 0.8541963015647227, 0.8541963015647227, 0.8541963015647227, 0.8541963015647227, 0.8805120910384068, 0.8805120910384068]}], \"AUC_weighted\": [{\"categories\": [\"0\", \"1\", \"2\", \"3\", \"4\", \"5\", \"6\", \"7\", \"8\", \"9\", \"15\", \"16\"], \"mode\": \"markers\", \"name\": \"AUC_weighted\", \"stepped\": false, \"type\": \"scatter\", \"data\": [0.9345661450924609, 0.9388335704125177, 0.9075391180654339, 0.8890469416785206, 0.9317211948790897, 0.8847795163584637, 0.891891891891892, 0.8975817923186346, 0.8947368421052632, 0.8904694167852062, 0.9516358463726885, 0.9544807965860598]}, {\"categories\": [\"0\", \"1\", \"2\", \"3\", \"4\", \"5\", \"6\", \"7\", \"8\", \"9\", \"15\", \"16\"], \"mode\": \"lines\", \"name\": \"AUC_weighted_max\", \"stepped\": true, \"type\": \"scatter\", \"data\": [0.9345661450924609, 0.9388335704125177, 0.9388335704125177, 0.9388335704125177, 0.9388335704125177, 0.9388335704125177, 0.9388335704125177, 0.9388335704125177, 0.9388335704125177, 0.9388335704125177, 0.9516358463726885, 0.9544807965860598]}], \"f1_score_micro\": [{\"categories\": [\"0\", \"1\", \"2\", \"3\", \"4\", \"5\", \"6\", \"7\", \"8\", \"9\", \"15\", \"16\"], \"mode\": \"markers\", \"name\": \"f1_score_micro\", \"stepped\": false, \"type\": \"scatter\", \"data\": [0.875, 0.875, 0.8392857142857143, 0.8571428571428571, 0.8035714285714286, 0.75, 0.7857142857142857, 0.75, 0.8392857142857143, 0.8571428571428571, 0.8928571428571429, 0.875]}, {\"categories\": [\"0\", \"1\", \"2\", \"3\", \"4\", \"5\", \"6\", \"7\", \"8\", \"9\", \"15\", \"16\"], \"mode\": \"lines\", \"name\": \"f1_score_micro_max\", \"stepped\": true, \"type\": \"scatter\", \"data\": [0.875, 0.875, 0.875, 0.875, 0.875, 0.875, 0.875, 0.875, 0.875, 0.875, 0.8928571428571429, 0.8928571428571429]}], \"precision_score_macro\": [{\"categories\": [\"0\", \"1\", \"2\", \"3\", \"4\", \"5\", \"6\", \"7\", \"8\", \"9\", \"15\", \"16\"], \"mode\": \"markers\", \"name\": \"precision_score_macro\", \"stepped\": false, \"type\": \"scatter\", \"data\": [0.8640350877192983, 0.8640350877192983, 0.8230994152046784, 0.8476621417797888, 0.8143939393939394, 0.7354838709677419, 0.7610241820768137, 0.7959183673469388, 0.8194444444444444, 0.8476621417797888, 0.8805120910384068, 0.875]}, {\"categories\": [\"0\", \"1\", \"2\", \"3\", \"4\", \"5\", \"6\", \"7\", \"8\", \"9\", \"15\", \"16\"], \"mode\": \"lines\", \"name\": \"precision_score_macro_max\", \"stepped\": true, \"type\": \"scatter\", \"data\": [0.8640350877192983, 0.8640350877192983, 0.8640350877192983, 0.8640350877192983, 0.8640350877192983, 0.8640350877192983, 0.8640350877192983, 0.8640350877192983, 0.8640350877192983, 0.8640350877192983, 0.8805120910384068, 0.8805120910384068]}], \"f1_score_macro\": [{\"categories\": [\"0\", \"1\", \"2\", \"3\", \"4\", \"5\", \"6\", \"7\", \"8\", \"9\", \"15\", \"16\"], \"mode\": \"markers\", \"name\": \"f1_score_macro\", \"stepped\": false, \"type\": \"scatter\", \"data\": [0.8587387387387388, 0.8587387387387388, 0.8183783783783783, 0.8362573099415205, 0.754679410593389, 0.7379679144385027, 0.7610241820768137, 0.6493738819320214, 0.8229715489989462, 0.8362573099415205, 0.8805120910384068, 0.8545454545454545]}, {\"categories\": [\"0\", \"1\", \"2\", \"3\", \"4\", \"5\", \"6\", \"7\", \"8\", \"9\", \"15\", \"16\"], \"mode\": \"lines\", \"name\": \"f1_score_macro_max\", \"stepped\": true, \"type\": \"scatter\", \"data\": [0.8587387387387388, 0.8587387387387388, 0.8587387387387388, 0.8587387387387388, 0.8587387387387388, 0.8587387387387388, 0.8587387387387388, 0.8587387387387388, 0.8587387387387388, 0.8587387387387388, 0.8805120910384068, 0.8805120910384068]}], \"average_precision_score_weighted\": [{\"categories\": [\"0\", \"1\", \"2\", \"3\", \"4\", \"5\", \"6\", \"7\", \"8\", \"9\", \"15\", \"16\"], \"mode\": \"markers\", \"name\": \"average_precision_score_weighted\", \"stepped\": false, \"type\": \"scatter\", \"data\": [0.9116658641087486, 0.9177640134431239, 0.89694804654936, 0.9056145058604796, 0.9202247996343367, 0.9005064485071639, 0.8724952304977707, 0.9031629939182417, 0.9073030162599552, 0.9063656780864056, 0.9538914897521266, 0.9546065681777502]}, {\"categories\": [\"0\", \"1\", \"2\", \"3\", \"4\", \"5\", \"6\", \"7\", \"8\", \"9\", \"15\", \"16\"], \"mode\": \"lines\", \"name\": \"average_precision_score_weighted_max\", \"stepped\": true, \"type\": \"scatter\", \"data\": [0.9116658641087486, 0.9177640134431239, 0.9177640134431239, 0.9177640134431239, 0.9202247996343367, 0.9202247996343367, 0.9202247996343367, 0.9202247996343367, 0.9202247996343367, 0.9202247996343367, 0.9538914897521266, 0.9546065681777502]}], \"AUC_macro\": [{\"categories\": [\"0\", \"1\", \"2\", \"3\", \"4\", \"5\", \"6\", \"7\", \"8\", \"9\", \"15\", \"16\"], \"mode\": \"markers\", \"name\": \"AUC_macro\", \"stepped\": false, \"type\": \"scatter\", \"data\": [0.9345661450924609, 0.9388335704125177, 0.907539118065434, 0.8890469416785207, 0.9317211948790896, 0.8847795163584637, 0.8918918918918919, 0.8975817923186344, 0.8947368421052632, 0.8904694167852063, 0.9516358463726884, 0.9544807965860598]}, {\"categories\": [\"0\", \"1\", \"2\", \"3\", \"4\", \"5\", \"6\", \"7\", \"8\", \"9\", \"15\", \"16\"], \"mode\": \"lines\", \"name\": \"AUC_macro_max\", \"stepped\": true, \"type\": \"scatter\", \"data\": [0.9345661450924609, 0.9388335704125177, 0.9388335704125177, 0.9388335704125177, 0.9388335704125177, 0.9388335704125177, 0.9388335704125177, 0.9388335704125177, 0.9388335704125177, 0.9388335704125177, 0.9516358463726884, 0.9544807965860598]}], \"balanced_accuracy\": [{\"categories\": [\"0\", \"1\", \"2\", \"3\", \"4\", \"5\", \"6\", \"7\", \"8\", \"9\", \"15\", \"16\"], \"mode\": \"markers\", \"name\": \"balanced_accuracy\", \"stepped\": false, \"type\": \"scatter\", \"data\": [0.8541963015647227, 0.8541963015647227, 0.8143669985775248, 0.8278805120910384, 0.7361308677098151, 0.759601706970128, 0.7610241820768137, 0.6443812233285917, 0.8271692745376956, 0.8278805120910384, 0.8805120910384068, 0.8413940256045519]}, {\"categories\": [\"0\", \"1\", \"2\", \"3\", \"4\", \"5\", \"6\", \"7\", \"8\", \"9\", \"15\", \"16\"], \"mode\": \"lines\", \"name\": \"balanced_accuracy_max\", \"stepped\": true, \"type\": \"scatter\", \"data\": [0.8541963015647227, 0.8541963015647227, 0.8541963015647227, 0.8541963015647227, 0.8541963015647227, 0.8541963015647227, 0.8541963015647227, 0.8541963015647227, 0.8541963015647227, 0.8541963015647227, 0.8805120910384068, 0.8805120910384068]}], \"average_precision_score_micro\": [{\"categories\": [\"0\", \"1\", \"2\", \"3\", \"4\", \"5\", \"6\", \"7\", \"8\", \"9\", \"15\", \"16\"], \"mode\": \"markers\", \"name\": \"average_precision_score_micro\", \"stepped\": false, \"type\": \"scatter\", \"data\": [0.9195011463750136, 0.9076834111317205, 0.916141568576478, 0.9147848457566332, 0.9307802464018121, 0.8536471903968975, 0.8724344702028811, 0.8792940524120484, 0.9114552130844289, 0.9125940320954318, 0.9581582434794088, 0.9533417810608407]}, {\"categories\": [\"0\", \"1\", \"2\", \"3\", \"4\", \"5\", \"6\", \"7\", \"8\", \"9\", \"15\", \"16\"], \"mode\": \"lines\", \"name\": \"average_precision_score_micro_max\", \"stepped\": true, \"type\": \"scatter\", \"data\": [0.9195011463750136, 0.9195011463750136, 0.9195011463750136, 0.9195011463750136, 0.9307802464018121, 0.9307802464018121, 0.9307802464018121, 0.9307802464018121, 0.9307802464018121, 0.9307802464018121, 0.9581582434794088, 0.9581582434794088]}], \"f1_score_weighted\": [{\"categories\": [\"0\", \"1\", \"2\", \"3\", \"4\", \"5\", \"6\", \"7\", \"8\", \"9\", \"15\", \"16\"], \"mode\": \"markers\", \"name\": \"f1_score_weighted\", \"stepped\": false, \"type\": \"scatter\", \"data\": [0.8741441441441441, 0.8741441441441441, 0.8381853281853282, 0.8550543024227235, 0.7898816635375775, 0.7560160427807486, 0.7857142857142857, 0.7097495527728085, 0.8402453710672889, 0.8550543024227235, 0.8928571428571429, 0.8720779220779219]}, {\"categories\": [\"0\", \"1\", \"2\", \"3\", \"4\", \"5\", \"6\", \"7\", \"8\", \"9\", \"15\", \"16\"], \"mode\": \"lines\", \"name\": \"f1_score_weighted_max\", \"stepped\": true, \"type\": \"scatter\", \"data\": [0.8741441441441441, 0.8741441441441441, 0.8741441441441441, 0.8741441441441441, 0.8741441441441441, 0.8741441441441441, 0.8741441441441441, 0.8741441441441441, 0.8741441441441441, 0.8741441441441441, 0.8928571428571429, 0.8928571428571429]}], \"precision_score_weighted\": [{\"categories\": [\"0\", \"1\", \"2\", \"3\", \"4\", \"5\", \"6\", \"7\", \"8\", \"9\", \"15\", \"16\"], \"mode\": \"markers\", \"name\": \"precision_score_weighted\", \"stepped\": false, \"type\": \"scatter\", \"data\": [0.8739035087719299, 0.8739035087719299, 0.8376670843776107, 0.8554190907132083, 0.8083062770562771, 0.7790322580645161, 0.7857142857142857, 0.7762390670553936, 0.8417658730158729, 0.8554190907132083, 0.8928571428571429, 0.875]}, {\"categories\": [\"0\", \"1\", \"2\", \"3\", \"4\", \"5\", \"6\", \"7\", \"8\", \"9\", \"15\", \"16\"], \"mode\": \"lines\", \"name\": \"precision_score_weighted_max\", \"stepped\": true, \"type\": \"scatter\", \"data\": [0.8739035087719299, 0.8739035087719299, 0.8739035087719299, 0.8739035087719299, 0.8739035087719299, 0.8739035087719299, 0.8739035087719299, 0.8739035087719299, 0.8739035087719299, 0.8739035087719299, 0.8928571428571429, 0.8928571428571429]}], \"norm_macro_recall\": [{\"categories\": [\"0\", \"1\", \"2\", \"3\", \"4\", \"5\", \"6\", \"7\", \"8\", \"9\", \"15\", \"16\"], \"mode\": \"markers\", \"name\": \"norm_macro_recall\", \"stepped\": false, \"type\": \"scatter\", \"data\": [0.7083926031294454, 0.7083926031294454, 0.6287339971550496, 0.6557610241820768, 0.4722617354196301, 0.5192034139402559, 0.5220483641536273, 0.2887624466571834, 0.6543385490753912, 0.6557610241820768, 0.7610241820768135, 0.6827880512091038]}, {\"categories\": [\"0\", \"1\", \"2\", \"3\", \"4\", \"5\", \"6\", \"7\", \"8\", \"9\", \"15\", \"16\"], \"mode\": \"lines\", \"name\": \"norm_macro_recall_max\", \"stepped\": true, \"type\": \"scatter\", \"data\": [0.7083926031294454, 0.7083926031294454, 0.7083926031294454, 0.7083926031294454, 0.7083926031294454, 0.7083926031294454, 0.7083926031294454, 0.7083926031294454, 0.7083926031294454, 0.7083926031294454, 0.7610241820768135, 0.7610241820768135]}], \"weighted_accuracy\": [{\"categories\": [\"0\", \"1\", \"2\", \"3\", \"4\", \"5\", \"6\", \"7\", \"8\", \"9\", \"15\", \"16\"], \"mode\": \"markers\", \"name\": \"weighted_accuracy\", \"stepped\": false, \"type\": \"scatter\", \"data\": [0.891907514450867, 0.8919075144508671, 0.8595375722543354, 0.8809248554913295, 0.8583815028901733, 0.7421965317919075, 0.8057803468208092, 0.8358381502890174, 0.8491329479768787, 0.8809248554913295, 0.9028901734104046, 0.9023121387283237]}, {\"categories\": [\"0\", \"1\", \"2\", \"3\", \"4\", \"5\", \"6\", \"7\", \"8\", \"9\", \"15\", \"16\"], \"mode\": \"lines\", \"name\": \"weighted_accuracy_max\", \"stepped\": true, \"type\": \"scatter\", \"data\": [0.891907514450867, 0.8919075144508671, 0.8919075144508671, 0.8919075144508671, 0.8919075144508671, 0.8919075144508671, 0.8919075144508671, 0.8919075144508671, 0.8919075144508671, 0.8919075144508671, 0.9028901734104046, 0.9028901734104046]}], \"AUC_micro\": [{\"categories\": [\"0\", \"1\", \"2\", \"3\", \"4\", \"5\", \"6\", \"7\", \"8\", \"9\", \"15\", \"16\"], \"mode\": \"markers\", \"name\": \"AUC_micro\", \"stepped\": false, \"type\": \"scatter\", \"data\": [0.9295280612244897, 0.9346301020408163, 0.9103954081632654, 0.9113520408163266, 0.9250637755102041, 0.8501275510204082, 0.8985969387755101, 0.8686224489795918, 0.907844387755102, 0.909438775510204, 0.9547193877551021, 0.9492984693877551]}, {\"categories\": [\"0\", \"1\", \"2\", \"3\", \"4\", \"5\", \"6\", \"7\", \"8\", \"9\", \"15\", \"16\"], \"mode\": \"lines\", \"name\": \"AUC_micro_max\", \"stepped\": true, \"type\": \"scatter\", \"data\": [0.9295280612244897, 0.9346301020408163, 0.9346301020408163, 0.9346301020408163, 0.9346301020408163, 0.9346301020408163, 0.9346301020408163, 0.9346301020408163, 0.9346301020408163, 0.9346301020408163, 0.9547193877551021, 0.9547193877551021]}]}, \"metricName\": null, \"primaryMetricName\": \"accuracy\", \"showLegend\": false}, \"run_metrics\": [{\"name\": \"experiment_status\", \"run_id\": \"AutoML_c543f296-e326-4356-b26f-f7be218a6366\", \"categories\": [0, 1, 2, 3, 4, 5, 6, 7, 8, 9, 10, 11, 12], \"series\": [{\"data\": [\"DatasetEvaluation\", \"FeaturesGeneration\", \"DatasetFeaturization\", \"DatasetFeaturizationCompleted\", \"ModelSelection\", \"BestRunExplainModel\", \"ModelExplanationDataSetSetup\", \"PickSurrogateModel\", \"EngineeredFeatureExplanations\", \"EngineeredFeatureExplanations\", \"RawFeaturesExplanations\", \"RawFeaturesExplanations\", \"BestRunExplainModel\"]}]}, {\"name\": \"experiment_status_description\", \"run_id\": \"AutoML_c543f296-e326-4356-b26f-f7be218a6366\", \"categories\": [0, 1, 2, 3, 4, 5, 6, 7, 8, 9, 10, 11, 12], \"series\": [{\"data\": [\"Gathering dataset statistics.\", \"Generating features for the dataset.\", \"Beginning to fit featurizers and featurize the dataset.\", \"Completed fit featurizers and featurizing the dataset.\", \"Beginning model selection.\", \"Best run model explanations started\", \"Model explanations data setup completed\", \"Choosing LightGBM as the surrogate model for explanations\", \"Computation of engineered features started\", \"Computation of engineered features completed\", \"Computation of raw features started\", \"Computation of raw features completed\", \"Best run model explanations completed\"]}]}, {\"name\": \"f1_score_macro\", \"run_id\": \"AutoML_c543f296-e326-4356-b26f-f7be218a6366\", \"categories\": [0], \"series\": [{\"data\": [0.8805120910384068]}]}, {\"name\": \"weighted_accuracy\", \"run_id\": \"AutoML_c543f296-e326-4356-b26f-f7be218a6366\", \"categories\": [0], \"series\": [{\"data\": [0.9028901734104046]}]}, {\"name\": \"balanced_accuracy\", \"run_id\": \"AutoML_c543f296-e326-4356-b26f-f7be218a6366\", \"categories\": [0], \"series\": [{\"data\": [0.8805120910384068]}]}, {\"name\": \"norm_macro_recall\", \"run_id\": \"AutoML_c543f296-e326-4356-b26f-f7be218a6366\", \"categories\": [0], \"series\": [{\"data\": [0.7610241820768135]}]}, {\"name\": \"accuracy\", \"run_id\": \"AutoML_c543f296-e326-4356-b26f-f7be218a6366\", \"categories\": [0], \"series\": [{\"data\": [0.8928571428571429]}]}, {\"name\": \"AUC_weighted\", \"run_id\": \"AutoML_c543f296-e326-4356-b26f-f7be218a6366\", \"categories\": [0], \"series\": [{\"data\": [0.9516358463726885]}]}, {\"name\": \"precision_score_weighted\", \"run_id\": \"AutoML_c543f296-e326-4356-b26f-f7be218a6366\", \"categories\": [0], \"series\": [{\"data\": [0.8928571428571429]}]}, {\"name\": \"matthews_correlation\", \"run_id\": \"AutoML_c543f296-e326-4356-b26f-f7be218a6366\", \"categories\": [0], \"series\": [{\"data\": [0.7610241820768137]}]}, {\"name\": \"precision_score_micro\", \"run_id\": \"AutoML_c543f296-e326-4356-b26f-f7be218a6366\", \"categories\": [0], \"series\": [{\"data\": [0.8928571428571429]}]}, {\"name\": \"AUC_macro\", \"run_id\": \"AutoML_c543f296-e326-4356-b26f-f7be218a6366\", \"categories\": [0], \"series\": [{\"data\": [0.9516358463726884]}]}, {\"name\": \"precision_score_macro\", \"run_id\": \"AutoML_c543f296-e326-4356-b26f-f7be218a6366\", \"categories\": [0], \"series\": [{\"data\": [0.8805120910384068]}]}, {\"name\": \"AUC_micro\", \"run_id\": \"AutoML_c543f296-e326-4356-b26f-f7be218a6366\", \"categories\": [0], \"series\": [{\"data\": [0.9547193877551021]}]}, {\"name\": \"average_precision_score_weighted\", \"run_id\": \"AutoML_c543f296-e326-4356-b26f-f7be218a6366\", \"categories\": [0], \"series\": [{\"data\": [0.9538914897521266]}]}, {\"name\": \"average_precision_score_micro\", \"run_id\": \"AutoML_c543f296-e326-4356-b26f-f7be218a6366\", \"categories\": [0], \"series\": [{\"data\": [0.9581582434794088]}]}, {\"name\": \"f1_score_micro\", \"run_id\": \"AutoML_c543f296-e326-4356-b26f-f7be218a6366\", \"categories\": [0], \"series\": [{\"data\": [0.8928571428571429]}]}, {\"name\": \"recall_score_macro\", \"run_id\": \"AutoML_c543f296-e326-4356-b26f-f7be218a6366\", \"categories\": [0], \"series\": [{\"data\": [0.8805120910384068]}]}, {\"name\": \"f1_score_weighted\", \"run_id\": \"AutoML_c543f296-e326-4356-b26f-f7be218a6366\", \"categories\": [0], \"series\": [{\"data\": [0.8928571428571429]}]}, {\"name\": \"log_loss\", \"run_id\": \"AutoML_c543f296-e326-4356-b26f-f7be218a6366\", \"categories\": [0], \"series\": [{\"data\": [0.3442398041230329]}]}, {\"name\": \"recall_score_micro\", \"run_id\": \"AutoML_c543f296-e326-4356-b26f-f7be218a6366\", \"categories\": [0], \"series\": [{\"data\": [0.8928571428571429]}]}, {\"name\": \"average_precision_score_macro\", \"run_id\": \"AutoML_c543f296-e326-4356-b26f-f7be218a6366\", \"categories\": [0], \"series\": [{\"data\": [0.9424664888554648]}]}, {\"name\": \"recall_score_weighted\", \"run_id\": \"AutoML_c543f296-e326-4356-b26f-f7be218a6366\", \"categories\": [0], \"series\": [{\"data\": [0.8928571428571429]}]}], \"run_logs\": \"\\nRun is completed.\", \"graph\": {}, \"widget_settings\": {\"childWidgetDisplay\": \"popup\", \"send_telemetry\": false, \"log_level\": \"INFO\", \"sdk_version\": \"1.18.0\"}, \"loading\": false}"
     },
     "metadata": {},
     "output_type": "display_data"
    }
   ],
   "source": [
    "RunDetails(Automl_run).show()"
   ]
  },
  {
   "cell_type": "markdown",
   "metadata": {},
   "source": [
    "## Best Model\n",
    "\n",
    "Getb the best model from the automl experiments and display all the properties of the model.\n",
    "\n"
   ]
  },
  {
   "cell_type": "code",
   "execution_count": 9,
   "metadata": {
    "gather": {
     "logged": 1598431425670
    },
    "jupyter": {
     "outputs_hidden": false,
     "source_hidden": false
    },
    "nteract": {
     "transient": {
      "deleting": false
     }
    }
   },
   "outputs": [
    {
     "name": "stdout",
     "output_type": "stream",
     "text": [
      "Run(Experiment: Heart-Failure-AutoMlProject,\n",
      "Id: AutoML_c543f296-e326-4356-b26f-f7be218a6366_15,\n",
      "Type: azureml.scriptrun,\n",
      "Status: Completed)\n",
      "Pipeline(memory=None,\n",
      "         steps=[('datatransformer',\n",
      "                 DataTransformer(enable_dnn=None, enable_feature_sweeping=None,\n",
      "                                 feature_sweeping_config=None,\n",
      "                                 feature_sweeping_timeout=None,\n",
      "                                 featurization_config=None, force_text_dnn=None,\n",
      "                                 is_cross_validation=None,\n",
      "                                 is_onnx_compatible=None, logger=None,\n",
      "                                 observer=None, task=None, working_dir=None)),\n",
      "                ('prefittedsoftvotingclassifier',...\n",
      "                                                                                                  min_impurity_split=None,\n",
      "                                                                                                  min_samples_leaf=0.01,\n",
      "                                                                                                  min_samples_split=0.056842105263157895,\n",
      "                                                                                                  min_weight_fraction_leaf=0.0,\n",
      "                                                                                                  n_estimators=25,\n",
      "                                                                                                  n_jobs=1,\n",
      "                                                                                                  oob_score=False,\n",
      "                                                                                                  random_state=None,\n",
      "                                                                                                  verbose=0,\n",
      "                                                                                                  warm_start=False))],\n",
      "                                                                     verbose=False))],\n",
      "                                               flatten_transform=None,\n",
      "                                               weights=[0.16666666666666666,\n",
      "                                                        0.16666666666666666,\n",
      "                                                        0.3333333333333333,\n",
      "                                                        0.16666666666666666,\n",
      "                                                        0.16666666666666666]))],\n",
      "         verbose=False)\n"
     ]
    }
   ],
   "source": [
    "best_run, fitted_model = Automl_run.get_output()\n",
    "print(best_run)\n",
    "print(fitted_model)"
   ]
  },
  {
   "cell_type": "code",
   "execution_count": 10,
   "metadata": {
    "gather": {
     "logged": 1598431426111
    },
    "jupyter": {
     "outputs_hidden": false,
     "source_hidden": false
    },
    "nteract": {
     "transient": {
      "deleting": false
     }
    }
   },
   "outputs": [
    {
     "name": "stdout",
     "output_type": "stream",
     "text": [
      "AutoMLc543f296e15\n"
     ]
    }
   ],
   "source": [
    "model_name = best_run.properties['model_name']\n",
    "# register model in workspace\n",
    "description = 'Automated Machine Learning Model'\n",
    "tags = None\n",
    "auto_ml=Automl_run.register_model(model_name=model_name, description=description, tags=tags)\n",
    "print(Automl_run.model_id) # Use this id to deploy the model as a web service in Azure"
   ]
  },
  {
   "cell_type": "markdown",
   "metadata": {},
   "source": [
    "## Model Deployment 1\n",
    "\n",
    "\n",
    "Remember you have to deploy only one of the two models you trained. Perform the steps in the rest of this notebook only if you wish to deploy this model.\n",
    "\n",
    "TODO: In the cell below, register the model, create an inference config and deploy the model as a web service."
   ]
  },
  {
   "cell_type": "code",
   "execution_count": 17,
   "metadata": {
    "gather": {
     "logged": 1598431435189
    },
    "jupyter": {
     "outputs_hidden": false,
     "source_hidden": false
    },
    "nteract": {
     "transient": {
      "deleting": false
     }
    }
   },
   "outputs": [],
   "source": [
    "#Set up the Environment \n",
    "env = Environment(workspace=ws, name=\"myenv\")  \n",
    "\n",
    "#Install the correct packages\n",
    "#env.python.conda_dependencies.add_pip_package(\"scikit-learn\")  \n",
    "#Conda Packages\n",
    "env.python.conda_dependencies.add_conda_package(\"python==3.7\")\n",
    "env.python.conda_dependencies.add_conda_package(\"scikit-learn==0.22.1\")\n",
    "\n",
    "# Pip Packages\n",
    "#env.python.conda_dependencies.add_pip_package('ference-schema[numpy-support]')\n",
    "env.python.conda_dependencies.add_pip_package(\"numpy\")\n",
    "env.python.conda_dependencies.add_pip_package(\"azureml-train-automl-runtime==1.15.0\")\n",
    "env.python.conda_dependencies.add_pip_package(\"azureml-explain-model==1.15.0\")\n",
    "env.python.conda_dependencies.add_pip_package(\"inference-schema\")\n",
    "env.python.conda_dependencies.add_pip_package(\"azureml-defaults==1.15.0\")\n",
    "env.python.conda_dependencies.add_conda_package(\"py-xgboost\")\n",
    "env.python.conda_dependencies.add_pip_package(\"joblib\")"
   ]
  },
  {
   "cell_type": "code",
   "execution_count": 18,
   "metadata": {},
   "outputs": [],
   "source": [
    "#Set up the inference_config\n",
    "inference_config = InferenceConfig(entry_script='score.py', environment=env)"
   ]
  },
  {
   "cell_type": "code",
   "execution_count": 51,
   "metadata": {},
   "outputs": [
    {
     "name": "stdout",
     "output_type": "stream",
     "text": [
      "Downloading model AutoMLc543f296e15:1 to /tmp/azureml_kigdn646/AutoMLc543f296e15/1\n",
      "Generating Docker build context.\n",
      "Package creation Succeeded\n",
      "Logging into Docker registry 2682445fa265434ca9604922460a7b0c.azurecr.io\n",
      "Logging into Docker registry 2682445fa265434ca9604922460a7b0c.azurecr.io\n",
      "Building Docker image from Dockerfile...\n",
      "Step 1/5 : FROM 2682445fa265434ca9604922460a7b0c.azurecr.io/azureml/azureml_c387b30a4ed07d1342851b515a9be92a\n",
      " ---> f28b68d7abaf\n",
      "Step 2/5 : COPY azureml-app /var/azureml-app\n",
      " ---> 139d01ecedc2\n",
      "Step 3/5 : RUN mkdir -p '/var/azureml-app' && echo eyJhY2NvdW50Q29udGV4dCI6eyJzdWJzY3JpcHRpb25JZCI6ImE3ZTgyYjkyLWJiZWQtNDQ5Ny1hOGRmLTAwOWI3MWI5NGY5YyIsInJlc291cmNlR3JvdXBOYW1lIjoiYW1sLXF1aWNrc3RhcnRzLTEyNjI1MiIsImFjY291bnROYW1lIjoicXVpY2stc3RhcnRzLXdzLTEyNjI1MiIsIndvcmtzcGFjZUlkIjoiMjY4MjQ0NWYtYTI2NS00MzRjLWE5NjAtNDkyMjQ2MGE3YjBjIn0sIm1vZGVscyI6e30sIm1vZGVsc0luZm8iOnt9fQ== | base64 --decode > /var/azureml-app/model_config_map.json\n",
      " ---> Running in 6106a60c22bb\n",
      " ---> 36904569138f\n",
      "Step 4/5 : RUN mv '/var/azureml-app/tmp980tt7za.py' /var/azureml-app/main.py\n",
      " ---> Running in 38e03a59e87e\n",
      " ---> 96f4809a0720\n",
      "Step 5/5 : CMD [\"runsvdir\",\"/var/runit\"]\n",
      " ---> Running in 83db53ae4d5b\n",
      " ---> a08066c98cb0\n",
      "Successfully built a08066c98cb0\n",
      "Successfully tagged test:latest\n",
      "Container has been successfully cleaned up.\n",
      "Image sha256:8026651581be59a9be3c33edd38f64a9d64f1a452f57f52148990064f4bbbca2 successfully removed.\n",
      "Starting Docker container...\n",
      "Docker container running.\n",
      "Checking container health...\n",
      "Local webservice is running at http://localhost:9000\n"
     ]
    }
   ],
   "source": [
    "#Local Deployment\n",
    "from azureml.core.webservice import LocalWebservice\n",
    "local_config = LocalWebservice.deploy_configuration(port=9000)\n",
    "local_service = Model.deploy(ws, \"test\", [auto_ml], inference_config, local_config)\n",
    "local_service.wait_for_deployment(show_output=True)\n"
   ]
  },
  {
   "cell_type": "code",
   "execution_count": null,
   "metadata": {},
   "outputs": [
    {
     "name": "stdout",
     "output_type": "stream",
     "text": [
      "Tips: You can try get_logs(): https://aka.ms/debugimage#dockerlog or local deployment: https://aka.ms/debugimage#debug-locally to debug if deployment takes longer than 10 minutes.\n",
      "Running..............................."
     ]
    }
   ],
   "source": [
    "#Set up the deployment_config as webservice\n",
    "aci_config = AciWebservice.deploy_configuration(cpu_cores=1, memory_gb=1)\n",
    "\n",
    "#Deploy the model\n",
    "service = Model.deploy(\n",
    "    workspace = ws,\n",
    "    name = \"mywebservice1\",\n",
    "    models = [auto_ml],\n",
    "    inference_config = inference_config,\n",
    "    deployment_config = aci_config, overwrite=True)\n",
    "\n",
    "#wait until deployment is complete\n",
    "service.wait_for_deployment(show_output = True)"
   ]
  },
  {
   "cell_type": "code",
   "execution_count": 93,
   "metadata": {},
   "outputs": [
    {
     "name": "stdout",
     "output_type": "stream",
     "text": [
      "2020-11-15T11:48:15.9666812Z stdout F 2020-11-15T11:48:16,055719300+00:00 - gunicorn/run \n",
      "2020-11-15T11:48:15.9669031Z stdout F 2020-11-15T11:48:16,056281200+00:00 - rsyslog/run \n",
      "2020-11-15T11:48:15.9669031Z stdout F 2020-11-15T11:48:16,055096700+00:00 - iot-server/run \n",
      "2020-11-15T11:48:16.0218183Z stdout F 2020-11-15T11:48:16,120047200+00:00 - nginx/run \n",
      "2020-11-15T11:48:18.8604761Z stdout F EdgeHubConnectionString and IOTEDGE_IOTHUBHOSTNAME are not set. Exiting...\n",
      "2020-11-15T11:48:18.8815996Z stdout F 2020-11-15T11:48:18,961731100+00:00 - iot-server/finish 1 0\n",
      "2020-11-15T11:48:18.8836352Z stdout F 2020-11-15T11:48:18,978848400+00:00 - Exit code 1 is normal. Not restarting iot-server.\n",
      "2020-11-15T11:48:18.9648588Z stdout F Starting gunicorn 19.9.0\n",
      "2020-11-15T11:48:18.9678806Z stdout F Listening at: http://127.0.0.1:31311 (69)\n",
      "2020-11-15T11:48:18.9678806Z stdout F Using worker: sync\n",
      "2020-11-15T11:48:18.9688775Z stdout F worker timeout is set to 300\n",
      "2020-11-15T11:48:18.969851Z stdout F Booting worker with pid: 97\n",
      "2020-11-15T11:48:35.0603928Z stdout F SPARK_HOME not set. Skipping PySpark Initialization.\n",
      "2020-11-15T11:48:35.0603928Z stdout F Initializing logger\n",
      "2020-11-15T11:48:35.0603928Z stdout F 2020-11-15 11:48:35,154 | root | INFO | Starting up app insights client\n",
      "2020-11-15T11:48:35.0603928Z stdout F Starting up app insights client\n",
      "2020-11-15T11:48:35.0633898Z stdout F 2020-11-15 11:48:35,157 | root | INFO | Starting up request id generator\n",
      "2020-11-15T11:48:35.0633898Z stdout F Starting up request id generator\n",
      "2020-11-15T11:48:35.0633898Z stdout F 2020-11-15 11:48:35,157 | root | INFO | Starting up app insight hooks\n",
      "2020-11-15T11:48:35.0643962Z stdout F Starting up app insight hooks\n",
      "2020-11-15T11:48:35.0763946Z stdout F 2020-11-15 11:48:35,157 | root | INFO | Invoking user's init function\n",
      "2020-11-15T11:48:35.0763946Z stdout F Invoking user's init function\n",
      "2020-11-15T11:48:43.2801578Z stdout F 2020-11-15 11:48:43,371 | root | INFO | Users's init has completed successfully\n",
      "2020-11-15T11:48:43.2801578Z stdout F Users's init has completed successfully\n",
      "2020-11-15T11:48:43.2841506Z stdout F 2020-11-15 11:48:43,374 | root | INFO | Skipping middleware: dbg_model_info as it's not enabled.\n",
      "2020-11-15T11:48:43.2841506Z stdout F Skipping middleware: dbg_model_info as it's not enabled.\n",
      "2020-11-15T11:48:43.2841506Z stdout F 2020-11-15 11:48:43,375 | root | INFO | Skipping middleware: dbg_resource_usage as it's not enabled.\n",
      "2020-11-15T11:48:43.2841506Z stdout F Skipping middleware: dbg_resource_usage as it's not enabled.\n",
      "2020-11-15T11:48:43.2891773Z stdout F 2020-11-15 11:48:43,381 | root | INFO | Scoring timeout is found from os.environ: 60000 ms\n",
      "2020-11-15T11:48:43.2891773Z stdout F Scoring timeout is found from os.environ: 60000 ms\n",
      "2020-11-15T11:48:43.3054663Z stdout F 2020-11-15 11:48:43,399 | root | INFO | Swagger file not present\n",
      "2020-11-15T11:48:43.3054663Z stdout F Swagger file not present\n",
      "2020-11-15T11:48:43.3054663Z stdout F 2020-11-15 11:48:43,399 | root | INFO | 404\n",
      "2020-11-15T11:48:43.3054663Z stdout F 404\n",
      "2020-11-15T11:48:43.3126109Z stdout F 127.0.0.1 - - [15/Nov/2020:11:48:43 +0000] \"GET /swagger.json HTTP/1.0\" 404 19 \"-\" \"Go-http-client/1.1\"\n",
      "2020-11-15T11:48:45.5824336Z stdout F 2020-11-15 11:48:45,674 | root | INFO | Swagger file not present\n",
      "2020-11-15T11:48:45.5824336Z stdout F Swagger file not present\n",
      "2020-11-15T11:48:45.5844685Z stdout F 2020-11-15 11:48:45,677 | root | INFO | 404\n",
      "2020-11-15T11:48:45.5844685Z stdout F 404\n",
      "2020-11-15T11:48:45.5924681Z stdout F 127.0.0.1 - - [15/Nov/2020:11:48:45 +0000] \"GET /swagger.json HTTP/1.0\" 404 19 \"-\" \"Go-http-client/1.1\"\n",
      "\n"
     ]
    }
   ],
   "source": [
    "print(service.get_logs())"
   ]
  },
  {
   "cell_type": "code",
   "execution_count": 94,
   "metadata": {},
   "outputs": [
    {
     "name": "stdout",
     "output_type": "stream",
     "text": [
      "Healthy\n",
      "http://c39caa32-3893-4009-8ec7-19c8abf3fa61.southcentralus.azurecontainer.io/score\n"
     ]
    }
   ],
   "source": [
    "#Print the state\n",
    "print(service.state)\n",
    "\n",
    "#Print the scoring uri of the service\n",
    "print(service.scoring_uri)\n",
    "\n",
    "#Print the primary authentication key for the service\n",
    "#primary, secondary = service.get_keys()\n",
    "#print(primary)"
   ]
  },
  {
   "cell_type": "code",
   "execution_count": 99,
   "metadata": {},
   "outputs": [
    {
     "name": "stdout",
     "output_type": "stream",
     "text": [
      "\"Must pass 2-d input\"\n"
     ]
    }
   ],
   "source": [
    "# URL for the web service\n",
    "scoring_uri = service.scoring_uri\n",
    "# If the service is authenticated, set the key or token\n",
    "#key = primary\n",
    "\n",
    "# Two sets of data to score, so we get two results back\n",
    "data = {\"data\":\n",
    "        [\n",
    "            {\n",
    "            \"age\": 17,\n",
    "            \"anaemia\": 1,\n",
    "            \"creatinine_phosphokinase\": 452,\n",
    "            \"diabetes\": 0,\n",
    "            \"ejection_fraction\": 30,\n",
    "            \"high_blood_pressure\": 1,\n",
    "            \"platelets\": 263358.03,\n",
    "            \"serum_creatinine\": 1.1,\n",
    "            \"serum_sodium\": 137,\n",
    "            \"sex\": 0,\n",
    "            \"smoking\": 0,\n",
    "            \"time\": 8\n",
    "            }\n",
    "        ]\n",
    "       }\n",
    "# Convert to JSON string\n",
    "input_data = json.dumps(data)\n",
    "\n",
    "with open (\"data.json\", \"w\") as _f:\n",
    "    _f.write(input_data)\n",
    "#output=service.run(input_data)\n",
    "# Set the content type\n",
    "headers = {'Content-Type': 'application/json'}\n",
    "# If authentication is enabled, set the authorization header\n",
    "#headers['Authorization'] = f'Bearer {key}'\n",
    "\n",
    "# Make the request and display the response\n",
    "resp = requests.post(scoring_uri, input_data, headers=headers)\n",
    "print(resp.text)"
   ]
  },
  {
   "cell_type": "code",
   "execution_count": 102,
   "metadata": {},
   "outputs": [],
   "source": [
    "service.delete()"
   ]
  },
  {
   "cell_type": "code",
   "execution_count": 101,
   "metadata": {},
   "outputs": [
    {
     "name": "stdout",
     "output_type": "stream",
     "text": [
      "Must pass 2-d input\n"
     ]
    }
   ],
   "source": [
    "test_sample=json.dumps({'data': [[17, 1, 452, 0, 30, 1, 263358.03, 1.1, 137, 0, 0, 8], \n",
    "                                 [17, 1, 452, 0, 30, 1, 263358.03, 1.1, 137, 0, 0, 8]] })\n",
    "\n",
    "test_sample=bytes(test_sample, encoding='utf8')\n",
    "prediction= service.run(test_sample)\n",
    "print(prediction)"
   ]
  },
  {
   "cell_type": "code",
   "execution_count": 89,
   "metadata": {},
   "outputs": [
    {
     "ename": "KeyboardInterrupt",
     "evalue": "",
     "output_type": "error",
     "traceback": [
      "\u001b[0;31m---------------------------------------------------------------------------\u001b[0m",
      "\u001b[0;31mKeyboardInterrupt\u001b[0m                         Traceback (most recent call last)",
      "\u001b[0;32m<ipython-input-89-a39369888f72>\u001b[0m in \u001b[0;36m<module>\u001b[0;34m\u001b[0m\n\u001b[0;32m----> 1\u001b[0;31m \u001b[0mcs\u001b[0m\u001b[0;34m=\u001b[0m\u001b[0mds\u001b[0m\u001b[0;34m.\u001b[0m\u001b[0mtake\u001b[0m\u001b[0;34m(\u001b[0m\u001b[0;36m5\u001b[0m\u001b[0;34m)\u001b[0m\u001b[0;34m.\u001b[0m\u001b[0mto_pandas_dataframe\u001b[0m\u001b[0;34m(\u001b[0m\u001b[0;34m)\u001b[0m\u001b[0;34m\u001b[0m\u001b[0;34m\u001b[0m\u001b[0m\n\u001b[0m",
      "\u001b[0;32m/anaconda/envs/azureml_py36/lib/python3.6/site-packages/azureml/data/_loggerfactory.py\u001b[0m in \u001b[0;36mwrapper\u001b[0;34m(*args, **kwargs)\u001b[0m\n\u001b[1;32m    124\u001b[0m             \u001b[0;32mwith\u001b[0m \u001b[0m_LoggerFactory\u001b[0m\u001b[0;34m.\u001b[0m\u001b[0mtrack_activity\u001b[0m\u001b[0;34m(\u001b[0m\u001b[0mlogger\u001b[0m\u001b[0;34m,\u001b[0m \u001b[0mfunc\u001b[0m\u001b[0;34m.\u001b[0m\u001b[0m__name__\u001b[0m\u001b[0;34m,\u001b[0m \u001b[0mactivity_type\u001b[0m\u001b[0;34m,\u001b[0m \u001b[0mcustom_dimensions\u001b[0m\u001b[0;34m)\u001b[0m \u001b[0;32mas\u001b[0m \u001b[0mal\u001b[0m\u001b[0;34m:\u001b[0m\u001b[0;34m\u001b[0m\u001b[0;34m\u001b[0m\u001b[0m\n\u001b[1;32m    125\u001b[0m                 \u001b[0;32mtry\u001b[0m\u001b[0;34m:\u001b[0m\u001b[0;34m\u001b[0m\u001b[0;34m\u001b[0m\u001b[0m\n\u001b[0;32m--> 126\u001b[0;31m                     \u001b[0;32mreturn\u001b[0m \u001b[0mfunc\u001b[0m\u001b[0;34m(\u001b[0m\u001b[0;34m*\u001b[0m\u001b[0margs\u001b[0m\u001b[0;34m,\u001b[0m \u001b[0;34m**\u001b[0m\u001b[0mkwargs\u001b[0m\u001b[0;34m)\u001b[0m\u001b[0;34m\u001b[0m\u001b[0;34m\u001b[0m\u001b[0m\n\u001b[0m\u001b[1;32m    127\u001b[0m                 \u001b[0;32mexcept\u001b[0m \u001b[0mException\u001b[0m \u001b[0;32mas\u001b[0m \u001b[0me\u001b[0m\u001b[0;34m:\u001b[0m\u001b[0;34m\u001b[0m\u001b[0;34m\u001b[0m\u001b[0m\n\u001b[1;32m    128\u001b[0m                     \u001b[0;32mif\u001b[0m \u001b[0mhasattr\u001b[0m\u001b[0;34m(\u001b[0m\u001b[0mal\u001b[0m\u001b[0;34m,\u001b[0m \u001b[0;34m'activity_info'\u001b[0m\u001b[0;34m)\u001b[0m \u001b[0;32mand\u001b[0m \u001b[0mhasattr\u001b[0m\u001b[0;34m(\u001b[0m\u001b[0me\u001b[0m\u001b[0;34m,\u001b[0m \u001b[0;34m'error_code'\u001b[0m\u001b[0;34m)\u001b[0m\u001b[0;34m:\u001b[0m\u001b[0;34m\u001b[0m\u001b[0;34m\u001b[0m\u001b[0m\n",
      "\u001b[0;32m/anaconda/envs/azureml_py36/lib/python3.6/site-packages/azureml/data/tabular_dataset.py\u001b[0m in \u001b[0;36mtake\u001b[0;34m(self, count)\u001b[0m\n\u001b[1;32m    211\u001b[0m         \"\"\"\n\u001b[1;32m    212\u001b[0m         return TabularDataset._create(\n\u001b[0;32m--> 213\u001b[0;31m             self._dataflow.take(count), self._properties, telemetry_info=self._telemetry_info)\n\u001b[0m\u001b[1;32m    214\u001b[0m \u001b[0;34m\u001b[0m\u001b[0m\n\u001b[1;32m    215\u001b[0m     \u001b[0;34m@\u001b[0m\u001b[0mtrack\u001b[0m\u001b[0;34m(\u001b[0m\u001b[0m_get_logger\u001b[0m\u001b[0;34m,\u001b[0m \u001b[0mcustom_dimensions\u001b[0m\u001b[0;34m=\u001b[0m\u001b[0;34m{\u001b[0m\u001b[0;34m'app_name'\u001b[0m\u001b[0;34m:\u001b[0m \u001b[0;34m'TabularDataset'\u001b[0m\u001b[0;34m}\u001b[0m\u001b[0;34m,\u001b[0m \u001b[0mactivity_type\u001b[0m\u001b[0;34m=\u001b[0m\u001b[0m_PUBLIC_API\u001b[0m\u001b[0;34m)\u001b[0m\u001b[0;34m\u001b[0m\u001b[0;34m\u001b[0m\u001b[0m\n",
      "\u001b[0;32m/anaconda/envs/azureml_py36/lib/python3.6/site-packages/azureml/data/_loggerfactory.py\u001b[0m in \u001b[0;36mwrapper\u001b[0;34m(*args, **kwargs)\u001b[0m\n\u001b[1;32m    124\u001b[0m             \u001b[0;32mwith\u001b[0m \u001b[0m_LoggerFactory\u001b[0m\u001b[0;34m.\u001b[0m\u001b[0mtrack_activity\u001b[0m\u001b[0;34m(\u001b[0m\u001b[0mlogger\u001b[0m\u001b[0;34m,\u001b[0m \u001b[0mfunc\u001b[0m\u001b[0;34m.\u001b[0m\u001b[0m__name__\u001b[0m\u001b[0;34m,\u001b[0m \u001b[0mactivity_type\u001b[0m\u001b[0;34m,\u001b[0m \u001b[0mcustom_dimensions\u001b[0m\u001b[0;34m)\u001b[0m \u001b[0;32mas\u001b[0m \u001b[0mal\u001b[0m\u001b[0;34m:\u001b[0m\u001b[0;34m\u001b[0m\u001b[0;34m\u001b[0m\u001b[0m\n\u001b[1;32m    125\u001b[0m                 \u001b[0;32mtry\u001b[0m\u001b[0;34m:\u001b[0m\u001b[0;34m\u001b[0m\u001b[0;34m\u001b[0m\u001b[0m\n\u001b[0;32m--> 126\u001b[0;31m                     \u001b[0;32mreturn\u001b[0m \u001b[0mfunc\u001b[0m\u001b[0;34m(\u001b[0m\u001b[0;34m*\u001b[0m\u001b[0margs\u001b[0m\u001b[0;34m,\u001b[0m \u001b[0;34m**\u001b[0m\u001b[0mkwargs\u001b[0m\u001b[0;34m)\u001b[0m\u001b[0;34m\u001b[0m\u001b[0;34m\u001b[0m\u001b[0m\n\u001b[0m\u001b[1;32m    127\u001b[0m                 \u001b[0;32mexcept\u001b[0m \u001b[0mException\u001b[0m \u001b[0;32mas\u001b[0m \u001b[0me\u001b[0m\u001b[0;34m:\u001b[0m\u001b[0;34m\u001b[0m\u001b[0;34m\u001b[0m\u001b[0m\n\u001b[1;32m    128\u001b[0m                     \u001b[0;32mif\u001b[0m \u001b[0mhasattr\u001b[0m\u001b[0;34m(\u001b[0m\u001b[0mal\u001b[0m\u001b[0;34m,\u001b[0m \u001b[0;34m'activity_info'\u001b[0m\u001b[0;34m)\u001b[0m \u001b[0;32mand\u001b[0m \u001b[0mhasattr\u001b[0m\u001b[0;34m(\u001b[0m\u001b[0me\u001b[0m\u001b[0;34m,\u001b[0m \u001b[0;34m'error_code'\u001b[0m\u001b[0;34m)\u001b[0m\u001b[0;34m:\u001b[0m\u001b[0;34m\u001b[0m\u001b[0;34m\u001b[0m\u001b[0m\n",
      "\u001b[0;32m/anaconda/envs/azureml_py36/lib/python3.6/site-packages/azureml/data/abstract_dataset.py\u001b[0m in \u001b[0;36m_dataflow\u001b[0;34m(self)\u001b[0m\n\u001b[1;32m    206\u001b[0m             \u001b[0;32mraise\u001b[0m \u001b[0mUserErrorException\u001b[0m\u001b[0;34m(\u001b[0m\u001b[0;34m'Dataset definition is missing. Please check how the dataset is created.'\u001b[0m\u001b[0;34m)\u001b[0m\u001b[0;34m\u001b[0m\u001b[0;34m\u001b[0m\u001b[0m\n\u001b[1;32m    207\u001b[0m         \u001b[0;32mif\u001b[0m \u001b[0mself\u001b[0m\u001b[0;34m.\u001b[0m\u001b[0m_registration\u001b[0m \u001b[0;32mand\u001b[0m \u001b[0mself\u001b[0m\u001b[0;34m.\u001b[0m\u001b[0m_registration\u001b[0m\u001b[0;34m.\u001b[0m\u001b[0mworkspace\u001b[0m\u001b[0;34m:\u001b[0m\u001b[0;34m\u001b[0m\u001b[0;34m\u001b[0m\u001b[0m\n\u001b[0;32m--> 208\u001b[0;31m             \u001b[0mdataprep\u001b[0m\u001b[0;34m(\u001b[0m\u001b[0;34m)\u001b[0m\u001b[0;34m.\u001b[0m\u001b[0mapi\u001b[0m\u001b[0;34m.\u001b[0m\u001b[0m_datastore_helper\u001b[0m\u001b[0;34m.\u001b[0m\u001b[0m_set_auth_type\u001b[0m\u001b[0;34m(\u001b[0m\u001b[0mself\u001b[0m\u001b[0;34m.\u001b[0m\u001b[0m_registration\u001b[0m\u001b[0;34m.\u001b[0m\u001b[0mworkspace\u001b[0m\u001b[0;34m)\u001b[0m\u001b[0;34m\u001b[0m\u001b[0;34m\u001b[0m\u001b[0m\n\u001b[0m\u001b[1;32m    209\u001b[0m         \u001b[0;32mif\u001b[0m \u001b[0;32mnot\u001b[0m \u001b[0misinstance\u001b[0m\u001b[0;34m(\u001b[0m\u001b[0mself\u001b[0m\u001b[0;34m.\u001b[0m\u001b[0m_definition\u001b[0m\u001b[0;34m,\u001b[0m \u001b[0mdataprep\u001b[0m\u001b[0;34m(\u001b[0m\u001b[0;34m)\u001b[0m\u001b[0;34m.\u001b[0m\u001b[0mDataflow\u001b[0m\u001b[0;34m)\u001b[0m\u001b[0;34m:\u001b[0m\u001b[0;34m\u001b[0m\u001b[0;34m\u001b[0m\u001b[0m\n\u001b[1;32m    210\u001b[0m             \u001b[0;32mtry\u001b[0m\u001b[0;34m:\u001b[0m\u001b[0;34m\u001b[0m\u001b[0;34m\u001b[0m\u001b[0m\n",
      "\u001b[0;32m/anaconda/envs/azureml_py36/lib/python3.6/site-packages/azureml/dataprep/api/_datastore_helper.py\u001b[0m in \u001b[0;36m_set_auth_type\u001b[0;34m(workspace)\u001b[0m\n\u001b[1;32m    141\u001b[0m         \u001b[0mget_engine_api\u001b[0m\u001b[0;34m(\u001b[0m\u001b[0;34m)\u001b[0m\u001b[0;34m.\u001b[0m\u001b[0mset_aml_auth\u001b[0m\u001b[0;34m(\u001b[0m\u001b[0mSetAmlAuthMessageArgument\u001b[0m\u001b[0;34m(\u001b[0m\u001b[0mAuthType\u001b[0m\u001b[0;34m.\u001b[0m\u001b[0mSERVICEPRINCIPAL\u001b[0m\u001b[0;34m,\u001b[0m \u001b[0mjson\u001b[0m\u001b[0;34m.\u001b[0m\u001b[0mdumps\u001b[0m\u001b[0;34m(\u001b[0m\u001b[0mauth\u001b[0m\u001b[0;34m)\u001b[0m\u001b[0;34m)\u001b[0m\u001b[0;34m)\u001b[0m\u001b[0;34m\u001b[0m\u001b[0;34m\u001b[0m\u001b[0m\n\u001b[1;32m    142\u001b[0m     \u001b[0;32melse\u001b[0m\u001b[0;34m:\u001b[0m\u001b[0;34m\u001b[0m\u001b[0;34m\u001b[0m\u001b[0m\n\u001b[0;32m--> 143\u001b[0;31m         \u001b[0mget_engine_api\u001b[0m\u001b[0;34m(\u001b[0m\u001b[0;34m)\u001b[0m\u001b[0;34m.\u001b[0m\u001b[0mset_aml_auth\u001b[0m\u001b[0;34m(\u001b[0m\u001b[0mSetAmlAuthMessageArgument\u001b[0m\u001b[0;34m(\u001b[0m\u001b[0mAuthType\u001b[0m\u001b[0;34m.\u001b[0m\u001b[0mDERIVED\u001b[0m\u001b[0;34m,\u001b[0m \u001b[0mjson\u001b[0m\u001b[0;34m.\u001b[0m\u001b[0mdumps\u001b[0m\u001b[0;34m(\u001b[0m\u001b[0mauth\u001b[0m\u001b[0;34m)\u001b[0m\u001b[0;34m)\u001b[0m\u001b[0;34m)\u001b[0m\u001b[0;34m\u001b[0m\u001b[0;34m\u001b[0m\u001b[0m\n\u001b[0m\u001b[1;32m    144\u001b[0m \u001b[0;34m\u001b[0m\u001b[0m\n\u001b[1;32m    145\u001b[0m \u001b[0;34m\u001b[0m\u001b[0m\n",
      "\u001b[0;32m/anaconda/envs/azureml_py36/lib/python3.6/site-packages/azureml/dataprep/api/_aml_helper.py\u001b[0m in \u001b[0;36mwrapper\u001b[0;34m(op_code, message, cancellation_token)\u001b[0m\n\u001b[1;32m     36\u001b[0m             \u001b[0;32mif\u001b[0m \u001b[0mlen\u001b[0m\u001b[0;34m(\u001b[0m\u001b[0mchanged\u001b[0m\u001b[0;34m)\u001b[0m \u001b[0;34m>\u001b[0m \u001b[0;36m0\u001b[0m\u001b[0;34m:\u001b[0m\u001b[0;34m\u001b[0m\u001b[0;34m\u001b[0m\u001b[0m\n\u001b[1;32m     37\u001b[0m                 \u001b[0mengine_api_func\u001b[0m\u001b[0;34m(\u001b[0m\u001b[0;34m)\u001b[0m\u001b[0;34m.\u001b[0m\u001b[0mupdate_environment_variable\u001b[0m\u001b[0;34m(\u001b[0m\u001b[0mchanged\u001b[0m\u001b[0;34m)\u001b[0m\u001b[0;34m\u001b[0m\u001b[0;34m\u001b[0m\u001b[0m\n\u001b[0;32m---> 38\u001b[0;31m             \u001b[0;32mreturn\u001b[0m \u001b[0msend_message_func\u001b[0m\u001b[0;34m(\u001b[0m\u001b[0mop_code\u001b[0m\u001b[0;34m,\u001b[0m \u001b[0mmessage\u001b[0m\u001b[0;34m,\u001b[0m \u001b[0mcancellation_token\u001b[0m\u001b[0;34m)\u001b[0m\u001b[0;34m\u001b[0m\u001b[0;34m\u001b[0m\u001b[0m\n\u001b[0m\u001b[1;32m     39\u001b[0m \u001b[0;34m\u001b[0m\u001b[0m\n\u001b[1;32m     40\u001b[0m         \u001b[0;32mreturn\u001b[0m \u001b[0mwrapper\u001b[0m\u001b[0;34m\u001b[0m\u001b[0;34m\u001b[0m\u001b[0m\n",
      "\u001b[0;32m/anaconda/envs/azureml_py36/lib/python3.6/site-packages/azureml/dataprep/api/engineapi/api.py\u001b[0m in \u001b[0;36mset_aml_auth\u001b[0;34m(self, message_args, cancellation_token)\u001b[0m\n\u001b[1;32m    243\u001b[0m     \u001b[0;34m@\u001b[0m\u001b[0mupdate_aml_env_vars\u001b[0m\u001b[0;34m(\u001b[0m\u001b[0mget_engine_api\u001b[0m\u001b[0;34m)\u001b[0m\u001b[0;34m\u001b[0m\u001b[0;34m\u001b[0m\u001b[0m\n\u001b[1;32m    244\u001b[0m     \u001b[0;32mdef\u001b[0m \u001b[0mset_aml_auth\u001b[0m\u001b[0;34m(\u001b[0m\u001b[0mself\u001b[0m\u001b[0;34m,\u001b[0m \u001b[0mmessage_args\u001b[0m\u001b[0;34m:\u001b[0m \u001b[0mtypedefinitions\u001b[0m\u001b[0;34m.\u001b[0m\u001b[0mSetAmlAuthMessageArgument\u001b[0m\u001b[0;34m,\u001b[0m \u001b[0mcancellation_token\u001b[0m\u001b[0;34m:\u001b[0m \u001b[0mCancellationToken\u001b[0m \u001b[0;34m=\u001b[0m \u001b[0;32mNone\u001b[0m\u001b[0;34m)\u001b[0m \u001b[0;34m->\u001b[0m \u001b[0;32mNone\u001b[0m\u001b[0;34m:\u001b[0m\u001b[0;34m\u001b[0m\u001b[0;34m\u001b[0m\u001b[0m\n\u001b[0;32m--> 245\u001b[0;31m         \u001b[0mresponse\u001b[0m \u001b[0;34m=\u001b[0m \u001b[0mself\u001b[0m\u001b[0;34m.\u001b[0m\u001b[0m_message_channel\u001b[0m\u001b[0;34m.\u001b[0m\u001b[0msend_message\u001b[0m\u001b[0;34m(\u001b[0m\u001b[0;34m'Engine.SetAmlAuth'\u001b[0m\u001b[0;34m,\u001b[0m \u001b[0mmessage_args\u001b[0m\u001b[0;34m,\u001b[0m \u001b[0mcancellation_token\u001b[0m\u001b[0;34m)\u001b[0m\u001b[0;34m\u001b[0m\u001b[0;34m\u001b[0m\u001b[0m\n\u001b[0m\u001b[1;32m    246\u001b[0m         \u001b[0;32mreturn\u001b[0m \u001b[0mresponse\u001b[0m\u001b[0;34m\u001b[0m\u001b[0;34m\u001b[0m\u001b[0m\n\u001b[1;32m    247\u001b[0m \u001b[0;34m\u001b[0m\u001b[0m\n",
      "\u001b[0;32m/anaconda/envs/azureml_py36/lib/python3.6/site-packages/azureml/dataprep/api/engineapi/engine.py\u001b[0m in \u001b[0;36msend_message\u001b[0;34m(self, op_code, message, cancellation_token)\u001b[0m\n\u001b[1;32m    245\u001b[0m             \u001b[0;32mwith\u001b[0m \u001b[0mself\u001b[0m\u001b[0;34m.\u001b[0m\u001b[0m_relaunch_lock\u001b[0m\u001b[0;34m:\u001b[0m\u001b[0;34m\u001b[0m\u001b[0;34m\u001b[0m\u001b[0m\n\u001b[1;32m    246\u001b[0m                 \u001b[0mself\u001b[0m\u001b[0;34m.\u001b[0m\u001b[0m_was_relaunched\u001b[0m \u001b[0;34m=\u001b[0m \u001b[0;32mFalse\u001b[0m\u001b[0;34m\u001b[0m\u001b[0;34m\u001b[0m\u001b[0m\n\u001b[0;32m--> 247\u001b[0;31m                 \u001b[0mself\u001b[0m\u001b[0;34m.\u001b[0m\u001b[0m_relaunch_callback\u001b[0m\u001b[0;34m(\u001b[0m\u001b[0;34m)\u001b[0m\u001b[0;34m\u001b[0m\u001b[0;34m\u001b[0m\u001b[0m\n\u001b[0m\u001b[1;32m    248\u001b[0m \u001b[0;34m\u001b[0m\u001b[0m\n\u001b[1;32m    249\u001b[0m         \u001b[0mself\u001b[0m\u001b[0;34m.\u001b[0m\u001b[0m_last_message_id\u001b[0m \u001b[0;34m+=\u001b[0m \u001b[0;36m1\u001b[0m\u001b[0;34m\u001b[0m\u001b[0;34m\u001b[0m\u001b[0m\n",
      "\u001b[0;32m/anaconda/envs/azureml_py36/lib/python3.6/site-packages/azureml/dataprep/api/engineapi/api.py\u001b[0m in \u001b[0;36mconnect_to_requests_channel\u001b[0;34m()\u001b[0m\n\u001b[1;32m     54\u001b[0m \u001b[0;34m\u001b[0m\u001b[0m\n\u001b[1;32m     55\u001b[0m         \u001b[0;32mdef\u001b[0m \u001b[0mconnect_to_requests_channel\u001b[0m\u001b[0;34m(\u001b[0m\u001b[0;34m)\u001b[0m\u001b[0;34m:\u001b[0m\u001b[0;34m\u001b[0m\u001b[0;34m\u001b[0m\u001b[0m\n\u001b[0;32m---> 56\u001b[0;31m             \u001b[0mself\u001b[0m\u001b[0;34m.\u001b[0m\u001b[0m_engine_server_secret\u001b[0m \u001b[0;34m=\u001b[0m \u001b[0mself\u001b[0m\u001b[0;34m.\u001b[0m\u001b[0msync_host_secret\u001b[0m\u001b[0;34m(\u001b[0m\u001b[0mself\u001b[0m\u001b[0;34m.\u001b[0m\u001b[0mrequests_channel\u001b[0m\u001b[0;34m.\u001b[0m\u001b[0mhost_secret\u001b[0m\u001b[0;34m)\u001b[0m\u001b[0;34m\u001b[0m\u001b[0;34m\u001b[0m\u001b[0m\n\u001b[0m\u001b[1;32m     57\u001b[0m             \u001b[0mself\u001b[0m\u001b[0;34m.\u001b[0m\u001b[0m_engine_server_port\u001b[0m \u001b[0;34m=\u001b[0m \u001b[0mself\u001b[0m\u001b[0;34m.\u001b[0m\u001b[0msync_host_channel_port\u001b[0m\u001b[0;34m(\u001b[0m\u001b[0mself\u001b[0m\u001b[0;34m.\u001b[0m\u001b[0mrequests_channel\u001b[0m\u001b[0;34m.\u001b[0m\u001b[0mport\u001b[0m\u001b[0;34m)\u001b[0m\u001b[0;34m\u001b[0m\u001b[0;34m\u001b[0m\u001b[0m\n\u001b[1;32m     58\u001b[0m             \u001b[0;31m# Only try to update_engine_server if rslex Environment has been initialized already.\u001b[0m\u001b[0;34m\u001b[0m\u001b[0;34m\u001b[0m\u001b[0;34m\u001b[0m\u001b[0m\n",
      "\u001b[0;32m/anaconda/envs/azureml_py36/lib/python3.6/site-packages/azureml/dataprep/api/_aml_helper.py\u001b[0m in \u001b[0;36mwrapper\u001b[0;34m(op_code, message, cancellation_token)\u001b[0m\n\u001b[1;32m     36\u001b[0m             \u001b[0;32mif\u001b[0m \u001b[0mlen\u001b[0m\u001b[0;34m(\u001b[0m\u001b[0mchanged\u001b[0m\u001b[0;34m)\u001b[0m \u001b[0;34m>\u001b[0m \u001b[0;36m0\u001b[0m\u001b[0;34m:\u001b[0m\u001b[0;34m\u001b[0m\u001b[0;34m\u001b[0m\u001b[0m\n\u001b[1;32m     37\u001b[0m                 \u001b[0mengine_api_func\u001b[0m\u001b[0;34m(\u001b[0m\u001b[0;34m)\u001b[0m\u001b[0;34m.\u001b[0m\u001b[0mupdate_environment_variable\u001b[0m\u001b[0;34m(\u001b[0m\u001b[0mchanged\u001b[0m\u001b[0;34m)\u001b[0m\u001b[0;34m\u001b[0m\u001b[0;34m\u001b[0m\u001b[0m\n\u001b[0;32m---> 38\u001b[0;31m             \u001b[0;32mreturn\u001b[0m \u001b[0msend_message_func\u001b[0m\u001b[0;34m(\u001b[0m\u001b[0mop_code\u001b[0m\u001b[0;34m,\u001b[0m \u001b[0mmessage\u001b[0m\u001b[0;34m,\u001b[0m \u001b[0mcancellation_token\u001b[0m\u001b[0;34m)\u001b[0m\u001b[0;34m\u001b[0m\u001b[0;34m\u001b[0m\u001b[0m\n\u001b[0m\u001b[1;32m     39\u001b[0m \u001b[0;34m\u001b[0m\u001b[0m\n\u001b[1;32m     40\u001b[0m         \u001b[0;32mreturn\u001b[0m \u001b[0mwrapper\u001b[0m\u001b[0;34m\u001b[0m\u001b[0;34m\u001b[0m\u001b[0m\n",
      "\u001b[0;32m/anaconda/envs/azureml_py36/lib/python3.6/site-packages/azureml/dataprep/api/engineapi/api.py\u001b[0m in \u001b[0;36msync_host_secret\u001b[0;34m(self, message_args, cancellation_token)\u001b[0m\n\u001b[1;32m    258\u001b[0m     \u001b[0;34m@\u001b[0m\u001b[0mupdate_aml_env_vars\u001b[0m\u001b[0;34m(\u001b[0m\u001b[0mget_engine_api\u001b[0m\u001b[0;34m)\u001b[0m\u001b[0;34m\u001b[0m\u001b[0;34m\u001b[0m\u001b[0m\n\u001b[1;32m    259\u001b[0m     \u001b[0;32mdef\u001b[0m \u001b[0msync_host_secret\u001b[0m\u001b[0;34m(\u001b[0m\u001b[0mself\u001b[0m\u001b[0;34m,\u001b[0m \u001b[0mmessage_args\u001b[0m\u001b[0;34m:\u001b[0m \u001b[0mstr\u001b[0m\u001b[0;34m,\u001b[0m \u001b[0mcancellation_token\u001b[0m\u001b[0;34m:\u001b[0m \u001b[0mCancellationToken\u001b[0m \u001b[0;34m=\u001b[0m \u001b[0;32mNone\u001b[0m\u001b[0;34m)\u001b[0m \u001b[0;34m->\u001b[0m \u001b[0mstr\u001b[0m\u001b[0;34m:\u001b[0m\u001b[0;34m\u001b[0m\u001b[0;34m\u001b[0m\u001b[0m\n\u001b[0;32m--> 260\u001b[0;31m         \u001b[0mresponse\u001b[0m \u001b[0;34m=\u001b[0m \u001b[0mself\u001b[0m\u001b[0;34m.\u001b[0m\u001b[0m_message_channel\u001b[0m\u001b[0;34m.\u001b[0m\u001b[0msend_message\u001b[0m\u001b[0;34m(\u001b[0m\u001b[0;34m'Engine.SyncHostSecret'\u001b[0m\u001b[0;34m,\u001b[0m \u001b[0mmessage_args\u001b[0m\u001b[0;34m,\u001b[0m \u001b[0mcancellation_token\u001b[0m\u001b[0;34m)\u001b[0m\u001b[0;34m\u001b[0m\u001b[0;34m\u001b[0m\u001b[0m\n\u001b[0m\u001b[1;32m    261\u001b[0m         \u001b[0;32mreturn\u001b[0m \u001b[0mresponse\u001b[0m\u001b[0;34m\u001b[0m\u001b[0;34m\u001b[0m\u001b[0m\n\u001b[1;32m    262\u001b[0m \u001b[0;34m\u001b[0m\u001b[0m\n",
      "\u001b[0;32m/anaconda/envs/azureml_py36/lib/python3.6/site-packages/azureml/dataprep/api/engineapi/engine.py\u001b[0m in \u001b[0;36msend_message\u001b[0;34m(self, op_code, message, cancellation_token)\u001b[0m\n\u001b[1;32m    269\u001b[0m         }, cls=CustomEncoder))\n\u001b[1;32m    270\u001b[0m \u001b[0;34m\u001b[0m\u001b[0m\n\u001b[0;32m--> 271\u001b[0;31m         \u001b[0mevent\u001b[0m\u001b[0;34m.\u001b[0m\u001b[0mwait\u001b[0m\u001b[0;34m(\u001b[0m\u001b[0;34m)\u001b[0m\u001b[0;34m\u001b[0m\u001b[0;34m\u001b[0m\u001b[0m\n\u001b[0m\u001b[1;32m    272\u001b[0m         \u001b[0;32mwith\u001b[0m \u001b[0mself\u001b[0m\u001b[0;34m.\u001b[0m\u001b[0m_messages_lock\u001b[0m\u001b[0;34m:\u001b[0m\u001b[0;34m\u001b[0m\u001b[0;34m\u001b[0m\u001b[0m\n\u001b[1;32m    273\u001b[0m             \u001b[0mmessage\u001b[0m \u001b[0;34m=\u001b[0m \u001b[0mself\u001b[0m\u001b[0;34m.\u001b[0m\u001b[0m_pending_messages\u001b[0m\u001b[0;34m.\u001b[0m\u001b[0mpop\u001b[0m\u001b[0;34m(\u001b[0m\u001b[0mmessage_id\u001b[0m\u001b[0;34m,\u001b[0m \u001b[0;32mNone\u001b[0m\u001b[0;34m)\u001b[0m\u001b[0;34m\u001b[0m\u001b[0;34m\u001b[0m\u001b[0m\n",
      "\u001b[0;32m/anaconda/envs/azureml_py36/lib/python3.6/threading.py\u001b[0m in \u001b[0;36mwait\u001b[0;34m(self, timeout)\u001b[0m\n\u001b[1;32m    549\u001b[0m             \u001b[0msignaled\u001b[0m \u001b[0;34m=\u001b[0m \u001b[0mself\u001b[0m\u001b[0;34m.\u001b[0m\u001b[0m_flag\u001b[0m\u001b[0;34m\u001b[0m\u001b[0;34m\u001b[0m\u001b[0m\n\u001b[1;32m    550\u001b[0m             \u001b[0;32mif\u001b[0m \u001b[0;32mnot\u001b[0m \u001b[0msignaled\u001b[0m\u001b[0;34m:\u001b[0m\u001b[0;34m\u001b[0m\u001b[0;34m\u001b[0m\u001b[0m\n\u001b[0;32m--> 551\u001b[0;31m                 \u001b[0msignaled\u001b[0m \u001b[0;34m=\u001b[0m \u001b[0mself\u001b[0m\u001b[0;34m.\u001b[0m\u001b[0m_cond\u001b[0m\u001b[0;34m.\u001b[0m\u001b[0mwait\u001b[0m\u001b[0;34m(\u001b[0m\u001b[0mtimeout\u001b[0m\u001b[0;34m)\u001b[0m\u001b[0;34m\u001b[0m\u001b[0;34m\u001b[0m\u001b[0m\n\u001b[0m\u001b[1;32m    552\u001b[0m             \u001b[0;32mreturn\u001b[0m \u001b[0msignaled\u001b[0m\u001b[0;34m\u001b[0m\u001b[0;34m\u001b[0m\u001b[0m\n\u001b[1;32m    553\u001b[0m \u001b[0;34m\u001b[0m\u001b[0m\n",
      "\u001b[0;32m/anaconda/envs/azureml_py36/lib/python3.6/threading.py\u001b[0m in \u001b[0;36mwait\u001b[0;34m(self, timeout)\u001b[0m\n\u001b[1;32m    293\u001b[0m         \u001b[0;32mtry\u001b[0m\u001b[0;34m:\u001b[0m    \u001b[0;31m# restore state no matter what (e.g., KeyboardInterrupt)\u001b[0m\u001b[0;34m\u001b[0m\u001b[0;34m\u001b[0m\u001b[0m\n\u001b[1;32m    294\u001b[0m             \u001b[0;32mif\u001b[0m \u001b[0mtimeout\u001b[0m \u001b[0;32mis\u001b[0m \u001b[0;32mNone\u001b[0m\u001b[0;34m:\u001b[0m\u001b[0;34m\u001b[0m\u001b[0;34m\u001b[0m\u001b[0m\n\u001b[0;32m--> 295\u001b[0;31m                 \u001b[0mwaiter\u001b[0m\u001b[0;34m.\u001b[0m\u001b[0macquire\u001b[0m\u001b[0;34m(\u001b[0m\u001b[0;34m)\u001b[0m\u001b[0;34m\u001b[0m\u001b[0;34m\u001b[0m\u001b[0m\n\u001b[0m\u001b[1;32m    296\u001b[0m                 \u001b[0mgotit\u001b[0m \u001b[0;34m=\u001b[0m \u001b[0;32mTrue\u001b[0m\u001b[0;34m\u001b[0m\u001b[0;34m\u001b[0m\u001b[0m\n\u001b[1;32m    297\u001b[0m             \u001b[0;32melse\u001b[0m\u001b[0;34m:\u001b[0m\u001b[0;34m\u001b[0m\u001b[0;34m\u001b[0m\u001b[0m\n",
      "\u001b[0;31mKeyboardInterrupt\u001b[0m: "
     ]
    }
   ],
   "source": [
    "cs=ds.take(5).to_pandas_dataframe()"
   ]
  },
  {
   "cell_type": "code",
   "execution_count": null,
   "metadata": {},
   "outputs": [],
   "source": []
  },
  {
   "cell_type": "code",
   "execution_count": null,
   "metadata": {},
   "outputs": [],
   "source": []
  },
  {
   "cell_type": "code",
   "execution_count": null,
   "metadata": {},
   "outputs": [],
   "source": []
  },
  {
   "cell_type": "markdown",
   "metadata": {
    "collapsed": true,
    "gather": {
     "logged": 1598431657736
    },
    "jupyter": {
     "outputs_hidden": false,
     "source_hidden": false
    },
    "nteract": {
     "transient": {
      "deleting": false
     }
    }
   },
   "source": [
    "TODO: In the cell below, send a request to the web service you deployed to test it."
   ]
  },
  {
   "cell_type": "code",
   "execution_count": null,
   "metadata": {
    "gather": {
     "logged": 1598432707604
    },
    "jupyter": {
     "outputs_hidden": false,
     "source_hidden": false
    },
    "nteract": {
     "transient": {
      "deleting": false
     }
    }
   },
   "outputs": [],
   "source": []
  },
  {
   "cell_type": "markdown",
   "metadata": {
    "collapsed": true,
    "gather": {
     "logged": 1598432765711
    },
    "jupyter": {
     "outputs_hidden": false,
     "source_hidden": false
    },
    "nteract": {
     "transient": {
      "deleting": false
     }
    }
   },
   "source": [
    "TODO: In the cell below, print the logs of the web service and delete the service"
   ]
  },
  {
   "cell_type": "code",
   "execution_count": null,
   "metadata": {
    "jupyter": {
     "outputs_hidden": false,
     "source_hidden": false
    },
    "nteract": {
     "transient": {
      "deleting": false
     }
    }
   },
   "outputs": [],
   "source": []
  },
  {
   "cell_type": "code",
   "execution_count": null,
   "metadata": {},
   "outputs": [],
   "source": []
  }
 ],
 "metadata": {
  "kernel_info": {
   "name": "python3-azureml"
  },
  "kernelspec": {
   "display_name": "Python 3",
   "language": "python",
   "name": "python3"
  },
  "language_info": {
   "codemirror_mode": {
    "name": "ipython",
    "version": 3
   },
   "file_extension": ".py",
   "mimetype": "text/x-python",
   "name": "python",
   "nbconvert_exporter": "python",
   "pygments_lexer": "ipython3",
   "version": "3.6.9"
  },
  "nteract": {
   "version": "nteract-front-end@1.0.0"
  }
 },
 "nbformat": 4,
 "nbformat_minor": 2
}
